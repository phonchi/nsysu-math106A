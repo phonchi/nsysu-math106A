{
 "cells": [
  {
   "cell_type": "markdown",
   "metadata": {
    "id": "11n5gndbRzoY",
    "slideshow": {
     "slide_type": "slide"
    }
   },
   "source": [
    "# Object Oriented Programming and Classes\n"
   ]
  },
  {
   "cell_type": "markdown",
   "metadata": {
    "id": "AIFsv_RZ1iV0",
    "slideshow": {
     "slide_type": "skip"
    }
   },
   "source": [
    "<table align=\"left\">\n",
    "  <td>\n",
    "    <a href=\"https://colab.research.google.com/github/phonchi/nsysu-math106A/blob/master/static_files/presentations/08_OOP.ipynb\" target=\"_parent\"><img src=\"https://colab.research.google.com/assets/colab-badge.svg\" alt=\"Open In Colab\"/></a>\n",
    "  </td>\n",
    "  <td>\n",
    "    <a target=\"_blank\" href=\"https://kaggle.com/kernels/welcome?src=https://github.com/phonchi/nsysu-math106A/blob/master/static_files/presentations/08_OOP.ipynb\"><img src=\"https://kaggle.com/static/images/open-in-kaggle.svg\" /></a>\n",
    "  </td>\n",
    "</table>"
   ]
  },
  {
   "cell_type": "markdown",
   "metadata": {
    "slideshow": {
     "slide_type": "skip"
    }
   },
   "source": [
    "Execute the following two cells for the setup:"
   ]
  },
  {
   "cell_type": "code",
   "execution_count": null,
   "metadata": {
    "slideshow": {
     "slide_type": "skip"
    }
   },
   "outputs": [],
   "source": [
    "!pip install jupyterquiz \n",
    "!pip install jupytercards\n",
    "\n",
    "from IPython.display import display, Javascript\n",
    "display(Javascript('Jupyter.notebook.kernel.restart()'))"
   ]
  },
  {
   "cell_type": "code",
   "execution_count": null,
   "metadata": {
    "slideshow": {
     "slide_type": "skip"
    }
   },
   "outputs": [],
   "source": [
    "from jupyterquiz import display_quiz\n",
    "\n",
    "path=\"https://raw.githubusercontent.com/phonchi/nsysu-math106A/refs/heads/main/extra/questions/ch8/\""
   ]
  },
  {
   "cell_type": "markdown",
   "metadata": {
    "slideshow": {
     "slide_type": "subslide"
    }
   },
   "source": [
    "1. Creating and Using a Class\n",
    "\n",
    "2. Inheritance\n",
    "\n",
    "3. Encapsulation\n",
    "\n",
    "4. Polymorphism"
   ]
  },
  {
   "cell_type": "markdown",
   "metadata": {
    "id": "wJjIP5Vne7cM",
    "slideshow": {
     "slide_type": "subslide"
    }
   },
   "source": [
    "In the first lecture, we mentioned that everything in `Python` is an object, so we've been using objects constantly. ***Object Oriented Programming (OOP)*** is a programming paradigm that allows you to group variables (data/attributes) and functions (methods) into new custom data types called ***classes***, from which you can create ***objects (instance)***. "
   ]
  },
  {
   "cell_type": "markdown",
   "metadata": {
    "slideshow": {
     "slide_type": "fragment"
    }
   },
   "source": [
    "When you write a class, you define the general behavior that a whole category of objects can have. When you create individual objects from the class, each object is automatically equipped with the general behavior; you can then give each object whatever unique traits you desire. Making an object from a class is called ***instantiation***."
   ]
  },
  {
   "cell_type": "markdown",
   "metadata": {
    "slideshow": {
     "slide_type": "fragment"
    }
   },
   "source": [
    "You've already used lots of classes created by other people (`int`, `str`, `float`, `list`, `dict`, etc.); these are designed to represent simple pieces of information, such as the cost of an apple, the name of a student. What if you want to represent something more complex? **In this chapter, you'll learn how to create your custom classes.**"
   ]
  },
  {
   "cell_type": "markdown",
   "metadata": {
    "slideshow": {
     "slide_type": "skip"
    }
   },
   "source": [
    "> Up to now, some of the programs we have been writing use a procedural programming (structured programming).Learning object-oriented programming (OOP) adds another layer of abstraction: just as you call a function without worrying about its inner workings, you can use a class without knowing its implementation details. This clear separation between interface and implementation makes it easier to design, maintain, and scale larger projects!"
   ]
  },
  {
   "cell_type": "markdown",
   "metadata": {
    "id": "SwFKFBMwRzoa",
    "slideshow": {
     "slide_type": "slide"
    }
   },
   "source": [
    "## Creating and Using a Class"
   ]
  },
  {
   "cell_type": "markdown",
   "metadata": {
    "id": "xtOzCNTJcj3N",
    "slideshow": {
     "slide_type": "subslide"
    }
   },
   "source": [
    "You can model almost anything using classes. Let's start by writing a simple class, `Dog`, that represents a dog — not one dog in particular, but any dog. "
   ]
  },
  {
   "cell_type": "markdown",
   "metadata": {
    "slideshow": {
     "slide_type": "fragment"
    }
   },
   "source": [
    "What do we know about most pet dogs? Well, they all have a `name` and an `age`. We also know that most dogs `sit` and `roll over`. "
   ]
  },
  {
   "cell_type": "markdown",
   "metadata": {
    "slideshow": {
     "slide_type": "fragment"
    }
   },
   "source": [
    "Those two pieces of information (`name` and `age`) and those two behaviors (`sit` and `roll over`) will go in our `Dog` class because they're common to most dogs. "
   ]
  },
  {
   "cell_type": "markdown",
   "metadata": {
    "slideshow": {
     "slide_type": "slide"
    }
   },
   "source": [
    "### Creating the `Dog` Class"
   ]
  },
  {
   "cell_type": "markdown",
   "metadata": {
    "slideshow": {
     "slide_type": "subslide"
    }
   },
   "source": [
    "Each instance created from the `Dog` class will store a `name` and an `age`, and we'll give each dog the ability to `sit()` and `roll_over()`:"
   ]
  },
  {
   "cell_type": "code",
   "execution_count": null,
   "metadata": {
    "colab": {
     "base_uri": "https://localhost:8080/"
    },
    "executionInfo": {
     "elapsed": 4,
     "status": "ok",
     "timestamp": 1668686223113,
     "user": {
      "displayName": "phonchi chung",
      "userId": "13517391734500420886"
     },
     "user_tz": -480
    },
    "id": "ossL66xxcoGg",
    "outputId": "6fac1a14-1607-409b-c6f1-0b05188f6e2c",
    "slideshow": {
     "slide_type": "fragment"
    }
   },
   "outputs": [],
   "source": [
    "class Dog:\n",
    "    \"\"\"A simple attempt to model a dog.\"\"\"\n",
    "    def __init__(self, name, age):\n",
    "        \"\"\"Initialize name and age attributes.\"\"\"\n",
    "        self.name = name\n",
    "        self.age = age\n",
    "    def sit(self):\n",
    "        \"\"\"Simulate a dog sitting in response to a command.\"\"\"\n",
    "        print(f\"{self.name} is now sitting.\")\n",
    "    def roll_over(self):\n",
    "        \"\"\"Simulate rolling over in response to a command.\"\"\"\n",
    "        print(f\"{self.name} rolled over!\")"
   ]
  },
  {
   "cell_type": "markdown",
   "metadata": {
    "id": "Ss9hRGHDRzob",
    "slideshow": {
     "slide_type": "fragment"
    }
   },
   "source": [
    "We first define a class called `Dog` with the `class` keyword. By convention, capitalized names refer to classes in Python. We then write a docstring describing what this class does."
   ]
  },
  {
   "cell_type": "markdown",
   "metadata": {
    "slideshow": {
     "slide_type": "skip"
    }
   },
   "source": [
    "> There are no parentheses in the class definition here because we're creating this class from scratch"
   ]
  },
  {
   "cell_type": "markdown",
   "metadata": {
    "slideshow": {
     "slide_type": "slide"
    }
   },
   "source": [
    "#### The `__init__()` Method"
   ]
  },
  {
   "cell_type": "markdown",
   "metadata": {
    "slideshow": {
     "slide_type": "subslide"
    }
   },
   "source": [
    "1. A function that's part of a class is a ***method***. The `__init__()` method is a special method that `Python` runs whenever we create a new instance based on the `Dog` class. This method has two leading underscores and two trailing underscores, a convention that helps prevent `Python`'s default method names from conflicting with your method names. "
   ]
  },
  {
   "cell_type": "markdown",
   "metadata": {
    "slideshow": {
     "slide_type": "fragment"
    }
   },
   "source": [
    "2. The `self` parameter is required in the method definition, and it must come first before any other parameters. It must be included in the definition because when `Python` calls this method later, the method call will automatically pass the object to the `self`. The two variables defined in the body of the `__init__()` method each have the prefix `self`. Any variable prefixed with `self` is available to every method in the class, and we'll also be able to access these variables through any instance created from the class."
   ]
  },
  {
   "cell_type": "markdown",
   "metadata": {
    "slideshow": {
     "slide_type": "subslide"
    }
   },
   "source": [
    "3. The line `self.name = name` takes the value associated with the parameter `name` and assigns it to the instance variable `name`, which is then attached to the instance being created. The same process happens with `self.age = age`. Variables that are accessible through instances like this are called (instance) ***attributes***."
   ]
  },
  {
   "cell_type": "markdown",
   "metadata": {
    "slideshow": {
     "slide_type": "fragment"
    }
   },
   "source": [
    "4. The `Dog` class has two other methods defined: `sit()` and `roll_over()`. Because these methods don't need additional information to run, we define them to have one parameter, `self`, so that the instances we create later will have access to these methods. In other words, they'll be able to sit and roll over."
   ]
  },
  {
   "cell_type": "markdown",
   "metadata": {
    "slideshow": {
     "slide_type": "slide"
    }
   },
   "source": [
    "#### Making an Instance from a Class"
   ]
  },
  {
   "cell_type": "markdown",
   "metadata": {
    "slideshow": {
     "slide_type": "subslide"
    }
   },
   "source": [
    "When we make an instance of `Dog`, `Python` will call the `__init__()` method from the `Dog` class. We'll pass `Dog()` a `name` and an `age` as arguments; `self` is passed automatically, so we don't need to pass it. "
   ]
  },
  {
   "cell_type": "code",
   "execution_count": null,
   "metadata": {
    "slideshow": {
     "slide_type": "fragment"
    }
   },
   "outputs": [],
   "source": [
    "my_dog = Dog('Willie', 6) # This is known as constructor expression\n",
    "\n",
    "# You can access their instance attributes using dot notation:\n",
    "print(f\"My dog's name is {my_dog.name}.\")\n",
    "print(f\"My dog is {my_dog.age} years old.\")"
   ]
  },
  {
   "cell_type": "markdown",
   "metadata": {
    "slideshow": {
     "slide_type": "fragment"
    }
   },
   "source": [
    "Here, we tell `Python` to create a dog whose name is 'Willie' and whose age is 6, which is known as ***constructor expression***. When `Python` reads this line, it calls the `__init__()` method in `Dog` with the arguments 'Willie' and 6. "
   ]
  },
  {
   "cell_type": "markdown",
   "metadata": {
    "slideshow": {
     "slide_type": "subslide"
    }
   },
   "source": [
    "The `__init__()` method creates an instance representing this particular dog and sets the `name` and `age` attributes using the values we provided. `Python` then returns an instance representing this dog. "
   ]
  },
  {
   "cell_type": "markdown",
   "metadata": {
    "slideshow": {
     "slide_type": "fragment"
    }
   },
   "source": [
    "We assign that instance to the variable `my_dog`. To access the attributes of an instance, you use **dot notation**. After we create an instance from the class `Dog`, we can use dot notation to call any method defined in `Dog`. "
   ]
  },
  {
   "cell_type": "code",
   "execution_count": null,
   "metadata": {
    "slideshow": {
     "slide_type": "fragment"
    }
   },
   "outputs": [],
   "source": [
    "print(my_dog.name)\n",
    "print(my_dog.age)\n",
    "my_dog.sit()\n",
    "my_dog.roll_over()"
   ]
  },
  {
   "cell_type": "markdown",
   "metadata": {
    "slideshow": {
     "slide_type": "skip"
    }
   },
   "source": [
    "> The class constructor of `Python` is actually divided into two steps. Check out [here](https://realpython.com/python-class-constructor/) for more information. There is also a ***destructor*** [`__del__`](https://www.geeksforgeeks.org/destructors-in-python/), but in Python, destructors are not needed as much as in C++ because Python has a garbage collector that handles memory management automatically."
   ]
  },
  {
   "cell_type": "markdown",
   "metadata": {
    "slideshow": {
     "slide_type": "slide"
    }
   },
   "source": [
    "#### Creating Multiple Instances"
   ]
  },
  {
   "cell_type": "markdown",
   "metadata": {
    "slideshow": {
     "slide_type": "subslide"
    }
   },
   "source": [
    "Once you create a class, you can use it to create different objects."
   ]
  },
  {
   "cell_type": "code",
   "execution_count": null,
   "metadata": {
    "slideshow": {
     "slide_type": "fragment"
    }
   },
   "outputs": [],
   "source": [
    "my_dog = Dog('Willie', 6) \n",
    "your_dog = Dog('Lucy', 3)\n",
    "# Even though my_dog and your_dog are both instances of the Dog class, they represent two distinct objects in memory.\n",
    "print(my_dog == your_dog)\n",
    "\n",
    "print(f\"My dog's name is {my_dog.name}.\")\n",
    "print(f\"My dog is {my_dog.age} years old.\")\n",
    "my_dog.sit()\n",
    "\n",
    "print(f\"\\nYour dog's name is {your_dog.name}.\")\n",
    "print(f\"Your dog is {your_dog.age} years old.\")\n",
    "your_dog.sit()"
   ]
  },
  {
   "cell_type": "markdown",
   "metadata": {
    "slideshow": {
     "slide_type": "skip"
    }
   },
   "source": [
    "> In this example, we create a dog named Willie and a dog named Lucy. Each dog is a separate instance with its own attributes, capable of the same set of actions."
   ]
  },
  {
   "cell_type": "markdown",
   "metadata": {
    "slideshow": {
     "slide_type": "slide"
    }
   },
   "source": [
    "## Working with Classes and Instances"
   ]
  },
  {
   "cell_type": "markdown",
   "metadata": {
    "slideshow": {
     "slide_type": "skip"
    }
   },
   "source": [
    "Once you write a class, you'll spend most of your time working with instances created from that class. One of the first tasks you'll want to do is modify the attributes associated with a particular instance. You can modify the attributes of an instance directly or write methods that update attributes in specific ways."
   ]
  },
  {
   "cell_type": "markdown",
   "metadata": {
    "slideshow": {
     "slide_type": "slide"
    }
   },
   "source": [
    "### The `Car` Class"
   ]
  },
  {
   "cell_type": "markdown",
   "metadata": {
    "slideshow": {
     "slide_type": "subslide"
    }
   },
   "source": [
    "Here, we create another class that `Car` with four instance attributes:"
   ]
  },
  {
   "cell_type": "code",
   "execution_count": null,
   "metadata": {
    "slideshow": {
     "slide_type": "fragment"
    }
   },
   "outputs": [],
   "source": [
    "class Car:\n",
    "    \"\"\"A simple attempt to represent a car.\"\"\"\n",
    "    def __init__(self, make, model, year):\n",
    "        \"\"\"Initialize attributes to describe a car.\"\"\"\n",
    "        self.make = make\n",
    "        self.model = model\n",
    "        self.year = year\n",
    "        self.odometer_reading = 0\n",
    "\n",
    "    def get_descriptive_name(self):\n",
    "        \"\"\"Return a neatly formatted descriptive name.\"\"\"\n",
    "        long_name = f\"Created in {self.year}, {self.make} {self.model}\"\n",
    "        return long_name.title()\n",
    "    \n",
    "    def read_odometer(self):\n",
    "        \"\"\"Print a statement showing the car's mileage.\"\"\"\n",
    "        print(f\"This car has {self.odometer_reading} miles on it.\")"
   ]
  },
  {
   "cell_type": "markdown",
   "metadata": {
    "slideshow": {
     "slide_type": "fragment"
    }
   },
   "source": [
    "In the `Car` class, we define the `__init__()` method with the `self` parameter first, just like we did with the `Dog` class. We also give it other parameters: `make`, `model`, `year` and `odometer_reading`. The `__init__()` method takes in these parameters and assigns them to the attributes associated with instances made from this class."
   ]
  },
  {
   "cell_type": "markdown",
   "metadata": {
    "slideshow": {
     "slide_type": "skip"
    }
   },
   "source": [
    ">  When we make a new `Car` instance, we'll need to specify a `make`, `model`, and `year` for our instance. We define a method called `get_descriptive_name()` that puts a car's `year`, `make`, and `model` into one string neatly describing the car. To work with the attribute values in this method, we use `self.make`, `self.model`, and `self.year`. "
   ]
  },
  {
   "cell_type": "markdown",
   "metadata": {
    "slideshow": {
     "slide_type": "subslide"
    }
   },
   "source": [
    "Note that when an instance is created, attributes can be defined without being passed in as parameters. Since attributes can be defined in the `__init__()` method, which assigns a default value. In the above example, an attribute called `odometer_reading` always starts with a value of 0."
   ]
  },
  {
   "cell_type": "markdown",
   "metadata": {
    "slideshow": {
     "slide_type": "fragment"
    }
   },
   "source": [
    "Outside of the class, we make an instance from the `Car` class and assign it to the variable `my_new_car`. Then we call `get_descriptive_name()` to show what kind of car we have! Our car starts with a mileage of 0:"
   ]
  },
  {
   "cell_type": "code",
   "execution_count": null,
   "metadata": {
    "slideshow": {
     "slide_type": "-"
    }
   },
   "outputs": [],
   "source": [
    "my_new_car = Car('audi', 'a4', 2025) \n",
    "print(my_new_car.get_descriptive_name())\n",
    "my_new_car.read_odometer()"
   ]
  },
  {
   "cell_type": "markdown",
   "metadata": {
    "slideshow": {
     "slide_type": "fragment"
    }
   },
   "source": [
    "Not many cars are sold with exactly 0 miles on the odometer, so we need a way to change the value of this attribute."
   ]
  },
  {
   "cell_type": "code",
   "execution_count": null,
   "metadata": {
    "slideshow": {
     "slide_type": "subslide"
    }
   },
   "outputs": [],
   "source": [
    "display_quiz(path+\"create_class.json\", max_width=800)"
   ]
  },
  {
   "cell_type": "markdown",
   "metadata": {
    "slideshow": {
     "slide_type": "slide"
    }
   },
   "source": [
    "#### Modifying Attribute Values"
   ]
  },
  {
   "cell_type": "markdown",
   "metadata": {
    "slideshow": {
     "slide_type": "subslide"
    }
   },
   "source": [
    "You can change an attribute's value in different ways: you can change the value directly through an instance, set the value through a method, or increment the value (add a certain amount to it) through a method. The simplest way to modify the value of an attribute is to access the attribute directly through an instance. "
   ]
  },
  {
   "cell_type": "code",
   "execution_count": null,
   "metadata": {
    "slideshow": {
     "slide_type": "fragment"
    }
   },
   "outputs": [],
   "source": [
    "my_new_car.odometer_reading = 23\n",
    "my_new_car.read_odometer()"
   ]
  },
  {
   "cell_type": "markdown",
   "metadata": {
    "slideshow": {
     "slide_type": "fragment"
    }
   },
   "source": [
    "It can be helpful to have methods that update certain attributes for you. Instead of accessing the attribute directly, you pass the new value to a \n",
    "method that handles the updating internally."
   ]
  },
  {
   "cell_type": "code",
   "execution_count": null,
   "metadata": {
    "slideshow": {
     "slide_type": "subslide"
    }
   },
   "outputs": [],
   "source": [
    "class Car:\n",
    "    def __init__(self, make, model, year):\n",
    "        self.make, self.model, self.year, self.odometer_reading = make, model, year, 0\n",
    "    def get_descriptive_name(self):\n",
    "        long_name = f\"Created in {self.year}, {self.make} {self.model}\"\n",
    "        return long_name.title()   \n",
    "    def read_odometer(self):\n",
    "        print(f\"This car has {self.odometer_reading} miles on it.\")\n",
    "\n",
    "    ## We add these there methods!\n",
    "    def update_odometer(self, mileage):\n",
    "        \"\"\"\n",
    "        1. Set the odometer reading to the given value. Reject the change if it attempts to roll the odometer back.\n",
    "        \"\"\"\n",
    "        if mileage >= self.odometer_reading:\n",
    "            self.odometer_reading = mileage\n",
    "        else:\n",
    "            print(\"You can't roll back an odometer!\")\n",
    "            \n",
    "    def increment_odometer(self, miles):\n",
    "        \"\"\"2 . Add the given amount to the odometer reading.\"\"\"\n",
    "        self.odometer_reading += miles\n",
    "\n",
    "    def fill_gas_tank(self):\n",
    "        \"\"\"3. Filling the gas tank.\"\"\"\n",
    "        print(\"The gas tank is now full!\")"
   ]
  },
  {
   "cell_type": "markdown",
   "metadata": {
    "slideshow": {
     "slide_type": "skip"
    }
   },
   "source": [
    "> 👨‍⚕️ The only modification to `Car` is the addition of `update_odometer()`. This method takes in a mileage value and assigns it to `self.odometer_reading`. It also checks that the new reading makes sense before modifying the attribute. If the value provided for mileage is greater than or equal to the existing mileage, `self.odometer_reading`, you can update the odometer reading to the new mileage. If the new mileage is less than the existing mileage, **you'll get a warning that you can't roll back an odometer!** "
   ]
  },
  {
   "cell_type": "markdown",
   "metadata": {
    "slideshow": {
     "slide_type": "subslide"
    }
   },
   "source": [
    "We also define the new method `increment_odometer()` takes in a number of miles and adds this value to `self.odometer_reading`. Finally, a method `fill_gas_tank()` is also added to the class."
   ]
  },
  {
   "cell_type": "code",
   "execution_count": null,
   "metadata": {
    "slideshow": {
     "slide_type": "fragment"
    }
   },
   "outputs": [],
   "source": [
    "my_new_car = Car('audi', 'a4', 2025)\n",
    "print(my_new_car.get_descriptive_name())\n",
    "\n",
    "my_new_car.update_odometer(23)\n",
    "my_new_car.read_odometer()\n",
    "\n",
    "my_new_car.fill_gas_tank()\n",
    "my_new_car.increment_odometer(100)\n",
    "my_new_car.read_odometer()"
   ]
  },
  {
   "cell_type": "markdown",
   "metadata": {
    "slideshow": {
     "slide_type": "fragment"
    }
   },
   "source": [
    "You can use methods like this to control how users use your program by including additional logic!"
   ]
  },
  {
   "cell_type": "markdown",
   "metadata": {
    "slideshow": {
     "slide_type": "slide"
    }
   },
   "source": [
    "#### `__repr__` and `__str__` method"
   ]
  },
  {
   "cell_type": "markdown",
   "metadata": {
    "slideshow": {
     "slide_type": "subslide"
    }
   },
   "source": [
    "Notice that when you evaluate the `my_new_car`, it will return a message that returns the address of the object:"
   ]
  },
  {
   "cell_type": "code",
   "execution_count": null,
   "metadata": {
    "slideshow": {
     "slide_type": "fragment"
    }
   },
   "outputs": [],
   "source": [
    "my_new_car"
   ]
  },
  {
   "cell_type": "markdown",
   "metadata": {
    "slideshow": {
     "slide_type": "fragment"
    }
   },
   "source": [
    "When writing your classes, it's a good idea to have a method that returns a string containing useful information about a class instance. You can change this behavior by adding a special function `__repr__`."
   ]
  },
  {
   "cell_type": "code",
   "execution_count": null,
   "metadata": {
    "slideshow": {
     "slide_type": "subslide"
    }
   },
   "outputs": [],
   "source": [
    "class Car:\n",
    "    def __init__(self, make, model, year):\n",
    "        self.make, self.model, self.year, self.odometer_reading = make, model, year, 0\n",
    "    def get_descriptive_name(self):\n",
    "        long_name = f\"Created in {self.year} {self.make} {self.model}\"\n",
    "        return long_name.title()  \n",
    "    def read_odometer(self):\n",
    "        print(f\"This car has {self.odometer_reading} miles on it.\")\n",
    "    def update_odometer(self, mileage):\n",
    "        if mileage >= self.odometer_reading:\n",
    "            self.odometer_reading = mileage\n",
    "        else:\n",
    "            print(\"You can't roll back an odometer!\")         \n",
    "    def increment_odometer(self, miles):\n",
    "        self.odometer_reading += miles\n",
    "    def fill_gas_tank(self):\n",
    "        print(\"The gas tank is now full!\")\n",
    "\n",
    "    ## We add these two methods!\n",
    "    def __repr__(self):\n",
    "        return f'Car(make={self.make}, model={self.model}, year={self.year})'\n",
    "    \n",
    "    def __str__(self):\n",
    "        return self.get_descriptive_name()"
   ]
  },
  {
   "cell_type": "code",
   "execution_count": null,
   "metadata": {
    "slideshow": {
     "slide_type": "subslide"
    }
   },
   "outputs": [],
   "source": [
    "my_new_car = Car('audi', 'a4', 2025)\n",
    "my_new_car"
   ]
  },
  {
   "cell_type": "markdown",
   "metadata": {
    "slideshow": {
     "slide_type": "fragment"
    }
   },
   "source": [
    "The `Python` documentation indicates that `__repr__` returns the \"official\" string representation of the object (It is also return when you call the built-in function `repr()`). We also define the `__str__` special method that is used to replace the behavior of `__repr__` in some cases. This method is called when you convert an object to a string with the built-in function `str()`, such as when you print an object or call `str()` explicitly."
   ]
  },
  {
   "cell_type": "code",
   "execution_count": null,
   "metadata": {
    "slideshow": {
     "slide_type": "fragment"
    }
   },
   "outputs": [],
   "source": [
    "print(my_new_car)\n",
    "str(my_new_car)"
   ]
  },
  {
   "cell_type": "markdown",
   "metadata": {
    "slideshow": {
     "slide_type": "fragment"
    }
   },
   "source": [
    "Special methods like `__init__()`, `__str__()` and `__repr__()` are called ***dunder methods*** (Double UNDERscore). There are many dunder methods that you can use to customize classes."
   ]
  },
  {
   "cell_type": "code",
   "execution_count": null,
   "metadata": {
    "slideshow": {
     "slide_type": "subslide"
    }
   },
   "outputs": [],
   "source": [
    "display_quiz(path+\"string_class.json\", max_width=800)"
   ]
  },
  {
   "cell_type": "markdown",
   "metadata": {
    "slideshow": {
     "slide_type": "subslide"
    }
   },
   "source": [
    "> ### Exercise 1: Create a `Pokemon` class with three instance attributes: `name`, which stores the name of the Pokemon as a string, `type` which stores the type of Pokemon (e.g., \"Fire\", \"Water\", \"Grass\", etc.) as string and `total_species` as an integer. In addition, add the `__str__()` method to the class so that it can print out meaningful information as follows:\n",
    "\n",
    "```\n",
    "Pikachu (Electric, total species 320)\n",
    "```\n",
    "\n",
    "Complete the following class and execute the code cell to see which six Pokemon you get."
   ]
  },
  {
   "cell_type": "markdown",
   "metadata": {
    "slideshow": {
     "slide_type": "skip"
    }
   },
   "source": [
    "<center><img src=\"https://raw.githubusercontent.com/phonchi/nsysu-math106A/refs/heads/main/extra/Figures/Pokemon.avif\" width=50%></center>\n",
    "<div align=\"center\"> source: https://www.trustedreviews.com/reviews/pokemon-legends-arceus </div>"
   ]
  },
  {
   "cell_type": "code",
   "execution_count": null,
   "metadata": {
    "slideshow": {
     "slide_type": "skip"
    }
   },
   "outputs": [],
   "source": [
    "### If you are not using anaconda, you need to install the following package:\n",
    "#%pip install requests"
   ]
  },
  {
   "cell_type": "code",
   "execution_count": null,
   "metadata": {
    "slideshow": {
     "slide_type": "subslide"
    }
   },
   "outputs": [],
   "source": [
    "import random\n",
    "import json \n",
    "import time\n",
    "import requests\n",
    "\n",
    "def slow_print(text, delay=0.05):\n",
    "    for char in text:\n",
    "        print(char, end='', flush=True)\n",
    "        time.sleep(delay)\n",
    "    print()\n",
    "    \n",
    "class Pokemon:\n",
    "    # Your code here\n",
    "    def __init__(__, name, type, total_species):\n",
    "        _______\n",
    "\n",
    "    # Your code here\n",
    "    def __str__(_):\n",
    "        return f\"{_} ({_}, total specis {_})\""
   ]
  },
  {
   "cell_type": "code",
   "execution_count": null,
   "metadata": {
    "slideshow": {
     "slide_type": "subslide"
    }
   },
   "outputs": [],
   "source": [
    "## 1. Download the data\n",
    "url = 'https://raw.githubusercontent.com/fanzeyi/pokemon.json/master/pokedex.json'\n",
    "response = requests.get(url)\n",
    "\n",
    "if response.status_code == 200:\n",
    "    with open('pokedex.json', 'w', encoding = \"utf-8\") as f:\n",
    "        f.write(response.text)\n",
    "else:\n",
    "    print(f\"Failed to download the file. Status code: {response.status_code}\")\n",
    "\n",
    "with open('Pokedex.json', 'r' , encoding = \"utf-8\") as file:\n",
    "    pokemon_data = json.load(file)\n",
    "\n",
    "## 2. Randomly pick 6 pokemon\n",
    "\n",
    "random.shuffle(pokemon_data)\n",
    "picks = pokemon_data[:6]"
   ]
  },
  {
   "cell_type": "code",
   "execution_count": null,
   "metadata": {
    "slideshow": {
     "slide_type": "subslide"
    }
   },
   "outputs": [],
   "source": [
    "## 3. Print the pokemon you got!\n",
    "print(\"The pokemon you got are: \")\n",
    "for i in range(6):\n",
    "    pokemon = Pokemon(picks[i]['name']['english'], picks[i]['type'][0], sum([picks[i]['base'][key] for key in picks[i]['base'] if key != \"name\"]))\n",
    "    slow_print(str(pokemon))"
   ]
  },
  {
   "cell_type": "markdown",
   "metadata": {
    "slideshow": {
     "slide_type": "slide"
    }
   },
   "source": [
    "## Inheritance"
   ]
  },
  {
   "cell_type": "markdown",
   "metadata": {
    "slideshow": {
     "slide_type": "subslide"
    }
   },
   "source": [
    "You don't always have to start from scratch when writing a class. If the class you're writing is a specialized version of another class you wrote, you can use ***inheritance*** which is called ***is a*** releationship."
   ]
  },
  {
   "cell_type": "markdown",
   "metadata": {
    "slideshow": {
     "slide_type": "fragment"
    }
   },
   "source": [
    "When one class inherits from another, it takes on the attributes and methods of the first class. The original class is called the ***parent class (Base)***, and the new class is the ***child class (Derived)***. The child class can inherit any or all of the attributes and methods of its parent class, but it's also free to define new attributes and methods of its own."
   ]
  },
  {
   "cell_type": "markdown",
   "metadata": {
    "slideshow": {
     "slide_type": "subslide"
    }
   },
   "source": [
    "<center><img src=\"https://raw.githubusercontent.com/phonchi/nsysu-math106A/refs/heads/main/extra/Figures/inheritance.avif\" width=70%></center>\n",
    "<div align=\"center\"> source: https://realpython.com/inheritance-composition-python/ </div>"
   ]
  },
  {
   "cell_type": "markdown",
   "metadata": {
    "slideshow": {
     "slide_type": "slide"
    }
   },
   "source": [
    "### The `__init__()` method for a Child Class"
   ]
  },
  {
   "cell_type": "markdown",
   "metadata": {
    "slideshow": {
     "slide_type": "subslide"
    }
   },
   "source": [
    "When writing a new class based on an existing class, we will often want to call the `__init__()` method from the parent class. This will initialize any attributes that were defined in the parent `__init__()` method and make them available in the child class."
   ]
  },
  {
   "cell_type": "markdown",
   "metadata": {
    "slideshow": {
     "slide_type": "fragment"
    }
   },
   "source": [
    "As an example, let's model an electric car. An electric car is just a specific kind of car, so we can base our new `ElectricCar` class on the `Car` class we wrote about earlier. Then we'll only have to write code for the attributes and behaviors specific to electric cars."
   ]
  },
  {
   "cell_type": "code",
   "execution_count": null,
   "metadata": {
    "slideshow": {
     "slide_type": "fragment"
    }
   },
   "outputs": [],
   "source": [
    "class ElectricCar(Car):\n",
    "    \"\"\"Represent aspects of a car, specific to electric vehicles.\"\"\"\n",
    "    def __init__(self, make, model, year):\n",
    "        \"\"\"\n",
    "        Initialize attributes of the parent class.\n",
    "        Then initialize attributes specific to an electric car.\n",
    "        \"\"\"\n",
    "        super().__init__(make, model, year) # Call the constructor of parent class\n",
    "        self.battery_size = 40\n",
    "   \n",
    "    def describe_battery(self):\n",
    "        \"\"\"Print a statement describing the battery size.\"\"\"\n",
    "        print(f\"This car has a {self.battery_size}-kWh battery.\")"
   ]
  },
  {
   "cell_type": "markdown",
   "metadata": {
    "slideshow": {
     "slide_type": "subslide"
    }
   },
   "source": [
    "1. When you create a child class, the parent class must be part of the current file and appear before the child class. We then define the child class, `ElectricCar`. The name of the parent class must be included in parentheses in the definition of a child class. "
   ]
  },
  {
   "cell_type": "markdown",
   "metadata": {
    "slideshow": {
     "slide_type": "fragment"
    }
   },
   "source": [
    "2. The `__init__()` method takes in the information required to make a `Car` instance. **The `super()` function is a special function that allows you to call a method from the parent class.** This line tells Python to call the `__init__()` method from `Car`. The name `super` comes from a convention of calling the parent class a ***superclass (base class)*** and the child class a ***subclass (derived class)***."
   ]
  },
  {
   "cell_type": "markdown",
   "metadata": {
    "slideshow": {
     "slide_type": "fragment"
    }
   },
   "source": [
    "3. We also add a new attribute specific to electric cars (a `battery_size`) and a method to report on this attribute. This attribute/method will be associated with all instances created from the `ElectricCar` class but won't be associated with any instances of `Car`."
   ]
  },
  {
   "cell_type": "markdown",
   "metadata": {
    "slideshow": {
     "slide_type": "subslide"
    }
   },
   "source": [
    "We make an instance of the `ElectricCar` class and assign it to `my_leaf`."
   ]
  },
  {
   "cell_type": "code",
   "execution_count": null,
   "metadata": {
    "slideshow": {
     "slide_type": "fragment"
    }
   },
   "outputs": [],
   "source": [
    "my_leaf = ElectricCar('nissan', 'leaf', 2025) \n",
    "print(my_leaf.get_descriptive_name())\n",
    "my_leaf.describe_battery()"
   ]
  },
  {
   "cell_type": "markdown",
   "metadata": {
    "slideshow": {
     "slide_type": "subslide"
    }
   },
   "source": [
    "When we need to know the type of an object, we can pass the object to the built-in `type()` function. But if we're doing a type check of an object, it's a better idea to use the more flexible `isinstance()` built-in function. **The `isinstance()` function will return `True` if the object is of the given class or a subclass of the given class.**"
   ]
  },
  {
   "cell_type": "code",
   "execution_count": null,
   "metadata": {
    "slideshow": {
     "slide_type": "fragment"
    }
   },
   "outputs": [],
   "source": [
    "type(my_leaf)"
   ]
  },
  {
   "cell_type": "code",
   "execution_count": null,
   "metadata": {
    "slideshow": {
     "slide_type": "fragment"
    }
   },
   "outputs": [],
   "source": [
    "isinstance(my_leaf, ElectricCar)"
   ]
  },
  {
   "cell_type": "code",
   "execution_count": null,
   "metadata": {
    "slideshow": {
     "slide_type": "fragment"
    }
   },
   "outputs": [],
   "source": [
    "isinstance(my_leaf, Car)"
   ]
  },
  {
   "cell_type": "markdown",
   "metadata": {
    "slideshow": {
     "slide_type": "slide"
    }
   },
   "source": [
    "#### Overriding Methods from the Parent Class"
   ]
  },
  {
   "cell_type": "markdown",
   "metadata": {
    "slideshow": {
     "slide_type": "subslide"
    }
   },
   "source": [
    "You can ***override*** any method from the parent class that doesn't fit what you're trying to model with the child class. To do this, you define a method in the child class **with the same name as the method you want to override in the parent class.** "
   ]
  },
  {
   "cell_type": "markdown",
   "metadata": {
    "slideshow": {
     "slide_type": "fragment"
    }
   },
   "source": [
    "Say the class `Car` had a method called `fill_gas_tank()`. This method is meaningless for an all-electric vehicle, so you might want to override this method. Here's one way to do that:"
   ]
  },
  {
   "cell_type": "code",
   "execution_count": null,
   "metadata": {
    "slideshow": {
     "slide_type": "-"
    }
   },
   "outputs": [],
   "source": [
    "class ElectricCar(Car):\n",
    "    \"\"\"Represent aspects of a car, specific to electric vehicles.\"\"\"\n",
    "    def __init__(self, make, model, year):\n",
    "        \"\"\"\n",
    "        Initialize attributes of the parent class.\n",
    "        Then initialize attributes specific to an electric car.\n",
    "        \"\"\"\n",
    "        super().__init__(make, model, year)\n",
    "        self.battery_size = 40\n",
    "   \n",
    "    def describe_battery(self):\n",
    "        \"\"\"Print a statement describing the battery size.\"\"\"\n",
    "        print(f\"This car has a {self.battery_size}-kWh battery.\")\n",
    "\n",
    "    ## We overide the method here\n",
    "    def fill_gas_tank(self):\n",
    "        \"\"\"Electric cars don't have gas tanks.\"\"\"\n",
    "        print(\"This car doesn't have a gas tank!\")"
   ]
  },
  {
   "cell_type": "markdown",
   "metadata": {
    "slideshow": {
     "slide_type": "subslide"
    }
   },
   "source": [
    "Now if someone tries to call `fill_gas_tank()` with an electric car, `Python` will ignore the method `fill_gas_tank()` in `Car` and run this code instead. "
   ]
  },
  {
   "cell_type": "code",
   "execution_count": null,
   "metadata": {
    "slideshow": {
     "slide_type": "fragment"
    }
   },
   "outputs": [],
   "source": [
    "my_leaf = ElectricCar('nissan', 'leaf', 2025) \n",
    "my_leaf.fill_gas_tank()"
   ]
  },
  {
   "cell_type": "markdown",
   "metadata": {
    "slideshow": {
     "slide_type": "fragment"
    }
   },
   "source": [
    "When you use inheritance, you can make your child classes retain what you need and override anything you don't need from the parent class!"
   ]
  },
  {
   "cell_type": "markdown",
   "metadata": {
    "slideshow": {
     "slide_type": "slide"
    }
   },
   "source": [
    "#### Use `composition` to organize the code"
   ]
  },
  {
   "cell_type": "markdown",
   "metadata": {
    "slideshow": {
     "slide_type": "subslide"
    }
   },
   "source": [
    "When modeling something from the real world in code, you may add more detail to a class. You'll find that you have a growing list of attributes and methods and that your files are becoming lengthy."
   ]
  },
  {
   "cell_type": "markdown",
   "metadata": {
    "slideshow": {
     "slide_type": "fragment"
    }
   },
   "source": [
    "In these situations, you might recognize that part of one class can be written **as a separate class**. You can break your large class into smaller classes that work together; this approach is called ***composition***, which is sometimes referred to as the ***has a*** releationship."
   ]
  },
  {
   "cell_type": "markdown",
   "metadata": {
    "slideshow": {
     "slide_type": "fragment"
    }
   },
   "source": [
    "For example, if we continue adding detail to the `ElectricCar` class, we might notice that we're adding many attributes and methods specific to  the car's battery. When we see this happening, we can stop and move those attributes and methods to a separate class called `Battery`. Then we can use a `Battery` instance as an attribute in the `ElectricCar` class."
   ]
  },
  {
   "cell_type": "code",
   "execution_count": null,
   "metadata": {
    "slideshow": {
     "slide_type": "subslide"
    }
   },
   "outputs": [],
   "source": [
    "class Battery:\n",
    "    \"\"\"A simple attempt to model a battery for an electric car.\"\"\"\n",
    "    def __init__(self, battery_size=40):\n",
    "        \"\"\"Initialize the battery's attributes.\"\"\"\n",
    "        self.battery_size = battery_size\n",
    "\n",
    "    def describe_battery(self):\n",
    "        \"\"\"Print a statement describing the battery size.\"\"\"\n",
    "        print(f\"This car has a {self.battery_size}-kWh battery.\")\n",
    "        \n",
    "    def get_range(self):\n",
    "        \"\"\"Print a statement about the range this battery provides.\"\"\"\n",
    "        if self.battery_size == 40:\n",
    "            range = 150 # Class attributes\n",
    "        elif self.battery_size == 65:\n",
    "            range = 225\n",
    "        print(f\"This car can go about {range} miles on a full charge.\")\n",
    "\n",
    "class ElectricCar(Car):\n",
    "    \"\"\"Represent aspects of a car, specific to electric vehicles.\"\"\"\n",
    "    def __init__(self, make, model, year):\n",
    "        \"\"\"\n",
    "        Initialize attributes of the parent class.\n",
    "        Then initialize attributes specific to an electric car.\n",
    "        \"\"\"\n",
    "        super().__init__(make, model, year)\n",
    "        self.battery = Battery()"
   ]
  },
  {
   "cell_type": "markdown",
   "metadata": {
    "slideshow": {
     "slide_type": "subslide"
    }
   },
   "source": [
    "We define a new class called `Battery` that doesn't inherit from any other class. The `__init__()` method has one parameter, `battery_size`, in addition to `self`. This optional parameter sets the battery's size to 40 if no value is provided. The method `describe_battery()` has been moved to this class as well. A new method, `get_range()`, performs some simple analysis and is also added."
   ]
  },
  {
   "cell_type": "markdown",
   "metadata": {
    "slideshow": {
     "slide_type": "fragment"
    }
   },
   "source": [
    "In the `ElectricCar` class, we now add an attribute called `self.battery`, tells `Python` to create a new instance of `Battery` (with a default size of 40) and assign that instance to the attribute `self.battery`. "
   ]
  },
  {
   "cell_type": "markdown",
   "metadata": {
    "slideshow": {
     "slide_type": "fragment"
    }
   },
   "source": [
    "Any `ElectricCar` instance will now have a `Battery` instance created automatically. When we want to describe the battery, we need to work through the car's battery attribute:"
   ]
  },
  {
   "cell_type": "code",
   "execution_count": null,
   "metadata": {
    "slideshow": {
     "slide_type": "-"
    }
   },
   "outputs": [],
   "source": [
    "my_leaf = ElectricCar('nissan', 'leaf', 2025)\n",
    "print(my_leaf.get_descriptive_name())\n",
    "my_leaf.battery.describe_battery()\n",
    "my_leaf.battery.get_range()"
   ]
  },
  {
   "cell_type": "markdown",
   "metadata": {
    "slideshow": {
     "slide_type": "skip"
    }
   },
   "source": [
    ">  Inheritance and composition are two essential concepts in object-oriented programming that model the relationship between two classes. Check out [here](https://realpython.com/inheritance-composition-python/#choosing-between-inheritance-and-composition-in-python) for more in-depth comparisons."
   ]
  },
  {
   "cell_type": "code",
   "execution_count": null,
   "metadata": {
    "slideshow": {
     "slide_type": "subslide"
    }
   },
   "outputs": [],
   "source": [
    "display_quiz(path+\"inheritance.json\", max_width=800)"
   ]
  },
  {
   "cell_type": "markdown",
   "metadata": {
    "slideshow": {
     "slide_type": "slide"
    }
   },
   "source": [
    "## Encapsulation - Attributes for data access"
   ]
  },
  {
   "cell_type": "markdown",
   "metadata": {
    "slideshow": {
     "slide_type": "subslide"
    }
   },
   "source": [
    "Most object-oriented programming languages enable you to ***encapsulate*** (or hide) an object's data from the code. Such data in these languages are said to be ***private data***. "
   ]
  },
  {
   "cell_type": "markdown",
   "metadata": {
    "slideshow": {
     "slide_type": "fragment"
    }
   },
   "source": [
    "`Python` does not have private data. Instead, you use **naming conventions** to design classes that encourage correct use. "
   ]
  },
  {
   "cell_type": "markdown",
   "metadata": {
    "slideshow": {
     "slide_type": "fragment"
    }
   },
   "source": [
    "By convention, **Python programmers know that any attribute name beginning with an underscore (`_`) is for a class's internal use only.** Code should use the class's methods to interact with each object's internal-use data attributes. Attributes whose identifiers do not begin with an underscore (`_`) are considered publicly accessible."
   ]
  },
  {
   "cell_type": "markdown",
   "metadata": {
    "slideshow": {
     "slide_type": "skip"
    }
   },
   "source": [
    "> However, even when we use these conventions, attributes are always accessible."
   ]
  },
  {
   "cell_type": "markdown",
   "metadata": {
    "slideshow": {
     "slide_type": "subslide"
    }
   },
   "source": [
    "Let's develop a `Time` class that stores the time in 24-hour clock format with `hours` in the range 0–23 and `minutes` and `seconds` each in the range 0–59:"
   ]
  },
  {
   "cell_type": "markdown",
   "metadata": {
    "slideshow": {
     "slide_type": "fragment"
    }
   },
   "source": [
    "```python\n",
    "class Time:\n",
    "    \"\"\"Class Time with read-write attributes.\"\"\"\n",
    "    def __init__(self, hour=0, minute=0, second=0):\n",
    "        \"\"\"Initialize each attribute.\"\"\"\n",
    "        self.set_hour(hour)      # 0-23, note that this line calls the setter method hour\n",
    "        self.set_minute(minute)  # 0-59, note that this line calls the setter method minute\n",
    "        self.set_second(second)  # 0-59, note that this line calls the setter method second\n",
    "    #getter\n",
    "    def get_hour(self):\n",
    "        \"\"\"Return the hour.\"\"\"\n",
    "        print(\"getter is called\")\n",
    "        return self._hour # Private data\n",
    "    #setter\n",
    "    def set_hour(self, hour):\n",
    "        \"\"\"Set the hour.\"\"\"\n",
    "        print(\"setter is called\")\n",
    "        if not (0 <= hour < 24):\n",
    "            raise ValueError(f'Hour ({hour}) must be 0-23')\n",
    "\n",
    "        self._hour = hour\n",
    "```"
   ]
  },
  {
   "cell_type": "markdown",
   "metadata": {
    "slideshow": {
     "slide_type": "subslide"
    }
   },
   "source": [
    "```python\n",
    "    #getter\n",
    "    def get_minute(self):\n",
    "        \"\"\"Return the minute.\"\"\"\n",
    "        return self._minute # Private data\n",
    "    #setter\n",
    "    def set_minute(self, minute):\n",
    "        \"\"\"Set the minute.\"\"\"\n",
    "        if not (0 <= minute < 60):\n",
    "            raise ValueError(f'Minute ({minute}) must be 0-59')\n",
    "\n",
    "        self._minute = minute\n",
    "    #getter\n",
    "    def get_second(self):\n",
    "        \"\"\"Return the second.\"\"\"\n",
    "        return self._second # Private data\n",
    "    #setter\n",
    "    def set_second(self, second):\n",
    "        \"\"\"Set the second.\"\"\"\n",
    "        if not (0 <= second < 60):\n",
    "            raise ValueError(f'Second ({second}) must be 0-59')\n",
    "\n",
    "        self._second = second\n",
    "```"
   ]
  },
  {
   "cell_type": "code",
   "execution_count": null,
   "metadata": {
    "slideshow": {
     "slide_type": "skip"
    }
   },
   "outputs": [],
   "source": [
    "class Time:\n",
    "    \"\"\"Class Time with read-write attributes.\"\"\"\n",
    "\n",
    "    def __init__(self, hour=0, minute=0, second=0):\n",
    "        \"\"\"Initialize each attribute.\"\"\"\n",
    "        self.set_hour(hour)      # 0-23, note that this line calls the setter method hour\n",
    "        self.set_minute(minute)  # 0-59, note that this line calls the setter method minute\n",
    "        self.set_second(second)  # 0-59, note that this line calls the setter method second\n",
    "\n",
    "    #getter\n",
    "    def get_hour(self):\n",
    "        \"\"\"Return the hour.\"\"\"\n",
    "        print(\"getter is called\")\n",
    "        return self._hour # Private data\n",
    "\n",
    "    #setter\n",
    "    def set_hour(self, hour):\n",
    "        \"\"\"Set the hour.\"\"\"\n",
    "        print(\"setter is called\")\n",
    "        if not (0 <= hour < 24):\n",
    "            raise ValueError(f'Hour ({hour}) must be 0-23')\n",
    "\n",
    "        self._hour = hour\n",
    "    #getter\n",
    "    def get_minute(self):\n",
    "        \"\"\"Return the minute.\"\"\"\n",
    "        return self._minute # Private data\n",
    "\n",
    "    #setter\n",
    "    def set_minute(self, minute):\n",
    "        \"\"\"Set the minute.\"\"\"\n",
    "        if not (0 <= minute < 60):\n",
    "            raise ValueError(f'Minute ({minute}) must be 0-59')\n",
    "\n",
    "        self._minute = minute\n",
    "\n",
    "    #getter\n",
    "    def get_second(self):\n",
    "        \"\"\"Return the second.\"\"\"\n",
    "        return self._second # Private data\n",
    "\n",
    "    #setter\n",
    "    def set_second(self, second):\n",
    "        \"\"\"Set the second.\"\"\"\n",
    "        if not (0 <= second < 60):\n",
    "            raise ValueError(f'Second ({second}) must be 0-59')\n",
    "\n",
    "        self._second = second"
   ]
  },
  {
   "cell_type": "markdown",
   "metadata": {
    "slideshow": {
     "slide_type": "subslide"
    }
   },
   "source": [
    "1. Class `Time`'s `__init__` method specifies `hour`, `minute` and `second` parameters, each with a default argument of 0. The statements containing\n",
    "`self.set_hour()`, `self.set_minute()` and `self.set_second()` call methods that implement the class's ***setter***. Those methods then create attributes named `_hour`, `_minute` and `_second` that is meant for use only inside the class!"
   ]
  },
  {
   "cell_type": "markdown",
   "metadata": {
    "slideshow": {
     "slide_type": "fragment"
    }
   },
   "source": [
    "2. Lines 10–21 define methods that manipulate a data attribute named `_hour`. The single-leading-underscore (_) naming convention indicates that we should not access `_hour` directly. We define a ***getter*** method which gets (that is, returns) a data attribute's value and a setter method, which sets a data attribute's value. "
   ]
  },
  {
   "cell_type": "markdown",
   "metadata": {
    "slideshow": {
     "slide_type": "fragment"
    }
   },
   "source": [
    "Here is how we initialize an object:"
   ]
  },
  {
   "cell_type": "code",
   "execution_count": null,
   "metadata": {
    "slideshow": {
     "slide_type": "fragment"
    }
   },
   "outputs": [],
   "source": [
    "wake_up = Time(hour=11, minute=30)"
   ]
  },
  {
   "cell_type": "markdown",
   "metadata": {
    "slideshow": {
     "slide_type": "subslide"
    }
   },
   "source": [
    "The following code expression invokes the getter method:"
   ]
  },
  {
   "cell_type": "code",
   "execution_count": null,
   "metadata": {
    "slideshow": {
     "slide_type": "fragment"
    }
   },
   "outputs": [],
   "source": [
    "wake_up.get_hour()\n",
    "# Instead of wake_up._hour"
   ]
  },
  {
   "cell_type": "markdown",
   "metadata": {
    "slideshow": {
     "slide_type": "fragment"
    }
   },
   "source": [
    "The following code expression invokes the setter by assigning a value to the attribute: "
   ]
  },
  {
   "cell_type": "code",
   "execution_count": null,
   "metadata": {
    "slideshow": {
     "slide_type": "fragment"
    }
   },
   "outputs": [],
   "source": [
    "wake_up.set_hour(8)\n",
    "# Instead of wake_up._hour = 8"
   ]
  },
  {
   "cell_type": "markdown",
   "metadata": {
    "slideshow": {
     "slide_type": "subslide"
    }
   },
   "source": [
    "Class `Time`'s getter and setter define the class's public interface — that is, the set of attributes programmers should use to interact with objects of the class. "
   ]
  },
  {
   "cell_type": "markdown",
   "metadata": {
    "slideshow": {
     "slide_type": "fragment"
    }
   },
   "source": [
    "Just like the private attributes above, not all methods need to serve as part of a class's interface. Some serve as ***utility methods*** used only inside the class and are not intended to be part of the class's public interface used by others. Such methods should be named with a single leading underscore. In other object-oriented languages like C++, Java and C#, such methods typically are implemented as ***private methods***."
   ]
  },
  {
   "cell_type": "markdown",
   "metadata": {
    "slideshow": {
     "slide_type": "skip"
    }
   },
   "source": [
    "> In Python, there is a more Pythonic way to define the getter and setter using `properties`. You can check out [here](https://realpython.com/python-getter-setter/) for more information."
   ]
  },
  {
   "cell_type": "markdown",
   "metadata": {
    "slideshow": {
     "slide_type": "fragment"
    }
   },
   "source": [
    "Note that although we define the public interface, the internal attribute can still be accessed."
   ]
  },
  {
   "cell_type": "code",
   "execution_count": null,
   "metadata": {
    "slideshow": {
     "slide_type": "fragment"
    }
   },
   "outputs": [],
   "source": [
    "wake_up._hour"
   ]
  },
  {
   "cell_type": "markdown",
   "metadata": {
    "slideshow": {
     "slide_type": "slide"
    }
   },
   "source": [
    "### Simulating \"Private\" Attributes "
   ]
  },
  {
   "cell_type": "markdown",
   "metadata": {
    "slideshow": {
     "slide_type": "subslide"
    }
   },
   "source": [
    "In programming languages such as C++, Java and C#, classes state explicitly which class members are publicly accessible. Class members that may not be accessed outside a class definition are private and visible only within the class that defines them. "
   ]
  },
  {
   "cell_type": "markdown",
   "metadata": {
    "slideshow": {
     "slide_type": "skip"
    }
   },
   "source": [
    "> Programmers often use private attributes for data or utility methods that are essential to a class's inner workings but are not part of the class's public interface."
   ]
  },
  {
   "cell_type": "markdown",
   "metadata": {
    "slideshow": {
     "slide_type": "fragment"
    }
   },
   "source": [
    "Rather than `_hour`, we can name the attribute `__hour` with two leading underscores. This convention indicates that `__hour` is \"private\" and should not be access outside. "
   ]
  },
  {
   "cell_type": "code",
   "execution_count": null,
   "metadata": {
    "slideshow": {
     "slide_type": "fragment"
    }
   },
   "outputs": [],
   "source": [
    "class PrivateClass:\n",
    "    \"\"\"Class with public and private attributes.\"\"\"\n",
    "\n",
    "    def __init__(self):\n",
    "        \"\"\"Initialize the public and private attributes.\"\"\"\n",
    "        self.public_data = \"public\"  # public attribute\n",
    "        self._private_data = \"private1\"  # private attribute\n",
    "        self.__private_data = \"private2\"  # private attribute"
   ]
  },
  {
   "cell_type": "code",
   "execution_count": null,
   "metadata": {
    "slideshow": {
     "slide_type": "subslide"
    }
   },
   "outputs": [],
   "source": [
    "my_object = PrivateClass()\n",
    "my_object.public_data"
   ]
  },
  {
   "cell_type": "code",
   "execution_count": null,
   "metadata": {
    "slideshow": {
     "slide_type": "fragment"
    }
   },
   "outputs": [],
   "source": [
    "my_object._private_data"
   ]
  },
  {
   "cell_type": "markdown",
   "metadata": {
    "slideshow": {
     "slide_type": "fragment"
    }
   },
   "source": [
    "When we attempt to access `__private_data` directly, we get an `AttributeError` indicating that the class does not have an attribute by that name:"
   ]
  },
  {
   "cell_type": "code",
   "execution_count": null,
   "metadata": {
    "slideshow": {
     "slide_type": "fragment"
    }
   },
   "outputs": [],
   "source": [
    "my_object.__private_data"
   ]
  },
  {
   "cell_type": "markdown",
   "metadata": {
    "slideshow": {
     "slide_type": "skip"
    }
   },
   "source": [
    ">  Even with double-underscore naming, we can still access and modify `__private_data`, because we know that Python renames attributes simply by prefixing their names with  `_ClassName`!"
   ]
  },
  {
   "cell_type": "code",
   "execution_count": null,
   "metadata": {
    "slideshow": {
     "slide_type": "skip"
    }
   },
   "outputs": [],
   "source": [
    "print(my_object._PrivateClass__private_data)\n",
    "my_object._PrivateClass__private_data = 'modified'\n",
    "print(my_object._PrivateClass__private_data)"
   ]
  },
  {
   "cell_type": "code",
   "execution_count": null,
   "metadata": {
    "slideshow": {
     "slide_type": "subslide"
    }
   },
   "outputs": [],
   "source": [
    "display_quiz(path+\"encapsulation.json\", max_width=800)"
   ]
  },
  {
   "cell_type": "markdown",
   "metadata": {
    "slideshow": {
     "slide_type": "slide"
    }
   },
   "source": [
    "## Class Methods"
   ]
  },
  {
   "cell_type": "markdown",
   "metadata": {
    "slideshow": {
     "slide_type": "subslide"
    }
   },
   "source": [
    "***Class methods*** are associated with a class rather than individual objects like regular methods are. "
   ]
  },
  {
   "cell_type": "markdown",
   "metadata": {
    "slideshow": {
     "slide_type": "fragment"
    }
   },
   "source": [
    "You can recognize a class method in code when you see two markers: \n",
    "\n",
    "1. The `@classmethod` decorator before the method's `def` statement.\n",
    "2. The use of `cls` as the first parameter"
   ]
  },
  {
   "cell_type": "code",
   "execution_count": null,
   "metadata": {
    "slideshow": {
     "slide_type": "fragment"
    }
   },
   "outputs": [],
   "source": [
    "class ExampleClass:\n",
    "    def exampleRegularMethod(self):\n",
    "        print('This is a regular method.')\n",
    "    # This is the \"decorator\" that takes another function as input, \n",
    "    # extends or modifies its behavior, and returns a new function\n",
    "    @classmethod \n",
    "    def exampleClassMethod(cls):\n",
    "        print('This is a class method.')"
   ]
  },
  {
   "cell_type": "code",
   "execution_count": null,
   "metadata": {
    "slideshow": {
     "slide_type": "subslide"
    }
   },
   "outputs": [],
   "source": [
    "ExampleClass.exampleRegularMethod() # This is not a valid statement"
   ]
  },
  {
   "cell_type": "code",
   "execution_count": null,
   "metadata": {
    "slideshow": {
     "slide_type": "fragment"
    }
   },
   "outputs": [],
   "source": [
    "# Call the class method without instantiating an object!\n",
    "ExampleClass.exampleClassMethod()\n",
    "\n",
    "obj = ExampleClass()\n",
    "# Given the above line, these two lines are equivalent\n",
    "# Note that we can also access the class method using obj!\n",
    "obj.exampleClassMethod() # It will implicitly pass the class instead of the object\n",
    "obj.__class__.exampleClassMethod()"
   ]
  },
  {
   "cell_type": "markdown",
   "metadata": {
    "slideshow": {
     "slide_type": "subslide"
    }
   },
   "source": [
    "The `cls` parameter acts like `self` except `self` refers to an object, but the `cls` parameter refers to an object's class. "
   ]
  },
  {
   "cell_type": "markdown",
   "metadata": {
    "slideshow": {
     "slide_type": "fragment"
    }
   },
   "source": [
    "**This means that the code in a class method cannot access an individual object's attributes or call an object's regular methods**. Class methods can only call other class methods or access class attributes. "
   ]
  },
  {
   "cell_type": "markdown",
   "metadata": {
    "slideshow": {
     "slide_type": "fragment"
    }
   },
   "source": [
    "Class methods aren't commonly used. The most frequent use case is to provide **alternative constructor** methods besides `__init__()`. For example, what if a constructor function could accept either a `string` of data the new object needs or a `string` of a filename that contains the data the new object needs? "
   ]
  },
  {
   "cell_type": "markdown",
   "metadata": {
    "slideshow": {
     "slide_type": "subslide"
    }
   },
   "source": [
    "We don't want the `__init__()` method's parameters to be lengthy and confusing. Instead, let's use class methods to return a new object. For example, let's create an `AsciiArt` class."
   ]
  },
  {
   "cell_type": "code",
   "execution_count": null,
   "metadata": {
    "slideshow": {
     "slide_type": "fragment"
    }
   },
   "outputs": [],
   "source": [
    "%%writefile pokeball.txt\n",
    "⠀⠀⠀⠀⠀⠀⠀⠀  \n",
    "⠀⠀⠀⠀⠀⠀⣀⣴⡶⠿⠛⠛⠛⠛⠛⠛⠻⠷⣦⣄⡀⠀⠀⠀⠀⠀ \n",
    "⠀⠀⠀⠀⣠⡾⠟⠁⠀⠀⠀⠀⠀⠀⠀⠀⠀⠀⠀⠙⠿⣦⡀⠀⠀⠀  \n",
    "⠀⠀⢠⣾⠏⠀⠀⠀⠀⠀⠀⠀⠀⠀⠀⠀⠀⠀⠀⠀⠀⠈⢿⣆⠀⠀  \n",
    "⠀⢠⣿⠃⠀⠀⠀⠀⠀⠀⠀⠀⠀⠀⠀⠀⠀⠀⠀⠀⠀⠀⠀⢻⣇⠀  \n",
    "⠀⣾⡇⠀⠀⠀⠀⠀⠀⠀⠀⠀⠀⠀⠀⠀⠀⠀⠀⠀⠀⠀⠀⠀⣿⡄  \n",
    "⢠⣿⠀⠀⠀⠀⠀⠀⠀⠀⠀⠀⠀⠀⠀⠀⠀⠀⠀⠀⠀⠀⠀⠀⢸⡇  \n",
    "⠸⣿⡀⠀⠀⠀⠀⠀⠀⠀⠀⠀⠀⠀⠀⠀⠀⠀⠀⠀⠀⠀⠀⠀⣼⡇  \n",
    "⠀⣿⣿⣦⣀⠀⠀⠀⠀⠀⣠⣴⣶⢶⣦⣤⡀⠀⠀⠀⠀⢀⣠⣾⣿⠇ \n",
    "⠀⠸⣷⡈⠛⠿⣶⣦⣤⣼⠟⡡⠒⠒⢢⠙⣿⣤⣤⣶⠾⠟⠋⣰⡟⠀\n",
    "⠀⠀⠹⣷⡄⠀⠀⠀⠉⣿⣄⠣⣀⢀⡠⢀⣿⠏⠁⠀⠀⢀⣴⡟⠀⠀ \n",
    "⠀⠀⠀⠈⠻⣦⣄⠀⠀⠈⠻⢷⣦⣤⣶⠿⠋⠀⠀⢀⣤⡾⠋⠀⠀⠀ \n",
    "⠀⠀⠀⠀⠀⠈⠛⠷⣦⣤⣀⣀⠀⠀⣀⣀⣠⣤⡶⠟⠋⠀⠀⠀⠀⠀ \n",
    "⠀⠀⠀⠀⠀⠀⠀⠀⠀⠉⠉⠛⠛⠛⠛⠋⠉⠁⠀⠀⠀⠀⠀⠀⠀⠀"
   ]
  },
  {
   "cell_type": "code",
   "execution_count": null,
   "metadata": {
    "slideshow": {
     "slide_type": "subslide"
    }
   },
   "outputs": [],
   "source": [
    "class AsciiArt:\n",
    "    def __init__(self, characters):\n",
    "        \"\"\" Approach1: Initialize it with string \"\"\"\n",
    "        self._characters = characters\n",
    "\n",
    "    @classmethod\n",
    "    def fromFile(cls, filename):\n",
    "        \"\"\" Approach2: Initialize it with filename \"\"\"\n",
    "        with open(filename) as fileObj:\n",
    "            characters = fileObj.read()\n",
    "        return AsciiArt(characters) # This calls the __init__ function, notice the use of return statement\n",
    "\n",
    "    def display(self):\n",
    "        print(self._characters)\n",
    "\n",
    "    # Other AsciiArt methods would go here..."
   ]
  },
  {
   "cell_type": "code",
   "execution_count": null,
   "metadata": {
    "slideshow": {
     "slide_type": "subslide"
    }
   },
   "outputs": [],
   "source": [
    "ball1 = AsciiArt(\"\"\"⠀⠀⠀⠀⠀⠀⠀  \n",
    "⠀⠀⠀⠀⠀⠀⣀⣴⡶⠿⠛⠛⠛⠛⠛⠛⠻⠷⣦⣄⡀⠀⠀⠀⠀⠀ \n",
    "⠀⠀⠀⠀⣠⡾⠟⠁⠀⠀⠀⠀⠀⠀⠀⠀⠀⠀⠀⠙⠿⣦⡀⠀⠀⠀  \n",
    "⠀⠀⢠⣾⠏⠀⠀⠀⠀⠀⠀⠀⠀⠀⠀⠀⠀⠀⠀⠀⠀⠈⢿⣆⠀⠀  \n",
    "⠀⢠⣿⠃⠀⠀⠀⠀⠀⠀⠀⠀⠀⠀⠀⠀⠀⠀⠀⠀⠀⠀⠀⢻⣇⠀  \n",
    "⠀⣾⡇⠀⠀⠀⠀⠀⠀⠀⠀⠀⠀⠀⠀⠀⠀⠀⠀⠀⠀⠀⠀⠀⣿⡄  \n",
    "⢠⣿⠀⠀⠀⠀⠀⠀⠀⠀⠀⠀⠀⠀⠀⠀⠀⠀⠀⠀⠀⠀⠀⠀⢸⡇  \n",
    "⠸⣿⡀⠀⠀⠀⠀⠀⠀⠀⠀⠀⠀⠀⠀⠀⠀⠀⠀⠀⠀⠀⠀⠀⣼⡇  \n",
    "⠀⣿⣿⣦⣀⠀⠀⠀⠀⠀⣠⣴⣶⢶⣦⣤⡀⠀⠀⠀⠀⢀⣠⣾⣿⠇ \n",
    "⠀⠸⣷⡈⠛⠿⣶⣦⣤⣼⠟⡡⠒⠒⢢⠙⣿⣤⣤⣶⠾⠟⠋⣰⡟⠀\n",
    "⠀⠀⠹⣷⡄⠀⠀⠀⠉⣿⣄⠣⣀⢀⡠⢀⣿⠏⠁⠀⠀⢀⣴⡟⠀⠀ \n",
    "⠀⠀⠀⠈⠻⣦⣄⠀⠀⠈⠻⢷⣦⣤⣶⠿⠋⠀⠀⢀⣤⡾⠋⠀⠀⠀ \n",
    "⠀⠀⠀⠀⠀⠈⠛⠷⣦⣤⣀⣀⠀⠀⣀⣀⣠⣤⡶⠟⠋⠀⠀⠀⠀⠀ \n",
    "⠀⠀⠀⠀⠀⠀⠀⠀⠀⠉⠉⠛⠛⠛⠛⠋⠉⠁⠀⠀⠀⠀⠀\"\"\"\n",
    ")\n",
    "\n",
    "ball1.display()"
   ]
  },
  {
   "cell_type": "code",
   "execution_count": null,
   "metadata": {
    "slideshow": {
     "slide_type": "subslide"
    }
   },
   "outputs": [],
   "source": [
    "ball2 = AsciiArt.fromFile('pokeball.txt')\n",
    "ball2.display()"
   ]
  },
  {
   "cell_type": "markdown",
   "metadata": {
    "slideshow": {
     "slide_type": "fragment"
    }
   },
   "source": [
    "The `AsciiArt` class has an `__init__()` method that can be passed the text characters of the image as a string. It also has a `fromFile()` class method that can be passed the filename string of a text file containing the ASCII art. Both methods create `AsciiArt` objects. "
   ]
  },
  {
   "cell_type": "markdown",
   "metadata": {
    "slideshow": {
     "slide_type": "skip"
    }
   },
   "source": [
    "> 👨‍⚕️ Note that the last line of `fromFile()` calls `__init__()` method. This is a trick you can use to follow the \"Don't Repeat Yourself (DRY)\" principle. If we rename this class or modify the content of the constructor (`__init__`) at some point, we won't have to remember to update the class method."
   ]
  },
  {
   "cell_type": "markdown",
   "metadata": {
    "slideshow": {
     "slide_type": "slide"
    }
   },
   "source": [
    "### Class Attributes"
   ]
  },
  {
   "cell_type": "markdown",
   "metadata": {
    "slideshow": {
     "slide_type": "subslide"
    }
   },
   "source": [
    "A class attribute is a variable that belongs to the class rather than to an object. We create class attributes **inside the class but outside all methods**, just like we can create global variables in a `.py` file but outside all functions."
   ]
  },
  {
   "cell_type": "markdown",
   "metadata": {
    "slideshow": {
     "slide_type": "fragment"
    }
   },
   "source": [
    "Here's an example of a class attribute named `count`, which keeps track of how many `CreateCounter` objects have been created:"
   ]
  },
  {
   "cell_type": "code",
   "execution_count": null,
   "metadata": {
    "slideshow": {
     "slide_type": "fragment"
    }
   },
   "outputs": [],
   "source": [
    "class CreateCounter:\n",
    "    count = 0 # This is a class attribute.\n",
    "\n",
    "    def __init__(self):\n",
    "        CreateCounter.count += 1\n",
    "\n",
    "print('Objects created:', CreateCounter.count)  # Prints 0.\n",
    "a = CreateCounter()\n",
    "b = CreateCounter()\n",
    "c = CreateCounter()\n",
    "print('Objects created:', CreateCounter.count)  # Prints 3."
   ]
  },
  {
   "cell_type": "markdown",
   "metadata": {
    "slideshow": {
     "slide_type": "skip"
    }
   },
   "source": [
    "> The `CreateCounter` class has a single class attribute named `count`. All `CreateCounter` objects **share** this attribute rather than having their own separate `count` attributes. This is why the `CreateCounter.count += 1` line in the constructor function can keep count of every `CreateCounter` object created. "
   ]
  },
  {
   "cell_type": "code",
   "execution_count": null,
   "metadata": {
    "slideshow": {
     "slide_type": "subslide"
    }
   },
   "outputs": [],
   "source": [
    "display_quiz(path+\"class_method.json\", max_width=800)"
   ]
  },
  {
   "cell_type": "markdown",
   "metadata": {
    "slideshow": {
     "slide_type": "skip"
    }
   },
   "source": [
    "### Static Methods (Optional)"
   ]
  },
  {
   "cell_type": "markdown",
   "metadata": {
    "slideshow": {
     "slide_type": "skip"
    }
   },
   "source": [
    "A ***static method*** doesn't have a `self` or `cls` parameter. Static methods are effectively just functions, because they can't access the attributes or methods of the class (using `cls`) or its objects (using `self`). \n",
    "\n",
    "We define static methods by placing the `@staticmethod` decorator before their `def` statements. Here is an example of a static method:"
   ]
  },
  {
   "cell_type": "code",
   "execution_count": null,
   "metadata": {
    "slideshow": {
     "slide_type": "skip"
    }
   },
   "outputs": [],
   "source": [
    "class ExampleClassWithStaticMethod:\n",
    "    @staticmethod\n",
    "    def sayHello():\n",
    "        print('Hello!')\n",
    "\n",
    "# Note that no object is created, the class name precedes sayHello():\n",
    "\n",
    "ExampleClassWithStaticMethod.sayHello()\n",
    "\n",
    "obj = ExampleClassWithStaticMethod()\n",
    "obj.sayHello()"
   ]
  },
  {
   "cell_type": "markdown",
   "metadata": {
    "slideshow": {
     "slide_type": "skip"
    }
   },
   "source": [
    "> Static methods are more common in other languages that don't have Python's flexible language features. Python's inclusion of static methods imitates the features of other languages but doesn't offer much practical value."
   ]
  },
  {
   "cell_type": "markdown",
   "metadata": {
    "slideshow": {
     "slide_type": "skip"
    }
   },
   "source": [
    "You'll rarely need class methods, class attributes, and static methods, and they're also prone to overuse. If you're thinking, \"Why can't I just use a function or global variable instead?\" this is a hint that you probably don't need to use a class method, class attribute, or static method. The only reason we cover them is so you can recognize them when you encounter them in code. You can find more information about the discussion [here](https://realpython.com/instance-class-and-static-methods-demystified/)."
   ]
  },
  {
   "cell_type": "markdown",
   "metadata": {
    "slideshow": {
     "slide_type": "slide"
    }
   },
   "source": [
    "## Polymorphism"
   ]
  },
  {
   "cell_type": "markdown",
   "metadata": {
    "slideshow": {
     "slide_type": "subslide"
    }
   },
   "source": [
    "***Polymorphism*** allows objects of one type to be treated as objects of another type (class). \n",
    "\n",
    "1. For example, the `len()` function returns the length of the argument passed to it. You can pass a `string` to `len()` to see how many characters it has, but you can also pass a `list` or `dictionary` to `len()` to see how many items or key-value pairs it has, respectively. This polymorphism of function is called generic functions or ***method/function overloading*** because it can handle objects of many different types."
   ]
  },
  {
   "cell_type": "markdown",
   "metadata": {
    "slideshow": {
     "slide_type": "fragment"
    }
   },
   "source": [
    "2. Polymorphism also includes ***operator overloading***, where operators (such as `+` or `*`) can behave differently based on the type of objects they're operating on. For example, the `+` operator does mathematical addition when operating on two `integer` or `float` values, but it does `string` concatenation when operating on two strings."
   ]
  },
  {
   "cell_type": "markdown",
   "metadata": {
    "slideshow": {
     "slide_type": "fragment"
    }
   },
   "source": [
    "In `Python`, we can achieve method polymorphism by defining a method in a base class and then overriding it in the derived classes. Each derived class can then provide its implementation of the method."
   ]
  },
  {
   "cell_type": "code",
   "execution_count": null,
   "metadata": {
    "slideshow": {
     "slide_type": "subslide"
    }
   },
   "outputs": [],
   "source": [
    "class Animal:\n",
    "    def __init__(self, name):\n",
    "        self.name = name\n",
    "\n",
    "    def speak(self):\n",
    "        pass # Don't do anything and prevent error by using this keyword\n",
    "\n",
    "class Dog(Animal):\n",
    "    def speak(self):\n",
    "        return \"Woof!\"\n",
    "\n",
    "class Cat(Animal):\n",
    "    def speak(self):\n",
    "        return \"Meow!\""
   ]
  },
  {
   "cell_type": "code",
   "execution_count": null,
   "metadata": {
    "slideshow": {
     "slide_type": "subslide"
    }
   },
   "outputs": [],
   "source": [
    "def speak(animal):\n",
    "    print(animal.speak())\n",
    "\n",
    "animals = [Dog(\"Rufus\"), Cat(\"Whiskers\"), Dog(\"Buddy\")]\n",
    "\n",
    "# method overloading\n",
    "for animal in animals:\n",
    "    print(f'{animal.name} : {animal.speak()}')\n",
    "\n",
    "# function overloading\n",
    "for animal in animals:\n",
    "    speak(animal)"
   ]
  },
  {
   "cell_type": "markdown",
   "metadata": {
    "slideshow": {
     "slide_type": "fragment"
    }
   },
   "source": [
    "In this example, the `Animal` class defines the `speak` method as a `pass` statement, **meaning it does nothing**. However, both `Dog` and `Cat` classes override the method with their implementation of the method. This is called ***method overriding*** and is also a form of polymorphism. "
   ]
  },
  {
   "cell_type": "markdown",
   "metadata": {
    "slideshow": {
     "slide_type": "fragment"
    }
   },
   "source": [
    "The `speak()` function accepts any object that implements the `speak()` method, meaning it can handle animals of different types. Here, we can pass both `Dog` and `Cat` objects to the `speak()` function, as they both inherit the `speak()` method from the `Animal` class."
   ]
  },
  {
   "cell_type": "markdown",
   "metadata": {
    "slideshow": {
     "slide_type": "slide"
    }
   },
   "source": [
    "### Operator overloading"
   ]
  },
  {
   "cell_type": "markdown",
   "metadata": {
    "slideshow": {
     "slide_type": "subslide"
    }
   },
   "source": [
    "`Python` has several ***dunder***  method. You’re already familiar with the `__init__()` dunder method name, but `Python` has several more. We often use them for operator overloading — that is, adding custom behaviors that allow us to use objects of our classes with `Python` operators, such as `+` or `>=`. "
   ]
  },
  {
   "cell_type": "markdown",
   "metadata": {
    "slideshow": {
     "slide_type": "skip"
    }
   },
   "source": [
    "> Other dunder methods let objects of our classes work with `Python`'s built-in functions, such as `len()`. These methods are documented online in the official `Python` documentation at [here](https://docs.python.org/3/reference/datamodel.html#special-method-names)."
   ]
  },
  {
   "cell_type": "code",
   "execution_count": null,
   "metadata": {
    "slideshow": {
     "slide_type": "fragment"
    }
   },
   "outputs": [],
   "source": [
    "class Point:\n",
    "    def __init__(self, x, y):\n",
    "        self.x = x\n",
    "        self.y = y\n",
    "\n",
    "    def __add__(self, other):\n",
    "        return Point(self.x + other.x, self.y + other.y)\n",
    "\n",
    "    def __eq__(self, other):\n",
    "        return (self.x == other.x) and (self.y == other.y)"
   ]
  },
  {
   "cell_type": "code",
   "execution_count": null,
   "metadata": {
    "slideshow": {
     "slide_type": "subslide"
    }
   },
   "outputs": [],
   "source": [
    "p1 = Point(1, 2)\n",
    "p2 = Point(3, 4)\n",
    "p3 = p1 + p2\n",
    "p4 = Point(4, 6)\n",
    "print(p3.x, p3.y)  # Output: 4 6\n",
    "print(p3 == p4)"
   ]
  },
  {
   "cell_type": "markdown",
   "metadata": {
    "slideshow": {
     "slide_type": "fragment"
    }
   },
   "source": [
    "In this example, we define the `__add__` and `__eq__` method in the `Point` class to implement the addition and equality of two `Point` objects. When we use the `+` and `=` operators with two `Point` objects, the `__add__` and `__eq__`methods are called automatically to perform the addition and comparison.\n",
    "\n",
    "For more information about overloading, see [here](https://realpython.com/operator-function-overloading/)."
   ]
  },
  {
   "cell_type": "code",
   "execution_count": null,
   "metadata": {
    "slideshow": {
     "slide_type": "subslide"
    }
   },
   "outputs": [],
   "source": [
    "display_quiz(path+\"poly.json\", max_width=800)"
   ]
  },
  {
   "cell_type": "markdown",
   "metadata": {
    "slideshow": {
     "slide_type": "subslide"
    }
   },
   "source": [
    "### >  Exercise 2: Inherit from `Pokemon` class to create new classes, `firePokemon` and `waterPokemon`, that accept the same parameters when constructed. Add a new method `attack()` for the two derived classes that recieve a single parameter `attack_type` and print out the message like this:\n",
    "\n",
    "```\n",
    "Magmortar is attacking with flamethrower\n",
    "```\n",
    "\n",
    "\n",
    "In addition, define a function `PokemonAttack()`, which receives a Pokemon object and an `attack_type`, then call the method `attack()`. Complete the following class/function and execute the code cell."
   ]
  },
  {
   "cell_type": "markdown",
   "metadata": {
    "slideshow": {
     "slide_type": "skip"
    }
   },
   "source": [
    "<center><img src=\"https://raw.githubusercontent.com/phonchi/nsysu-math106A/refs/heads/main/extra/Figures/blastoise-charizard.jpg\"></center>\n",
    "<div align=\"center\"> source: https://www.wallpaperflare.com/search?wallpaper=Fire+Pokemon </div>"
   ]
  },
  {
   "cell_type": "code",
   "execution_count": null,
   "metadata": {
    "slideshow": {
     "slide_type": "skip"
    }
   },
   "outputs": [],
   "source": [
    "### If you are not using anaconda, you need to install the following package:\n",
    "#%pip install requests"
   ]
  },
  {
   "cell_type": "code",
   "execution_count": null,
   "metadata": {
    "slideshow": {
     "slide_type": "subslide"
    }
   },
   "outputs": [],
   "source": [
    "class Pokemon:\n",
    "    def __init__(self, name, type, total_specis):\n",
    "        self.name = name\n",
    "        self.type = type\n",
    "        self.total_specis = total_specis\n",
    "        \n",
    "    def __str__(self):\n",
    "        return f\"{self.name} ({self.type}, total specis {self.total_specis})\"\n",
    "    \n",
    "class firePokemon(Pokemon):\n",
    "    # Your code here\n",
    "    def __init__(self, name, type, total_specis):\n",
    "        self.name = name\n",
    "        self.type = type\n",
    "        self.total_specis = total_specis\n",
    "    # Your code here\n",
    "    def attack(self, attack_type):\n",
    "        print(f\"{self.name} is attacking with {attack_type}\")"
   ]
  },
  {
   "cell_type": "code",
   "execution_count": null,
   "metadata": {
    "slideshow": {
     "slide_type": "subslide"
    }
   },
   "outputs": [],
   "source": [
    "import random\n",
    "import json \n",
    "import time\n",
    "import requests\n",
    "\n",
    "class waterPokemon(Pokemon):\n",
    "    # Your code here\n",
    "    def __init__(self, name, type, total_specis):\n",
    "        super().__init__(name, type, total_specis)\n",
    "    # Your code here\n",
    "    def attack(self, attack_type):\n",
    "        print(f\"{self.name} is attacking with {attack_type}\")\n",
    "    \n",
    "def PokemonAttack(pokemon, attack_type):\n",
    "    # Your code here\n",
    "    pokemon.attack(attack_type)\n",
    "    \n",
    "def slow_print(text, delay=0.05):\n",
    "    for char in text:\n",
    "        print(char, end='', flush=True)\n",
    "        time.sleep(delay)\n",
    "    print()"
   ]
  },
  {
   "cell_type": "code",
   "execution_count": null,
   "metadata": {
    "slideshow": {
     "slide_type": "subslide"
    }
   },
   "outputs": [],
   "source": [
    "## 1. Download the data\n",
    "url = 'https://raw.githubusercontent.com/fanzeyi/pokemon.json/master/pokedex.json'\n",
    "response = requests.get(url)\n",
    "\n",
    "if response.status_code == 200:\n",
    "    with open('pokedex.json', 'w', encoding = \"utf-8\") as f:\n",
    "        f.write(response.text)\n",
    "else:\n",
    "    print(f\"Failed to download the file. Status code: {response.status_code}\")\n",
    "\n",
    "with open('Pokedex.json', 'r', encoding = \"utf-8\") as file:\n",
    "    pokemon_data = json.load(file)"
   ]
  },
  {
   "cell_type": "code",
   "execution_count": null,
   "metadata": {
    "slideshow": {
     "slide_type": "subslide"
    }
   },
   "outputs": [],
   "source": [
    "## 2. Get the pokemon\n",
    "random.shuffle(pokemon_data)\n",
    "getpokemon = []\n",
    "i = 0\n",
    "while True:\n",
    "    if len(getpokemon) == 6:\n",
    "        break\n",
    "    if pokemon_data[i]['type'][0] != \"Fire\" and pokemon_data[i]['type'][0] != \"Water\":\n",
    "        i += 1\n",
    "        continue\n",
    "    else:\n",
    "        if pokemon_data[i]['type'][0] == \"Fire\":\n",
    "            pokemon = firePokemon(pokemon_data[i]['name']['english'], pokemon_data[i]['type'][0], sum([pokemon_data[i]['base'][key] for key in pokemon_data[i]['base'] if key != \"name\"]))\n",
    "        else:\n",
    "            pokemon = waterPokemon(pokemon_data[i]['name']['english'], pokemon_data[i]['type'][0], sum([pokemon_data[i]['base'][key] for key in pokemon_data[i]['base'] if key != \"name\"]))\n",
    "        getpokemon.append(pokemon)\n",
    "        i += 1"
   ]
  },
  {
   "cell_type": "code",
   "execution_count": null,
   "metadata": {
    "slideshow": {
     "slide_type": "subslide"
    }
   },
   "outputs": [],
   "source": [
    "# 3. Print the pokemon and attack!\n",
    "for i in range(6):\n",
    "    if getpokemon[i].type == \"Fire\":\n",
    "        attack = 'flamethrower'\n",
    "    else:\n",
    "        attack = 'hydro pump'\n",
    "    PokemonAttack(getpokemon[i], attack)"
   ]
  },
  {
   "cell_type": "markdown",
   "metadata": {
    "slideshow": {
     "slide_type": "skip"
    }
   },
   "source": [
    "## Data Class (Optional)"
   ]
  },
  {
   "cell_type": "markdown",
   "metadata": {
    "slideshow": {
     "slide_type": "skip"
    }
   },
   "source": [
    "Data classes are among Python 3.7's most important new features. They help you build classes faster by using more concise notation and by autogenerating \"boilerplate\" code that's common in most classes. For instance:\n",
    "\n",
    "- A data class autogenerates `__init__`, `__repr__` and `__eq__`, saving you time.\n",
    "- A data class can autogenerate the special methods that overload the `<`, `<=`, `>` and `>=` comparison operators.\n",
    "- When you change data attributes defined in a data class, then use it in a script or interactive session, the autogenerated code updates automatically. So, you have less code to maintain and debug.\n",
    "- Some static code analysis tools and IDEs can inspect variable annotations and issue warnings if your code uses the wrong type. This can help you locate logic errors in your code before you execute it. \n",
    "\n",
    "Check out [here](https://realpython.com/python-data-classes/) for more details."
   ]
  },
  {
   "cell_type": "markdown",
   "metadata": {
    "slideshow": {
     "slide_type": "slide"
    }
   },
   "source": [
    "## Summary"
   ]
  },
  {
   "cell_type": "markdown",
   "metadata": {
    "slideshow": {
     "slide_type": "subslide"
    }
   },
   "source": [
    "Object-oriented programming is a programming paradigm that provides a means of structuring programs so that attributes and behaviors are bundled into individual objects. \n",
    "\n",
    "- Inheritance promotes code reusability and organization by allowing derived classes to inherit attributes and methods from parent classes. "
   ]
  },
  {
   "cell_type": "markdown",
   "metadata": {
    "slideshow": {
     "slide_type": "fragment"
    }
   },
   "source": [
    "- Encapsulation improves maintainability and security by bundling data and methods within objects and controlling access to their internal state. "
   ]
  },
  {
   "cell_type": "markdown",
   "metadata": {
    "slideshow": {
     "slide_type": "fragment"
    }
   },
   "source": [
    "- Polymorphism enhances flexibility and extensibility by enabling a single interface to represent different types, allowing for interchangeable objects and easier code modification."
   ]
  },
  {
   "cell_type": "markdown",
   "metadata": {
    "slideshow": {
     "slide_type": "skip"
    }
   },
   "source": [
    "> However, `Python` implements object-oriented features slightly differently than other OOP languages, such as Java or C++. For example, `Python` lets you overload its operators via its dunder methods, which begin and end with double underscore characters. These methods provide a way for Python's built-in operators to work with objects of the classes you create."
   ]
  },
  {
   "cell_type": "code",
   "execution_count": null,
   "metadata": {
    "slideshow": {
     "slide_type": "subslide"
    }
   },
   "outputs": [],
   "source": [
    "from jupytercards import display_flashcards\n",
    "fpath= \"https://raw.githubusercontent.com/phonchi/nsysu-math106A/refs/heads/main/extra/flashcards/\"\n",
    "display_flashcards(fpath + 'ch8.json')"
   ]
  },
  {
   "cell_type": "markdown",
   "metadata": {
    "slideshow": {
     "slide_type": "skip"
    }
   },
   "source": [
    "## Keywords"
   ]
  },
  {
   "cell_type": "markdown",
   "metadata": {
    "slideshow": {
     "slide_type": "skip"
    }
   },
   "source": [
    "- **Object Oriented Programming (OOP)**: A programming paradigm that organizes code using objects and classes to model real-world entities and relationships.\n",
    "- **class**: A blueprint for creating objects that defines attributes and methods.\n",
    "- **object**: An instance of a class containing data (attributes) and behavior (methods).\n",
    "- **method**: A function defined within a class that operates on instances of that class.\n",
    "- **attribute**: A variable that is bound to an object or class, holding data relevant to that object.\n",
    "- **constructor**: A special method, typically `__init__`, that initializes a new object's state when it is created.\n",
    "- **destructor**: A special method, typically `__del__`, that is called when an object is about to be destroyed, used for cleanup.\n",
    "- **dunder method**: A special method with double underscores before and after its name (e.g., `__init__`, `__str__`) that enables built-in behaviors.\n",
    "- **inheritance**: A mechanism where a new class (child) derives attributes and methods from an existing class (parent), representing a \"is-a\" relationship.\n",
    "- **parent(base) class**: A class whose properties and methods are inherited by another class.\n",
    "- **child(derived) class**: A class that inherits from a parent class and can extend or override its behavior.\n",
    "- **override**: To provide a new implementation for an inherited method in a child class.\n",
    "- **composition**: A design principle where a class is composed of one or more objects of other classes, representing a \"has-a\" relationship.\n",
    "- **encapsulation**: The bundling of data and methods within a class, restricting access to internal details and protecting object integrity.\n",
    "- **private data**: Attributes intended to be hidden from outside access, usually denoted with a leading underscore (e.g., `_data`).\n",
    "- **public data**: Attributes that are accessible from outside the class without restrictions.\n",
    "- **public method**: Methods that are accessible from outside the class without restrictions.\n",
    "- **private method**: A method intended for internal use within a class, typically indicated by a leading underscore.\n",
    "- **utility method**: A method that performs a supportive or common function, often independent of instance-specific data.\n",
    "- **class method**: A method bound to the class rather than an instance, marked with the `@classmethod` decorator, and takes the class as its first parameter.\n",
    "- **class attribute**: An attribute that is shared among all instances of a class.\n",
    "- **polymorphism**: The ability for different classes to be treated through a common interface, often by overriding methods.\n",
    "- **function overloading**: Defining multiple functions with the same name but different parameters.\n",
    "- **operator overloading**: Defining special methods to customize the behavior of built-in operators for user-defined classes.\n",
    "- **method overriding**: Providing a new implementation for a method inherited from a parent class, allowing the child class to customize behavior."
   ]
  }
 ],
 "metadata": {
  "celltoolbar": "Slideshow",
  "colab": {
   "collapsed_sections": [
    "SwFKFBMwRzoa",
    "n3ezAAdIsgpj",
    "gASYx5-Cxzyg",
    "2kLRVhae3rSa",
    "DPpfFEA07W0A",
    "uloOTsPL9A74",
    "MTJO4K049nuU",
    "3hD9uBt6AW9l",
    "IvviPig3At12",
    "HQK5zGP749m3",
    "7YVyJ-IgBZ7s",
    "L5VlI3VKg_dV",
    "wgqoOGqEiUre",
    "jscaE3K65HP9",
    "UMo588t4rY-O",
    "AGs4jgnSsZa1"
   ],
   "provenance": [],
   "toc_visible": true
  },
  "kernelspec": {
   "display_name": "Python 3 (ipykernel)",
   "language": "python",
   "name": "python3"
  },
  "language_info": {
   "codemirror_mode": {
    "name": "ipython",
    "version": 3
   },
   "file_extension": ".py",
   "mimetype": "text/x-python",
   "name": "python",
   "nbconvert_exporter": "python",
   "pygments_lexer": "ipython3",
   "version": "3.9.13"
  },
  "rise": {
   "chalkboard": {
    "color": [
     "rgb(250, 0, 0)",
     "rgb(250, 0, 0)"
    ]
   },
   "controls": false,
   "enable_chalkboard": true,
   "footer": "",
   "overlay": "<div class='myfooter'><h4>Object Oriented Programming</h4></div>",
   "slideNumber": "true",
   "theme": "night"
  },
  "vscode": {
   "interpreter": {
    "hash": "1561eddc5e0c9c74df968f74d5080d02882967127f956e6e7049c43d2ef42321"
   }
  }
 },
 "nbformat": 4,
 "nbformat_minor": 1
}
