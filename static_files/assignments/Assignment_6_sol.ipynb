{
  "cells": [
    {
      "cell_type": "markdown",
      "metadata": {
        "id": "QvapVWPoW88y"
      },
      "source": [
        "# Assignment 6"
      ]
    },
    {
      "cell_type": "markdown",
      "metadata": {
        "id": "q4tb-aRZW-kD"
      },
      "source": [
        "#### Student ID: *Double click to fill your student ID*\n",
        "#### Name: *Double click to fill your name*"
      ]
    },
    {
      "cell_type": "markdown",
      "metadata": {
        "id": "c6qCDhJwXCjZ"
      },
      "source": [
        "### (1) Which of the following statement is False?"
      ]
    },
    {
      "cell_type": "markdown",
      "metadata": {
        "id": "PduuEAnTXUKA"
      },
      "source": [
        "(A) A relative path tells Python to look for a file relative to the directory where the currently running program is stored.          \n",
        "(B) Relative paths start with the root directory, like `/` in Unix or `C:\\` in Windows.        \n",
        "(C) An absolute file path includes the complete directory hierarchy from the root to the file.              \n",
        "(D) You can use forward slashes (`/`) in paths on Windows, even though the system usually displays backslashes (`\\`).                       "
      ]
    },
    {
      "cell_type": "markdown",
      "metadata": {
        "id": "TrKhIKL9Xide"
      },
      "source": [
        "> Ans: *Double click to answer the question*"
      ]
    },
    {
      "cell_type": "markdown",
      "metadata": {
        "id": "naKOqbBVdBUX"
      },
      "source": [
        "(B) Relative paths start with the root directory, like / in Unix or C:\\ in Windows.        \n",
        "這是錯的，因為講義中明確指出「相對路徑」不是從根目錄開始，而是相對於目前執行中的程式所在目錄。例如：text_files/abc.txt 是一個相對路徑。"
      ]
    },
    {
      "cell_type": "markdown",
      "metadata": {
        "id": "z-rQC77mXHJ3"
      },
      "source": [
        "### (2) Which of the following statement is False regarding the `open()` function’s mode arguments?"
      ]
    },
    {
      "cell_type": "markdown",
      "metadata": {
        "id": "VMJaaLylXaWm"
      },
      "source": [
        "(A) The mode `'r'` opens a file for reading only.                \n",
        "(B) The mode `'w'` opens a file for writing and erases existing contents if the file already exists.                 \n",
        "(C) The mode `'a'` appends content to the end of a file, and will create the file if it doesn’t exist.                    \n",
        "(D) The mode `'e'` is used to encrypt a file before writing it.                       "
      ]
    },
    {
      "cell_type": "markdown",
      "metadata": {
        "id": "NP-lbFQA9gRE"
      },
      "source": [
        "> Ans: *Double click to answer the question*"
      ]
    },
    {
      "cell_type": "markdown",
      "metadata": {
        "id": "0MPaRwQJ9gRF"
      },
      "source": [
        "(D) The mode 'e' is used to encrypt a file before writing it.       \n",
        "講義中未曾提及 'e' 作為合法的 open() 模式，也未有任何加密用途之說明。\n"
      ]
    },
    {
      "cell_type": "markdown",
      "metadata": {
        "id": "Iq8z17BcXHDg"
      },
      "source": [
        "### (3)  What happens if an existing file is opened in write mode (`'w'`)?"
      ]
    },
    {
      "cell_type": "markdown",
      "metadata": {
        "id": "rTOd8x9RXaKA"
      },
      "source": [
        "(A) The file is opened for reading and writing without changing its contents.          \n",
        "\n",
        "(B) The file is opened and all its contents are erased before writing new data.  \n",
        "\n",
        "(C) The file is opened and new data is added at the end of the file.           \n",
        "\n",
        "(D) Python will raise a `FileExistsError` to avoid data loss.               "
      ]
    },
    {
      "cell_type": "markdown",
      "metadata": {
        "id": "EKZxDSCTXkUO"
      },
      "source": [
        "> Ans: *Double click to answer the question*"
      ]
    },
    {
      "cell_type": "markdown",
      "metadata": {
        "id": "axHMpFYTeSlO"
      },
      "source": [
        "(B) The file is opened and all its contents are erased before writing new data."
      ]
    },
    {
      "cell_type": "markdown",
      "metadata": {
        "id": "CChNWPJqXHNh"
      },
      "source": [
        "### (4) Which of the following statements about `read()` and `readlines()` is False?"
      ]
    },
    {
      "cell_type": "markdown",
      "metadata": {
        "id": "LvHS07YnXahe"
      },
      "source": [
        "(A) The `read()` method returns the entire contents of a file as a single string.     \n",
        "\n",
        "(B) The `readlines()` method returns a list of strings, with each string representing one line from the file.                     \n",
        "(C) Both `read()` and `readlines()` return a list of strings that represent lines in the file.\n",
        "\n",
        "(D) The string returned by `read()` may contain newline characters (`\\n`) unless removed by `.strip()`.        "
      ]
    },
    {
      "cell_type": "markdown",
      "metadata": {
        "id": "bJdSKGddXkwh"
      },
      "source": [
        "> Ans: *Double click to answer the question*"
      ]
    },
    {
      "cell_type": "markdown",
      "metadata": {
        "id": "zwpIo6lyhy6c"
      },
      "source": [
        "(C) Both read() and readlines() return a list of strings that represent lines in the file.       \n",
        "講義否定此說法：`read()` 回傳單一字串，並非「list of strings」。只有 `readlines()` 是回傳字串清單。"
      ]
    },
    {
      "cell_type": "markdown",
      "metadata": {
        "id": "Ywou1Fw1XHQr"
      },
      "source": [
        "### (5) Which of the following statements about storing data using the json module is False?"
      ]
    },
    {
      "cell_type": "markdown",
      "metadata": {
        "id": "BrbTfJdLXasZ"
      },
      "source": [
        "(A) The `json.dump()` function is used to write data to a file.       \n",
        "\n",
        "(B) The `json.load()` function is used to read data from a JSON file back into memory.       \n",
        "\n",
        "(C) The `json` module can only store data in string format, so you must convert all data manually before saving.        \n",
        "\n",
        "(D) JSON is a text-based data format that can be used for data exchange between different programming languages.     "
      ]
    },
    {
      "cell_type": "markdown",
      "metadata": {
        "id": "qP_c_-W9Xk9a"
      },
      "source": [
        "> Ans: *Double click to answer the question*"
      ]
    },
    {
      "cell_type": "markdown",
      "metadata": {
        "id": "lKGGyjW3mvI6"
      },
      "source": [
        "(C) The json module can only store data in string format, so you must convert all data manually before saving.      \n",
        "▶ 講義未提及此限制，反而提到能「直接儲存 Python 資料結構」：\n",
        "\n",
        "“The json module allows you to dump simple Python data structures into a file...”\n",
        "（位置：Storing Data）\n",
        "\n"
      ]
    },
    {
      "cell_type": "markdown",
      "metadata": {
        "id": "6wxdsDFBXHUL"
      },
      "source": [
        "### (6) Which of the following statements about handling a `ZeroDivisionError` in Python is False?"
      ]
    },
    {
      "cell_type": "markdown",
      "source": [
        "(A) A `ZeroDivisionError` occurs when you attempt to divide a number by zero.      \n",
        "(B) You can catch a `ZeroDivisionError` using a `try-except` block and display a friendly message.     \n",
        "(C) If a `ZeroDivisionError` occurs inside a `try` block and there’s no matching `except` clause, the program will still continue running normally.     \n",
        "(D) Using `except ZeroDivisionError`: allows the program to avoid crashing when division by zero occurs."
      ],
      "metadata": {
        "id": "tFynAMWIXWPJ"
      }
    },
    {
      "cell_type": "markdown",
      "source": [
        "(C) If a ZeroDivisionError occurs inside a try block and there’s no matching except clause, the program will still continue running normally.      \n",
        "▶ 講義內容：\n",
        "“If you don't handle the exception, the program will halt and show a traceback...”\n",
        "（位置：Handling the ZeroDivisionError Exception）"
      ],
      "metadata": {
        "id": "Qh2cnMR4XnwW"
      }
    },
    {
      "cell_type": "markdown",
      "metadata": {
        "id": "4tLsXnTVXHX8"
      },
      "source": [
        "### (7) Which of the following statements about `FileNotFoundError` is False?"
      ]
    },
    {
      "cell_type": "markdown",
      "source": [
        "(A) A `FileNotFoundError` occurs when Python cannot find the file you are trying to open.    \n",
        "(B) You can catch a `FileNotFoundError` using a `try-except` block and display a friendly error message.      \n",
        "(C) If a `FileNotFoundError` occurs and is not handled, Python will halt the program and show a traceback.       \n",
        "(D) A `FileNotFoundError` can be avoided entirely by opening all files using the append mode (`'a'`).      "
      ],
      "metadata": {
        "id": "Mxr4RV8CX79u"
      }
    },
    {
      "cell_type": "markdown",
      "source": [
        "(D) A FileNotFoundError can be avoided entirely by opening all files using the append mode ('a').      \n",
        "▶ 講義中無此說法，且 append 模式的行為並非解決找不到檔案的萬用法。講義針對此錯誤提供的是使用 try-except 做處理。"
      ],
      "metadata": {
        "id": "U2VguKa5YNI7"
      }
    },
    {
      "cell_type": "markdown",
      "metadata": {
        "id": "IrcPN5BaXHaQ"
      },
      "source": [
        "### (8) What will be printed by the following code?"
      ]
    },
    {
      "cell_type": "markdown",
      "metadata": {
        "id": "Fp1FcJ4z9gRM"
      },
      "source": [
        "Assume the file `message.txt` contains the following text:\n",
        "\n",
        "```\n",
        "Hello, world!\n",
        "This is Python.\n",
        "\n",
        "```"
      ]
    },
    {
      "cell_type": "markdown",
      "source": [
        "```\n",
        "with open('message.txt') as file:\n",
        "    data = file.read()\n",
        "    print(\"Read result:\")\n",
        "    print(data.strip())\n",
        "\n",
        "```"
      ],
      "metadata": {
        "id": "6MjzO539Y-Hu"
      }
    },
    {
      "cell_type": "markdown",
      "source": [
        "(A)\n",
        "```\n",
        "Read result:\n",
        "Hello, world!\n",
        "This is Python.\n",
        "\n",
        "```\n",
        "(B)\n",
        "```\n",
        "Read result:\n",
        "Hello, world! This is Python.\n",
        "\n",
        "```\n",
        "(C)\n",
        "```\n",
        "Read result:\n",
        "Hello, world!\n",
        "\n",
        "```\n",
        "(D)\n",
        "Nothing is printed because the file is not closed.    "
      ],
      "metadata": {
        "id": "QdCNpfuKZHyD"
      }
    },
    {
      "cell_type": "markdown",
      "source": [
        "(A)"
      ],
      "metadata": {
        "id": "ifyDjotFZQx_"
      }
    },
    {
      "cell_type": "markdown",
      "metadata": {
        "id": "PGCTicZsXHdY"
      },
      "source": [
        "### (9) Design a Python program with exception handling that meets the following requirements:    \n",
        "\n",
        "1. Ask the user to input two integers.       \n",
        "2. Try to divide the first number by the second.       \n",
        "3. If the input is not a valid integer, print `Invalid number input`.       \n",
        "4. If the second number is zero, print `Division by zero is not allowed`.\n",
        "5. If everything is valid, print the result in the format: `Result: <value>`"
      ]
    },
    {
      "cell_type": "markdown",
      "source": [
        "**Example Input/Output:**\n",
        "\n",
        "---\n",
        "\n",
        "\n",
        "Enter the first number: 12          \n",
        "Enter the second number: 4           \n",
        "Result: 3.0       \n",
        "\n",
        "\n",
        "---\n",
        "\n",
        "Enter the first number: 10    \n",
        "Enter the second number: 0         \n",
        "Division by zero is not allowed.    \n",
        "\n"
      ],
      "metadata": {
        "id": "F7kPE7tNbzzC"
      }
    },
    {
      "cell_type": "code",
      "execution_count": null,
      "metadata": {
        "id": "wyStMp5o9gRN"
      },
      "outputs": [],
      "source": [
        "# Your code here\n",
        "try:\n",
        "    a = int(input(\"Enter the first number: \"))\n",
        "    b = int(input(\"Enter the second number: \"))\n",
        "\n",
        "    result = a / b\n",
        "except ValueError:\n",
        "    print(\"Invalid number input.\")\n",
        "except ZeroDivisionError:\n",
        "    print(\"Division by zero is not allowed.\")\n",
        "else:\n",
        "    print(f\"Result: {result}\")\n"
      ]
    },
    {
      "cell_type": "markdown",
      "metadata": {
        "id": "TA3yUv1BXHgQ"
      },
      "source": [
        "### (10) Write a Python program that repeatedly asks the user to enter a number until they provide a valid integer.\n",
        "\n",
        "\n",
        "1. Use a `while` loop to repeatedly ask for input.\n",
        "\n",
        "2. Use a `try-except` block to catch non-integer inputs.\n",
        "\n",
        "3. If the input is not a valid integer, print `Please enter a valid integer.`\n",
        "\n",
        "4. When a valid integer is entered, print `You entered: <number>` and stop the loop."
      ]
    },
    {
      "cell_type": "markdown",
      "source": [
        "**Example Input/Output:**\n",
        "\n",
        "---\n",
        "\n",
        "\n",
        "Enter a number: hello      \n",
        "Please enter a valid integer.     \n",
        "Enter a number: 3.14     \n",
        "Please enter a valid integer.      \n",
        "Enter a number: 7     \n",
        "You entered: 7     \n",
        "       \n",
        "\n",
        "\n",
        "---\n",
        "\n",
        "Enter a number: 25      \n",
        "You entered: 25     \n",
        "    \n",
        "\n"
      ],
      "metadata": {
        "id": "BeopW1x9c9rV"
      }
    },
    {
      "cell_type": "code",
      "execution_count": null,
      "metadata": {
        "id": "bgi4G2ry9gRO"
      },
      "outputs": [],
      "source": [
        "# Your code here\n",
        "while True:\n",
        "    user_input = input(\"Enter a number: \")\n",
        "    try:\n",
        "        number = int(user_input)\n",
        "        print(f\"You entered: {number}\")\n",
        "        break\n",
        "    except ValueError:\n",
        "        print(\"Please enter a valid integer.\")\n"
      ]
    }
  ],
  "metadata": {
    "colab": {
      "provenance": []
    },
    "kernelspec": {
      "display_name": "Python 3",
      "name": "python3"
    },
    "language_info": {
      "codemirror_mode": {
        "name": "ipython",
        "version": 3
      },
      "file_extension": ".py",
      "mimetype": "text/x-python",
      "name": "python",
      "nbconvert_exporter": "python",
      "pygments_lexer": "ipython3",
      "version": "3.8.3"
    }
  },
  "nbformat": 4,
  "nbformat_minor": 0
}