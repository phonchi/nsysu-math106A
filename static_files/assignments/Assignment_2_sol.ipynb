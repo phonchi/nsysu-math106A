{
  "cells": [
    {
      "cell_type": "markdown",
      "metadata": {
        "id": "5mOPnEzYk8E2"
      },
      "source": [
        "# Assignment 2"
      ]
    },
    {
      "cell_type": "markdown",
      "metadata": {
        "id": "MmJf_ST0k_JY"
      },
      "source": [
        "#### Student ID: *Double click to fill your student ID*\n",
        "#### Name: *Double click to fill your name*"
      ]
    },
    {
      "cell_type": "markdown",
      "metadata": {
        "id": "G2Td8cJDKObD"
      },
      "source": [
        "### (1) What is the difference between for and while loops in Python?"
      ]
    },
    {
      "cell_type": "markdown",
      "metadata": {
        "id": "hlt0RFk4Kn59"
      },
      "source": [
        "> Ans: *Double click to answer the question*"
      ]
    },
    {
      "cell_type": "markdown",
      "metadata": {
        "id": "zZWtS1R9Ko-J"
      },
      "source": [
        "* A for loop is used when the number of iterations is known or when iterating over a sequence (e.g., a list or a range).\n",
        "* A while loop is used when the number of iterations is unknown and runs until a condition becomes False."
      ]
    },
    {
      "cell_type": "markdown",
      "metadata": {
        "id": "6NBGDIxnLGk3"
      },
      "source": [
        "### (2) Write a Python program that asks the user to enter their name and how many movies they have watched."
      ]
    },
    {
      "cell_type": "markdown",
      "metadata": {
        "id": "6kg3dhEQLXz0"
      },
      "source": [
        "\n",
        "*   If the number is greater than zero, the program should ask \"How many hours have you spent watching movies?\"\n",
        "  *   Then, print \"Make sure to balance your time with studying!\"\n",
        "* Otherwise, print \"Great focus on your studies! Keep up the good work!\"\n",
        "\n"
      ]
    },
    {
      "cell_type": "markdown",
      "metadata": {
        "id": "yq4_D63aLxzc"
      },
      "source": [
        "Example Outputs:\n",
        "\n",
        "---\n",
        "**Input:**\n",
        "\n",
        "Enter your name:     \n",
        "Alice\n",
        "\n",
        "How many movies have you watched?   \n",
        "10\n",
        "\n",
        "How many hours have you spent watching movies?    \n",
        "25\n",
        "\n",
        "**Output:**   \n",
        "Make sure to balance your time with studying!\n",
        "\n",
        "---\n",
        "or\n",
        "\n",
        "---\n",
        "**Input:**   \n",
        "Enter your name:     \n",
        "Bob\n",
        "\n",
        "How many movies have you watched?    \n",
        "0\n",
        "\n",
        "**Output:**    \n",
        "Great focus on your studies! Keep up the good work!\n",
        "\n",
        "---"
      ]
    },
    {
      "cell_type": "code",
      "execution_count": null,
      "metadata": {
        "id": "105n6sYDMaUp"
      },
      "outputs": [],
      "source": [
        "# coding your answer here\n",
        "name = ''\n",
        "# coding your answer here\n",
        "name = input(\"Enter your name: \")\n",
        "\n",
        "movies = int(input(\"How many movies have you watched? \"))\n",
        "\n",
        "if movies > 0:\n",
        "    hours = int(input(\"How many hours have you spent watching movies? \"))\n",
        "    print(\"Make sure to balance your time with studying!\")\n",
        "else:\n",
        "    print(\"Great focus on your studies! Keep up the good work!\")\n"
      ]
    },
    {
      "cell_type": "markdown",
      "metadata": {
        "id": "rUgR5kMHk_7_"
      },
      "source": [
        "### (3) Which keyword is used to write a loop in Python?"
      ]
    },
    {
      "cell_type": "markdown",
      "metadata": {
        "id": "tt7arABpn-UT"
      },
      "source": [
        "(A) loop    \n",
        "(B) repeat    \n",
        "(C) for    \n",
        "(D) Loop"
      ]
    },
    {
      "cell_type": "markdown",
      "metadata": {
        "id": "aZ_RqsMToKAa"
      },
      "source": [
        "> Ans: *Double click to answer the question*"
      ]
    },
    {
      "cell_type": "markdown",
      "metadata": {
        "id": "--HNSlZ0oUDc"
      },
      "source": [
        "(C)"
      ]
    },
    {
      "cell_type": "markdown",
      "metadata": {
        "id": "UmiAXKLJlDT5"
      },
      "source": [
        "### (4) What is the difference between `break` and `continue` ?"
      ]
    },
    {
      "cell_type": "markdown",
      "metadata": {
        "id": "Qx97P6eefO6L"
      },
      "source": [
        "> Ans: *Double click to answer the question*"
      ]
    },
    {
      "cell_type": "markdown",
      "metadata": {
        "id": "KzlS0A4wfWaO"
      },
      "source": [
        "The break statement will move the execution outside and just after a loop. The continue statement will move the execution to the start of the loop."
      ]
    },
    {
      "cell_type": "markdown",
      "metadata": {
        "id": "vZqsi7OllF87"
      },
      "source": [
        "### (5) What will be the output of the following Python program?\n",
        "\n",
        "```\n",
        "count = 5\n",
        "\n",
        "while count > 0:\n",
        "    print(count)\n",
        "    count -= 2\n",
        "\n",
        "print(\"Loop finished!\")\n",
        "\n",
        "```"
      ]
    },
    {
      "cell_type": "markdown",
      "metadata": {
        "id": "16HdbyW3y1eT"
      },
      "source": [
        "(A)    \n",
        "```\n",
        "5     \n",
        "3  \n",
        "1  \n",
        "Loop finished!  \n",
        "```   \n",
        "(B)\n",
        "```\n",
        "5  \n",
        "4  \n",
        "3  \n",
        "2  \n",
        "1  \n",
        "Loop finished!    \n",
        "```  \n",
        "(C)\n",
        "```\n",
        "5  \n",
        "3  \n",
        "1  \n",
        "-1  \n",
        "Loop finished!   \n",
        "```    \n",
        "(D)\n",
        "```\n",
        "5  \n",
        "3  \n",
        "1  \n",
        "Loop finished!  \n",
        "-1      \n",
        "```"
      ]
    },
    {
      "cell_type": "markdown",
      "metadata": {
        "id": "Qj9sQeRLfcfv"
      },
      "source": [
        "> Ans: *Double click to answer the question*"
      ]
    },
    {
      "cell_type": "markdown",
      "metadata": {
        "id": "bJXq_rvZfaNJ"
      },
      "source": [
        "(A)"
      ]
    },
    {
      "cell_type": "markdown",
      "metadata": {
        "id": "4BEnBohdlHg-"
      },
      "source": [
        "### (6) What is the difference between range(10), range(0, 10), and range(0, 10, 1) in a for loop?"
      ]
    },
    {
      "cell_type": "markdown",
      "metadata": {
        "id": "wDizCqs3fd4R"
      },
      "source": [
        "> Ans: *Double click to answer the question*"
      ]
    },
    {
      "cell_type": "markdown",
      "metadata": {
        "id": "bb2WOONmfhLL"
      },
      "source": [
        "They all do the same thing. The range(10) call ranges from 0 up to (but not including) 10, range(0, 10) explicitly tells the loop to start at 0, and range(0, 10, 1) explicitly tells the loop to increase the variable by 1 on each iteration."
      ]
    },
    {
      "cell_type": "markdown",
      "metadata": {
        "id": "r42O-FJNlKAy"
      },
      "source": [
        "### (7)\n",
        "1. Write a Python program that prints all even numbers from 2 to 20 using a `for` loop.\n",
        "2. Then, write an equivalent program that prints the same numbers using a `while` loop."
      ]
    },
    {
      "cell_type": "code",
      "execution_count": null,
      "metadata": {
        "colab": {
          "base_uri": "https://localhost:8080/"
        },
        "id": "wUcE5koxdpAS",
        "outputId": "f1ce3088-5d72-41e0-adee-72ae57742486"
      },
      "outputs": [
        {
          "name": "stdout",
          "output_type": "stream",
          "text": [
            "2 4 6 8 10 12 14 16 18 20 2 4 6 8 10 12 14 16 18 20 "
          ]
        }
      ],
      "source": [
        "# coding your answer here\n",
        "# for\n",
        "for num in range(2, 21, 2):  # Start at 2, go up to 20, step by 2\n",
        "    print(num, end=\" \")\n",
        "\n",
        "# while\n",
        "num = 2\n",
        "while num <= 20:\n",
        "    print(num, end=\" \")\n",
        "    num += 2  # Increment by 2 to get the next even number\n"
      ]
    },
    {
      "cell_type": "markdown",
      "metadata": {
        "id": "1fokYZnwlIyU"
      },
      "source": [
        "### (8) When does the code in a `function` execute: when the `function` is defined or when the `function` is called?"
      ]
    },
    {
      "cell_type": "markdown",
      "metadata": {
        "id": "csoW2HQSfeh6"
      },
      "source": [
        "> Ans: *Double click to answer the question*"
      ]
    },
    {
      "cell_type": "markdown",
      "metadata": {
        "id": "TXXcmFMufiQZ"
      },
      "source": [
        "The code in a function executes when the function is called, not when the function is defined."
      ]
    },
    {
      "cell_type": "markdown",
      "metadata": {
        "id": "6sohweLHlLJ5"
      },
      "source": [
        "### (9) Why are functions advantageous to have in your programs?"
      ]
    },
    {
      "cell_type": "markdown",
      "metadata": {
        "id": "mH9mgsPniQ6E"
      },
      "source": [
        "> Ans: *Double click to answer the question*"
      ]
    },
    {
      "cell_type": "markdown",
      "metadata": {
        "id": "IwxoFVAEt4eg"
      },
      "source": [
        "Functions reduce the need for duplicate code. This makes programs shorter, easier to read, and easier to update."
      ]
    },
    {
      "cell_type": "markdown",
      "metadata": {
        "id": "PrFl8dpAlPCw"
      },
      "source": [
        "### (10) Write a function that prints the multiplication table for a given number using a loop.\n",
        "\n",
        "* Define a function `print_multiplication_table(n)` that prints the multiplication table of `n` from `1` to `10`.\n",
        "* The function should use a **`for ` loop** to iterate through numbers `1` to `10`.\n",
        "* Ask the user to input a number and then call the function with the user-provided value."
      ]
    },
    {
      "cell_type": "markdown",
      "metadata": {
        "id": "nAkf5DCLkfmp"
      },
      "source": [
        "sample output\n",
        "\n",
        "---\n",
        "**Input:**   \n",
        "Enter a number:   \n",
        "5     \n",
        "\n",
        "\n",
        "---\n",
        "**Output:**     \n",
        "5 x 1 = 5         \n",
        "5 x 2 = 10               \n",
        "5 x 3 = 15           \n",
        "5 x 4 = 20       \n",
        "5 x 5 = 25         \n",
        "5 x 6 = 30           \n",
        "5 x 7 = 35          \n",
        "5 x 8 = 40          \n",
        "5 x 9 = 45           \n",
        "5 x 10 = 50           \n",
        "\n",
        "\n",
        "\n",
        "---"
      ]
    },
    {
      "cell_type": "code",
      "execution_count": null,
      "metadata": {
        "colab": {
          "base_uri": "https://localhost:8080/"
        },
        "id": "XAIhZ1xDlmQV",
        "outputId": "757ff5e3-02f4-4267-d413-d7ad6ead90f4"
      },
      "outputs": [
        {
          "name": "stdout",
          "output_type": "stream",
          "text": [
            "Enter a number: 3\n",
            "3 x 1 = 3\n",
            "3 x 2 = 6\n",
            "3 x 3 = 9\n",
            "3 x 4 = 12\n",
            "3 x 5 = 15\n",
            "3 x 6 = 18\n",
            "3 x 7 = 21\n",
            "3 x 8 = 24\n",
            "3 x 9 = 27\n",
            "3 x 10 = 30\n"
          ]
        }
      ],
      "source": [
        "# coding your answer here\n",
        "def print_multiplication_table(n):\n",
        "    for i in range(1, 11):  # Loop from 1 to 10\n",
        "        print(f\"{n} x {i} = {n * i}\")\n",
        "\n",
        "# Ask user for input\n",
        "num = int(input(\"Enter a number: \"))\n",
        "\n",
        "# Call the function\n",
        "print_multiplication_table(num)"
      ]
    }
  ],
  "metadata": {
    "colab": {
      "provenance": []
    },
    "kernelspec": {
      "display_name": "Python 3",
      "name": "python3"
    },
    "language_info": {
      "name": "python"
    }
  },
  "nbformat": 4,
  "nbformat_minor": 0
}
