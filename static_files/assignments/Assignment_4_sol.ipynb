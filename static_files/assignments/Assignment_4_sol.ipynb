{
  "cells": [
    {
      "cell_type": "markdown",
      "metadata": {
        "id": "1HwWYZ_ZVdj9"
      },
      "source": [
        "# Assignment 4"
      ]
    },
    {
      "cell_type": "markdown",
      "metadata": {
        "id": "iXqDl6HwVnSY"
      },
      "source": [
        "#### Student ID: *Double click to fill your student ID*\n",
        "#### Name: *Double click to fill your name*"
      ]
    },
    {
      "cell_type": "markdown",
      "metadata": {
        "id": "6CJr3y1XVsSo"
      },
      "source": [
        "### (1) Suppose *spam* contains the list ['a', 'b', 'c', 'd']. What does `spam[int(int('2' * 2) // 11)]` evaluate to?"
      ]
    },
    {
      "cell_type": "markdown",
      "metadata": {
        "id": "Z9rkExU6WHbg"
      },
      "source": [
        "(A) 'a'   \n",
        "(B) 'b'   \n",
        "(C) 'c'   \n",
        "(D) 'd'"
      ]
    },
    {
      "cell_type": "markdown",
      "metadata": {
        "id": "2piyAB4AV_ms"
      },
      "source": [
        "> Ans: *Double click to answer the question*"
      ]
    },
    {
      "cell_type": "markdown",
      "metadata": {
        "id": "JwYYA7J7WkwD"
      },
      "source": [
        "(C)"
      ]
    },
    {
      "cell_type": "markdown",
      "metadata": {
        "id": "N9G3ZewmVvF1"
      },
      "source": [
        "### (2) Suppose bacon contains the list [2.71, 'Alice', 25, 'Bob', False]. What does bacon.append(200) do to the list value in bacon?"
      ]
    },
    {
      "cell_type": "markdown",
      "metadata": {
        "id": "aL7fOXAPWLYd"
      },
      "source": [
        "(A) [200, 2.71, 'Alice', 25, 'Bob', False]    \n",
        "(B) [2.71, 'Alice', 25, 'Bob', False]     \n",
        "(C) [2.71, 'Alice', 25, 'Bob', False, 200]      \n",
        "(D) None of the above"
      ]
    },
    {
      "cell_type": "markdown",
      "metadata": {
        "id": "mRasN4o_WBrO"
      },
      "source": [
        "> Ans: *Double click to answer the question*"
      ]
    },
    {
      "cell_type": "markdown",
      "metadata": {
        "id": "GDjtkEr6XNJQ"
      },
      "source": [
        "(C)"
      ]
    },
    {
      "cell_type": "markdown",
      "metadata": {
        "id": "ORZFOZOsVvLc"
      },
      "source": [
        "### (3) How would you assign the value 'world' as the third value in a list stored in a variable named devices?"
      ]
    },
    {
      "cell_type": "markdown",
      "metadata": {
        "id": "xV1pahqLWLpV"
      },
      "source": [
        "(A) devices[3] <- 'world'    \n",
        "(B) devices[3] == 'world'         \n",
        "(C) devices[2] = 'world'          \n",
        "(D) devices[2] == 'world'         "
      ]
    },
    {
      "cell_type": "markdown",
      "metadata": {
        "id": "fiiAGODjWCDV"
      },
      "source": [
        "> Ans: *Double click to answer the question*"
      ]
    },
    {
      "cell_type": "markdown",
      "metadata": {
        "id": "SQQ9FH8eX5HR"
      },
      "source": [
        "(C)"
      ]
    },
    {
      "cell_type": "markdown",
      "metadata": {
        "id": "6mNHsscFVvPt"
      },
      "source": [
        "### (4) What is ()?"
      ]
    },
    {
      "cell_type": "markdown",
      "metadata": {
        "id": "XckQY3xYWL3U"
      },
      "source": [
        "(A) dictionary   \n",
        "(B) tuple   \n",
        "(C) list   \n",
        "(D) dataframe"
      ]
    },
    {
      "cell_type": "markdown",
      "metadata": {
        "id": "XjYAvzfXWCOm"
      },
      "source": [
        "> Ans: *Double click to answer the question*"
      ]
    },
    {
      "cell_type": "markdown",
      "metadata": {
        "id": "yJ6RY9ceZQnq"
      },
      "source": [
        "(B)"
      ]
    },
    {
      "cell_type": "markdown",
      "metadata": {
        "id": "5jEgJxAgVvTM"
      },
      "source": [
        "### (5) What are the operators for list concatenation and list replication?"
      ]
    },
    {
      "cell_type": "markdown",
      "metadata": {
        "id": "JLZDukBgWMIl"
      },
      "source": [
        "(A) -, /    \n",
        "(B) +, **    \n",
        "(C) +, *   \n",
        "(D) -, //   "
      ]
    },
    {
      "cell_type": "markdown",
      "metadata": {
        "id": "S9iusG6nWCZW"
      },
      "source": [
        "> Ans: *Double click to answer the question*"
      ]
    },
    {
      "cell_type": "markdown",
      "metadata": {
        "id": "YBXNyk35Zo7p"
      },
      "source": [
        "(C)"
      ]
    },
    {
      "cell_type": "markdown",
      "metadata": {
        "id": "vzsPJM2VVvWf"
      },
      "source": [
        "### (6) What are two ways to remove values from a list?"
      ]
    },
    {
      "cell_type": "markdown",
      "metadata": {
        "id": "uzWM0LYCWCtN"
      },
      "source": [
        "> Ans: *Double click to answer the question*"
      ]
    },
    {
      "cell_type": "markdown",
      "metadata": {
        "id": "2PMFCvXZaEmk"
      },
      "source": [
        "The `del` statement and the `remove()` list method are two ways to remove values from a list."
      ]
    },
    {
      "cell_type": "markdown",
      "metadata": {
        "id": "8so6-SrnVvZs"
      },
      "source": [
        "### (7) What is the difference between lists and tuples?"
      ]
    },
    {
      "cell_type": "markdown",
      "metadata": {
        "id": "F7g5GJojWC3t"
      },
      "source": [
        "> Ans: *Double click to answer the question*"
      ]
    },
    {
      "cell_type": "markdown",
      "metadata": {
        "id": "dx_FHvpWc6Zi"
      },
      "source": [
        "Lists are mutable; they can have values added, removed, or changed. Tuples are immutable; they cannot be changed at all. Also, tuples are written using parentheses, `( )`, while lists use the square brackets, `[ ]`.\n"
      ]
    },
    {
      "cell_type": "markdown",
      "metadata": {
        "id": "tbr4YKdNVvc1"
      },
      "source": [
        "### (8) How can you get the tuple form of a list value? How can you get the list form of a tuple value?"
      ]
    },
    {
      "cell_type": "markdown",
      "metadata": {
        "id": "8e2DD_E3WDC8"
      },
      "source": [
        "> Ans: *Double click to answer the question*"
      ]
    },
    {
      "cell_type": "markdown",
      "metadata": {
        "id": "NeGEZluxefmY"
      },
      "source": [
        "The tuple() and list() functions, respectively"
      ]
    },
    {
      "cell_type": "markdown",
      "metadata": {
        "id": "WVoft9o1V6YO"
      },
      "source": [
        "### (9) Write a function that takes a list value as an argument and returns a string with all the items separated by a comma and a space, with and inserted before the last item."
      ]
    },
    {
      "cell_type": "markdown",
      "source": [
        "**Sample Output:**     \n",
        "If you enter the list `['Physics', 'biology', 'chemistry']` , you should get `Physics, biology, and chemistry`."
      ],
      "metadata": {
        "id": "JSprUa7iW2oF"
      }
    },
    {
      "cell_type": "code",
      "execution_count": null,
      "metadata": {
        "id": "WGdKqIiCg2SM",
        "colab": {
          "base_uri": "https://localhost:8080/"
        },
        "outputId": "4d312bb1-ff0f-4b9f-f83c-f6880f535772"
      },
      "outputs": [
        {
          "output_type": "stream",
          "name": "stdout",
          "text": [
            "Physics, biology, and chemistry\n"
          ]
        }
      ],
      "source": [
        "def list_to_string(spam):\n",
        "    \"\"\"\n",
        "    Parameters\n",
        "    ----------\n",
        "    spam: list\n",
        "        The input list.\n",
        "    Returns\n",
        "    -------\n",
        "    string: str\n",
        "        The output string.\n",
        "    \"\"\"\n",
        "    # coding your answer here\n",
        "    string = \"\"\n",
        "    for i in range(len(spam)):\n",
        "        if i != len(spam) - 1:\n",
        "            string = string + spam[i] + \", \"\n",
        "        else:\n",
        "            string = string + \"and \" + spam[i]\n",
        "    return(string)\n",
        "\n",
        "print(list_to_string(['Physics', 'biology', 'chemistry']))\n",
        "\n"
      ]
    },
    {
      "cell_type": "markdown",
      "metadata": {
        "id": "7zoBsG7YV6bs"
      },
      "source": [
        "### (10) Say you have a list of lists, `grid`, where each value in the inner lists is a one-character string. Copy the grid value and write code that uses it to print the image."
      ]
    },
    {
      "cell_type": "code",
      "source": [
        "grid = [['.', '.', '.', '.', '.', '.'],\n",
        "        ['.', 'O', 'O', '.', '.', '.'],\n",
        "        ['O', 'O', 'O', 'O', '.', '.'],\n",
        "        ['O', 'O', 'O', 'O', 'O', '.'],\n",
        "        ['.', 'O', 'O', 'O', 'O', 'O'],\n",
        "        ['O', 'O', 'O', 'O', 'O', '.'],\n",
        "        ['O', 'O', 'O', 'O', '.', '.'],\n",
        "        ['.', 'O', 'O', '.', '.', '.'],\n",
        "        ['.', '.', '.', '.', '.', '.']]"
      ],
      "metadata": {
        "id": "y6LMqrX8X5Ja"
      },
      "execution_count": null,
      "outputs": []
    },
    {
      "cell_type": "markdown",
      "source": [
        "**sample output**\n",
        "\n",
        "---\n",
        ". . 00 . 00 . .   \n",
        ". 0000000 .   \n",
        ". 0000000 .   \n",
        ". . 00000 . .   \n",
        ". . . 000 . . .   \n",
        ". . . . 0 . . . .\n",
        "\n",
        "---"
      ],
      "metadata": {
        "id": "96e6kCTGYxqL"
      }
    },
    {
      "cell_type": "code",
      "execution_count": null,
      "metadata": {
        "id": "tXRvm8y1VZCU",
        "colab": {
          "base_uri": "https://localhost:8080/"
        },
        "outputId": "6802c175-eaad-434c-a2b9-40390dd0080a"
      },
      "outputs": [
        {
          "output_type": "stream",
          "name": "stdout",
          "text": [
            "..OO.OO..\n",
            ".OOOOOOO.\n",
            ".OOOOOOO.\n",
            "..OOOOO..\n",
            "...OOO...\n",
            "....O....\n"
          ]
        }
      ],
      "source": [
        "# coding your answer here\n",
        "for i in range(len(grid[0])):\n",
        "    string = \"\"\n",
        "    for j in range(len(grid)):\n",
        "        string = string + grid[j][i]\n",
        "    print(string)"
      ]
    }
  ],
  "metadata": {
    "colab": {
      "provenance": [],
      "toc_visible": true
    },
    "kernelspec": {
      "display_name": "Python 3",
      "name": "python3"
    },
    "language_info": {
      "codemirror_mode": {
        "name": "ipython",
        "version": 3
      },
      "file_extension": ".py",
      "mimetype": "text/x-python",
      "name": "python",
      "nbconvert_exporter": "python",
      "pygments_lexer": "ipython3",
      "version": "3.9.13"
    }
  },
  "nbformat": 4,
  "nbformat_minor": 0
}