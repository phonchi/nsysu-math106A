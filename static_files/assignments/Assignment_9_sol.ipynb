{
  "cells": [
    {
      "cell_type": "markdown",
      "metadata": {
        "id": "QvapVWPoW88y"
      },
      "source": [
        "# Assignment 9"
      ]
    },
    {
      "cell_type": "markdown",
      "metadata": {
        "id": "q4tb-aRZW-kD"
      },
      "source": [
        "#### Student ID: *Double click to fill your student ID*\n",
        "#### Name: *Double click to fill your name*"
      ]
    },
    {
      "cell_type": "markdown",
      "metadata": {
        "id": "MoBegbe5WB7I"
      },
      "source": [
        "### (1) Which of the following statement is False?"
      ]
    },
    {
      "cell_type": "markdown",
      "metadata": {
        "id": "PduuEAnTXUKA"
      },
      "source": [
        "(A) The `np.array()` function creates a NumPy array from a Python list, and the array’s data type and shape are inferred automatically.       \n",
        "\n",
        "(B) The expression `np.arange(5, 10, 0.5)` reliably produces an array of floating-point numbers between 5 and 10.      \n",
        "\n",
        "(C) The `np.zeros(5)` function returns a 1D array of five elements, each being the float `0.0`.      \n",
        "\n",
        "(D) The `reshape()` method requires that the total number of elements remains unchanged, so `np.arange(20).reshape(4, 5)` is a valid operation."
      ]
    },
    {
      "cell_type": "markdown",
      "metadata": {
        "id": "TrKhIKL9Xide"
      },
      "source": [
        "> Ans: *Double click to answer the question*"
      ]
    },
    {
      "cell_type": "markdown",
      "metadata": {
        "id": "naKOqbBVdBUX"
      },
      "source": [
        "(B)\n",
        "`np.arange()` with float steps may produce unexpected results due to floating-point rounding errors. The lecture recommends `np.linspace()` instead for evenly spaced floating-point sequences."
      ]
    },
    {
      "cell_type": "markdown",
      "metadata": {
        "id": "z-rQC77mXHJ3"
      },
      "source": [
        "### (2) Which of the following statement is False?"
      ]
    },
    {
      "cell_type": "markdown",
      "metadata": {
        "id": "VMJaaLylXaWm"
      },
      "source": [
        "(A) Using slice notation like `array[:, 0]` selects the first column of a 2D NumPy array.     \n",
        "\n",
        "(B) You can use the `reshape()` method to flatten a 2D array into 1D and then access specific columns.\n",
        "\n",
        "(C) Fancy indexing like `array[:, [2, 5]]` can be used to select multiple non-consecutive columns.\n",
        "\n",
        "(D) The expression `array[1]` will access the second row in a 2D NumPy array."
      ]
    },
    {
      "cell_type": "markdown",
      "metadata": {
        "id": "k9XhRjISWB7M"
      },
      "source": [
        "> Ans: *Double click to answer the question*"
      ]
    },
    {
      "cell_type": "markdown",
      "metadata": {
        "id": "l6WWVlu1WB7N"
      },
      "source": [
        "(B) is False. Once an array is flattened or reshaped into 1D, column indexing like `[:, i]` no longer applies because there's only one dimension.\n"
      ]
    },
    {
      "cell_type": "markdown",
      "metadata": {
        "id": "Iq8z17BcXHDg"
      },
      "source": [
        "### (3) Which of the following statements is FALSE ?"
      ]
    },
    {
      "cell_type": "markdown",
      "metadata": {
        "id": "rTOd8x9RXaKA"
      },
      "source": [
        "(A) By default, NumPy aggregation functions such as `mean()` and `sum()` operate over the entire array, ignoring its shape.\n",
        "\n",
        "(B) Using `axis=1` in the `mean()` function will calculate the mean of each column in a 2D array.\n",
        "\n",
        "(C) The `max(axis=0)` method returns the maximum value of each column in a 2D array.\n",
        "\n",
        "(D) The `argmax(axis=0)` function returns the row indices of the maximum values in each column."
      ]
    },
    {
      "cell_type": "markdown",
      "metadata": {
        "id": "EKZxDSCTXkUO"
      },
      "source": [
        "> Ans: *Double click to answer the question*"
      ]
    },
    {
      "cell_type": "markdown",
      "metadata": {
        "id": "-KmhRhP8WB7O"
      },
      "source": [
        "(B)\n",
        "Using `axis=1` computes the row-wise operations (i.e., across columns), not column-wise. For column-wise operations, `axis=0` should be used."
      ]
    },
    {
      "cell_type": "markdown",
      "metadata": {
        "id": "CChNWPJqXHNh"
      },
      "source": [
        "### (4) Which of the following operations will return a broadcasted result immediately (not an unevaluated object or error)?"
      ]
    },
    {
      "cell_type": "markdown",
      "metadata": {
        "id": "LvHS07YnXahe"
      },
      "source": [
        "(A) Adding two arrays with shapes `(3, 2)` and `(3,)`.\n",
        "\n",
        "(B) Adding two arrays with shapes `(4, 1)` and `(3,)`.  \n",
        "\n",
        "(C) `numbers2 * 5`, where `numbers2 = np.linspace(1.1, 6.6, 6)`    \n",
        "\n",
        "(D) `M + a`, where `M = np.ones((3, 3))` and `a = np.array([0, 1, 2])`"
      ]
    },
    {
      "cell_type": "markdown",
      "metadata": {
        "id": "bJdSKGddXkwh"
      },
      "source": [
        "> Ans: *Double click to answer the question*"
      ]
    },
    {
      "cell_type": "markdown",
      "metadata": {
        "id": "7slaMa2eWB7P"
      },
      "source": [
        "送分"
      ]
    },
    {
      "cell_type": "markdown",
      "metadata": {
        "id": "Ywou1Fw1XHQr"
      },
      "source": [
        "### (5) Which of the following statement is False?"
      ]
    },
    {
      "cell_type": "markdown",
      "metadata": {
        "id": "BrbTfJdLXasZ"
      },
      "source": [
        "(A) `np.vectorize()` is used to convert a scalar function into one that can be applied to arrays element-wise.\n",
        "\n",
        "(B) `np.multiply()` applies element-wise multiplication between two arrays and returns a new array.\n",
        "\n",
        "(C) `np.sin()` computes the sine of an array and returns the total sum of all sine values as a scalar.    \n",
        "\n",
        "(D) `np.prod()` returns the floating-point product of all elements in an array."
      ]
    },
    {
      "cell_type": "markdown",
      "metadata": {
        "id": "qP_c_-W9Xk9a"
      },
      "source": [
        "> Ans: *Double click to answer the question*"
      ]
    },
    {
      "cell_type": "markdown",
      "metadata": {
        "id": "lKGGyjW3mvI6"
      },
      "source": [
        "(C) is False.\n",
        "`np.sin()` returns an array of sine values, not a single summed result.\n",
        "\n"
      ]
    },
    {
      "cell_type": "markdown",
      "metadata": {
        "id": "6wxdsDFBXHUL"
      },
      "source": [
        "### (6) Which of the following NumPy methods can be used to explicitly cast a NumPy array to a different data type?"
      ]
    },
    {
      "cell_type": "markdown",
      "metadata": {
        "id": "MyDE5OG8qLHR"
      },
      "source": [
        "(A) `np.astype()`\n",
        "\n",
        "(B) `np.prod()`      \n",
        "\n",
        "(C) `np.sin()`     \n",
        "\n",
        "(D) `np.vectorize()`"
      ]
    },
    {
      "cell_type": "markdown",
      "metadata": {
        "id": "ZmRDQS_YqNcI"
      },
      "source": [
        "> Ans: *Double click to answer the question*"
      ]
    },
    {
      "cell_type": "markdown",
      "metadata": {
        "id": "UJV50g5nqNcJ"
      },
      "source": [
        "(A)\n",
        "`np.astype()` is the correct NumPy method for type casting. It creates a new array with the specified data type, leaving the original unchanged.\n",
        "\n"
      ]
    },
    {
      "cell_type": "markdown",
      "metadata": {
        "id": "4tLsXnTVXHX8"
      },
      "source": [
        "### (7) Which of the following statements about NumPy universal functions (ufuncs) is TRUE?"
      ]
    },
    {
      "cell_type": "markdown",
      "metadata": {
        "id": "Im9DLppVqt-F"
      },
      "source": [
        "(A) Universal functions in NumPy only work with 1D arrays and will raise an error if applied to 2D arrays.\n",
        "\n",
        "(B) The expression `np.add(a, b)` is functionally equivalent to the operator `a + b` when `a` and `b` are NumPy arrays.    \n",
        "\n",
        "(C) `np.vectorize()` is faster than universal functions because it uses C-level optimizations internally.    \n",
        "\n",
        "(D) You must use a loop to apply trigonometric functions like `sin()` to every element in a NumPy array."
      ]
    },
    {
      "cell_type": "markdown",
      "metadata": {
        "id": "QVlg3HJuqt-F"
      },
      "source": [
        "> Ans: *Double click to answer the question*"
      ]
    },
    {
      "cell_type": "markdown",
      "metadata": {
        "id": "Z6jdHeQLqt-G"
      },
      "source": [
        "ANS: (B)\n",
        "\n",
        "(A) ❌\n",
        "NumPy ufuncs work with arrays of any shape, including 2D arrays, and do not raise errors for non-1D inputs.\n",
        "\n",
        "(C) ❌\n",
        "`np.vectorize()` is for code readability, not speed—it does not offer the performance benefits of true ufuncs.\n",
        "\n",
        "(D) ❌\n",
        "Functions like `np.sin()` apply automatically to each element in an array without needing a loop.\n",
        "\n",
        "\n"
      ]
    },
    {
      "cell_type": "markdown",
      "metadata": {
        "id": "IrcPN5BaXHaQ"
      },
      "source": [
        "### (8) Compare the performance between `for` loop and `NumPy` vectorization in approximating \\$\\frac{\\pi}{4}\\$ using the Leibniz formula:**\n",
        "\n",
        "$$\n",
        "\\frac{\\pi}{4} \\approx \\sum_{i=0}^{n} \\frac{(-1)^i}{2i + 1}\n",
        "$$\n",
        "\n",
        "1. Implement two functions to compute this approximation:\n",
        "\n",
        "   * `leibniz_loop(n)`: uses a `for` loop.\n",
        "   * `leibniz_vec(n)`: uses NumPy vectorized operations only (no explicit loops).\n",
        "\n",
        "2. Use `np.arange`, broadcasting, and element-wise operations in the vectorized version.\n",
        "\n",
        "3. Verify that both results are close to each other and to `np.pi / 4` using `np.allclose`.\n",
        "\n",
        "4. Use `%%timeit` to compare the performance of both methods and **report the speedup**.\n",
        "\n"
      ]
    },
    {
      "cell_type": "code",
      "execution_count": 1,
      "metadata": {
        "id": "wIiDrZDDWB7V"
      },
      "outputs": [],
      "source": [
        "import numpy as np\n",
        "\n",
        "def leibniz_loop(n=1_000_000):\n",
        "    result = 0.0\n",
        "    for i in range(n):\n",
        "        result += (-1)**i / (2*i + 1)\n",
        "    return result\n",
        "\n",
        "# Your code here\n",
        "def leibniz_vec(n=1_000_000):\n",
        "    i = np.arange(n)\n",
        "    terms = (-1)**i / (2*i + 1)\n",
        "    return np.sum(terms)\n"
      ]
    },
    {
      "cell_type": "code",
      "source": [
        "approx = leibniz_vec()\n",
        "true_val = np.pi / 4\n",
        "print(f\"Approximation        : {approx:.12f}\")\n",
        "print(f\"π/4                  : {true_val:.12f}\")\n",
        "print(f\"Absolute Error       : {abs(approx - true_val):.6e}\")\n",
        "assert np.allclose(approx, leibniz_loop()), \"Results do not match!\"\n"
      ],
      "metadata": {
        "colab": {
          "base_uri": "https://localhost:8080/"
        },
        "id": "Oolc5AYcjTUl",
        "outputId": "50890a75-5ae2-4d21-984e-cd1d1e072015"
      },
      "execution_count": 2,
      "outputs": [
        {
          "output_type": "stream",
          "name": "stdout",
          "text": [
            "Approximation        : 0.785397913397\n",
            "π/4                  : 0.785398163397\n",
            "Absolute Error       : 2.500000e-07\n"
          ]
        }
      ]
    },
    {
      "cell_type": "code",
      "source": [
        "%%timeit -o\n",
        "leibniz_loop()"
      ],
      "metadata": {
        "colab": {
          "base_uri": "https://localhost:8080/"
        },
        "id": "HXY4hj2_hAdp",
        "outputId": "9ca53021-9061-4dd3-e66e-d39a53861455"
      },
      "execution_count": 3,
      "outputs": [
        {
          "output_type": "stream",
          "name": "stdout",
          "text": [
            "1.1 s ± 299 ms per loop (mean ± std. dev. of 7 runs, 1 loop each)\n"
          ]
        },
        {
          "output_type": "execute_result",
          "data": {
            "text/plain": [
              "<TimeitResult : 1.1 s ± 299 ms per loop (mean ± std. dev. of 7 runs, 1 loop each)>"
            ]
          },
          "metadata": {},
          "execution_count": 3
        }
      ]
    },
    {
      "cell_type": "code",
      "source": [
        "%%timeit -o\n",
        "leibniz_vec()"
      ],
      "metadata": {
        "colab": {
          "base_uri": "https://localhost:8080/"
        },
        "id": "emriIST_hMKK",
        "outputId": "88988859-9a25-4333-e50c-4270bd55323d"
      },
      "execution_count": 4,
      "outputs": [
        {
          "output_type": "stream",
          "name": "stdout",
          "text": [
            "222 ms ± 29.2 ms per loop (mean ± std. dev. of 7 runs, 1 loop each)\n"
          ]
        },
        {
          "output_type": "execute_result",
          "data": {
            "text/plain": [
              "<TimeitResult : 222 ms ± 29.2 ms per loop (mean ± std. dev. of 7 runs, 1 loop each)>"
            ]
          },
          "metadata": {},
          "execution_count": 4
        }
      ]
    },
    {
      "cell_type": "markdown",
      "metadata": {
        "id": "PGCTicZsXHdY"
      },
      "source": [
        "### (9) Estimate the integral of $f(x) = \\sin(x)$ from $x = 0$ to $x = \\pi$ using a left-endpoint Riemann sum.\n",
        "\n",
        "A Riemann sum is an approximation of a definite integral, computed using:\n",
        "\n",
        "$$\n",
        "\\int_a^b f(x) \\, dx \\approx \\sum_{i=1}^{N} f(x_i^{'}) (x_i - x_{i-1}) \\ , \\ \\text{where } x_i^{'} \\in [x_{i-1}, x_i]\n",
        "$$\n",
        "\n",
        "In this exercise, use **NumPy vectorization** to estimate the value of:\n",
        "\n",
        "$$\n",
        "\\int_0^{\\pi} \\sin(x) \\, dx\n",
        "$$\n",
        "\n",
        "using 1,000 equally spaced left-endpoints.\n",
        "\n",
        "---\n",
        "\n",
        "**Tasks:**\n",
        "\n",
        "1. Define the function $f(x) = \\sin(x)$\n",
        "2. Use `np.linspace` to generate `n` evenly spaced points from $a = 0$ to $b = \\pi$\n",
        "3. Approximate the integral using the left-endpoint rule\n",
        "4. Compare your result to the exact value $\\int_0^{\\pi} \\sin(x) dx = 2$\n"
      ]
    },
    {
      "cell_type": "code",
      "execution_count": 5,
      "metadata": {
        "id": "uHaGDqZcWB7W"
      },
      "outputs": [],
      "source": [
        "import numpy as np\n",
        "\n",
        "# You code here\n",
        "# 1. Define the function\n",
        "def f(x):\n",
        "    return np.sin(x)\n",
        "\n",
        "# 2. Set integration limits\n",
        "a, b = 0, np.pi\n",
        "n = 1000\n",
        "x = np.linspace(a, b, n)\n",
        "dx = (b - a) / n\n",
        "\n",
        "# 3. Compute function values at left endpoints\n",
        "y = f(x[:-1])  # exclude the last point\n"
      ]
    },
    {
      "cell_type": "code",
      "source": [
        "# 4. Compute Riemann sum\n",
        "riemann_sum = np.sum(y * dx)\n",
        "print(f\"Estimated integral (left Riemann sum, n={n}): {riemann_sum:.8f}\")\n",
        "\n",
        "# Exact value\n",
        "print(f\"Exact integral: {2.0:.8f}\")"
      ],
      "metadata": {
        "colab": {
          "base_uri": "https://localhost:8080/"
        },
        "id": "Me-_lOcWnD94",
        "outputId": "0b7cac32-99d4-40ac-c3e5-4ab043bc6d08"
      },
      "execution_count": 6,
      "outputs": [
        {
          "output_type": "stream",
          "name": "stdout",
          "text": [
            "Estimated integral (left Riemann sum, n=1000): 1.99799835\n",
            "Exact integral: 2.00000000\n"
          ]
        }
      ]
    },
    {
      "cell_type": "markdown",
      "metadata": {
        "id": "TA3yUv1BXHgQ"
      },
      "source": [
        "### (10) **Evaluate Employee Sales Performance**\n",
        "\n",
        "---\n",
        "\n",
        "Suppose we are analyzing the monthly sales data of 5 employees across 6 months. The table below shows the sales amount (in thousands of dollars) per month\n",
        "\n",
        "<div align=\"center\">\n",
        "\n",
        "| Name    | Jan | Feb | Mar | Apr | May | Jun |\n",
        "| ------- | --- | --- | --- | --- | --- | --- |\n",
        "| Alice   | 30  | 35  | 28  | 40  | 38  | 42  |\n",
        "| Bob     | 25  | 30  | 35  | 33  | 36  | 34  |\n",
        "| Charlie | 20  | 25  | 30  | 28  | 26  | 29  |\n",
        "| David   | 15  | 18  | 22  | 24  | 23  | 25  |\n",
        "| Eve     | 10  | 12  | 15  | 14  | 13  | 16  |\n",
        "\n",
        "</div>\n",
        "\n",
        "We want to calculate each employee’s **weighted sales score**, giving **more importance to recent months**:\n",
        "\n",
        "1. Use the following weights:\n",
        "\n",
        "   * Jan–Mar: 10% total (i.e., 0.0333 each)\n",
        "   * Apr–Jun: 90% total (i.e., 0.30 each)\n",
        "\n",
        "2. After computing the weighted score, we want to **normalize the scores** by subtracting the **minimum score**, so the lowest becomes 0.\n",
        "\n",
        "3. Finally, we scale all scores so that the **highest score becomes 100** (i.e., use linear scaling).\n",
        "\n",
        "Use NumPy operations, slicing, and broadcasting to complete this task efficiently."
      ]
    },
    {
      "cell_type": "code",
      "execution_count": 7,
      "metadata": {
        "id": "iFDscPwXWB7W",
        "outputId": "be1a46dd-de3a-4516-bd79-f5d7017df53e",
        "colab": {
          "base_uri": "https://localhost:8080/"
        }
      },
      "outputs": [
        {
          "output_type": "stream",
          "name": "stdout",
          "text": [
            "Final performance scores:\n",
            "[100.          79.17107287  53.13641607  37.25004807   0.        ]\n"
          ]
        }
      ],
      "source": [
        "import numpy as np\n",
        "\n",
        "# Monthly sales data (in thousands)\n",
        "sales = np.array([[30, 35, 28, 40, 38, 42],\n",
        "          [25, 30, 35, 33, 36, 34],\n",
        "          [20, 25, 30, 28, 26, 29],\n",
        "          [15, 18, 22, 24, 23, 25],\n",
        "          [10, 12, 15, 14, 13, 16]])\n",
        "\n",
        "# You code here\n",
        "# Weights for each month: Jan–Mar (0.0333), Apr–Jun (0.3)\n",
        "weights = np.array([0.0333, 0.0333, 0.0333, 0.3, 0.3, 0.3])\n",
        "\n",
        "# Step 1: Compute weighted scores\n",
        "raw_scores = np.sum(sales * weights, axis=1)\n",
        "\n",
        "# Step 2: Normalize so min = 0\n",
        "normalized = raw_scores - np.min(raw_scores)\n",
        "\n",
        "# Step 3: Scale so max = 100\n",
        "scaled_scores = 100 * normalized / np.max(normalized)\n",
        "\n",
        "print(\"Final performance scores:\")\n",
        "print(scaled_scores)\n"
      ]
    }
  ],
  "metadata": {
    "colab": {
      "provenance": []
    },
    "kernelspec": {
      "display_name": "Python 3",
      "name": "python3"
    },
    "language_info": {
      "codemirror_mode": {
        "name": "ipython",
        "version": 3
      },
      "file_extension": ".py",
      "mimetype": "text/x-python",
      "name": "python",
      "nbconvert_exporter": "python",
      "pygments_lexer": "ipython3",
      "version": "3.8.3"
    }
  },
  "nbformat": 4,
  "nbformat_minor": 0
}