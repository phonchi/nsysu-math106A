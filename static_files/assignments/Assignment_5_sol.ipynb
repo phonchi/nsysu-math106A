{
  "nbformat": 4,
  "nbformat_minor": 0,
  "metadata": {
    "colab": {
      "provenance": [],
      "toc_visible": true
    },
    "kernelspec": {
      "name": "python3",
      "display_name": "Python 3"
    },
    "language_info": {
      "name": "python"
    }
  },
  "cells": [
    {
      "cell_type": "markdown",
      "source": [
        "# Assignment 5"
      ],
      "metadata": {
        "id": "QvapVWPoW88y"
      }
    },
    {
      "cell_type": "markdown",
      "source": [
        "#### Student ID: *Double click to fill your student ID*\n",
        "#### Name: *Double click to fill your name*"
      ],
      "metadata": {
        "id": "q4tb-aRZW-kD"
      }
    },
    {
      "cell_type": "markdown",
      "source": [
        "### (1) What do the `\\n` and `\\t` escape characters represent?"
      ],
      "metadata": {
        "id": "c6qCDhJwXCjZ"
      }
    },
    {
      "cell_type": "markdown",
      "source": [
        "(A) newline, tab   \n",
        "(B) space, tab   \n",
        "(C) newline, backslash   \n",
        "(D) backslash, space"
      ],
      "metadata": {
        "id": "PduuEAnTXUKA"
      }
    },
    {
      "cell_type": "markdown",
      "source": [
        "> Ans: *Double click to answer the question*"
      ],
      "metadata": {
        "id": "TrKhIKL9Xide"
      }
    },
    {
      "cell_type": "markdown",
      "source": [
        "(A)"
      ],
      "metadata": {
        "id": "naKOqbBVdBUX"
      }
    },
    {
      "cell_type": "markdown",
      "source": [
        "### (2) What do the following expressions evaluate to?\n",
        " `'Programming is fun!'[5]` ,\n",
        " `'Programming is fun!'[5:]` ,and\n",
        " `'Programming is fun!'[:11]`\n"
      ],
      "metadata": {
        "id": "Iq8z17BcXHDg"
      }
    },
    {
      "cell_type": "markdown",
      "source": [
        "(A) 'a', 'amming is fun!', and 'Programming'          \n",
        "(B) 'g', 'gramming is fun!', and 'Programmin'             \n",
        "(C) 'a', 'amming is fun!', and 'Programmin'                \n",
        "(D) 'g', 'gramming is fun!', and 'Programming'           \n",
        "\n"
      ],
      "metadata": {
        "id": "rTOd8x9RXaKA"
      }
    },
    {
      "cell_type": "markdown",
      "source": [
        "> Ans: *Double click to answer the question*"
      ],
      "metadata": {
        "id": "EKZxDSCTXkUO"
      }
    },
    {
      "cell_type": "markdown",
      "source": [
        "(A)"
      ],
      "metadata": {
        "id": "axHMpFYTeSlO"
      }
    },
    {
      "cell_type": "markdown",
      "source": [
        "### (3)  Which of the following string methods are used for joining elements of a sequence and splitting a string into a list?"
      ],
      "metadata": {
        "id": "z-rQC77mXHJ3"
      }
    },
    {
      "cell_type": "markdown",
      "source": [
        "(A) `upper()` and `lower()`    \n",
        "(B) `startswith()` and `endswith()`      \n",
        "(C) `join()` and `split()`      \n",
        "(D) `replace()`      "
      ],
      "metadata": {
        "id": "VMJaaLylXaWm"
      }
    },
    {
      "cell_type": "markdown",
      "source": [
        "> Ans: *Double click to answer the question*"
      ],
      "metadata": {
        "id": "DlJmR2nBXkjK"
      }
    },
    {
      "cell_type": "markdown",
      "source": [
        "(C)"
      ],
      "metadata": {
        "id": "tudkcGaqhBfV"
      }
    },
    {
      "cell_type": "markdown",
      "source": [
        "### (4) What does `'-'.join('Only one remains.'.split())` evaluate to?"
      ],
      "metadata": {
        "id": "CChNWPJqXHNh"
      }
    },
    {
      "cell_type": "markdown",
      "source": [
        "(A) 'Only one remains.'    \n",
        "(B) 'Only-one-remains.'     \n",
        "(C) 'Only one-remains.'     \n",
        "(D) 'Only-one remains.'      "
      ],
      "metadata": {
        "id": "LvHS07YnXahe"
      }
    },
    {
      "cell_type": "markdown",
      "source": [
        "> Ans: *Double click to answer the question*"
      ],
      "metadata": {
        "id": "bJdSKGddXkwh"
      }
    },
    {
      "cell_type": "markdown",
      "source": [
        "(B)"
      ],
      "metadata": {
        "id": "zwpIo6lyhy6c"
      }
    },
    {
      "cell_type": "markdown",
      "source": [
        "### (5) Which method can be used to verify that a string consists entirely of decimal digits?"
      ],
      "metadata": {
        "id": "Ywou1Fw1XHQr"
      }
    },
    {
      "cell_type": "markdown",
      "source": [
        "(A) isnumber()    \n",
        "(B) isnumeric()     \n",
        "(C) isdigit()      \n",
        "(D) isdecimal()      "
      ],
      "metadata": {
        "id": "BrbTfJdLXasZ"
      }
    },
    {
      "cell_type": "markdown",
      "source": [
        "> Ans: *Double click to answer the question*"
      ],
      "metadata": {
        "id": "qP_c_-W9Xk9a"
      }
    },
    {
      "cell_type": "markdown",
      "source": [
        "(D)"
      ],
      "metadata": {
        "id": "lKGGyjW3mvI6"
      }
    },
    {
      "cell_type": "markdown",
      "source": [
        "### (6) How can you access a specific character in a string in Python?"
      ],
      "metadata": {
        "id": "6wxdsDFBXHUL"
      }
    },
    {
      "cell_type": "markdown",
      "source": [
        "> Ans: *Double click to answer the question*"
      ],
      "metadata": {
        "id": "6xFvOmhwXl3H"
      }
    },
    {
      "cell_type": "markdown",
      "source": [
        "You can access a specific character in a string in Python using indexing."
      ],
      "metadata": {
        "id": "FFL7CsQHBsgQ"
      }
    },
    {
      "cell_type": "markdown",
      "source": [
        "### (7) How can you remove all occurrences of a specific character from a string in Python?"
      ],
      "metadata": {
        "id": "4tLsXnTVXHX8"
      }
    },
    {
      "cell_type": "markdown",
      "source": [
        "> Ans: *Double click to answer the question*"
      ],
      "metadata": {
        "id": "uJgPUgu5XlJg"
      }
    },
    {
      "cell_type": "markdown",
      "source": [
        "You can remove all occurrences of a specific character from a string in Python using the replace() method. For example, \"hello\".replace(\"l\", \"\") will return \"heo\"."
      ],
      "metadata": {
        "id": "d_UZR4CaC53H"
      }
    },
    {
      "cell_type": "markdown",
      "source": [
        "### (8) What is the result of using the `in` operator to check if a substring exists within a string in Python?"
      ],
      "metadata": {
        "id": "IrcPN5BaXHaQ"
      }
    },
    {
      "cell_type": "markdown",
      "source": [
        "> Ans: *Double click to answer the question*"
      ],
      "metadata": {
        "id": "Kpm80l3rXmQ2"
      }
    },
    {
      "cell_type": "markdown",
      "source": [
        "The 'in' operator checks if a substring is present within a string and returns a Boolean value (True or False). For example, 'he' in 'hello' evaluates to True, while 'x' in 'hello' evaluates to False."
      ],
      "metadata": {
        "id": "wbV0oERPEjvX"
      }
    },
    {
      "cell_type": "markdown",
      "source": [
        "### (9) Write a program that prompts the user to enter a string, and then finds the most common word in the string.\n",
        "Hint:    \n",
        "1.  Convert the string to lowercase and split it into a list of words.\n",
        "2.  Create a dictionary called `word_freq` to store the frequency of each word in the list.\n",
        "3.  Find the most common word in the dictionary by using the `max()` function with the `key argument` set to `word_freq.get`, which returns the value associated with each word in the dictionary."
      ],
      "metadata": {
        "id": "PGCTicZsXHdY"
      }
    },
    {
      "cell_type": "markdown",
      "source": [
        "sample output:   \n",
        "\n",
        "---\n",
        "Input: `The quick brown fox jumps over the lazy dog. The dog jumps over the fence.`   \n",
        "Output: the\n",
        "\n",
        "---"
      ],
      "metadata": {
        "id": "PwSg6uWBmex3"
      }
    },
    {
      "cell_type": "code",
      "source": [
        "# Program to find the most common word in a string\n",
        "\n",
        "string = input(\"Enter a string: \")\n",
        "\n",
        "# coding your answer here\n",
        "# Converting the string to lowercase and splitting it into words\n",
        "words = string.lower().split()\n",
        "\n",
        "# Creating a dictionary to store word frequencies\n",
        "word_freq = {}\n",
        "\n",
        "# Counting the frequency of each word in the list of words\n",
        "for word in words:\n",
        "    if word in word_freq:\n",
        "        word_freq[word] += 1\n",
        "    else:\n",
        "        word_freq[word] = 1\n",
        "\n",
        "# Finding the most common word\n",
        "most_common_word = max(word_freq, key=word_freq.get)\n",
        "\n",
        "print(\"Most common word:\", most_common_word)\n"
      ],
      "metadata": {
        "id": "6-LzJxNtXrHe",
        "colab": {
          "base_uri": "https://localhost:8080/"
        },
        "outputId": "bac9801c-d3b7-46fc-e66b-10220b199b54"
      },
      "execution_count": null,
      "outputs": [
        {
          "output_type": "stream",
          "name": "stdout",
          "text": [
            "Enter a string: The quick brown fox jumps over the lazy dog. The dog jumps over the fence.\n",
            "Most common word: the\n"
          ]
        }
      ]
    },
    {
      "cell_type": "markdown",
      "source": [
        "### (10) \"Word Challenge Game\" is a fun game where players draw word cards from a deck and complete string manipulation challenges to earn points."
      ],
      "metadata": {
        "id": "TA3yUv1BXHgQ"
      }
    },
    {
      "cell_type": "markdown",
      "source": [
        "**Rule:**    \n",
        "1.  The deck contains word cards (e.g., \"Star\", \"Moon\", \"Planet\", \"xAI\").  \n",
        "2.  In each round, the player draws a card and must complete a string manipulation challenge.  \n",
        "3.  The challenges include:\n",
        "  * Converting the word to lowercase (using `lower()`).\n",
        "  * Checking if the word ends with a specific letter (using `endswith()`).\n",
        "  * Joining the word's characters with a hyphen (using `join()` and `split()`).\n",
        "4.  If the player completes the challenge correctly, they earn 1 point; otherwise, they get 0 points.\n",
        "5.  The game lasts for 3 rounds, and the total score is calculated at the end.\n"
      ],
      "metadata": {
        "id": "INwOOTNBbWaE"
      }
    },
    {
      "cell_type": "markdown",
      "source": [
        "***Example Output(1):***   \n",
        "Welcome to Word Challenge Game! Follow the instructions to earn points.\n",
        "\n",
        "**Round 1:**         \n",
        "You drew the card: Moon     \n",
        "Challenge: Convert the word to lowercase.     \n",
        "Enter the word in lowercase: moon     \n",
        "Correct! +1 point\n",
        "\n",
        "**Round 2:**   \n",
        "You drew the card: Planet     \n",
        "Challenge: Does the word end with 'n'? (yes/no)      \n",
        "Your answer: No     \n",
        "Correct! +1 point     \n",
        "\n",
        "**Round 3:**      \n",
        "You drew the card: Star       \n",
        "Challenge: Convert the word to lowercase.            \n",
        "Enter the word in lowercase: star           \n",
        "Correct! +1 point            \n",
        "      \n",
        "\n",
        "Game Over! Your final score: 3/3    \n",
        "Perfect score! Amazing job!       "
      ],
      "metadata": {
        "id": "U4ld8K4rswPn"
      }
    },
    {
      "cell_type": "markdown",
      "source": [
        "***Example Output(2):***         \n",
        "Welcome to Word Challenge Game! Follow the instructions to earn points.\n",
        "      \n",
        "**Round 1:**             \n",
        "You drew the card: Sky           \n",
        "Challenge: Convert the word to lowercase.             \n",
        "Enter the word in lowercase: sky             \n",
        "Correct! +1 point               \n",
        "\n",
        "**Round 2:**             \n",
        "You drew the card: Python             \n",
        "Challenge: Split the word into characters and join them with a hyphen ('-').             \n",
        "Enter the modified word: P-y-t-h-o-n              \n",
        "Correct! +1 point                   \n",
        "\n",
        "**Round 3:**          \n",
        "You drew the card: Star               \n",
        "Challenge: Split the word into characters and join them with a hyphen ('-').                 \n",
        "Enter the modified word: s-t-a-r               \n",
        "Wrong! The correct answer is S-t-a-r.                \n",
        "\n",
        "Game Over! Your final score: 2/3                 \n",
        "Good effort! Keep practicing!                       "
      ],
      "metadata": {
        "id": "fswvMIEHtUVn"
      }
    },
    {
      "cell_type": "code",
      "source": [
        "import random\n",
        "\n",
        "# Initialize the deck with some words\n",
        "deck = [\"Star\", \"Moon\", \"Planet\", \"xAI\", \"Sky\", \"Hello\", \"Python\", \"Code\",]\n",
        "\n",
        "# Shuffle the deck\n",
        "random.shuffle(deck)\n",
        "\n",
        "# Initialize player's score\n",
        "player_score = 0\n",
        "rounds = 3\n",
        "\n",
        "print(\"Welcome to Word Challenge Game! Follow the instructions to earn points.\")\n",
        "\n",
        "# Main game loop for 3 rounds\n",
        "for round_num in range(1, rounds + 1):\n",
        "    print(f\"\\nRound {round_num}:\")\n",
        "\n",
        "    # Draw a card\n",
        "    card = deck.pop()\n",
        "    print(f\"You drew the card: {card}\")\n",
        "\n",
        "    # Randomly select a challenge\n",
        "    challenge = random.randint(1, 3)\n",
        "\n",
        "    # Challenge 1: Convert to lowercase\n",
        "    if challenge == 1:\n",
        "        print(\"Challenge: Convert the word to lowercase.\")\n",
        "        correct_answer = card.lower()\n",
        "        player_answer = input(\"Enter the word in lowercase: \")\n",
        "        if player_answer == correct_answer:\n",
        "            print(\"Correct! +1 point\")\n",
        "            player_score += 1\n",
        "        else:\n",
        "            print(f\"Wrong! The correct answer is {correct_answer}.\")\n",
        "\n",
        "    # Challenge 2: Check if the word ends with a specific letter\n",
        "    elif challenge == 2:\n",
        "        letter = \"n\"  # Fixed letter to check\n",
        "        print(f\"Challenge: Does the word end with '{letter}'? (yes/no)\")\n",
        "        correct_answer = \"yes\" if card.endswith(letter) else \"no\"\n",
        "        player_answer = input(\"Your answer: \").lower()\n",
        "        if player_answer == correct_answer:\n",
        "            print(\"Correct! +1 point\")\n",
        "            player_score += 1\n",
        "        else:\n",
        "            print(f\"Wrong! The correct answer is {correct_answer}.\")\n",
        "\n",
        "    # Challenge 3: Join the word's characters with a hyphen\n",
        "    else:\n",
        "        print(\"Challenge: Split the word into characters and join them with a hyphen ('-').\")\n",
        "        correct_answer = \"-\".join(card)\n",
        "        player_answer = input(\"Enter the modified word: \")\n",
        "        if player_answer == correct_answer:\n",
        "            print(\"Correct! +1 point\")\n",
        "            player_score += 1\n",
        "        else:\n",
        "            print(f\"Wrong! The correct answer is {correct_answer}.\")\n",
        "\n",
        "# Game ends, display final score\n",
        "print(f\"\\nGame Over! Your final score: {player_score}/{rounds}\")\n",
        "if player_score == rounds:\n",
        "    print(\"Perfect score! Amazing job!\")\n",
        "elif player_score > 0:\n",
        "    print(\"Good effort! Keep practicing!\")\n",
        "else:\n",
        "    print(\"Better luck next time!\")"
      ],
      "metadata": {
        "colab": {
          "base_uri": "https://localhost:8080/"
        },
        "id": "iubS0Ez_nKAM",
        "outputId": "b29ad2b8-45d1-44ee-cb68-ab76256ab704"
      },
      "execution_count": null,
      "outputs": [
        {
          "output_type": "stream",
          "name": "stdout",
          "text": [
            "Welcome to Word Challenge Game! Follow the instructions to earn points.\n",
            "\n",
            "Round 1:\n",
            "You drew the card: Sky\n",
            "Challenge: Convert the word to lowercase.\n",
            "Enter the word in lowercase: sky\n",
            "Correct! +1 point\n",
            "\n",
            "Round 2:\n",
            "You drew the card: Python\n",
            "Challenge: Split the word into characters and join them with a hyphen ('-').\n",
            "Enter the modified word: P-y-t-h-o-n\n",
            "Correct! +1 point\n",
            "\n",
            "Round 3:\n",
            "You drew the card: Star\n",
            "Challenge: Split the word into characters and join them with a hyphen ('-').\n",
            "Enter the modified word: s-t-a-r\n",
            "Wrong! The correct answer is S-t-a-r.\n",
            "\n",
            "Game Over! Your final score: 2/3\n",
            "Good effort! Keep practicing!\n"
          ]
        }
      ]
    }
  ]
}