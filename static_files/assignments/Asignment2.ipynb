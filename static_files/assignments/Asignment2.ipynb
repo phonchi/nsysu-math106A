{
  "cells": [
    {
      "cell_type": "markdown",
      "metadata": {
        "id": "5mOPnEzYk8E2"
      },
      "source": [
        "# Assignment 2"
      ]
    },
    {
      "cell_type": "markdown",
      "metadata": {
        "id": "MmJf_ST0k_JY"
      },
      "source": [
        "#### Student ID: *Double click to fill your student ID*\n",
        "#### Name: *Double click to fill your name*"
      ]
    },
    {
      "cell_type": "markdown",
      "metadata": {
        "id": "rUgR5kMHk_7_"
      },
      "source": [
        "### (1) What is the difference between for and while loops in Python?"
      ]
    },
    {
      "cell_type": "markdown",
      "metadata": {
        "id": "aZ_RqsMToKAa"
      },
      "source": [
        "> Ans: *Double click to answer the question*"
      ]
    },
    {
      "cell_type": "markdown",
      "metadata": {
        "id": "UmiAXKLJlDT5"
      },
      "source": [
        "### (2) Write a Python program that asks the user to enter their name and how many movies they have watched."
      ]
    },
    {
      "cell_type": "markdown",
      "source": [
        "\n",
        "*   If the number is greater than zero, the program should ask \"How many hours have you spent watching movies?\"\n",
        "  *   Then, print \"Make sure to balance your time with studying!\"\n",
        "* Otherwise, print \"Great focus on your studies! Keep up the good work!\"\n",
        "\n"
      ],
      "metadata": {
        "id": "vkSR-wtAwwjI"
      }
    },
    {
      "cell_type": "markdown",
      "source": [
        "Example Outputs:\n",
        "\n",
        "---\n",
        "**Input:**\n",
        "\n",
        "Enter your name:     \n",
        "Alice\n",
        "\n",
        "How many movies have you watched?   \n",
        "10\n",
        "\n",
        "How many hours have you spent watching movies?    \n",
        "25\n",
        "\n",
        "**Output:**   \n",
        "Make sure to balance your time with studying!\n",
        "\n",
        "---\n",
        "or\n",
        "\n",
        "---\n",
        "**Input:**   \n",
        "Enter your name:     \n",
        "Bob\n",
        "\n",
        "How many movies have you watched?    \n",
        "0\n",
        "\n",
        "**Output:**    \n",
        "Make sure to balance your time with studying!\n",
        "\n",
        "---"
      ],
      "metadata": {
        "id": "HJz6VMqHwzCO"
      }
    },
    {
      "cell_type": "code",
      "source": [
        "# coding your answer here\n",
        "name = ''"
      ],
      "metadata": {
        "id": "FK0nKpDbwueb"
      },
      "execution_count": null,
      "outputs": []
    },
    {
      "cell_type": "markdown",
      "metadata": {
        "id": "vZqsi7OllF87"
      },
      "source": [
        "### (3) Which keyword is used to write a loop in Python?"
      ]
    },
    {
      "cell_type": "markdown",
      "metadata": {
        "id": "16HdbyW3y1eT"
      },
      "source": [
        "(A) loop    \n",
        "(B) repeat    \n",
        "(C) for    \n",
        "(D) Loop"
      ]
    },
    {
      "cell_type": "markdown",
      "metadata": {
        "id": "Qj9sQeRLfcfv"
      },
      "source": [
        "> Ans: *Double click to answer the question*"
      ]
    },
    {
      "cell_type": "markdown",
      "metadata": {
        "id": "4BEnBohdlHg-"
      },
      "source": [
        "### (4) What is the difference between `break` and `continue` ?"
      ]
    },
    {
      "cell_type": "markdown",
      "metadata": {
        "id": "wDizCqs3fd4R"
      },
      "source": [
        "> Ans: *Double click to answer the question*"
      ]
    },
    {
      "cell_type": "markdown",
      "metadata": {
        "id": "1fokYZnwlIyU"
      },
      "source": [
        "### (5) What will be the output of the following Python program?\n",
        "\n",
        "```\n",
        "count = 5\n",
        "\n",
        "while count > 0:\n",
        "    print(count)\n",
        "    count -= 2\n",
        "\n",
        "print(\"Loop finished!\")\n",
        "\n",
        "```"
      ]
    },
    {
      "cell_type": "markdown",
      "metadata": {
        "id": "Y9rF8BE9TiXj"
      },
      "source": [
        "(A)    \n",
        "```\n",
        "5     \n",
        "3  \n",
        "1  \n",
        "Loop finished!  \n",
        "```   \n",
        "(B)\n",
        "```\n",
        "5  \n",
        "4  \n",
        "3  \n",
        "2  \n",
        "1  \n",
        "Loop finished!    \n",
        "```  \n",
        "(C)\n",
        "```\n",
        "5  \n",
        "3  \n",
        "1  \n",
        "-1  \n",
        "Loop finished!   \n",
        "```    \n",
        "(D)\n",
        "```\n",
        "5  \n",
        "3  \n",
        "1  \n",
        "Loop finished!  \n",
        "-1      \n",
        "```"
      ]
    },
    {
      "cell_type": "markdown",
      "metadata": {
        "id": "csoW2HQSfeh6"
      },
      "source": [
        "> Ans: *Double click to answer the question*"
      ]
    },
    {
      "cell_type": "markdown",
      "metadata": {
        "id": "r42O-FJNlKAy"
      },
      "source": [
        "### (6) What is the difference between range(10), range(0, 10), and range(0, 10, 1) in a for loop?"
      ]
    },
    {
      "cell_type": "markdown",
      "metadata": {
        "id": "0mfn-2AFgwMU"
      },
      "source": [
        "> Ans: *Double click to answer the question*"
      ]
    },
    {
      "cell_type": "markdown",
      "metadata": {
        "id": "fu9ZrdVplMey"
      },
      "source": [
        "### (7)\n",
        "1. Write a Python program that prints all even numbers from 2 to 20 using a `for` loop.\n",
        "2. Then, write an equivalent program that prints the same numbers using a `while` loop."
      ]
    },
    {
      "cell_type": "code",
      "source": [
        "# coding your answer here"
      ],
      "metadata": {
        "id": "BOJQYeODxsfR"
      },
      "execution_count": null,
      "outputs": []
    },
    {
      "cell_type": "markdown",
      "metadata": {
        "id": "6sohweLHlLJ5"
      },
      "source": [
        "### (8) When does the code in a `function` execute: when the `function` is defined or when the `function` is called?"
      ]
    },
    {
      "cell_type": "markdown",
      "metadata": {
        "id": "mH9mgsPniQ6E"
      },
      "source": [
        "> Ans: *Double click to answer the question*"
      ]
    },
    {
      "cell_type": "markdown",
      "metadata": {
        "id": "rI8KG_yylN5d"
      },
      "source": [
        "### (9) Why are functions advantageous to have in your programs?"
      ]
    },
    {
      "cell_type": "markdown",
      "source": [
        "> Ans: *Double click to answer the question*"
      ],
      "metadata": {
        "id": "rqHkG_Cex2VG"
      }
    },
    {
      "cell_type": "markdown",
      "metadata": {
        "id": "PrFl8dpAlPCw"
      },
      "source": [
        "### (10) Write a function that prints the multiplication table for a given number using a loop.\n",
        "\n",
        "* Define a function `print_multiplication_table(n)` that prints the multiplication table of `n` from `1` to `10`.\n",
        "* The function should use a **`for ` loop** to iterate through numbers `1` to `10`.\n",
        "* Ask the user to input a number and then call the function with the user-provided value."
      ]
    },
    {
      "cell_type": "markdown",
      "metadata": {
        "id": "nAkf5DCLkfmp"
      },
      "source": [
        "sample output\n",
        "\n",
        "---\n",
        "**Input:**   \n",
        "Enter a number:   \n",
        "5     \n",
        "\n",
        "\n",
        "---\n",
        "**Output:**     \n",
        "5 x 1 = 5         \n",
        "5 x 2 = 10               \n",
        "5 x 3 = 15           \n",
        "5 x 4 = 20       \n",
        "5 x 5 = 25         \n",
        "5 x 6 = 30           \n",
        "5 x 7 = 35          \n",
        "5 x 8 = 40          \n",
        "5 x 9 = 45           \n",
        "5 x 10 = 50           \n",
        "\n",
        "---"
      ]
    },
    {
      "cell_type": "code",
      "execution_count": null,
      "metadata": {
        "id": "XAIhZ1xDlmQV"
      },
      "outputs": [],
      "source": [
        "# coding your answer here"
      ]
    }
  ],
  "metadata": {
    "colab": {
      "provenance": []
    },
    "kernelspec": {
      "display_name": "Python 3",
      "name": "python3"
    },
    "language_info": {
      "name": "python"
    }
  },
  "nbformat": 4,
  "nbformat_minor": 0
}