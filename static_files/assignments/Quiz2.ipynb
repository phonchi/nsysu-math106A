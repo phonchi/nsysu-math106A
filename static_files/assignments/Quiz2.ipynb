{
  "cells": [
    {
      "cell_type": "markdown",
      "metadata": {
        "id": "S43Yd0de2REp"
      },
      "source": [
        "# Computer Programming Quiz 2"
      ]
    },
    {
      "cell_type": "markdown",
      "metadata": {
        "id": "A4_QjCdg2REu"
      },
      "source": [
        "#### Student ID: *Double click here to fill the Student ID*\n",
        "\n",
        "#### Name: *Double click here to fill the name*"
      ]
    },
    {
      "cell_type": "markdown",
      "metadata": {
        "id": "hU-j67b--fi_"
      },
      "source": [
        "## A.\tSingle Choice Questions (4%, 48%)"
      ]
    },
    {
      "cell_type": "markdown",
      "metadata": {
        "id": "jfjOG4GmbbOn"
      },
      "source": [
        "### (1) Which of the following statements is FALSE?\n",
        "\n",
        "(A) The built-in function `super()` allows you to invoke a method defined in a parent class.\n",
        "\n",
        "(B) The `cls` parameter behaves like `self`, but refers to the class rather than to an instance.\n",
        "\n",
        "(C) In any method definition within a `Python` class, the first parameter must be `self`.\n",
        "\n",
        "(D) Attempting to directly access an attribute whose name begins with double underscores (`__`) will cause an error."
      ]
    },
    {
      "cell_type": "markdown",
      "metadata": {
        "id": "q-esSq79bxT5"
      },
      "source": [
        "> Ans: *double click here to answer the question.*"
      ]
    },
    {
      "cell_type": "markdown",
      "metadata": {
        "id": "4kgGFftfMMhL"
      },
      "source": [
        "### (2) When you enter an object's name in a Jupyter Notebook cell and execute it, which special method is called first?\n",
        "\n",
        "(A) `__add__`\n",
        "\n",
        "(B) `__repr__`\n",
        "\n",
        "(C) `__str__`\n",
        "\n",
        "(D) `__init__`\n"
      ]
    },
    {
      "cell_type": "markdown",
      "metadata": {
        "id": "iGh60Z0j2REy"
      },
      "source": [
        "> Ans: *double click here to answer the question.*"
      ]
    },
    {
      "cell_type": "markdown",
      "metadata": {
        "id": "1hEp8oRCmfvZ"
      },
      "source": [
        "### (3) In `NumPy`, which of the following correctly describes what is returned by slicing, `reshape()`, and `flatten()`, respectively?\n",
        "\n",
        "(A) view, view, copy\n",
        "\n",
        "(B) copy, view, copy\n",
        "\n",
        "(C) copy, copy, view\n",
        "\n",
        "(D) view, copy, view"
      ]
    },
    {
      "cell_type": "markdown",
      "metadata": {
        "id": "WhB1T-92mfva"
      },
      "source": [
        "> Ans: *double click here to answer the question.*"
      ]
    },
    {
      "cell_type": "markdown",
      "metadata": {
        "id": "tCv5j3HvcQu8"
      },
      "source": [
        "### (4) Which of the following statements is FALSE?\n",
        "\n",
        "(A) String methods `lower()` and `upper()` can convert strings to all lowercase or all uppercase letters, respectively.\n",
        "\n",
        "(B) `Python` has separate data types for string and character.\n",
        "\n",
        "(C) Raw strings — preceded by the character `r` — treat each backslash as a regular character rather than the beginning of an escape sequence.\n",
        "\n",
        "(D) Backslash characters in strings introduce escape sequences — like `\\n` for new-line and `\\t` for tab."
      ]
    },
    {
      "cell_type": "markdown",
      "metadata": {
        "id": "v_Zo0gSbmfvb"
      },
      "source": [
        "> Ans: *double click here to answer the question.*"
      ]
    },
    {
      "cell_type": "markdown",
      "metadata": {
        "id": "nUVaIW-Imfvb"
      },
      "source": [
        "### (5) What is the output of the following code?\n",
        "\n",
        "```python\n",
        "spam1 = 26\n",
        "spam2 = 26.145\n",
        "print(f'{spam1:2d}, {spam2:5.2f}')\n",
        "```\n",
        "\n",
        "(A) 26, 26.15\n",
        "\n",
        "(B) 26, 26.145\n",
        "\n",
        "(C) 26, 26\n",
        "\n",
        "(D) {spam1:2d}, {spam2:5.2f}"
      ]
    },
    {
      "cell_type": "markdown",
      "metadata": {
        "id": "c0m_wwOhmfvb"
      },
      "source": [
        "> Ans: *double click here to answer the question.*"
      ]
    },
    {
      "cell_type": "markdown",
      "metadata": {
        "id": "zwH348yXZP94"
      },
      "source": [
        "### (6) Which of the following statements is TRUE?\n",
        "\n",
        "(A) The built-in function `random.randint()` excludes the endpoint while `np.random.randint()` does not.\n",
        "\n",
        "(B) Applying a reduction on a 2D array with `axis=0` aggregates values down each column (i.e. over all rows).\n",
        "\n",
        "(C) In `NumPy`, a `Python` `for` loop is usually faster than a vectorized operation for element-wise arithmetic.\n",
        "\n",
        "(D) In `NumPy`, two arrays must have identical shapes to perform an element-wise operation.\n"
      ]
    },
    {
      "cell_type": "markdown",
      "metadata": {
        "id": "5tKM3rtNwr3a"
      },
      "source": [
        "> Ans: *double click here to answer the question.*"
      ]
    },
    {
      "cell_type": "markdown",
      "metadata": {
        "id": "59tvrWGc2REx"
      },
      "source": [
        "### (7) Which of the following statements is TRUE?\n",
        "\n",
        "(A) When using the 'w' mode in `Python`, the file is opened for writing and created if it does not exist. If the file already exists, any new data written to it will be appended to the end of the file.\n",
        "\n",
        "(B) The 'r+' mode will open the file for both reading and writing, creating the file if it does not exist. If the file already exists, it will first erase all the contents of the file.\n",
        "\n",
        "(C) A `FileNotFoundError` occurs if we try to open a non-existent file for reading with the 'r' mode, but it will create a new file if we open a non-existent file in 'a' mode.\n",
        "\n",
        "(D) When we use `with` statement, the file object returned by `open()` is available outside the with block that contains it and we need to call the `close()` function manually after we operate on it to avoid loss of information.\n"
      ]
    },
    {
      "cell_type": "markdown",
      "metadata": {
        "id": "YcKgpEcawr3h"
      },
      "source": [
        "> Ans: *double click here to answer the question.*"
      ]
    },
    {
      "cell_type": "markdown",
      "metadata": {
        "id": "UUd2Msoumfvd"
      },
      "source": [
        "### (8) Which of the following statements is TRUE?\n",
        "\n",
        "(A) To define a new class in `Python` we always need to implement the constructor `__init__` and the destructor `__del__` method.\n",
        "\n",
        "(B) Inheritance describes the \"has a\" relationship between two classes.\n",
        "\n",
        "(C) Composition describes the \"is a\" relationship between classes.\n",
        "\n",
        "(D) Operator overloading, which enables operators to exhibit varying behavior depending on the object types they interact with, is also an aspect of polymorphism."
      ]
    },
    {
      "cell_type": "markdown",
      "metadata": {
        "id": "jWXZW87nmfvd"
      },
      "source": [
        "> Ans: *double click here to answer the question.*"
      ]
    },
    {
      "cell_type": "markdown",
      "metadata": {
        "id": "55AA_kZzWDY6"
      },
      "source": [
        "### (9) Which of the following describes the format string `':g^'` in `plt.plot(x, y, ':g^')`?\n",
        "\n",
        "(A) Draw a dotted line with black color and circle marker.\n",
        "\n",
        "(B) Draw a dashed line with green color and triangle-up marker.\n",
        "\n",
        "(C) Draw a dotted line with green color and triangle-up marker.\n",
        "\n",
        "(D) Draw a solid line with green color and triangle-down marker."
      ]
    },
    {
      "cell_type": "markdown",
      "metadata": {
        "id": "9ZtwxWV2XIf5"
      },
      "source": [
        "> Ans: *double click here to answer the question.*"
      ]
    },
    {
      "cell_type": "markdown",
      "metadata": {
        "id": "JAXPS7xzdf0a"
      },
      "source": [
        "### (10) Which of the following statements is FALSE?\n",
        "\n",
        "(A) Attempting to divide by 0 results in a `ZeroDivisionError`\n",
        "\n",
        "(B) Trying to access a local variable outside its function’s scope causes a `NameError`, indicating that the variable is not defined.\n",
        "\n",
        "(C) After the last `except` clause, an optional `else` clause specifies code that should execute only if the code in the `try` block raised an exception.\n",
        "\n",
        "(D) The `finally` clause is guaranteed to execute, regardless of whether its try block succeeds or an exception occurs."
      ]
    },
    {
      "cell_type": "markdown",
      "metadata": {
        "id": "h5nxvGEQfqsJ"
      },
      "source": [
        "> Ans: *double click here to answer the question.*"
      ]
    },
    {
      "cell_type": "markdown",
      "metadata": {
        "id": "uUpmVe1-mfve"
      },
      "source": [
        "### (11) Which of the following statements is FALSE?\n",
        "\n",
        "(A) Both `plt.scatter()` and `plt.plot()` can be used to draw a scatter plot in Python.\n",
        "\n",
        "(B) In the `plt.scatter()` function, we can use the `alpha` keyword to adjust the transparency level of each data point.\n",
        "\n",
        "(C) The magic command `%matplotlib inline` is used to invoke the static backend of Matplotlib in Jupyter Notebook so that the plots are embedded in the notebook.\n",
        "\n",
        "(D) In situations that are more intricate or when there's a need for more control over the figure, typically, the functional-style interface offers more convenience than the object-oriented interface."
      ]
    },
    {
      "cell_type": "markdown",
      "metadata": {
        "id": "JLXk-Tlmmfve"
      },
      "source": [
        "> Ans: *double click here to answer the question.*"
      ]
    },
    {
      "cell_type": "markdown",
      "metadata": {
        "id": "q-wMavP1mfve"
      },
      "source": [
        "### (12) If we want to compute `c = a + b`, which of the following arrays `a` and `b` satisfy `NumPy`'s broadcasting rules?\n",
        "\n",
        "(A) `a = np.array([[1, 2, 3], [4, 5, 6]])`, `b = np.array([10, 20])`\n",
        "\n",
        "(B) `a = np.array([[1, 2, 3], [4, 5, 6]])`, `b = np.array([7, 8, 9])`\n",
        "\n",
        "(C) `a = np.array([1, 2, 3])`, `b = np.array([10, 20])`\n",
        "\n",
        "(D) `a = np.array([[1, 2, 3]])`, `b = np.array([[10, 20]])`"
      ]
    },
    {
      "cell_type": "markdown",
      "metadata": {
        "id": "Ha5loNIXmfve"
      },
      "source": [
        "> Ans: *double click here to answer the question.*"
      ]
    },
    {
      "cell_type": "markdown",
      "metadata": {
        "id": "IKA-mIPT-Xhs"
      },
      "source": [
        "## B.\tShort-answer and coding questions"
      ]
    },
    {
      "cell_type": "code",
      "execution_count": null,
      "metadata": {
        "id": "noJW7IJgmfvf"
      },
      "outputs": [],
      "source": [
        "import matplotlib as mpl\n",
        "import matplotlib.pyplot as plt\n",
        "import numpy as np\n",
        "plt.style.use('seaborn-whitegrid')"
      ]
    },
    {
      "cell_type": "markdown",
      "metadata": {
        "id": "5c9HJAcjmfvh"
      },
      "source": [
        "### (13) Considering the following `Fraction` class that has two private attributes, `num` and `den`, complete the tasks below: (10 %)\n",
        "\n",
        "1. **Addition**\n",
        "   Define `__add__` so that\n",
        "\n",
        "   $$\n",
        "     \\text{Fraction}(a,b) + \\text{Fraction}(c,d)\n",
        "     = \\text{Fraction}(a\\,d + b\\,c,\\; b\\,d).\n",
        "   $$\n",
        "\n",
        "2. **Display**\n",
        "   Override the string representation so printing a `Fraction` shows\n",
        "\n",
        "   ```\n",
        "   num/den, decimal_value\n",
        "   ```\n",
        "\n",
        "   (e.g. `1/2, 0.5`).\n",
        "\n",
        "3. **Integer Subclass**\n",
        "   Create a subclass `Integer` (initialized with one integer, i.e. denominator = 1) that can be added to any `Fraction` and, when printed, displays only its integer value (no “/1”)."
      ]
    },
    {
      "cell_type": "code",
      "execution_count": null,
      "metadata": {
        "id": "WH79Oosnmfvh"
      },
      "outputs": [],
      "source": [
        "class Fraction:\n",
        "    def __init__(self, numerator, denominator):\n",
        "        # Initialize with numerator and denominator via setter\n",
        "        self.set_num_den(numerator, denominator)\n",
        "\n",
        "    def set_num_den(self, numerator, denominator):\n",
        "        \"\"\"\n",
        "        Store numerator and denominator as private attributes.\n",
        "        \"\"\"\n",
        "        self.__num = numerator\n",
        "        self.__den = denominator\n",
        "\n",
        "    def get_num_den(self):\n",
        "        \"\"\"\n",
        "        Return a tuple (numerator, denominator).\n",
        "        \"\"\"\n",
        "        return self.__num, self.__den\n",
        "\n",
        "    def __add__(self, otherfrac):\n",
        "        \"\"\"\n",
        "        Overload the + operator to add two Fraction objects:\n",
        "          a/b + c/d = (a·d + b·c) / (b·d)\n",
        "        Returns a new Fraction instance.\n",
        "        \"\"\"\n",
        "        # Q1: Your code here\n",
        "\n",
        "\n",
        "    def __str__(self):\n",
        "        \"\"\"\n",
        "        When printed, display as \"num/den, decimal_value\".\n",
        "        \"\"\"\n",
        "        # Q2: Your code here\n",
        "\n",
        "    __repr__ = __str__  # Use the same format for interactive display\n",
        "\n",
        "# Q3\n",
        "class integer(________):\n",
        "    def __init__(self, numerator):\n",
        "        \"\"\"\n",
        "        Initialize an integer as a fraction with denominator 1.\n",
        "        \"\"\"\n",
        "        # Your code here\n",
        "\n",
        "    def __str__(self):\n",
        "        \"\"\"\n",
        "        When printed, show only the integer value (no denominator).\n",
        "        \"\"\"\n",
        "        # Your code here\n",
        "\n",
        "    __repr__ = __str__"
      ]
    },
    {
      "cell_type": "code",
      "execution_count": null,
      "metadata": {
        "id": "EFqjQDBHmfvi"
      },
      "outputs": [],
      "source": [
        "# Create two fractions and add them\n",
        "f1 = Fraction(1, 2)\n",
        "f2 = Fraction(1, 3)\n",
        "print(f1 + f2)        # Output: \"5/6, 0.8333333333333334\"\n",
        "\n",
        "# Create an integer and add to a fraction\n",
        "i = integer(2)\n",
        "print(i + f1)         # Output: \"5/2, 2.5\"\n",
        "print(f1 + i)         # Output: \"5/2, 2.5\"\n",
        "\n",
        "# Print the integer object alone\n",
        "print(i)              # Output: \"2\""
      ]
    },
    {
      "cell_type": "markdown",
      "metadata": {
        "id": "8pBqFykejV6l"
      },
      "source": [
        "### (14) Password Verification Function (10 %)\n",
        "\n",
        "Implement the function\n",
        "\n",
        "```python\n",
        "def verifyPasswd(pwd, special_chars):\n",
        "    ...\n",
        "```\n",
        "\n",
        "which returns `True` only if the password meets **all** of the following requirements:\n",
        "\n",
        "1. Has at least 4 characters in total.\n",
        "2. Includes at least one lowercase letter.\n",
        "3. Includes at least one uppercase letter.\n",
        "4. Includes at least one numeral (0–9).\n",
        "5. Includes at least one character taken from the provided `special_chars` string.\n",
        "\n",
        "If any of these rules is not satisfied, the function should return `False`.\n",
        "\n",
        "*Hint:* Remember the `isX()` methods."
      ]
    },
    {
      "cell_type": "code",
      "execution_count": null,
      "metadata": {
        "id": "8roB1dzMmfvj"
      },
      "outputs": [],
      "source": [
        "def verifyPasswd(pwd, special_chars = \"!@#$%^&*()\"):\n",
        "    \"\"\"\n",
        "    Verify that a password meets the following rules using a simple loop and str methods:\n",
        "      - At least one lowercase letter\n",
        "      - At least one uppercase letter\n",
        "      - At least one digit\n",
        "      - At least one character from special_chars\n",
        "      - Overall length >= 4\n",
        "\n",
        "    Returns True if all rules are met, False otherwise.\n",
        "    \"\"\"\n",
        "    # Quick length check\n",
        "    if __________:\n",
        "        return False\n",
        "\n",
        "    has_lower = False\n",
        "    has_upper = False\n",
        "    has_digit = False\n",
        "    has_special = False\n",
        "\n",
        "    for c in pwd:\n",
        "        # Your code here\n",
        "\n",
        "    return has_lower and has_upper and has_digit and has_special"
      ]
    },
    {
      "cell_type": "code",
      "execution_count": null,
      "metadata": {
        "id": "qfwSjwi9mfvj"
      },
      "outputs": [],
      "source": [
        "specials = \"!@#$%^&*()\"\n",
        "tests = [\n",
        "    \"aA!\",        # too short but meets character rules\n",
        "    \"abcdEF12\",    # missing special\n",
        "    \"ABCD!@34\",    # missing lowercase\n",
        "    \"ab12!@ef\",    # missing uppercase\n",
        "    \"Aa!bcdef\",    # missing digit\n",
        "    \"Aa1!xyz\",     # correct\n",
        "]\n",
        "\n",
        "for pwd in tests:\n",
        "    print(f\"{pwd!r}: {verifyPasswd(pwd, specials)}\")"
      ]
    },
    {
      "cell_type": "markdown",
      "metadata": {
        "id": "KDJ-qTP3vdmQ"
      },
      "source": [
        "### (15) Performance Comparison of Loop vs. Vectorization (10 %)\n",
        "\n",
        "Approximate $\\arctan(1)=\\pi/4$ by truncating the infinite series\n",
        "\n",
        "$$\n",
        "\\sum_{n=0}^{N}(-1)^n\\frac{1^{2n+1}}{2n+1}\n",
        "$$\n",
        "\n",
        "with $N=10000$. Implement two versions:\n",
        "\n",
        "1. A pure Python `for`-loop that accumulates each term.\n",
        "2. A NumPy vectorized version using array operations (e.g. `np.arange`, `np.power`, `np.sum`, `np.prod`).\n",
        "\n",
        "Then, benchmark each implementation with `%%timeit` and report the speedup factor defined as\n",
        "\n",
        "$$\n",
        "\\text{Speedup} = \\frac{\\text{loop runtime}}{\\text{vectorized runtime}}.\n",
        "$$\n",
        "\n",
        "*Hint:* Use `%%timeit` for timing."
      ]
    },
    {
      "cell_type": "code",
      "execution_count": null,
      "metadata": {
        "id": "dQNdC1pLmfvj"
      },
      "outputs": [],
      "source": [
        "import math\n",
        "\n",
        "# Parameters\n",
        "N = 10000\n",
        "\n",
        "# 1. Pure-Python loop implementation\n",
        "def arctan_loop(N):\n",
        "    # Your code here\n",
        "\n",
        "# 2. NumPy vectorized implementation\n",
        "def arctan_vectorized(N):\n",
        "    # Your code here\n",
        "\n",
        "# Compute approximations\n",
        "approx_loop = arctan_loop(N)\n",
        "approx_vec  = arctan_vectorized(N)"
      ]
    },
    {
      "cell_type": "code",
      "execution_count": null,
      "metadata": {
        "id": "_cIiWw7Gmfvk"
      },
      "outputs": [],
      "source": [
        "tol = 1e-3\n",
        "# Validate equality and closeness to π/4\n",
        "assert abs(approx_loop - approx_vec) < tol, \"Loop and vector results differ!\"\n",
        "assert abs(4*approx_vec - math.pi) < tol, \"Result not within tolerance of π\""
      ]
    },
    {
      "cell_type": "code",
      "execution_count": null,
      "metadata": {
        "id": "SSOIyfuowr3z"
      },
      "outputs": [],
      "source": [
        "# Benchmark for arctan_loop here"
      ]
    },
    {
      "cell_type": "code",
      "execution_count": null,
      "metadata": {
        "id": "Sfb5aUCHmfvu"
      },
      "outputs": [],
      "source": [
        "# Benchmark for arctan_vectorized here"
      ]
    },
    {
      "cell_type": "markdown",
      "metadata": {
        "id": "wT2PwEmymfvv"
      },
      "source": [
        "> Ans: *double click here to answer the question.*"
      ]
    },
    {
      "cell_type": "markdown",
      "metadata": {
        "id": "ZbUgQdboo8Lg"
      },
      "source": [
        "### (16) Exception Handling in a Division Loop (10 %)\n",
        "\n",
        "```python\n",
        "while True:\n",
        "    print(\"Enter ‘q’ to quit\")\n",
        "    number1 = input(\"Enter first number: \")\n",
        "    if number1.lower() == \"q\":\n",
        "        break\n",
        "    number2 = input(\"Enter second number: \")\n",
        "    if number2.lower() == \"q\":\n",
        "        break\n",
        "    # perform division\n",
        "    result = float(number1) / float(number2)\n",
        "    with open(\"result.txt\", \"r+\") as file:\n",
        "        file.write(f\"{float(number1):.3f} / {float(number2):.3f} = {result:.3f}\\n\")\n",
        "```\n",
        "\n",
        "**(a)** Identify all exceptions that might arise when this code runs (e.g., non-numeric input, division by zero, file‐access errors, etc.).\n",
        "\n",
        "**(b)** Rewrite the loop to wrap the conversion, division, and file I/O in an appropriate `try`–`except` block. For each type of exception you anticipate, print a clear, user‐friendly error message and then continue the loop."
      ]
    },
    {
      "cell_type": "markdown",
      "metadata": {
        "id": "07diTa7rmfvw"
      },
      "source": [
        "> Ans: *double click here to answer the question.*"
      ]
    },
    {
      "cell_type": "code",
      "execution_count": null,
      "metadata": {
        "id": "fzPDPNuemfvw"
      },
      "outputs": [],
      "source": [
        "# Your code here"
      ]
    },
    {
      "cell_type": "markdown",
      "metadata": {
        "id": "13SHsGDlu7yk"
      },
      "source": [
        "### (17) Visualizing and Computing a Definite Integral (12 %)\n",
        "\n",
        "The definite integral of $f(x)$ over $[a,b]$ equals the net “signed” area under its graph:\n",
        "\n",
        "$$\n",
        "\\int_a^b f(x)\\,dx\n",
        "=\\text{(area above the \\(x\\)-axis)}\\;-\\;\\text{(area below the \\(x\\)-axis)}.\n",
        "$$\n",
        "\n",
        "1. **Plot the function**\n",
        "\n",
        "   $$\n",
        "     y = \\sin(0.2x) + \\sin(2x)\n",
        "   $$\n",
        "\n",
        "   over the interval $\\bigl[\\tfrac{\\pi}{2},\\,\\tfrac{3\\pi}{2}\\bigr]$.\n",
        "\n",
        "2. **Shade the regions**\n",
        "\n",
        "   * Use blue to fill where $y\\ge0$.\n",
        "   * Use red to fill where $y<0$.\n",
        "\n",
        "3. **Approximate the integral by a left-point Riemann sum**\n",
        "\n",
        "   * Divide $[\\tfrac{\\pi}{2},\\,\\tfrac{3\\pi}{2}]$ into $n$ equal subintervals of width\n",
        "     $\\Delta x = \\bigl(3\\pi/2-\\pi/2\\bigr)/n$.\n",
        "   * Let $x_i = \\tfrac{\\pi}{2} + i\\,\\Delta x$ for $i=0,1,\\dots,n-1$.\n",
        "   * Compute\n",
        "\n",
        "     $$\n",
        "       S_n = \\sum_{i=0}^{n-1} f(x_i)\\,\\Delta x\n",
        "       \\approx \\int_{\\pi/2}^{3\\pi/2}f(x)\\,dx.\n",
        "     $$\n",
        "   * Using `NumPy`, evaluate $S_n$ (choose a sufficiently large $n$, e.g. $n=100$) and report the result as a floating-point number.\n",
        "\n",
        "\n",
        "   *Hint:* Refer to our slides for the Riemann sum."
      ]
    },
    {
      "cell_type": "code",
      "execution_count": null,
      "metadata": {
        "id": "aYI-n_Cmmfvw",
        "outputId": "5fb34132-4e2a-46b1-b8d7-5cbef110092e"
      },
      "outputs": [
        {
          "data": {
            "image/png": "[encoded data removed]",
            "text/plain": [
              "<Figure size 640x480 with 1 Axes>"
            ]
          },
          "metadata": {},
          "output_type": "display_data"
        }
      ],
      "source": [
        "def f(x):\n",
        "    return __________\n",
        "\n",
        "x = np.linspace(___, ___, ____)\n",
        "y = f(x)\n",
        "plt.plot(___, ___,)\n",
        "\n",
        "X = np.linspace(___, ___, ____)\n",
        "Y = f(X)\n",
        "plt.fill_between(___, ___, ____, ____, color='blue', alpha=.25)\n",
        "plt.fill_between(___, ___, ____, ____, color='red',  alpha=.25)\n",
        "\n",
        "plt.xticks([np.pi/2,3*np.pi/2],['$\\pi/2$','$3\\pi/2$'])\n",
        "plt.xlim([0,2*np.pi]); plt.ylim([-2,3]);"
      ]
    },
    {
      "cell_type": "code",
      "execution_count": null,
      "metadata": {
        "id": "rJH_eF-7mfvy"
      },
      "outputs": [],
      "source": [
        "# Your code for Riemann sum here"
      ]
    }
  ],
  "metadata": {
    "colab": {
      "collapsed_sections": [
        "JAXPS7xzdf0a",
        "193bVqAlgtmW"
      ],
      "provenance": []
    },
    "kernelspec": {
      "display_name": "base",
      "language": "python",
      "name": "python3"
    },
    "language_info": {
      "codemirror_mode": {
        "name": "ipython",
        "version": 3
      },
      "file_extension": ".py",
      "mimetype": "text/x-python",
      "name": "python",
      "nbconvert_exporter": "python",
      "pygments_lexer": "ipython3",
      "version": "3.9.13"
    }
  },
  "nbformat": 4,
  "nbformat_minor": 0
}