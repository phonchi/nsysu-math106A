{
  "cells": [
    {
      "cell_type": "markdown",
      "metadata": {
        "id": "6I1gcl3WNqs0"
      },
      "source": [
        "# Assignment 3"
      ]
    },
    {
      "cell_type": "markdown",
      "metadata": {
        "id": "3Xnr6G89Nuj7"
      },
      "source": [
        "\n",
        "#### Student ID: *Double click to fill your student ID*\n",
        "#### Name: *Double click to fill your name*"
      ]
    },
    {
      "cell_type": "markdown",
      "metadata": {
        "id": "Kw2NPzUHNwJi"
      },
      "source": [
        "### (1) What is the difference between a defining a function and a function call ?"
      ]
    },
    {
      "cell_type": "markdown",
      "metadata": {
        "id": "52sFCX-kA9PT"
      },
      "source": [
        "> Ans: *Double click to answer the question*"
      ]
    },
    {
      "cell_type": "markdown",
      "metadata": {
        "id": "rR3kqHbjPztx"
      },
      "source": [
        " A function consists of the def statement and the code in its def clause. A function call is what moves the program execution into the function, and the function call evaluates to the function’s return value."
      ]
    },
    {
      "cell_type": "markdown",
      "metadata": {
        "id": "TE2l_jNtNzpF"
      },
      "source": [
        "### (2)  What will be the output of the following Python code ?\n",
        "\n",
        "```\n",
        "def greet(name, age):\n",
        "    print(\"Hello,\",name,\"! You are\",age,\"years old.\")\n",
        "\n",
        "greet(\"Alice\", 25)\n",
        "```"
      ]
    },
    {
      "cell_type": "markdown",
      "metadata": {
        "id": "CI0ygfI2Oad7"
      },
      "source": [
        "(A) Hello, 25! You are Alice years old.    \n",
        "(B) Hello, Alice! You are 25 years old.     \n",
        "(C) Hello, Alice! You are {age} years old.       \n",
        "(D) None of the above      "
      ]
    },
    {
      "cell_type": "markdown",
      "metadata": {
        "id": "GNfukpf1OO9E"
      },
      "source": [
        "> Ans: *Double click to answer the question*"
      ]
    },
    {
      "cell_type": "markdown",
      "metadata": {
        "id": "AYfjNEi1SfIL"
      },
      "source": [
        "(B)"
      ]
    },
    {
      "cell_type": "markdown",
      "metadata": {
        "id": "CrdCCbFzN4X_"
      },
      "source": [
        "### (3) What will be the output of the following Python code?\n",
        "\n",
        "```\n",
        "def calculate(a, b, c):\n",
        "    return a * b - c\n",
        "\n",
        "result1 = calculate(5, 2, 3)\n",
        "result2 = calculate(3, 5, 2)\n",
        "print(result1, result2)\n",
        "\n",
        "```"
      ]
    },
    {
      "cell_type": "markdown",
      "metadata": {
        "id": "UPb9IRtUOa1G"
      },
      "source": [
        "(A) 7  13    \n",
        "(B) 10  13     \n",
        "(C) 7  13      \n",
        "(D) 10  13     "
      ]
    },
    {
      "cell_type": "markdown",
      "metadata": {
        "id": "QwBs0KVtOPWR"
      },
      "source": [
        "> Ans: *Double click to answer the question*"
      ]
    },
    {
      "cell_type": "markdown",
      "metadata": {
        "id": "VHJl8MQMSfip"
      },
      "source": [
        "(C)"
      ]
    },
    {
      "cell_type": "markdown",
      "metadata": {
        "id": "PoiAb0rJN9Vs"
      },
      "source": [
        "### (4) What will be the output of the following Python code involving return statements?\n",
        "\n",
        "```\n",
        "def mystery(a, b):\n",
        "    if a > b:\n",
        "        return \"I'm feeling amazing!\"\n",
        "    elif a < b:\n",
        "        return \"I'm doing great!\"\n",
        "    else:\n",
        "        return \"I'm okay.\"\n",
        "\n",
        "result = mystery(10, 5)\n",
        "\n",
        "print(result)\n",
        "\n",
        "```"
      ]
    },
    {
      "cell_type": "markdown",
      "metadata": {
        "id": "qjyHen8cObGP"
      },
      "source": [
        "(A) I'm feeling amazing!    \n",
        "(B) I'm doing great!   \n",
        "(C) I'm okay.       \n",
        "(D) None of the above   "
      ]
    },
    {
      "cell_type": "markdown",
      "metadata": {
        "id": "umdaxjE5OPh6"
      },
      "source": [
        "> Ans: *Double click to answer the question*"
      ]
    },
    {
      "cell_type": "markdown",
      "metadata": {
        "id": "Yd41IlVRSgTr"
      },
      "source": [
        "(A)"
      ]
    },
    {
      "cell_type": "markdown",
      "metadata": {
        "id": "iujd0oglN9aa"
      },
      "source": [
        "### (5) What is the data type of None?"
      ]
    },
    {
      "cell_type": "markdown",
      "metadata": {
        "id": "cq46av4GObXq"
      },
      "source": [
        "(A) str    \n",
        "(B) NoneType      \n",
        "(C) bool     \n",
        "(D) list     "
      ]
    },
    {
      "cell_type": "markdown",
      "metadata": {
        "id": "kQbjZ1GkOPtV"
      },
      "source": [
        "> Ans: *Double click to answer the question*"
      ]
    },
    {
      "cell_type": "markdown",
      "metadata": {
        "id": "E-MgGpC_Sg7p"
      },
      "source": [
        "(B)"
      ]
    },
    {
      "cell_type": "markdown",
      "metadata": {
        "id": "ByOClZosN9eO"
      },
      "source": [
        "### (6) What is a return value? Can a return value be part of an expression?"
      ]
    },
    {
      "cell_type": "markdown",
      "metadata": {
        "id": "ObAcqxHFOP4y"
      },
      "source": [
        "> Ans: *Double click to answer the question*"
      ]
    },
    {
      "cell_type": "markdown",
      "metadata": {
        "id": "Hg9TbBhIadLk"
      },
      "source": [
        "A `return` value is the value that a function call evaluates to. Like any value, a `return` value can be used as part of an expression."
      ]
    },
    {
      "cell_type": "markdown",
      "metadata": {
        "id": "v6WN_qE8N59w"
      },
      "source": [
        "### (7) If a function does not have a return statement, what is the return value of a call to that function?"
      ]
    },
    {
      "cell_type": "markdown",
      "metadata": {
        "id": "tFbL2DDTOQER"
      },
      "source": [
        "> Ans: *Double click to answer the question*"
      ]
    },
    {
      "cell_type": "markdown",
      "metadata": {
        "id": "DGuQ4coOa3cj"
      },
      "source": [
        " If there is no return statement for a function, its return value is `None`."
      ]
    },
    {
      "cell_type": "markdown",
      "metadata": {
        "id": "Ji4I3IJBODxB"
      },
      "source": [
        "### (8) How can you force a variable in a function to refer to the global variable ?"
      ]
    },
    {
      "cell_type": "markdown",
      "metadata": {
        "id": "tF3Rmb4jOQQb"
      },
      "source": [
        "> Ans: *Double click to answer the question*"
      ]
    },
    {
      "cell_type": "markdown",
      "metadata": {
        "id": "Wq_3b7fbbr6C"
      },
      "source": [
        "A `global` statement will force a variable in a function to refer to the `global` variable."
      ]
    },
    {
      "cell_type": "markdown",
      "metadata": {
        "id": "HPhozePZOD0R"
      },
      "source": [
        "### (9) Write a function named `collatz()` that has one parameter named *number*. If *number* is even, then collatz should print *number* // 2 and return this value. If *number* is odd, then collatz should print and return 3 * *number* + 1."
      ]
    },
    {
      "cell_type": "code",
      "execution_count": null,
      "metadata": {
        "id": "bjPO86tFZFIi"
      },
      "outputs": [],
      "source": [
        "def collatz(number):\n",
        "    \"\"\"\n",
        "    Parameters\n",
        "    ----------\n",
        "    number: int\n",
        "        The input number.\n",
        "    Returns\n",
        "    -------\n",
        "    number: int\n",
        "        The ouput number.\n",
        "    \"\"\"\n",
        "    # coding your answer here\n",
        "    if number % 2 == 0:\n",
        "        number = number // 2\n",
        "    else:\n",
        "        number = 3 * number + 1\n",
        "    print(number)\n",
        "    return(number)"
      ]
    },
    {
      "cell_type": "markdown",
      "metadata": {
        "id": "paONjw49OEJQ"
      },
      "source": [
        "### (10) Suppose you have a module named `math_tools` that contains a function `calculate(a, b)`. Write a Python program that correctly imports and calls this function with the arguments `10` and `1`.\n",
        "\n",
        "\n"
      ]
    },
    {
      "cell_type": "code",
      "execution_count": 13,
      "metadata": {
        "id": "M6VSzFVeKYjm",
        "colab": {
          "base_uri": "https://localhost:8080/"
        },
        "outputId": "d7214fe3-edc3-4a75-d76e-3cb6022fa605"
      },
      "outputs": [
        {
          "output_type": "stream",
          "name": "stdout",
          "text": [
            "Overwriting math_tools.py\n"
          ]
        }
      ],
      "source": [
        "%%writefile math_tools.py\n",
        "def calculate(a,b):\n",
        "  return a + b"
      ]
    },
    {
      "cell_type": "code",
      "execution_count": 16,
      "metadata": {
        "id": "DXzrx7j-VPd2",
        "colab": {
          "base_uri": "https://localhost:8080/"
        },
        "outputId": "74e0e15c-08b7-40b0-e670-d15c418ecdab"
      },
      "outputs": [
        {
          "output_type": "execute_result",
          "data": {
            "text/plain": [
              "11"
            ]
          },
          "metadata": {},
          "execution_count": 16
        }
      ],
      "source": [
        "# coding your answer here\n",
        "import math_tools\n",
        "\n",
        "math_tools.calculate(10, 1)"
      ]
    }
  ],
  "metadata": {
    "colab": {
      "provenance": []
    },
    "kernelspec": {
      "display_name": "Python 3",
      "name": "python3"
    },
    "language_info": {
      "name": "python"
    }
  },
  "nbformat": 4,
  "nbformat_minor": 0
}