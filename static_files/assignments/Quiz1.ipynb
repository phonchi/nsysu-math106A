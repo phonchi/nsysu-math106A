{
 "cells": [
  {
   "cell_type": "markdown",
   "metadata": {
    "id": "S43Yd0de2REp"
   },
   "source": [
    "# Computer Programming Quiz 1"
   ]
  },
  {
   "cell_type": "markdown",
   "metadata": {
    "id": "A4_QjCdg2REu"
   },
   "source": [
    "#### Student ID: *Double click here to fill the Student ID*\n",
    "\n",
    "#### Name: *Double click here to fill the name*"
   ]
  },
  {
   "cell_type": "markdown",
   "metadata": {
    "id": "hU-j67b--fi_"
   },
   "source": [
    "## A.\tSingle Choice Questions (4%, 48%)"
   ]
  },
  {
   "cell_type": "markdown",
   "metadata": {
    "id": "4kgGFftfMMhL"
   },
   "source": [
    "### (1) Which of the following expressions, when evaluated in a Python control flow condition, returns a Boolean value that differs from the others?\n",
    "\n",
    "(A) `[]` \n",
    "\n",
    "(B) `None`\n",
    "\n",
    "(C) `\"None\"`\n",
    "\n",
    "(D) `2 > 5 or 4 < 3`"
   ]
  },
  {
   "cell_type": "markdown",
   "metadata": {
    "id": "iGh60Z0j2REy"
   },
   "source": [
    "> Ans: *double click here to answer the question.*"
   ]
  },
  {
   "cell_type": "markdown",
   "metadata": {
    "id": "jfjOG4GmbbOn"
   },
   "source": [
    "### (2) Which of the following statements is false?\n",
    "\n",
    "(A) Python’s built-in function `type()` returns the data type of an object.\n",
    "\n",
    "(B) In a function call, the parentheses following the function name enclose the function’s arguments — that is, the data the function requires to perform its task.\n",
    "\n",
    "(C) Python is case sensitive; therefore, the identifiers `pokemon` and `Pokemon` may refer to different objects.\n",
    "\n",
    "(D) A function is executed by writing its name followed by curly braces `{}`."
   ]
  },
  {
   "cell_type": "markdown",
   "metadata": {
    "id": "q-esSq79bxT5"
   },
   "source": [
    "> Ans: *double click here to answer the question.*"
   ]
  },
  {
   "cell_type": "markdown",
   "metadata": {
    "id": "K7cKh2qM4bUu"
   },
   "source": [
    "### (3) Which of the following statements is true?\n",
    "\n",
    "(A) Python uses the `^` operator to raise one value to the power of another (e.g., `2 ^ 10`).  \n",
    "\n",
    "(B) The value of the expression `7.5 // 3` is 2.5.  \n",
    "\n",
    "(C) The literal `2e5` represents `32.0` in Python.\n",
    "\n",
    "(D) Python uses indentation to define code blocks."
   ]
  },
  {
   "cell_type": "markdown",
   "metadata": {
    "id": "q2hQwIsx2REx"
   },
   "source": [
    "> Ans: *double click here to answer the question.*"
   ]
  },
  {
   "cell_type": "markdown",
   "metadata": {
    "id": "-FOoLn6N2REz"
   },
   "source": [
    "### (4) Which of the following statements is False regarding Python control flow?\n",
    "\n",
    "(A) All statements within a loop body must be indented to the same level.\n",
    "\n",
    "(B) A while loop is recommended when you know in advance how many times you want the loop to execute.\n",
    "\n",
    "(C) Both `continue` and `break` can be used to control iterations in `for` and `while` loops.\n",
    "\n",
    "(D) Calling `sys.exit()` will terminate the program immediately, regardless of pending instructions."
   ]
  },
  {
   "cell_type": "markdown",
   "metadata": {
    "id": "1HdWhzeZ2REz"
   },
   "source": [
    "> Ans: *double click here to answer the question.*"
   ]
  },
  {
   "cell_type": "markdown",
   "metadata": {
    "id": "zwH348yXZP94"
   },
   "source": [
    "### (5) Which of the following statements about sets and dictionaries in Python is True?\n",
    "\n",
    "(A) Sets are ordered collections, so you can access elements by index using square brackets.\n",
    "\n",
    "(B) Dictionary keys can be any type, including mutable types like lists.\n",
    "\n",
    "(C) The `set()` function returns an empty set, whereas `{}` creates an empty dictionary.\n",
    "\n",
    "(D) Both sets and dictionaries support indexing and slicing using square brackets."
   ]
  },
  {
   "cell_type": "markdown",
   "metadata": {
    "id": "5tKM3rtNwr3a"
   },
   "source": [
    "> Ans: *double click here to answer the question.*"
   ]
  },
  {
   "cell_type": "markdown",
   "metadata": {
    "id": "2hQx9s8IRITn"
   },
   "source": [
    "### (6) Which of the following statements is true?\n",
    "\n",
    "(A) The `random.randint(1, 5)` function call will randomly generate integers from 1 to 4.\n",
    "\n",
    "(B) The expression `list(range(1, 5))` returns the list `[1, 2, 3, 4, 5]`.\n",
    "\n",
    "(C) If a function has no `return` statement, it implicitly returns `None` after executing its last statement.\n",
    "\n",
    "(D) In function definitions, parameters with default values must always be placed on the leftmost side of the parameter list."
   ]
  },
  {
   "cell_type": "markdown",
   "metadata": {
    "id": "vR-_PIvSTInU"
   },
   "source": [
    "> Ans: *double click here to answer the question.*"
   ]
  },
  {
   "cell_type": "markdown",
   "metadata": {
    "id": "59tvrWGc2REx"
   },
   "source": [
    "### (7) What does the following line of code display?\n",
    "\n",
    "```python\t\n",
    "print(20, 30, 40, sep='; ')\n",
    "```\n",
    "\n",
    "(A) 203040\n",
    "\n",
    "(B) 20;30;40\n",
    "\n",
    "(C) 20; 30; 40\n",
    "\n",
    "(D) 20 30 40"
   ]
  },
  {
   "cell_type": "markdown",
   "metadata": {
    "id": "YcKgpEcawr3h"
   },
   "source": [
    "> Ans: *double click here to answer the question.*"
   ]
  },
  {
   "cell_type": "markdown",
   "metadata": {
    "id": "llVRpBEfXx8w"
   },
   "source": [
    "### (8) Which of the following statements is false?\n",
    "\n",
    "(A) A local variable is accessible only within the function that defines it.\n",
    "\n",
    "(B) A function can access a global variable's value without any special declaration.\n",
    "\n",
    "(C) To modify a global variable inside a function, you must declare it with the `global` keyword.\n",
    "\n",
    "(D) Using the asterisk (`*`) in an `import` statement imports every function from a module, and this practice is recommended for larger modules."
   ]
  },
  {
   "cell_type": "markdown",
   "metadata": {
    "id": "5ng60M1RZIiH"
   },
   "source": [
    "> Ans: *double click here to answer the question.*"
   ]
  },
  {
   "cell_type": "markdown",
   "metadata": {
    "id": "tCv5j3HvcQu8"
   },
   "source": [
    "### (9) Which of the following is not a correct way to create a string in `Python`?\n",
    "\n",
    "(A) `\"nsysu\"`\n",
    "\n",
    "(B) `'nsysu'`\n",
    "\n",
    "(C) `\"\"\" nsysu \"\"\"`\n",
    "\n",
    "(D) `str(nsysu)`"
   ]
  },
  {
   "cell_type": "markdown",
   "metadata": {
    "id": "wQhhAsO1ddm6"
   },
   "source": [
    "> Ans: *double click here to answer the question.*"
   ]
  },
  {
   "cell_type": "markdown",
   "metadata": {
    "id": "JAXPS7xzdf0a"
   },
   "source": [
    "### (10) Assume we have a list `x = ['m','a','t','h']`, what is the result of `x[::-1]`?\n",
    "\n",
    "(A) `['m','a','t','h']`\n",
    "\n",
    "(B) `'h'`\n",
    "\n",
    "(C) `['m','a','t']`\n",
    "\n",
    "(D) `['h','t','a','m']`"
   ]
  },
  {
   "cell_type": "markdown",
   "metadata": {
    "id": "h5nxvGEQfqsJ"
   },
   "source": [
    "> Ans: *double click here to answer the question.*"
   ]
  },
  {
   "cell_type": "markdown",
   "metadata": {
    "id": "13s-26KIwr3q"
   },
   "source": [
    "### (11) Assume the following assignment statements are executed in Python, and the user inputs an integer:\n",
    "```python\n",
    "spam1 = input()\n",
    "spam2 = int(spam1)/5\n",
    "spam3 = spam2 + 18\n",
    "\n",
    "```\n",
    "What are the data types of the variables `spam1`, `spam2`, and `spam3`, respectively?\n",
    "\n",
    "(A) int, int, int   \n",
    "\n",
    "(B) str, int, int\n",
    "\n",
    "(C) str, float, float   \n",
    "\n",
    "(D) str, float, int"
   ]
  },
  {
   "cell_type": "markdown",
   "metadata": {
    "id": "gJF-xL0swr3q"
   },
   "source": [
    "> Ans: *double click here to answer the question.*"
   ]
  },
  {
   "cell_type": "markdown",
   "metadata": {
    "id": "3GzNqoWdf-uo"
   },
   "source": [
    "### (12) Which of the following statements is false?\n",
    "\n",
    "(A) Dividing by zero results in a runtime error.\n",
    "\n",
    "(B) Omitting a closing parenthesis when calling a function produces a syntax error.\n",
    "\n",
    "(C) Misspelling a function name is considered a semantic error.\n",
    "\n",
    "(D) Misunderstanding the order of operations when writing code constitutes a semantic error."
   ]
  },
  {
   "cell_type": "markdown",
   "metadata": {
    "id": "cvYR58-4gr7u"
   },
   "source": [
    "> Ans: *double click here to answer the question.*"
   ]
  },
  {
   "cell_type": "markdown",
   "metadata": {
    "id": "IKA-mIPT-Xhs"
   },
   "source": [
    "## B.\tShort-answer and coding questions "
   ]
  },
  {
   "cell_type": "markdown",
   "metadata": {},
   "source": [
    "### (13)  Write a program that prompts the user to enter a distance in centimeters (assume the input is a positive integer of at least 100,000). Convert this distance into kilometers, meters, and remaining centimeters. Print the result in the following format: (10%)\n",
    "\n",
    "```\n",
    "<kilometers> km - <meters> m - <centimeters> cm\n",
    "```\n",
    "For example, if the user inputs 123456 centimeters, the program should calculate and print:\n",
    "\n",
    "```\n",
    "1 km - 234 m - 56 cm\n",
    "```\n",
    "\n",
    "Hint: Use the floor division and the remainder operation to calculate the number of hours, minutes, and seconds."
   ]
  },
  {
   "cell_type": "code",
   "execution_count": null,
   "metadata": {},
   "outputs": [
    {
     "name": "stdout",
     "output_type": "stream",
     "text": [
      "1 km - 234 m - 56 cm\n"
     ]
    }
   ],
   "source": [
    "# Your code here"
   ]
  },
  {
   "cell_type": "markdown",
   "metadata": {
    "id": "R1WmAgDn2REz"
   },
   "source": [
    "### (14)   Write programs that display the following triangle patterns using `for` loops. (10%)\n",
    "\n",
    "Hint: You can display a hash symbol using:\n",
    "\n",
    "```python\n",
    "print('#', end='')\n",
    "````"
   ]
  },
  {
   "cell_type": "markdown",
   "metadata": {
    "id": "vqq19iu5wr3s"
   },
   "source": [
    "(a) \n",
    "\n",
    "```\n",
    "    #\n",
    "   ###\n",
    "  #####\n",
    " #######\n",
    "#########\n",
    "```\n",
    "\n",
    "(b)\n",
    "\n",
    "```\n",
    "#########\n",
    " #######\n",
    "  #####\n",
    "   ###\n",
    "    #\n",
    "```"
   ]
  },
  {
   "cell_type": "code",
   "execution_count": null,
   "metadata": {
    "id": "EUsT1kfZwr3t",
    "outputId": "e5a8548a-d3ac-40b4-ff76-d7da9125601d"
   },
   "outputs": [
    {
     "name": "stdout",
     "output_type": "stream",
     "text": [
      "    #\n",
      "   ###\n",
      "  #####\n",
      " #######\n",
      "#########\n"
     ]
    }
   ],
   "source": [
    "# Your code here"
   ]
  },
  {
   "cell_type": "code",
   "execution_count": null,
   "metadata": {
    "id": "vp5KERtTwr3u",
    "outputId": "b93f7417-019d-49de-8991-463851d300d0"
   },
   "outputs": [
    {
     "name": "stdout",
     "output_type": "stream",
     "text": [
      "#########\n",
      " #######\n",
      "  #####\n",
      "   ###\n",
      "    #\n"
     ]
    }
   ],
   "source": [
    "# Your code here"
   ]
  },
  {
   "cell_type": "markdown",
   "metadata": {},
   "source": [
    "### (15) Write a program that computes the value of π using the Nilakantha series. The series is given by (10%):\n",
    "\n",
    "$$ \\pi = 3 + \\sum_{n=1}^{\\infty} (-1)^{n+1} \\cdot \\frac{4}{(2n)(2n+1)(2n+2)} $$\n",
    "\n",
    "Your task is to write a program that keeps adding terms from the series until the absolute error (i.e., the difference between your computed value and `math.pi`) is less than $10^{-3}$. Finally, print the computed value of π along with the number of terms used, separated by a dash. For example, the output might look like:\n",
    "\n",
    "```\n",
    "3.1416 - 2000\n",
    "```\n",
    "\n",
    "*Hint:*  \n",
    "- Use `math.pi` from the Python `math` module as the ground truth value.  \n",
    "- Use the `abs()` function to calculate the error.  \n",
    "- The first term of the series (for $ n = 1 $) is $ \\frac{4}{2 \\times 3 \\times 4} $."
   ]
  },
  {
   "cell_type": "code",
   "execution_count": null,
   "metadata": {},
   "outputs": [],
   "source": [
    "import math\n",
    "\n",
    "# Your code here"
   ]
  },
  {
   "cell_type": "markdown",
   "metadata": {
    "id": "IZxJiaExitKu"
   },
   "source": [
    "> Ans: *double click here to answer the question.*"
   ]
  },
  {
   "cell_type": "markdown",
   "metadata": {},
   "source": [
    "We need 6 terms in order to get the error below $10^{-3}$"
   ]
  },
  {
   "cell_type": "markdown",
   "metadata": {
    "id": "8pBqFykejV6l"
   },
   "source": [
    "### (16) Here, we will simulate the process of a simple card game. The game is played with a standard deck of 52 cards, and we will randomly select 20 cards and divide them evenly between two players. Each player gets a hand of 10 cards. The goal of the game is to determine whether the player got a flush (i.e., at least five cards of the same suit) or not in his 10 cards. If any suit appears five or more times, please return `True`. Otherwise, return `False`. Please complete the following game design by filling in the missing part in the function. (12%)."
   ]
  },
  {
   "cell_type": "code",
   "execution_count": null,
   "metadata": {},
   "outputs": [],
   "source": [
    "import random\n",
    "\n",
    "RANKS = [\"A\", \"2\", \"3\", \"4\", \"5\", \"6\", \"7\", \"8\", \"9\", \"10\", \"J\", \"Q\", \"K\"]\n",
    "\n",
    "def create_deck():\n",
    "    suits = ['♣', '♦', '♥', '♠']\n",
    "    deck = [(rank, suit) for rank in RANKS for suit in suits]  # Use list comprehension to create the deck.\n",
    "    return deck\n",
    "\n",
    "# This function shuffles the deck, selects 20 cards, and deals two hands of 10 cards each.\n",
    "def deal_cards(deck):\n",
    "    random.shuffle(deck)\n",
    "    deck = deck[:20]\n",
    "    hand1 = deck[:10]  # Split into 10 cards for each hand using slicing.\n",
    "    hand2 = deck[10:]\n",
    "    return hand1, hand2\n",
    "\n",
    "def is_flush(hand):\n",
    "    \"\"\"Return True if hand contains a flush (at least 5 cards of the same suit); otherwise, return False.\"\"\"\n",
    "    # Your code here   "
   ]
  },
  {
   "cell_type": "code",
   "execution_count": null,
   "metadata": {
    "id": "SaXFeg5aPP9O"
   },
   "outputs": [],
   "source": [
    "# Test data 1\n",
    "random.seed(2025)\n",
    "deck = create_deck()\n",
    "hand1, hand2 = deal_cards(deck)\n",
    "f1 = is_flush(hand1)\n",
    "f2 = is_flush(hand2)\n",
    "print(\"Test data 1:\", f1, f2)\n",
    "\n",
    "# Test data 2\n",
    "random.seed(20)\n",
    "deck = create_deck()\n",
    "hand1, hand2 = deal_cards(deck)\n",
    "f3 = is_flush(hand1)\n",
    "f4 = is_flush(hand2)\n",
    "print(\"Test data 2:\", f3, f4)\n",
    "\n",
    "\n",
    "assert (f1,f2) == (True, False)\n",
    "assert (f3,f4) == (False, False)"
   ]
  },
  {
   "cell_type": "markdown",
   "metadata": {
    "id": "E4MiRgFA6Xl_"
   },
   "source": [
    "### (17) Considering the following code snippet: (10%)\n",
    "\n",
    "```python\n",
    "def add_event(calendar):\n",
    "    calendar['Friday'].append('Conference')\n",
    "    print(\"Inside function:\", calendar)\n",
    "\n",
    "weekly_calendar = {'Monday': ['Meeting'], 'Friday': ['Lunch'], 'Saturday': ['Hike']}\n",
    "calendar_copy = weekly_calendar  # Modify this line so that changes inside add_event do not affect weekly_calendar.\n",
    "add_event(calendar_copy)\n",
    "print(\"Outside function:\", weekly_calendar)\n",
    "```\n",
    "\n",
    "(a) What will be printed when executing this code, and why does this happen?\n",
    "\n",
    "(b) How can you modify the assignment of `calendar_copy` so that the changes made inside `add_event` do not alter the original `weekly_calendar`?"
   ]
  },
  {
   "cell_type": "markdown",
   "metadata": {},
   "source": [
    "> Ans: *double click here to answer the question.*"
   ]
  }
 ],
 "metadata": {
  "colab": {
   "collapsed_sections": [
    "JAXPS7xzdf0a",
    "193bVqAlgtmW"
   ],
   "provenance": []
  },
  "kernelspec": {
   "display_name": "base",
   "language": "python",
   "name": "python3"
  },
  "language_info": {
   "codemirror_mode": {
    "name": "ipython",
    "version": 3
   },
   "file_extension": ".py",
   "mimetype": "text/x-python",
   "name": "python",
   "nbconvert_exporter": "python",
   "pygments_lexer": "ipython3",
   "version": "3.9.13"
  }
 },
 "nbformat": 4,
 "nbformat_minor": 0
}
