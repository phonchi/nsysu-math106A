{
  "cells": [
    {
      "cell_type": "markdown",
      "metadata": {
        "id": "f3hjYC3IATpC"
      },
      "source": [
        "# Assignment 1"
      ]
    },
    {
      "cell_type": "markdown",
      "metadata": {
        "id": "QGMHdY4YAXRf"
      },
      "source": [
        "#### Student ID: *Double click to fill your student ID*\n",
        "#### Name: *Double click to fill your name*"
      ]
    },
    {
      "cell_type": "markdown",
      "metadata": {
        "id": "Va-1Et7WAxmV"
      },
      "source": [
        "### (1) Which of the following equals to **False**?"
      ]
    },
    {
      "cell_type": "markdown",
      "metadata": {
        "id": "RYvG3akzhag-"
      },
      "source": [
        "(A) $(2 == 5)$ or $(7 == 7)$\n",
        "\n",
        "(B) $(3 + 3 == 6)$ and not $(3 + 3 == 7)$ and $(3 * 2 == 3 + 3)$\n",
        "\n",
        "(C) $(4 + 1 == 5)$ and $(3 + 6 == 5)$ and $(3 * 3 == 3 + 3)$\n",
        "\n",
        "(D) $(4 < 6)$ or $(2 + 4 == 6)$"
      ]
    },
    {
      "cell_type": "markdown",
      "metadata": {
        "id": "52sFCX-kA9PT"
      },
      "source": [
        "> Ans: *Double click to answer the question*"
      ]
    },
    {
      "cell_type": "markdown",
      "metadata": {
        "id": "U_sojOglA3g7"
      },
      "source": [
        "### (2) What should *'eggs' * 4* evaluate to?"
      ]
    },
    {
      "cell_type": "markdown",
      "metadata": {
        "id": "f9pzMfVtj5CZ"
      },
      "source": [
        "(A) 'eeeeggggggggssss'\n",
        "\n",
        "(B) 'eggs' 'eggs' 'eggs' 'eggs'\n",
        "\n",
        "(C) 'eggseggss'\n",
        "  \n",
        "(D) 'eggseggseggseggs'"
      ]
    },
    {
      "cell_type": "markdown",
      "metadata": {
        "id": "jxdddEglaf1f"
      },
      "source": [
        "> Ans: *Double click to answer the question*"
      ]
    },
    {
      "cell_type": "markdown",
      "metadata": {
        "id": "ixwr0TetajfZ"
      },
      "source": [
        "### (3) Assume that we execute the following assignnment statment:\n",
        "```\n",
        "a1 = input()\n",
        "a2 = int(a1)\n",
        "a3 = a2 + 25\n",
        "\n",
        "```\n",
        "which variable has different data type than others?"
      ]
    },
    {
      "cell_type": "markdown",
      "metadata": {
        "id": "-KIjmIvHne49"
      },
      "source": [
        "(A) a1\n",
        "\n",
        "(B) a2\n",
        "\n",
        "(C) a3  \n",
        "\n",
        "(D) All of them have same data type"
      ]
    },
    {
      "cell_type": "markdown",
      "metadata": {
        "id": "tbCbMvhtLuXs"
      },
      "source": [
        "> Ans: *Double click to answer the question*"
      ]
    },
    {
      "cell_type": "markdown",
      "metadata": {
        "id": "5leuru7iamSf"
      },
      "source": [
        "### (4) Which of the following is not a data type?"
      ]
    },
    {
      "cell_type": "markdown",
      "metadata": {
        "id": "1e9_p04FK49I"
      },
      "source": [
        "(A) floats  \n",
        "\n",
        "(B) dictionary\n",
        "\n",
        "(C) book\n",
        "  \n",
        "(D) tuples"
      ]
    },
    {
      "cell_type": "markdown",
      "metadata": {
        "id": "BbCt2LPWLvTz"
      },
      "source": [
        "> Ans: *Double click to answer the question*"
      ]
    },
    {
      "cell_type": "markdown",
      "metadata": {
        "id": "EHTrt7b6aoPH"
      },
      "source": [
        "### (5) What does the variable *nsysu* contain after the following code runs?\n",
        "```\n",
        "nsysu = 30\n",
        "nsysu + 3\n",
        "nsysu - 7\n",
        "```"
      ]
    },
    {
      "cell_type": "markdown",
      "metadata": {
        "id": "VIjAWeKkMTBm"
      },
      "source": [
        "(A) 23\n",
        "\n",
        "(B) 30\n",
        "\n",
        "(C) 33\n",
        "  \n",
        "(D) None of above"
      ]
    },
    {
      "cell_type": "markdown",
      "metadata": {
        "id": "SfinZKEwLwT9"
      },
      "source": [
        "> Ans: *Double click to answer the question*"
      ]
    },
    {
      "cell_type": "markdown",
      "metadata": {
        "id": "S1b9b7qxaqBy"
      },
      "source": [
        "### (6) Why does this expression cause an error? How can you fix it?\n",
        "```\n",
        "'I have studied for ' + 8 + ' hours today.'\n",
        "```"
      ]
    },
    {
      "cell_type": "markdown",
      "metadata": {
        "id": "yTSYl_ZTLyEn"
      },
      "source": [
        "> Ans: *Double click to answer the question*"
      ]
    },
    {
      "cell_type": "markdown",
      "metadata": {
        "id": "JL57UJ_Ear4u"
      },
      "source": [
        "### (7) What is the difference between the equal to operator and the assignment operator?"
      ]
    },
    {
      "cell_type": "markdown",
      "metadata": {
        "id": "hqzs-g6oLzXQ"
      },
      "source": [
        "> Ans: *Double click to answer the question*"
      ]
    },
    {
      "cell_type": "markdown",
      "metadata": {
        "id": "GqsguZ8datkT"
      },
      "source": [
        "### (8) What is the difference between `if condition:`, `if-else`, and `if-elif-else` statements in Python?"
      ]
    },
    {
      "cell_type": "markdown",
      "metadata": {
        "id": "CIiX5P_UL0Rb"
      },
      "source": [
        "> Ans: *Double click to answer the question*"
      ]
    },
    {
      "cell_type": "markdown",
      "metadata": {
        "id": "EoCGgAmBavB_"
      },
      "source": [
        "### (9) Write code that prints `Hello` if **3** is stored in spam, prints `Sherry` if **10** is stored in spam, and prints `NSYSU` if anything else is stored in spam."
      ]
    },
    {
      "cell_type": "code",
      "execution_count": null,
      "metadata": {
        "id": "DqzGs6-aLnBJ"
      },
      "outputs": [],
      "source": [
        "# coding your answer here"
      ]
    },
    {
      "cell_type": "markdown",
      "metadata": {
        "id": "C8Nn6YwGawml"
      },
      "source": [
        "### (10) Write a Python program to determine the category of a person based on their age.\n",
        "A person’s category is defined as follows:\n",
        "\n",
        "* Child if age is 0 to 12\n",
        "* Teenager if age is 13 to 19\n",
        "* Adult if age is 20 to 64\n",
        "* Senior if age is 65 or above\n",
        "\n",
        "Your program should:\n",
        "1. Prompt the user to enter their age.\n",
        "2. Use if-elif-else statements to determine and print the correct category.\n"
      ]
    },
    {
      "cell_type": "markdown",
      "metadata": {
        "id": "np1avVOFdW7T"
      },
      "source": [
        "Example Outputs:\n",
        "\n",
        "---\n",
        "Enter your age :   \n",
        "8\n",
        "\n",
        "Outputs : You are a Child.\n",
        "\n",
        "---\n",
        "or\n",
        "\n",
        "---\n",
        "Enter your age :    \n",
        "23  \n",
        "\n",
        "Outputs : You are an Adult.\n",
        "\n",
        "---"
      ]
    },
    {
      "cell_type": "code",
      "execution_count": null,
      "metadata": {
        "id": "BoKMVw86_9Gt"
      },
      "outputs": [],
      "source": [
        "# coding your answer here"
      ]
    }
  ],
  "metadata": {
    "colab": {
      "provenance": []
    },
    "kernelspec": {
      "display_name": "Python 3",
      "language": "python",
      "name": "python3"
    },
    "language_info": {
      "name": "python",
      "version": "3.9.13"
    },
    "vscode": {
      "interpreter": {
        "hash": "03f56bbb24441ae4e3d8ebc753a15d5c223812eb736de7dd22a3258806f8d972"
      }
    }
  },
  "nbformat": 4,
  "nbformat_minor": 0
}