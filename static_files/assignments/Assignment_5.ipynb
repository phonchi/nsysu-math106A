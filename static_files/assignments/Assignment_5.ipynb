{
  "cells": [
    {
      "cell_type": "markdown",
      "metadata": {
        "id": "QvapVWPoW88y"
      },
      "source": [
        "# Assignment 5"
      ]
    },
    {
      "cell_type": "markdown",
      "metadata": {
        "id": "q4tb-aRZW-kD"
      },
      "source": [
        "#### Student ID: *Double click to fill your student ID*\n",
        "#### Name: *Double click to fill your name*"
      ]
    },
    {
      "cell_type": "markdown",
      "metadata": {
        "id": "c6qCDhJwXCjZ"
      },
      "source": [
        "### (1) What do the `\\n` and `\\t` escape characters represent?"
      ]
    },
    {
      "cell_type": "markdown",
      "metadata": {
        "id": "PduuEAnTXUKA"
      },
      "source": [
        "(A) newline, tab   \n",
        "(B) space, tab   \n",
        "(C) newline, backslash   \n",
        "(D) backslash, space"
      ]
    },
    {
      "cell_type": "markdown",
      "metadata": {
        "id": "TrKhIKL9Xide"
      },
      "source": [
        "> Ans: *Double click to answer the question*"
      ]
    },
    {
      "cell_type": "markdown",
      "metadata": {
        "id": "Iq8z17BcXHDg"
      },
      "source": [
        "### (2) What do the following expressions evaluate to?\n",
        " `'Programming is fun!'[5]` ,\n",
        " `'Programming is fun!'[5:]` ,and\n",
        " `'Programming is fun!'[:11]`\n"
      ]
    },
    {
      "cell_type": "markdown",
      "metadata": {
        "id": "rTOd8x9RXaKA"
      },
      "source": [
        "(A) 'a', 'amming is fun!', and 'Programming'          \n",
        "(B) 'g', 'gramming is fun!', and 'Programmin'             \n",
        "(C) 'a', 'amming is fun!', and 'Programmin'                \n",
        "(D) 'g', 'gramming is fun!', and 'Programming'           \n",
        "\n"
      ]
    },
    {
      "cell_type": "markdown",
      "metadata": {
        "id": "EKZxDSCTXkUO"
      },
      "source": [
        "> Ans: *Double click to answer the question*"
      ]
    },
    {
      "cell_type": "markdown",
      "metadata": {
        "id": "z-rQC77mXHJ3"
      },
      "source": [
        "### (3)  Which of the following string methods are used for joining elements of a sequence and splitting a string into a list?"
      ]
    },
    {
      "cell_type": "markdown",
      "metadata": {
        "id": "VMJaaLylXaWm"
      },
      "source": [
        "(A) `upper()` and `lower()`    \n",
        "(B) `startswith()` and `endswith()`      \n",
        "(C) `join()` and `split()`      \n",
        "(D) `replace()`      "
      ]
    },
    {
      "cell_type": "markdown",
      "metadata": {
        "id": "DlJmR2nBXkjK"
      },
      "source": [
        "> Ans: *Double click to answer the question*"
      ]
    },
    {
      "cell_type": "markdown",
      "metadata": {
        "id": "CChNWPJqXHNh"
      },
      "source": [
        "### (4) What does `'-'.join('Only one remains.'.split())` evaluate to?"
      ]
    },
    {
      "cell_type": "markdown",
      "metadata": {
        "id": "LvHS07YnXahe"
      },
      "source": [
        "(A) 'Only one remains.'    \n",
        "(B) 'Only-one-remains.'     \n",
        "(C) 'Only one-remains.'     \n",
        "(D) 'Only-one remains.'      "
      ]
    },
    {
      "cell_type": "markdown",
      "metadata": {
        "id": "bJdSKGddXkwh"
      },
      "source": [
        "> Ans: *Double click to answer the question*"
      ]
    },
    {
      "cell_type": "markdown",
      "metadata": {
        "id": "Ywou1Fw1XHQr"
      },
      "source": [
        "### (5) Which method can be used to verify that a string consists entirely of decimal digits?"
      ]
    },
    {
      "cell_type": "markdown",
      "metadata": {
        "id": "BrbTfJdLXasZ"
      },
      "source": [
        "(A) isnumber()    \n",
        "(B) isnumeric()     \n",
        "(C) isdigit()      \n",
        "(D) isdecimal()      "
      ]
    },
    {
      "cell_type": "markdown",
      "metadata": {
        "id": "qP_c_-W9Xk9a"
      },
      "source": [
        "> Ans: *Double click to answer the question*"
      ]
    },
    {
      "cell_type": "markdown",
      "metadata": {
        "id": "6wxdsDFBXHUL"
      },
      "source": [
        "### (6) How can you access a specific character in a string in Python?"
      ]
    },
    {
      "cell_type": "markdown",
      "metadata": {
        "id": "6xFvOmhwXl3H"
      },
      "source": [
        "> Ans: *Double click to answer the question*"
      ]
    },
    {
      "cell_type": "markdown",
      "metadata": {
        "id": "4tLsXnTVXHX8"
      },
      "source": [
        "### (7) How can you remove all occurrences of a specific character from a string in Python?"
      ]
    },
    {
      "cell_type": "markdown",
      "metadata": {
        "id": "uJgPUgu5XlJg"
      },
      "source": [
        "> Ans: *Double click to answer the question*"
      ]
    },
    {
      "cell_type": "markdown",
      "metadata": {
        "id": "IrcPN5BaXHaQ"
      },
      "source": [
        "### (8) What is the result of using the `in` operator to check if a substring exists within a string in Python?"
      ]
    },
    {
      "cell_type": "markdown",
      "metadata": {
        "id": "Kpm80l3rXmQ2"
      },
      "source": [
        "> Ans: *Double click to answer the question*"
      ]
    },
    {
      "cell_type": "markdown",
      "metadata": {
        "id": "PGCTicZsXHdY"
      },
      "source": [
        "### (9) Write a program that prompts the user to enter a string, and then finds the most common word in the string.\n",
        "Hint:    \n",
        "1.  Convert the string to lowercase and split it into a list of words.\n",
        "2.  Create a dictionary called `word_freq` to store the frequency of each word in the list.\n",
        "3.  Find the most common word in the dictionary by using the `max()` function with the `key argument` set to `word_freq.get`, which returns the value associated with each word in the dictionary."
      ]
    },
    {
      "cell_type": "markdown",
      "metadata": {
        "id": "PwSg6uWBmex3"
      },
      "source": [
        "sample output:   \n",
        "\n",
        "---\n",
        "Input: `The quick brown fox jumps over the lazy dog. The dog jumps over the fence.`   \n",
        "Output: the\n",
        "\n",
        "---"
      ]
    },
    {
      "cell_type": "code",
      "execution_count": null,
      "metadata": {
        "id": "6-LzJxNtXrHe"
      },
      "outputs": [],
      "source": [
        "# Program to find the most common word in a string\n",
        "\n",
        "string = input(\"Enter a string: \")\n",
        "\n",
        "# coding your answer here\n",
        "\n"
      ]
    },
    {
      "cell_type": "markdown",
      "metadata": {
        "id": "TA3yUv1BXHgQ"
      },
      "source": [
        "### (10) \"Word Challenge Game\" is a fun game where players draw word cards from a deck and complete string manipulation challenges to earn points."
      ]
    },
    {
      "cell_type": "markdown",
      "metadata": {
        "id": "INwOOTNBbWaE"
      },
      "source": [
        "**Rule:**    \n",
        "1.  The deck contains word cards (e.g., \"Star\", \"Moon\", \"Planet\", \"xAI\").  \n",
        "2.  In each round, the player draws a card and must complete a string manipulation challenge.  \n",
        "3.  The challenges include:\n",
        "  * Converting the word to lowercase (using `lower()`).\n",
        "  * Checking if the word ends with a specific letter (using `endswith()`).\n",
        "  * Joining the word's characters with a hyphen (using `join()` and `split()`).\n",
        "4.  If the player completes the challenge correctly, they earn 1 point; otherwise, they get 0 points.\n",
        "5.  The game lasts for 3 rounds, and the total score is calculated at the end.\n"
      ]
    },
    {
      "cell_type": "markdown",
      "source": [
        "***Example Output(1):***   \n",
        "Welcome to Word Challenge Game! Follow the instructions to earn points.\n",
        "\n",
        "**Round 1:**         \n",
        "You drew the card: Moon     \n",
        "Challenge: Convert the word to lowercase.     \n",
        "Enter the word in lowercase: moon     \n",
        "Correct! +1 point\n",
        "\n",
        "**Round 2:**   \n",
        "You drew the card: Planet     \n",
        "Challenge: Does the word end with 'n'? (yes/no)      \n",
        "Your answer: No     \n",
        "Correct! +1 point     \n",
        "\n",
        "**Round 3:**      \n",
        "You drew the card: Star       \n",
        "Challenge: Convert the word to lowercase.            \n",
        "Enter the word in lowercase: star           \n",
        "Correct! +1 point            \n",
        "      \n",
        "\n",
        "Game Over! Your final score: 3/3    \n",
        "Perfect score! Amazing job!       "
      ],
      "metadata": {
        "id": "jzuqUn7cva80"
      }
    },
    {
      "cell_type": "markdown",
      "source": [
        "***Example Output(2):***         \n",
        "Welcome to Word Challenge Game! Follow the instructions to earn points.\n",
        "      \n",
        "**Round 1:**             \n",
        "You drew the card: Sky           \n",
        "Challenge: Convert the word to lowercase.             \n",
        "Enter the word in lowercase: sky             \n",
        "Correct! +1 point               \n",
        "\n",
        "**Round 2:**             \n",
        "You drew the card: Python             \n",
        "Challenge: Split the word into characters and join them with a hyphen ('-').             \n",
        "Enter the modified word: P-y-t-h-o-n              \n",
        "Correct! +1 point                   \n",
        "\n",
        "**Round 3:**          \n",
        "You drew the card: Star               \n",
        "Challenge: Split the word into characters and join them with a hyphen ('-').                 \n",
        "Enter the modified word: s-t-a-r               \n",
        "Wrong! The correct answer is S-t-a-r.                \n",
        "\n",
        "Game Over! Your final score: 2/3                 \n",
        "Good effort! Keep practicing!          "
      ],
      "metadata": {
        "id": "GuoRMYWYvdz3"
      }
    },
    {
      "cell_type": "code",
      "source": [
        "import random\n",
        "\n",
        "# Initialize the deck with some words\n",
        "deck = [\"Star\", \"Moon\", \"Planet\", \"xAI\", \"Sky\", \"Hello\", \"Python\", \"Code\"]\n",
        "\n",
        "# Shuffle the deck\n",
        "random.shuffle(deck)\n",
        "\n",
        "# Initialize player's score\n",
        "player_score = 0\n",
        "rounds = 3\n",
        "\n",
        "print(\"Welcome to Word Challenge Game! Follow the instructions to earn points.\")\n",
        "\n",
        "# Main game loop for 3 rounds\n",
        "for round_num in range(1, rounds + 1):\n",
        "    print(f\"\\nRound {round_num}:\")\n",
        "\n",
        "    # Draw a card\n",
        "    card = deck.pop()\n",
        "    print(f\"You drew the card: {card}\")\n",
        "\n",
        "    # Randomly select a challenge\n",
        "    challenge = random.randint(1, 3)\n",
        "\n",
        "    # Challenge 1: Convert to lowercase\n",
        "    if challenge == 1:\n",
        "        print(\"Challenge: Convert the word to lowercase.\")\n",
        "        # coding your answer here\n",
        "        # Use the appropriate string method to convert 'card' to lowercase and store it in 'correct_answer'\n",
        "        correct_answer = __________\n",
        "        player_answer = input(\"Enter the word in lowercase: \")\n",
        "        if player_answer == correct_answer:\n",
        "            print(\"Correct! +1 point\")\n",
        "            player_score += 1\n",
        "        else:\n",
        "            print(f\"Wrong! The correct answer is {correct_answer}.\")\n",
        "\n",
        "    # Challenge 2: Check if the word ends with a specific letter\n",
        "    elif challenge == 2:\n",
        "        letter = \"n\"  # Fixed letter to check\n",
        "        print(f\"Challenge: Does the word end with '{letter}'? (yes/no)\")\n",
        "        # coding your answer here\n",
        "        # Use a string method to check if 'card' ends with 'letter', and set 'correct_answer' to \"yes\" or \"no\"\n",
        "        # Hint: Use a ternary operator (e.g., \"yes\" if condition else \"no\")\n",
        "        correct_answer = \"yes\" if __________ else \"no\"\n",
        "        player_answer = input(\"Your answer: \").lower()\n",
        "        if player_answer == correct_answer:\n",
        "            print(\"Correct! +1 point\")\n",
        "            # coding your answer here\n",
        "            # Update the player's score by adding 1 point\n",
        "            __________\n",
        "        else:\n",
        "            print(f\"Wrong! The correct answer is {correct_answer}.\")\n",
        "\n",
        "    # Challenge 3: Join the word's characters with a hyphen\n",
        "    else:\n",
        "        print(\"Challenge: Split the word into characters and join them with a hyphen ('-').\")\n",
        "        # coding your answer here\n",
        "        # Use the 'join' method to join the characters of 'card' with a hyphen (\"-\") and store it in 'correct_answer'\n",
        "        # Hint: You can directly use 'join' on the string 'card' to get its characters\n",
        "        correct_answer = __________\n",
        "        player_answer = input(\"Enter the modified word: \")\n",
        "        if player_answer == correct_answer:\n",
        "            print(\"Correct! +1 point\")\n",
        "            player_score += 1\n",
        "        else:\n",
        "            print(f\"Wrong! The correct answer is {correct_answer}.\")\n",
        "\n",
        "# Game ends, display final score\n",
        "print(f\"\\nGame Over! Your final score: {player_score}/{rounds}\")\n",
        "\n",
        "\n",
        "# Write an if-elif-else statement to display a message based on the player's score\n",
        "# - If player_score equals rounds, print \"Perfect score! Amazing job!\"\n",
        "# - If player_score is greater than 0, print \"Good effort! Keep practicing!\"\n",
        "# - Otherwise, print \"Better luck next time!\"\n",
        "# coding your answer here\n",
        "\n",
        "\n",
        "\n"
      ],
      "metadata": {
        "id": "qAoCCHNzvKnE"
      },
      "execution_count": null,
      "outputs": []
    }
  ],
  "metadata": {
    "colab": {
      "provenance": []
    },
    "kernelspec": {
      "display_name": "Python 3",
      "name": "python3"
    },
    "language_info": {
      "name": "python"
    }
  },
  "nbformat": 4,
  "nbformat_minor": 0
}