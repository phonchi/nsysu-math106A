{
  "cells": [
    {
      "cell_type": "markdown",
      "metadata": {
        "id": "QvapVWPoW88y"
      },
      "source": [
        "# Assignment 7"
      ]
    },
    {
      "cell_type": "markdown",
      "metadata": {
        "id": "q4tb-aRZW-kD"
      },
      "source": [
        "#### Student ID: *Double click to fill your student ID*\n",
        "#### Name: *Double click to fill your name*"
      ]
    },
    {
      "cell_type": "markdown",
      "metadata": {
        "id": "c6qCDhJwXCjZ"
      },
      "source": [
        "### (1) Which of the following statement is False?"
      ]
    },
    {
      "cell_type": "markdown",
      "metadata": {
        "id": "PduuEAnTXUKA"
      },
      "source": [
        "(A) `Python` does not have private attributes. Instead, you use naming conventions to design classes that encourage correct use.    \n",
        "\n",
        "(B) Each new class you create can provide an `__init__` method that specifies how to initialize an object's data attributes.\n",
        "\n",
        "(C) We can access the attribute of the class using the dot notation.\n",
        "\n",
        "(D) If we access an attribute starting with `_`, an error will occur."
      ]
    },
    {
      "cell_type": "markdown",
      "metadata": {
        "id": "TrKhIKL9Xide"
      },
      "source": [
        "> Ans: *Double click to answer the question*"
      ]
    },
    {
      "cell_type": "markdown",
      "metadata": {
        "id": "naKOqbBVdBUX"
      },
      "source": [
        "(D) Actually, by convention, Python programmers know that any attribute name beginning with an underscore (_) is for a class’s internal use only. Even when we use this convention, attributes are always accessible."
      ]
    },
    {
      "cell_type": "markdown",
      "metadata": {
        "id": "z-rQC77mXHJ3"
      },
      "source": [
        "### (2) Which of the following term describes the \"has a\" relationship between two classes?"
      ]
    },
    {
      "cell_type": "markdown",
      "metadata": {
        "id": "VMJaaLylXaWm"
      },
      "source": [
        "(A) Composition\n",
        "\n",
        "(B) Inheritance\n",
        "\n",
        "(C) Polymorphism\n",
        "\n",
        "(D) Encapsulation"
      ]
    },
    {
      "cell_type": "markdown",
      "metadata": {
        "id": "S2cPQDTyjCyx"
      },
      "source": [
        "> Ans: *Double click to answer the question*"
      ]
    },
    {
      "cell_type": "markdown",
      "metadata": {
        "id": "3E6dkg_3jCyz"
      },
      "source": [
        "(A)"
      ]
    },
    {
      "cell_type": "markdown",
      "metadata": {
        "id": "Iq8z17BcXHDg"
      },
      "source": [
        "### (3) Which of the following statement is False?"
      ]
    },
    {
      "cell_type": "markdown",
      "metadata": {
        "id": "rTOd8x9RXaKA"
      },
      "source": [
        "(A) The `self` is used to represent the instance of the class in `Python`; if it is included in the method definition, it must come first before any other parameters.\n",
        "\n",
        "(B) When calling an instance method in `Python`, `self` must be passed explicitly and it must come first before any other arguments.\n",
        "\n",
        "(C) Any variable prefixed with `self` is available to every method in the class.\n",
        "\n",
        "(D) A class definition begins with the keyword class followed by the class’s name and a colon (:)."
      ]
    },
    {
      "cell_type": "markdown",
      "metadata": {
        "id": "EKZxDSCTXkUO"
      },
      "source": [
        "> Ans: *Double click to answer the question*"
      ]
    },
    {
      "cell_type": "markdown",
      "metadata": {
        "id": "aKe0kpVYjCy2"
      },
      "source": [
        "(B) We do not have to pass it, it will be passed implicitly."
      ]
    },
    {
      "cell_type": "markdown",
      "metadata": {
        "id": "CChNWPJqXHNh"
      },
      "source": [
        "### (4) Which of the following special methods is used to initialize the attributes of an object when it is created?"
      ]
    },
    {
      "cell_type": "markdown",
      "metadata": {
        "id": "LvHS07YnXahe"
      },
      "source": [
        "(A) `__str__`     \n",
        "(B) `__init__`     \n",
        "(C) `__repr__`     \n",
        "(D) `__name__`"
      ]
    },
    {
      "cell_type": "markdown",
      "metadata": {
        "id": "bJdSKGddXkwh"
      },
      "source": [
        "> Ans: *Double click to answer the question*"
      ]
    },
    {
      "cell_type": "markdown",
      "metadata": {
        "id": "BMu6gpCpjCy3"
      },
      "source": [
        "(B)"
      ]
    },
    {
      "cell_type": "markdown",
      "metadata": {
        "id": "Ywou1Fw1XHQr"
      },
      "source": [
        "### (5) Suppose we define a class `Pokemon` and a subclass `Pikachu`. Which of the following statements can be used to check whether a variable `p` is an instance of the `Pokemon` class (including subclasses)?"
      ]
    },
    {
      "cell_type": "markdown",
      "metadata": {
        "id": "BrbTfJdLXasZ"
      },
      "source": [
        "(A) `type(p) == Pokemon`       \n",
        "(B) `dir(p) == Pokemon`        \n",
        "(C) `isinstance(p, Pokemon)`      \n",
        "(D) `id(p) == Pokemon`"
      ]
    },
    {
      "cell_type": "markdown",
      "metadata": {
        "id": "qP_c_-W9Xk9a"
      },
      "source": [
        "> Ans: *Double click to answer the question*"
      ]
    },
    {
      "cell_type": "markdown",
      "metadata": {
        "id": "lKGGyjW3mvI6"
      },
      "source": [
        "(C)"
      ]
    },
    {
      "cell_type": "markdown",
      "metadata": {
        "id": "6wxdsDFBXHUL"
      },
      "source": [
        "### (6) Which of the following statements about inheritance and method overriding in Python is TRUE?"
      ]
    },
    {
      "cell_type": "markdown",
      "source": [
        "(A) A child class must define all methods again, even if they are inherited.    \n",
        "(B) If a method in the child class has the same name as one in the parent class, the parent’s version will always be called.     \n",
        "(C) We use `super()` in the child class to access the parent class’s method or constructor.     \n",
        "(D) Attributes starting with `_` cannot be accessed by the child class."
      ],
      "metadata": {
        "id": "KKAj5eLqVYfl"
      }
    },
    {
      "cell_type": "markdown",
      "metadata": {
        "id": "GibGi6aMVr4T"
      },
      "source": [
        "> Ans: *Double click to answer the question*"
      ]
    },
    {
      "cell_type": "markdown",
      "metadata": {
        "id": "vPROzOb-Vr4U"
      },
      "source": [
        "(C)"
      ]
    },
    {
      "cell_type": "markdown",
      "metadata": {
        "id": "4tLsXnTVXHX8"
      },
      "source": [
        "### (7) Coding Exercise — Object-Oriented Programming: Inheritance and Composition"
      ]
    },
    {
      "cell_type": "markdown",
      "source": [
        "**Task:**    \n",
        "Design a class `Account` that represents a basic bank account, and a subclass `VIPAccount` that inherits from it. Also, create a `Bank` class that stores multiple accounts using **composition**.\n",
        "\n",
        "**Requirements:**\n",
        "\n",
        "1. The `Account` class should have:\n",
        "\n",
        "  * An `__init__` method that takes `name` and `balance` as parameters.\n",
        "\n",
        "  * A method `show()` that prints:\n",
        "`Account: <name>, Balance: <balance>`\n",
        "\n",
        "2. The `VIPAccount` class should inherit from `Account`, and override the `show()` method to print:      \n",
        "`VIP Account: <name>, Balance: <balance>`\n",
        "\n",
        "3. The `Bank` class should:\n",
        "\n",
        "  * Use composition to store multiple accounts (both regular and VIP).\n",
        "\n",
        "  * Provide an `add_account(account)` method to add an account.\n",
        "\n",
        "  * Provide a `show_all()` method to display all account information."
      ],
      "metadata": {
        "id": "RVsyUldVRlVi"
      }
    },
    {
      "cell_type": "code",
      "execution_count": null,
      "metadata": {
        "id": "-WR2wsy5jCy_"
      },
      "outputs": [],
      "source": [
        "# Base class: Account\n",
        "class Account:\n",
        "    # Your code here\n",
        "    def __init__(self, name, balance):\n",
        "        self.name = name\n",
        "        self.balance = balance\n",
        "\n",
        "    # Your code here\n",
        "    def show(self):\n",
        "        print(f'Account: {self.name}, Balance: {self.balance}')\n",
        "\n",
        "\n",
        "# Subclass: VIPAccount\n",
        "class VIPAccount(Account):\n",
        "    # Your code here\n",
        "    def __init__(self, name, balance):\n",
        "        super().__init__(name, balance)\n",
        "\n",
        "    # Your code here\n",
        "    def show(self):\n",
        "        print(f'VIP Account: {self.name}, Balance: {self.balance}')\n",
        "\n",
        "\n",
        "# Composition class: Bank\n",
        "class Bank:\n",
        "    # Your code here\n",
        "    def __init__(self):\n",
        "        self.accounts = []\n",
        "\n",
        "    # Your code here\n",
        "    def add_account(self, account):\n",
        "        self.accounts.append(account)\n",
        "\n",
        "    # Your code here\n",
        "    def show_all(self):\n",
        "        for account in self.accounts:\n",
        "            account.show()\n"
      ]
    },
    {
      "cell_type": "code",
      "source": [
        "acc1 = Account(\"Alice\", 5000)\n",
        "acc2 = VIPAccount(\"Bob\", 10000)\n",
        "\n",
        "acc1.show()       # Output: Account: Alice, Balance: 5000\n",
        "acc2.show()       # Output: VIP Account: Bob, Balance: 10000\n",
        "\n",
        "bank = Bank()\n",
        "bank.add_account(acc1)\n",
        "bank.add_account(acc2)\n",
        "bank.show_all()"
      ],
      "metadata": {
        "colab": {
          "base_uri": "https://localhost:8080/"
        },
        "id": "6lfHy3htTo81",
        "outputId": "9d474689-ff74-4df2-c4ff-317a03bcecd2"
      },
      "execution_count": null,
      "outputs": [
        {
          "output_type": "stream",
          "name": "stdout",
          "text": [
            "Account: Alice, Balance: 5000\n",
            "VIP Account: Bob, Balance: 10000\n",
            "Account: Alice, Balance: 5000\n",
            "VIP Account: Bob, Balance: 10000\n"
          ]
        }
      ]
    },
    {
      "cell_type": "markdown",
      "metadata": {
        "id": "IrcPN5BaXHaQ"
      },
      "source": [
        "### (8) Considering the following code cell. Try to modify the integer class so that when calling the show() function, it will not show the decimal point and the decimal part.\n"
      ]
    },
    {
      "cell_type": "code",
      "source": [
        "class floating:\n",
        "    def __init__(self, num):\n",
        "        self.num = num\n",
        "    def show(self):\n",
        "        print(f'{self.num:.1f}')\n",
        "\n",
        "class integer(floating):\n",
        "    def __init__(self, num):\n",
        "        super().__init__(num)\n",
        "\n",
        "    # Your code here\n",
        "    def show(self):\n",
        "        print(f'{self.num:d}')"
      ],
      "metadata": {
        "id": "l8pub3tHOHBs"
      },
      "execution_count": null,
      "outputs": []
    },
    {
      "cell_type": "code",
      "source": [
        "# Do not change the code below\n",
        "egg = floating(3.53)\n",
        "egg.show()\n",
        "spam = integer(3)\n",
        "spam.show()"
      ],
      "metadata": {
        "id": "ArRSLQMfOIni",
        "colab": {
          "base_uri": "https://localhost:8080/"
        },
        "outputId": "d32e445e-cf36-45d0-fed3-2c0363d3e9d0"
      },
      "execution_count": null,
      "outputs": [
        {
          "output_type": "stream",
          "name": "stdout",
          "text": [
            "3.5\n",
            "3\n"
          ]
        }
      ]
    },
    {
      "cell_type": "markdown",
      "metadata": {
        "id": "PGCTicZsXHdY"
      },
      "source": [
        "### (9) Coding Exercise — Method Overriding and Encapsulation"
      ]
    },
    {
      "cell_type": "markdown",
      "source": [
        "**Task:**\n",
        "\n",
        "Create a class `Person` that stores a name and age. Then, create a subclass `Student` that inherits from `Person`, and overrides the `show()` method to include the school name.\n",
        "\n",
        "Additionally, simulate a private attribute `_age` in `Person` and provide a method to access it safely.\n",
        "\n",
        "**Requirements:**\n",
        "\n",
        "1. Define a class `Person`:\n",
        "\n",
        "  * Has attributes: `name` and `_age` (simulated private attribute).\n",
        "\n",
        "  * Has a method `show()` that prints:     \n",
        "`Name: <name>, Age: <age>`\n",
        "\n",
        "  * Has a method `get_age()` that returns the `_age` value.\n",
        "\n",
        "2. Define a subclass `Student` that inherits from `Person`:\n",
        "\n",
        "  * Has an additional attribute `school`.\n",
        "\n",
        "  * Overrides `show()` to print:      \n",
        "`Student: <name>, Age: <age>, School: <school>`\n",
        "\n"
      ],
      "metadata": {
        "id": "33w9-jsaV5FB"
      }
    },
    {
      "cell_type": "code",
      "execution_count": null,
      "metadata": {
        "id": "SBbs8rCgjCzC"
      },
      "outputs": [],
      "source": [
        "# Base class: Person\n",
        "class Person:\n",
        "    # Your code here\n",
        "    def __init__(self, name, age):\n",
        "        self.name = name\n",
        "        self._age = age   # Simulated private attribute\n",
        "\n",
        "    # Your code here\n",
        "    def show(self):\n",
        "        print(f\"Name: {self.name}, Age: {self._age}\")\n",
        "\n",
        "    # Your code here\n",
        "    def get_age(self):\n",
        "        return self._age\n",
        "\n",
        "\n",
        "# Subclass: Student\n",
        "class Student(Person):\n",
        "    # Your code here\n",
        "    def __init__(self, name, age, school):\n",
        "        super().__init__(name, age)\n",
        "        self.school = school\n",
        "\n",
        "    # Your code here\n",
        "    def show(self):\n",
        "        print(f\"Student: {self.name}, Age: {self._age}, School: {self.school}\")\n",
        "\n"
      ]
    },
    {
      "cell_type": "code",
      "source": [
        "# Example usage:\n",
        "p1 = Person(\"Amy\", 30)\n",
        "s1 = Student(\"Bob\", 18, \"NSYSU\")\n",
        "\n",
        "p1.show()      # Output: Name: Amy, Age: 30\n",
        "s1.show()      # Output: Student: Bob, Age: 18, School: NSYSU\n",
        "\n",
        "print(s1.get_age())  # Output: 18"
      ],
      "metadata": {
        "colab": {
          "base_uri": "https://localhost:8080/"
        },
        "id": "nG_777AuWmlj",
        "outputId": "107c9cea-7af2-438f-9e60-6db2c0b433c3"
      },
      "execution_count": null,
      "outputs": [
        {
          "output_type": "stream",
          "name": "stdout",
          "text": [
            "Name: Amy, Age: 30\n",
            "Student: Bob, Age: 18, School: NSYSU\n",
            "18\n"
          ]
        }
      ]
    },
    {
      "cell_type": "markdown",
      "metadata": {
        "id": "TA3yUv1BXHgQ"
      },
      "source": [
        "### (10) Coding Exercise — Class Initialization and Encapsulation"
      ]
    },
    {
      "cell_type": "markdown",
      "source": [
        "**Task:**\n",
        "Define a class `Rectangle` that represents a rectangle and supports computing its area.\n",
        "\n",
        "**Requirements:**\n",
        "\n",
        "1. The class `Rectangle` should:\n",
        "\n",
        "  * Use `__init__()` to initialize two attributes: `_width` and `_height` (simulate private).\n",
        "\n",
        "  * Include a method `area()` that returns the product of width and height.\n",
        "\n",
        "  * Include a method `show()` that prints:        \n",
        "`Rectangle: width = <width>, height = <height>`"
      ],
      "metadata": {
        "id": "sKi-RMEZXK6M"
      }
    },
    {
      "cell_type": "code",
      "source": [
        "# Your code here\n",
        "class Rectangle:\n",
        "    def __init__(self, width, height):\n",
        "        self._width = width     # Simulated private attribute\n",
        "        self._height = height   # Simulated private attribute\n",
        "\n",
        "    def area(self):\n",
        "        return self._width * self._height\n",
        "\n",
        "    def show(self):\n",
        "        print(f\"Rectangle: width = {self._width}, height = {self._height}\")\n",
        "\n"
      ],
      "metadata": {
        "id": "qIKKUQrRXfB0"
      },
      "execution_count": null,
      "outputs": []
    },
    {
      "cell_type": "code",
      "execution_count": null,
      "metadata": {
        "colab": {
          "base_uri": "https://localhost:8080/"
        },
        "id": "xfDhhpjJjCzF",
        "outputId": "f89d0f64-b5de-43cb-87b0-fef20a78e451"
      },
      "outputs": [
        {
          "output_type": "stream",
          "name": "stdout",
          "text": [
            "Rectangle: width = 4, height = 5\n",
            "20\n"
          ]
        }
      ],
      "source": [
        "# Example usage:\n",
        "r = Rectangle(4, 5)\n",
        "r.show()        # Output: Rectangle: width = 4, height = 5\n",
        "print(r.area()) # Output: 20\n"
      ]
    }
  ],
  "metadata": {
    "colab": {
      "provenance": []
    },
    "kernelspec": {
      "display_name": "Python 3",
      "name": "python3"
    },
    "language_info": {
      "codemirror_mode": {
        "name": "ipython",
        "version": 3
      },
      "file_extension": ".py",
      "mimetype": "text/x-python",
      "name": "python",
      "nbconvert_exporter": "python",
      "pygments_lexer": "ipython3",
      "version": "3.9.13"
    }
  },
  "nbformat": 4,
  "nbformat_minor": 0
}