{
  "cells": [
    {
      "cell_type": "markdown",
      "metadata": {
        "id": "QvapVWPoW88y"
      },
      "source": [
        "# Assignment 8"
      ]
    },
    {
      "cell_type": "markdown",
      "metadata": {
        "id": "q4tb-aRZW-kD"
      },
      "source": [
        "#### Student ID: *Double click to fill your student ID*\n",
        "#### Name: *Double click to fill your name*"
      ]
    },
    {
      "cell_type": "markdown",
      "metadata": {
        "id": "c6qCDhJwXCjZ"
      },
      "source": [
        "### (1) Which of the following statement is False?"
      ]
    },
    {
      "cell_type": "markdown",
      "metadata": {
        "id": "PduuEAnTXUKA"
      },
      "source": [
        "(A) A `@classmethod` takes `cls` as the first parameter and can be called by both the class and its instances.       \n",
        "\n",
        "(B) A `@classmethod` is commonly used to create alternate constructors for the class.   \n",
        "\n",
        "(C) A `@classmethod` can access and modify instance attributes like `self.name` and `self.age`.\n",
        "\n",
        "(D) A `@classmethod` can be used to create an instance from a formatted string."
      ]
    },
    {
      "cell_type": "markdown",
      "metadata": {
        "id": "TrKhIKL9Xide"
      },
      "source": [
        "> Ans: *Double click to answer the question*"
      ]
    },
    {
      "cell_type": "markdown",
      "metadata": {
        "id": "z-rQC77mXHJ3"
      },
      "source": [
        "### (2) Which of the following statement is False?"
      ]
    },
    {
      "cell_type": "markdown",
      "metadata": {
        "id": "VMJaaLylXaWm"
      },
      "source": [
        "(A) Polymorphism allows different classes to define methods with the same name that behave differently.\n",
        "\n",
        "(B) Built-in functions like `len()` exhibit polymorphism because they work on different types like strings and lists.\n",
        "\n",
        "(C) Operator overloading using methods like `__add__` and `__eq__` is also a kind of polymorphism.\n",
        "\n",
        "(D) In polymorphism, a child class must use the `super()` function when overriding a parent class method."
      ]
    },
    {
      "cell_type": "markdown",
      "metadata": {
        "id": "J_K5XcFwIvQy"
      },
      "source": [
        "> Ans: *Double click to answer the question*"
      ]
    },
    {
      "cell_type": "markdown",
      "metadata": {
        "id": "Iq8z17BcXHDg"
      },
      "source": [
        "### (3) Which of the following statement is False?"
      ]
    },
    {
      "cell_type": "markdown",
      "metadata": {
        "id": "rTOd8x9RXaKA"
      },
      "source": [
        "(A) `NumPy` arrays are statically typed, meaning all elements must be of the same data type.    \n",
        "\n",
        "(B) The `dtype` attribute of a `NumPy` array tells us the type of elements stored in the array.\n",
        "\n",
        "(C) The `size` attribute of a `NumPy` array indicates the number of bytes used to store each element.\n",
        "\n",
        "(D) The `zeros()`, `ones()` and `full()` functions can all specify the desired array shape and data type."
      ]
    },
    {
      "cell_type": "markdown",
      "metadata": {
        "id": "EKZxDSCTXkUO"
      },
      "source": [
        "> Ans: *Double click to answer the question*"
      ]
    },
    {
      "cell_type": "markdown",
      "metadata": {
        "id": "CChNWPJqXHNh"
      },
      "source": [
        "### (4) Which of the following statement is False?"
      ]
    },
    {
      "cell_type": "markdown",
      "metadata": {
        "id": "LvHS07YnXahe"
      },
      "source": [
        "(A) `np.array([1, 2, 3])` creates a 1D NumPy array containing integers.     \n",
        "(B) `np.array([[1, 2], [3, 4]])` creates a 2D array with shape `(2, 2)`.     \n",
        "(C) The shape of `np.array([5.5, 6.2, 7.1])` is `(3, 1)` because it contains three elements.     \n",
        "(D) All elements in a NumPy array must have the same data type.          "
      ]
    },
    {
      "cell_type": "markdown",
      "metadata": {
        "id": "bJdSKGddXkwh"
      },
      "source": [
        "> Ans: *Double click to answer the question*"
      ]
    },
    {
      "cell_type": "markdown",
      "metadata": {
        "id": "Ywou1Fw1XHQr"
      },
      "source": [
        "### (5) Which of the following statement is False?"
      ]
    },
    {
      "cell_type": "markdown",
      "metadata": {
        "id": "BrbTfJdLXasZ"
      },
      "source": [
        "(A) The `dtype` of an array can be explicitly specified when using `np.ones()` or `np.zeros()` functions.      \n",
        "(B) The function `np.full((2, 3), 7)` creates a 2-by-3 array with all elements equal to 7.       \n",
        "(C) The number of dimensions in an array can be accessed using the `shape` attribute.           \n",
        "(D) The `size` attribute of a NumPy array indicates the number of bytes used to store the entire array.        "
      ]
    },
    {
      "cell_type": "markdown",
      "metadata": {
        "id": "qP_c_-W9Xk9a"
      },
      "source": [
        "> Ans: *Double click to answer the question*"
      ]
    },
    {
      "cell_type": "markdown",
      "metadata": {
        "id": "6wxdsDFBXHUL"
      },
      "source": [
        "### (6) Suppose we are developing a smart city parking system, and we want to model a ParkingLot class that tracks the number of total lots in the city. Each individual lot has its own name and capacity.\n",
        "\n",
        "Please complete the ParkingLot class below using a class method to create a new lot from a given string that encodes the name and capacity (separated by a comma), and ensure that each time a new lot is created, the total count of lots increases."
      ]
    },
    {
      "cell_type": "markdown",
      "source": [
        "**Example Output:**     \n",
        "KaohsiungLot 120  \n",
        "TainanLot 85  \n",
        "Total lots: 2\n"
      ],
      "metadata": {
        "id": "EKyx9ys5cJY3"
      }
    },
    {
      "cell_type": "code",
      "execution_count": null,
      "metadata": {
        "id": "aJlKsCkiIv7J"
      },
      "outputs": [],
      "source": [
        "# Define the ParkingLot class here\n",
        "class ParkingLot:\n",
        "    # you code here\n",
        "\n",
        "\n"
      ]
    },
    {
      "cell_type": "code",
      "source": [
        "# Test your class\n",
        "lot1 = ParkingLot.from_string(\"KaohsiungLot,120\")\n",
        "lot2 = ParkingLot.from_string(\"TainanLot,85\")\n",
        "print(lot1.name, lot1.capacity)\n",
        "print(lot2.name, lot2.capacity)\n",
        "print(\"Total lots:\", ParkingLot.total_lots)"
      ],
      "metadata": {
        "colab": {
          "base_uri": "https://localhost:8080/"
        },
        "id": "Th5Godu-csU-",
        "outputId": "b3584fab-f518-4d57-9ba3-3bc3f1bc2751"
      },
      "execution_count": null,
      "outputs": [
        {
          "output_type": "stream",
          "name": "stdout",
          "text": [
            "KaohsiungLot 120\n",
            "TainanLot 85\n",
            "Total lots: 2\n"
          ]
        }
      ]
    },
    {
      "cell_type": "markdown",
      "metadata": {
        "id": "N74P6mqElY-D"
      },
      "source": [
        "### (7) Suppose we are designing a simple animal sound simulator. There is a base class Animal that has a method speak(). Different animals will override this method to return different sounds."
      ]
    },
    {
      "cell_type": "markdown",
      "source": [
        "**Example Output:**      \n",
        "Woof!      \n",
        "Meow!       \n",
        "...    \n"
      ],
      "metadata": {
        "id": "z-vRQIOydoIc"
      }
    },
    {
      "cell_type": "markdown",
      "source": [
        "Please complete the following classes so that they demonstrate polymorphic behavior:"
      ],
      "metadata": {
        "id": "YlHLeWZzdi4_"
      }
    },
    {
      "cell_type": "code",
      "execution_count": null,
      "metadata": {
        "id": "lk79VE9uIv7f"
      },
      "outputs": [],
      "source": [
        "# Define the base class Animal\n",
        "class Animal:\n",
        "    def speak(self):\n",
        "        return \"...\"  # default silent animal\n",
        "\n",
        "# Define the Dog class here, inheriting from Animal\n",
        "class Dog(Animal):\n",
        "  # your code here\n",
        "\n",
        "\n",
        "\n",
        "# Define the Cat class here, inheriting from Animal\n",
        "class Cat(Animal):\n",
        "  # your code here\n",
        "\n"
      ]
    },
    {
      "cell_type": "code",
      "source": [
        "# Test polymorphism\n",
        "animals = [Dog(), Cat(), Animal()]\n",
        "for a in animals:\n",
        "    print(a.speak())"
      ],
      "metadata": {
        "colab": {
          "base_uri": "https://localhost:8080/"
        },
        "id": "fe2P-ZDteJ-b",
        "outputId": "b6cc3058-9899-4f7c-a6a2-30ed11564a42"
      },
      "execution_count": null,
      "outputs": [
        {
          "output_type": "stream",
          "name": "stdout",
          "text": [
            "Woof!\n",
            "Meow!\n",
            "...\n"
          ]
        }
      ]
    },
    {
      "cell_type": "markdown",
      "metadata": {
        "id": "IrcPN5BaXHaQ"
      },
      "source": [
        "### (8) Suppose you are analyzing the monthly temperatures (in °C) of two cities over three months.       \n",
        "\n",
        "The data is stored in two Python lists:\n",
        "\n",
        "```\n",
        "city1 = [22.5, 23.1, 21.8]\n",
        "city2 = [18.9, 19.3, 20.1]\n",
        "```\n",
        "           \n",
        "\n",
        "**Your tasks:**\n",
        "1. Use `np.array()` to convert these lists into a 2D NumPy array temps where each row represents a city and each column represents a month.        \n",
        "\n",
        "2. Print the shape and data type (dtype) of the resulting array.       \n",
        "     "
      ]
    },
    {
      "cell_type": "code",
      "execution_count": null,
      "metadata": {
        "id": "8YBKI7UUIv8Y",
        "outputId": "9fb752c2-853f-4268-e792-fd794aa38250",
        "colab": {
          "base_uri": "https://localhost:8080/"
        }
      },
      "outputs": [
        {
          "output_type": "stream",
          "name": "stdout",
          "text": [
            "Shape: (2, 3)\n",
            "Dtype: float64\n"
          ]
        }
      ],
      "source": [
        "import numpy as np\n",
        "\n",
        "city1 = [22.5, 23.1, 21.8]\n",
        "city2 = [18.9, 19.3, 20.1]\n",
        "\n",
        "# you code here\n"
      ]
    },
    {
      "cell_type": "markdown",
      "metadata": {
        "id": "PGCTicZsXHdY"
      },
      "source": [
        "### (9) You are building a simple exam score management system for a university. Please do the following tasks using NumPy:"
      ]
    },
    {
      "cell_type": "markdown",
      "source": [
        "1. Use `np.ones()` to create a 3×4 array representing the scores of three students who got full marks (100 points) in all four quizzes.\n",
        "\n",
        "2. Use `np.zeros()` to create a 2×4 array for two students who were absent for all quizzes (all scores are 0).\n",
        "\n",
        "3. Use `np.full()` to create a 1×4 array for a student who scored 60 in every quiz.\n",
        "\n",
        "4. Print the shape and the final score table.\n",
        "\n"
      ],
      "metadata": {
        "id": "WVSpVMnnf2Qm"
      }
    },
    {
      "cell_type": "code",
      "execution_count": null,
      "metadata": {
        "id": "1dBO3ZrCIv8q",
        "outputId": "98c0a8d8-fe75-45dd-a974-ee9b2f2510a2",
        "colab": {
          "base_uri": "https://localhost:8080/"
        }
      },
      "outputs": [
        {
          "output_type": "stream",
          "name": "stdout",
          "text": [
            "Full score shape: (3, 4)\n",
            "[[100. 100. 100. 100.]\n",
            " [100. 100. 100. 100.]\n",
            " [100. 100. 100. 100.]]\n",
            "Absent score shape: (2, 4)\n",
            "[[0. 0. 0. 0.]\n",
            " [0. 0. 0. 0.]]\n",
            "Average score shape: (1, 4)\n",
            "[[60 60 60 60]]\n"
          ]
        }
      ],
      "source": [
        "import numpy as np\n",
        "\n",
        "# You code here\n"
      ]
    },
    {
      "cell_type": "markdown",
      "metadata": {
        "id": "TA3yUv1BXHgQ"
      },
      "source": [
        "### (10) Suppose you are designing three types of classroom layouts for a simulation system.\n"
      ]
    },
    {
      "cell_type": "markdown",
      "source": [
        "\n",
        "**You are asked to:**\n",
        "\n",
        "1. Use `np.zeros()` to create a 4×5 array named `empty_room`, where all seats are empty (represented by 0).\n",
        "\n",
        "2. Use `np.ones()` to create a 4×5 array named `full_room`, where all seats are occupied (represented by 1).\n",
        "\n",
        "3. Use `np.full()` to create a 4×5 array named `mixed_room`, where all seats have a **default value of 9** (representing unknown seat status).\n",
        "\n",
        "4. Print all three arrays and their shapes."
      ],
      "metadata": {
        "id": "xNq7AupThBhu"
      }
    },
    {
      "cell_type": "code",
      "execution_count": null,
      "metadata": {
        "id": "mLC4qCNyIv9g",
        "outputId": "c685b36c-844d-4cd4-979c-9e60dc67eb45",
        "colab": {
          "base_uri": "https://localhost:8080/"
        }
      },
      "outputs": [
        {
          "output_type": "stream",
          "name": "stdout",
          "text": [
            "Empty Room:\n",
            " [[0 0 0 0 0]\n",
            " [0 0 0 0 0]\n",
            " [0 0 0 0 0]\n",
            " [0 0 0 0 0]]\n",
            "Shape: (4, 5)\n",
            "Full Room:\n",
            " [[1 1 1 1 1]\n",
            " [1 1 1 1 1]\n",
            " [1 1 1 1 1]\n",
            " [1 1 1 1 1]]\n",
            "Shape: (4, 5)\n",
            "Mixed Room:\n",
            " [[9 9 9 9 9]\n",
            " [9 9 9 9 9]\n",
            " [9 9 9 9 9]\n",
            " [9 9 9 9 9]]\n",
            "Shape: (4, 5)\n"
          ]
        }
      ],
      "source": [
        "import numpy as np\n",
        "\n",
        "# You code here\n",
        "\n"
      ]
    }
  ],
  "metadata": {
    "colab": {
      "provenance": [],
      "toc_visible": true
    },
    "kernelspec": {
      "display_name": "Python 3",
      "name": "python3"
    },
    "language_info": {
      "codemirror_mode": {
        "name": "ipython",
        "version": 3
      },
      "file_extension": ".py",
      "mimetype": "text/x-python",
      "name": "python",
      "nbconvert_exporter": "python",
      "pygments_lexer": "ipython3",
      "version": "3.9.13"
    }
  },
  "nbformat": 4,
  "nbformat_minor": 0
}