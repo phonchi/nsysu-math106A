{
 "cells": [
  {
   "cell_type": "markdown",
   "metadata": {
    "slideshow": {
     "slide_type": "skip"
    }
   },
   "source": [
    "---\n",
    "title: \"Python Basics\"\n",
    "author: \"phonchi\"\n",
    "date: \"15/02/2025\"\n",
    "format: \n",
    "  html:\n",
    "    code-fold: true\n",
    "---"
   ]
  },
  {
   "cell_type": "markdown",
   "metadata": {
    "id": "11n5gndbRzoY",
    "slideshow": {
     "slide_type": "slide"
    }
   },
   "source": [
    "# Python Basics"
   ]
  },
  {
   "cell_type": "markdown",
   "metadata": {
    "id": "AIFsv_RZ1iV0",
    "slideshow": {
     "slide_type": "skip"
    }
   },
   "source": [
    "<table align=\"left\">\n",
    "  <td>\n",
    "    <a href=\"https://colab.research.google.com/github/phonchi/nsysu-math106A/blob/master/static_files/presentations/01_Python.ipynb\" target=\"_parent\"><img src=\"https://colab.research.google.com/assets/colab-badge.svg\" alt=\"Open In Colab\"/></a>\n",
    "  </td>\n",
    "  <td>\n",
    "    <a target=\"_blank\" href=\"https://kaggle.com/kernels/welcome?src=https://github.com/phonchi/nsysu-math106A/blob/master/static_files/presentations/01_Python.ipynb\"><img src=\"https://kaggle.com/static/images/open-in-kaggle.svg\" /></a>\n",
    "  </td>\n",
    "</table>"
   ]
  },
  {
   "cell_type": "markdown",
   "metadata": {},
   "source": [
    "Execute the following two cells for the setup:"
   ]
  },
  {
   "cell_type": "code",
   "execution_count": null,
   "metadata": {
    "slideshow": {
     "slide_type": "skip"
    }
   },
   "outputs": [],
   "source": [
    "!pip install jupyterquiz\n",
    "!pip install jupytercards\n",
    "\n",
    "from IPython.display import display, Javascript\n",
    "display(Javascript('Jupyter.notebook.kernel.restart()'))\n",
    "\n",
    "from jupyterquiz import display_quiz\n",
    "\n",
    "path=\"https://raw.githubusercontent.com/phonchi/nsysu-math106A/refs/heads/main/extra/questions/ch1/\""
   ]
  },
  {
   "cell_type": "code",
   "execution_count": null,
   "metadata": {},
   "outputs": [],
   "source": [
    "from jupyterquiz import display_quiz\n",
    "\n",
    "path=\"https://raw.githubusercontent.com/phonchi/nsysu-math106A/refs/heads/main/extra/questions/ch1/\""
   ]
  },
  {
   "cell_type": "markdown",
   "metadata": {
    "slideshow": {
     "slide_type": "subslide"
    }
   },
   "source": [
    "1. Introduction\n",
    "\n",
    "2. Variables\n",
    "\n",
    "3. Debugging\n",
    "\n",
    "4. The first program"
   ]
  },
  {
   "cell_type": "markdown",
   "metadata": {
    "id": "SwFKFBMwRzoa",
    "slideshow": {
     "slide_type": "slide"
    }
   },
   "source": [
    "## Introduction"
   ]
  },
  {
   "cell_type": "markdown",
   "metadata": {
    "id": "Ss9hRGHDRzob",
    "slideshow": {
     "slide_type": "subslide"
    }
   },
   "source": [
    "Problem solving is a central part of computer science, the solutions that you create through the problem solving process are ***algorithms***. An algorithm is a step by step list of instructions that if followed exactly will solve the problem under consideration."
   ]
  },
  {
   "cell_type": "markdown",
   "metadata": {
    "slideshow": {
     "slide_type": "fragment"
    }
   },
   "source": [
    "For example, an algorithm to compute the length of a triangle’s hypotenuse might look like this:\n",
    "\n",
    "Algorithm Example 1 (English):\n",
    "- Ask for the lengths of the two sides\n",
    "- Use Pythagorean Theorem to find hypotenuse\n",
    "- Display the hypotenuse"
   ]
  },
  {
   "cell_type": "markdown",
   "metadata": {
    "slideshow": {
     "slide_type": "skip"
    }
   },
   "source": [
    "> Notice that this algorithm consists of a set of steps. It is written in English, for ease of understanding but that it assumes the reader knows the required sub-steps. Although simple algorithms are easily understood when written in English, more complicated algorithms need more precise notation. "
   ]
  },
  {
   "cell_type": "markdown",
   "metadata": {
    "slideshow": {
     "slide_type": "subslide"
    }
   },
   "source": [
    "Algorithms are like recipes: they must be followed exactly, they must be clear and unambiguous, and they must end. For improved precision, algorithms are often written in ***pseudocode***."
   ]
  },
  {
   "cell_type": "markdown",
   "metadata": {
    "slideshow": {
     "slide_type": "fragment"
    }
   },
   "source": [
    "Algorithm Example 2 (Pseudocode). \n",
    "- Ask for length of non-hypotenuse sides:\n",
    "    - Ask for first side's length. Call this side $a$. \n",
    "    - Ask for second side's length. Call this side $b$.\n",
    "- Let \n",
    "    $$hypotenuse = \\sqrt{a^2+b^2}$$\n",
    "- Display the hypotenuse length"
   ]
  },
  {
   "cell_type": "markdown",
   "metadata": {
    "slideshow": {
     "slide_type": "subslide"
    }
   },
   "source": [
    "Once we have such a solution, we can use our computer to <u>automate</u> its execution. ***Programming*** is a skill that allows a computer scientist to take an algorithm and represent it in a notation (a program) that can be followed by a computer. A program is written in a ***programming language*** such as Python, the language you will learn in this course!"
   ]
  },
  {
   "cell_type": "code",
   "execution_count": null,
   "metadata": {
    "slideshow": {
     "slide_type": "fragment"
    }
   },
   "outputs": [],
   "source": [
    "side_a = int(input(\"Enter the length of the first side:\"))\n",
    "side_b = int(input(\"Enter the length of the second side:\"))\n",
    "hypotenuse = (side_a**2 + side_b**2)**(1/2)\n",
    "print(\"The hypotenuse of that triangle is:\", hypotenuse)"
   ]
  },
  {
   "cell_type": "markdown",
   "metadata": {
    "slideshow": {
     "slide_type": "skip"
    }
   },
   "source": [
    "> 👨‍⚕️ Algorithms are important because the process of solving a problem through programming begins with designing an algorithm. The programmer often expresses the algorithm in pseudocode to better understand the sub-steps, then converts the algorithm to a program for the computer to execute. In the next section, you will learn how to execute Python programs on a computer."
   ]
  },
  {
   "cell_type": "code",
   "execution_count": null,
   "metadata": {
    "slideshow": {
     "slide_type": "subslide"
    }
   },
   "outputs": [],
   "source": [
    "display_quiz(path+\"algo.json\", question_alignment='center', max_width=800)"
   ]
  },
  {
   "cell_type": "markdown",
   "metadata": {
    "id": "vk4VMOiLBn7L",
    "slideshow": {
     "slide_type": "slide"
    }
   },
   "source": [
    "### Hello, Python"
   ]
  },
  {
   "cell_type": "markdown",
   "metadata": {
    "slideshow": {
     "slide_type": "subslide"
    }
   },
   "source": [
    "Python emphasizes readability and is an ***interpreted language***, which for beginners means that Python instructions can be typed into an interactive prompt, or can be stored in a plain text file (called a `\"script\"`) and run later. These instructions are evaluated and the commands are executed by the Python ***interpreter***."
   ]
  },
  {
   "cell_type": "markdown",
   "metadata": {
    "slideshow": {
     "slide_type": "fragment"
    }
   },
   "source": [
    "<center><img src=\"https://raw.githubusercontent.com/phonchi/nsysu-math106A/refs/heads/main/extra/Figures/interpret.png\" width=\"60%\" height=\"60%\"></center>"
   ]
  },
  {
   "cell_type": "markdown",
   "metadata": {
    "slideshow": {
     "slide_type": "skip"
    }
   },
   "source": [
    "> An interpreter reads a high-level program and executes it, meaning that it does what the program says one line at a time. It alternates between reading lines and performing computations. A compiler reads the program and translates it completely before the program starts running. In this case, the program is called the source code, and the translated program is called the machine code.  Once a program is compiled, you can execute it repeatedly without further translation!"
   ]
  },
  {
   "cell_type": "markdown",
   "metadata": {
    "id": "3_gQhZxrBvQW",
    "slideshow": {
     "slide_type": "subslide"
    }
   },
   "source": [
    "A ***command***, often called a ***statement***, instructs the interpreter to do something. The first program described in many programming Language introductions is \"Hello, World\".  This simple program demonstrates how a particular language produces a result, also how a language represents text and outputs a nominal greeting 🙂"
   ]
  },
  {
   "cell_type": "code",
   "execution_count": null,
   "metadata": {
    "id": "IPO0BNIcRzob",
    "slideshow": {
     "slide_type": "fragment"
    }
   },
   "outputs": [],
   "source": [
    "print('Hello, World!')"
   ]
  },
  {
   "cell_type": "markdown",
   "metadata": {
    "id": "j3AXpU87B5bT",
    "slideshow": {
     "slide_type": "fragment"
    }
   },
   "source": [
    "There are several aspects to note even in this simple Python statement. \n",
    "* First, \n",
    "`print()` is a built-in ***function***, a pre-defined operation that Python can use to produce *output*, a result of the program that will be made visible to the user. The print is followed by opening and closing parentheses; what comes \n",
    "between those parentheses is the value or ***arguments*** to be printed."
   ]
  },
  {
   "cell_type": "markdown",
   "metadata": {
    "slideshow": {
     "slide_type": "subslide"
    }
   },
   "source": [
    "* Second, fixed values such as numbers, letters, and strings, are called ***constants*** which is a **data** where their value does not change. String constants use single quotes `'` or double quotes `\"` in Python. "
   ]
  },
  {
   "cell_type": "markdown",
   "metadata": {
    "slideshow": {
     "slide_type": "fragment"
    }
   },
   "source": [
    "Notice that it is possible for statements to span more than one line using `\\`  or print multiple objects seperated by `,`."
   ]
  },
  {
   "cell_type": "markdown",
   "metadata": {
    "slideshow": {
     "slide_type": "skip"
    }
   },
   "source": [
    "> The quotation marks in front of the capital `'H'` and after the exclamation point denotes the beginning and end of a string of characters that will be treated as a value in Python."
   ]
  },
  {
   "cell_type": "code",
   "execution_count": null,
   "metadata": {
    "slideshow": {
     "slide_type": "fragment"
    }
   },
   "outputs": [],
   "source": [
    "print('Hello,\\\n",
    " World')\n",
    "\n",
    "print('Hello', 'World')"
   ]
  },
  {
   "cell_type": "markdown",
   "metadata": {
    "slideshow": {
     "slide_type": "skip"
    }
   },
   "source": [
    "> In Jupyter Notebook, the `print` function can even be omitted if the statement you want to print is the last statement in the code."
   ]
  },
  {
   "cell_type": "code",
   "execution_count": null,
   "metadata": {
    "slideshow": {
     "slide_type": "fragment"
    }
   },
   "outputs": [],
   "source": [
    "'hi python'\n",
    "'Hello, World!'"
   ]
  },
  {
   "cell_type": "markdown",
   "metadata": {
    "slideshow": {
     "slide_type": "skip"
    }
   },
   "source": [
    "> 👨‍⚕️ You've run your first program! You'll be doing that a lot in this course and the programs will become increasingly complicated. One way to help understand what is happening and learn programming is <u>predicting</u> the effect of running a snippet of code before actually running the program. To check your understanding or your predictions, **always run the program.**"
   ]
  },
  {
   "cell_type": "code",
   "execution_count": null,
   "metadata": {
    "slideshow": {
     "slide_type": "subslide"
    }
   },
   "outputs": [],
   "source": [
    "display_quiz(path+\"print.json\", max_width=800)"
   ]
  },
  {
   "cell_type": "markdown",
   "metadata": {
    "slideshow": {
     "slide_type": "slide"
    }
   },
   "source": [
    "#### Using string methods like a word processor"
   ]
  },
  {
   "cell_type": "markdown",
   "metadata": {
    "slideshow": {
     "slide_type": "subslide"
    }
   },
   "source": [
    "One of the simplest tasks you can do with strings is to change the case of the words in a string."
   ]
  },
  {
   "cell_type": "code",
   "execution_count": null,
   "metadata": {
    "slideshow": {
     "slide_type": "fragment"
    }
   },
   "outputs": [],
   "source": [
    "print('hi python'.title())"
   ]
  },
  {
   "cell_type": "markdown",
   "metadata": {
    "slideshow": {
     "slide_type": "fragment"
    }
   },
   "source": [
    "In this example, we have the lowercase string 'hi python'. The ***method*** `title()` appears after the string in the `print()` call. A method is an action that Python can perform on a piece of data. The dot (`.`) after the string tells Python to make the `title()` method act on the string. Every method is followed by a set of parentheses that can accept arguments just like a function."
   ]
  },
  {
   "cell_type": "markdown",
   "metadata": {
    "slideshow": {
     "slide_type": "subslide"
    }
   },
   "source": [
    "There are also other useful methods for string"
   ]
  },
  {
   "cell_type": "code",
   "execution_count": null,
   "metadata": {
    "slideshow": {
     "slide_type": "fragment"
    }
   },
   "outputs": [],
   "source": [
    "print('hi python'.upper())   # change a string to all uppercase \n",
    "print('Hello World'.lower()) # change a string to all lowercase \n",
    "print(' hi python '.strip()) # remove extra whitespace on the right and left sides of a string"
   ]
  },
  {
   "cell_type": "markdown",
   "metadata": {
    "slideshow": {
     "slide_type": "fragment"
    }
   },
   "source": [
    "These example statements introduce another language feature. The `#` symbol denotes the beginning of a ***comment***, a human-readable notation to the Python code that will be ignored by the computer when executed. A high-level description at the top of a script introduces a human reader to the overall purpose and methodology used in the script. All of the characters to the right of the `#` until the end of the line are ignored by Python."
   ]
  },
  {
   "cell_type": "markdown",
   "metadata": {
    "slideshow": {
     "slide_type": "skip"
    }
   },
   "source": [
    "> 👨‍⚕️ Even if you feel that you have a good grasp on the program though, we advise changing it at least a few times to see if you understand how it behaves in different situations. Sometimes you’ll surprise yourself!"
   ]
  },
  {
   "cell_type": "markdown",
   "metadata": {
    "slideshow": {
     "slide_type": "subslide"
    }
   },
   "source": [
    "> ### Exercise 1: Complete the following items to make sure you correctly set up the environment.\n",
    "1. Open the explorer on the left-hand side or open the jupyter notebook.\n",
    "2. Connect to the Python environment\n",
    "3. Create a new code cell below and write a code snippet that prints out \"finish\". Execute the cell.\n",
    "4. Create a new script called \"finish.py\" and write a code snippet that prints out \"finish\". Execute the script."
   ]
  },
  {
   "cell_type": "code",
   "execution_count": null,
   "metadata": {
    "slideshow": {
     "slide_type": "fragment"
    }
   },
   "outputs": [],
   "source": [
    "# Your code below"
   ]
  },
  {
   "cell_type": "code",
   "execution_count": null,
   "metadata": {
    "slideshow": {
     "slide_type": "fragment"
    }
   },
   "outputs": [],
   "source": [
    "%run finish.py"
   ]
  },
  {
   "cell_type": "markdown",
   "metadata": {
    "id": "LwTvxL92Rbgp",
    "slideshow": {
     "slide_type": "slide"
    }
   },
   "source": [
    "### Operators and Expressions"
   ]
  },
  {
   "cell_type": "markdown",
   "metadata": {
    "slideshow": {
     "slide_type": "slide"
    }
   },
   "source": [
    "#### Using operand like a calculator"
   ]
  },
  {
   "cell_type": "markdown",
   "metadata": {
    "id": "-YaC1zvFRfpB",
    "slideshow": {
     "slide_type": "subslide"
    }
   },
   "source": [
    "Besides string, numbers are often used in programming. Python's built-in operators allow numeric values to be combined in a variety of familiar ways. Note that in Python, `2 + 3` is called an ***expression***, which consists of values/operands (such as `2` or `3`) and operators (such as `+`), and they are special statements! "
   ]
  },
  {
   "cell_type": "code",
   "execution_count": null,
   "metadata": {
    "colab": {
     "base_uri": "https://localhost:8080/"
    },
    "id": "x3NqVDtHPrRY",
    "outputId": "f9997145-e865-491b-9ebb-0337593552ed",
    "slideshow": {
     "slide_type": "fragment"
    }
   },
   "outputs": [],
   "source": [
    "# Integer\n",
    "print(3+4)       # Prints “7”, which is 3 plus 4.\n",
    "print(5-6)       # Prints “-1”, which is 5 minus 6\n",
    "print(7*8)       # Prints “56”, which is 7 times 8\n",
    "print(45/4)      # Prints “11.25”, which is 45 divided by 4, / is float(true) division\n",
    "print(2**10)     # Prints “1024”, which is 2 to the 10th power"
   ]
  },
  {
   "cell_type": "markdown",
   "metadata": {
    "slideshow": {
     "slide_type": "skip"
    }
   },
   "source": [
    "> Note that  we used `**` to signify exponentiation, which can be somewhat surprising given that the caret symbol, `^`, is often used for this purpose in some other programming languages. In Python, the caret operator belongs to XOR bitwise Boolean operations."
   ]
  },
  {
   "cell_type": "markdown",
   "metadata": {
    "id": "XkqWahmER-25",
    "slideshow": {
     "slide_type": "subslide"
    }
   },
   "source": [
    "When an operation such as forty-five divided by four produces a non-integer result, such as `11.25`, Python implicitly switches to a **floating-point** representation. When purely integer answers are desired, a different set of operators can be used."
   ]
  },
  {
   "cell_type": "code",
   "execution_count": null,
   "metadata": {
    "colab": {
     "base_uri": "https://localhost:8080/"
    },
    "id": "7yub5hd3RqQz",
    "outputId": "4a5d1413-2412-4c25-f1d0-cc7d0f381040",
    "slideshow": {
     "slide_type": "fragment"
    }
   },
   "outputs": [],
   "source": [
    "print(45//4)     # Prints “11”, which is 45 integer divided by 4, // is floor(integer) division\n",
    "print(45%4)      # Prints “1”, because 4 * 11 + 1 = 45"
   ]
  },
  {
   "cell_type": "markdown",
   "metadata": {
    "id": "OTttc0pmSO6R",
    "slideshow": {
     "slide_type": "fragment"
    }
   },
   "source": [
    "The double slash signifies the integer ***floor division*** operator, while the percentage symbol signifies the modulus, or remainder operator."
   ]
  },
  {
   "cell_type": "code",
   "execution_count": null,
   "metadata": {
    "slideshow": {
     "slide_type": "subslide"
    }
   },
   "outputs": [],
   "source": [
    "display_quiz(path+\"type.json\", max_width=800)"
   ]
  },
  {
   "cell_type": "markdown",
   "metadata": {
    "slideshow": {
     "slide_type": "subslide"
    }
   },
   "source": [
    "When more than one operator appears in an expression, the order of evaluation depends on the **rules of precedence**. Python follows the same precedence rules for its mathematical operators that mathematics does."
   ]
  },
  {
   "cell_type": "code",
   "execution_count": null,
   "metadata": {
    "slideshow": {
     "slide_type": "fragment"
    }
   },
   "outputs": [],
   "source": [
    "print(3-1*2)\n",
    "print((3-1)*2)\n",
    "print(2**4/2)"
   ]
  },
  {
   "cell_type": "code",
   "execution_count": null,
   "metadata": {
    "slideshow": {
     "slide_type": "subslide"
    }
   },
   "outputs": [],
   "source": [
    "display_quiz(path+\"precedence.json\", max_width=800)"
   ]
  },
  {
   "cell_type": "markdown",
   "metadata": {
    "id": "Le6KIYDuSdW6",
    "slideshow": {
     "slide_type": "subslide"
    }
   },
   "source": [
    "String values also can be combined and manipulated in some intuitive ways."
   ]
  },
  {
   "cell_type": "code",
   "execution_count": null,
   "metadata": {
    "colab": {
     "base_uri": "https://localhost:8080/"
    },
    "id": "ES9UKB-pSLJl",
    "outputId": "9fa62dd5-f940-4731-c19f-84a78969dba1",
    "slideshow": {
     "slide_type": "fragment"
    }
   },
   "outputs": [],
   "source": [
    "s = 'hello' + 'world'\n",
    "t = s * 4\n",
    "print(s)    \n",
    "print(t)    "
   ]
  },
  {
   "cell_type": "markdown",
   "metadata": {
    "id": "7SRVaTxWSkEZ",
    "slideshow": {
     "slide_type": "fragment"
    }
   },
   "source": [
    "The plus operator **concatenates** string values, while the multiplication  operator **replicates** string values."
   ]
  },
  {
   "cell_type": "markdown",
   "metadata": {
    "id": "_6ZotSZXEzN5",
    "slideshow": {
     "slide_type": "slide"
    }
   },
   "source": [
    "## Variables"
   ]
  },
  {
   "cell_type": "markdown",
   "metadata": {
    "id": "U_5LmIfNE165",
    "slideshow": {
     "slide_type": "subslide"
    }
   },
   "source": [
    "A ***variable*** is like a box in the computer’s memory where you can store value. If you want to use the result of an evaluated expression later in your program, you can save it inside a variable!"
   ]
  },
  {
   "cell_type": "markdown",
   "metadata": {
    "slideshow": {
     "slide_type": "fragment"
    }
   },
   "source": [
    "You'll store values in variables with an ***assignment statement***. An assignment statement consists of a variable name, an equal sign, and the value to be stored. **In Python, every single thing is stored as an object. A Python variable is actually a reference to an object!**"
   ]
  },
  {
   "cell_type": "markdown",
   "metadata": {
    "slideshow": {
     "slide_type": "fragment"
    }
   },
   "source": [
    "<center><img src=\"https://cs.berea.edu//cpp4python/_images/python_reference.png\"></center>\n",
    "<div align=\"center\"> source: https://cs.berea.edu//cpp4python/AtomicData/AtomicData.html </div>"
   ]
  },
  {
   "cell_type": "code",
   "execution_count": null,
   "metadata": {
    "colab": {
     "base_uri": "https://localhost:8080/"
    },
    "executionInfo": {
     "elapsed": 7,
     "status": "ok",
     "timestamp": 1664458500650,
     "user": {
      "displayName": "phonchi chung",
      "userId": "13517391734500420886"
     },
     "user_tz": -480
    },
    "id": "OLi_7GqcRzox",
    "outputId": "603af22e-ff7e-4c48-a862-681998a34535",
    "slideshow": {
     "slide_type": "fragment"
    }
   },
   "outputs": [],
   "source": [
    "varName = 100"
   ]
  },
  {
   "cell_type": "markdown",
   "metadata": {
    "slideshow": {
     "slide_type": "subslide"
    }
   },
   "source": [
    "A variable is created the first time a value is stored in it. After that, you can use it in statements with other variables and values. When a variable is assigned a new value, the old value is forgotten. This is called **overwriting** the variable."
   ]
  },
  {
   "cell_type": "code",
   "execution_count": null,
   "metadata": {
    "slideshow": {
     "slide_type": "fragment"
    }
   },
   "outputs": [],
   "source": [
    "spam = 'Hello'   # 'Hello' is a string object\n",
    "print(spam)      # spam is a variable, it is just a reference or tag\n",
    "spam = 'Goodbye' # 'Goodbye' is another string object\n",
    "print(spam)"
   ]
  },
  {
   "cell_type": "markdown",
   "metadata": {
    "slideshow": {
     "slide_type": "skip"
    }
   },
   "source": [
    "> It’s much better to think of variables as labels that you can assign to values. [You can also say that a variable ***references*** a certain value](https://pythontutor.com/visualize.html#code=spam%20%3D%20'Hello'%20%20%20%23%20'Hello'%20is%20a%20string%20object%0Aprint%28spam%29%20%20%20%20%20%20%23%20spam%20is%20a%20variable,%20it%20is%20just%20a%20reference%20or%20tag%0Aspam%20%3D%20'Goodbye'%20%23%20'Goodbye'%20is%20another%20string%20object%0Aprint%28spam%29&cumulative=false&curInstr=0&heapPrimitives=true&mode=display&origin=opt-frontend.js&py=3&rawInputLstJSON=%5B%5D&textReferences=false). This is different from math. In algebra, if you give x the value 3, it cannot change to refer to a different value half-way through your calculations!"
   ]
  },
  {
   "cell_type": "code",
   "execution_count": null,
   "metadata": {
    "slideshow": {
     "slide_type": "subslide"
    }
   },
   "outputs": [],
   "source": [
    "display_quiz(path+\"assignment.json\", max_width=800)"
   ]
  },
  {
   "cell_type": "markdown",
   "metadata": {
    "id": "7EvWoL27Fbqx",
    "slideshow": {
     "slide_type": "subslide"
    }
   },
   "source": [
    "The naming of variables is largely up to the user in Python. Python's simple rules are that variable names must begin with an alphabet letter or the underscore character, and may consist of an arbitrary number of letters, digits, and the underscore character (A-z, 0-9, and _ ). "
   ]
  },
  {
   "cell_type": "markdown",
   "metadata": {
    "slideshow": {
     "slide_type": "fragment"
    }
   },
   "source": [
    "| Valid variable names | Invalid variable names                                |\n",
    "|----------------------|-------------------------------------------------------|\n",
    "| current_balance      | current-balance (hyphens are not allowed)             |\n",
    "| currentBalance       | current balance (spaces are not allowed)              |\n",
    "| account4             | 4account (can’t begin with a number)                  |\n",
    "| _42                  | 42 (can’t begin with a number)                        |\n",
    "| TOTAL_SUM            | TOTAL_*UM (special characters like * are not allowed) |\n",
    "| hello                | 'hello' (special characters like ' are not allowed)   |"
   ]
  },
  {
   "cell_type": "markdown",
   "metadata": {
    "slideshow": {
     "slide_type": "skip"
    }
   },
   "source": [
    "> 👨‍⚕️ While a variable named `m` may be sufficient for a two line example script, experienced programmers strive to give meaningful, descriptive variable names in their scripts."
   ]
  },
  {
   "cell_type": "markdown",
   "metadata": {
    "slideshow": {
     "slide_type": "subslide"
    }
   },
   "source": [
    "Python variable names are **case-sensitive**, meaning that capitalization matters. A variable named `size` is treated as distinct from variables named `Size` or `SIZE`. "
   ]
  },
  {
   "cell_type": "markdown",
   "metadata": {
    "slideshow": {
     "slide_type": "fragment"
    }
   },
   "source": [
    "A small number of ***keywords***, names that are reserved for special meaning in Python, cannot be used as variable names. You can view this list by accessing the built-in Python help system."
   ]
  },
  {
   "cell_type": "code",
   "execution_count": null,
   "metadata": {
    "colab": {
     "base_uri": "https://localhost:8080/"
    },
    "id": "mJnA-rQOFIAm",
    "outputId": "3d8abdf3-4ed6-4b82-e7ab-3d1b0e5f74cc",
    "slideshow": {
     "slide_type": "fragment"
    }
   },
   "outputs": [],
   "source": [
    "help('keywords')"
   ]
  },
  {
   "cell_type": "markdown",
   "metadata": {
    "slideshow": {
     "slide_type": "subslide"
    }
   },
   "source": [
    "> ### Exercise 2: Ask AI tools to explain the rules for naming variables in Python.\n",
    "\n",
    "- [ChatGPT](https://chatgpt.com/)\n",
    "- [Gemini](https://gemini.google.com/)\n",
    "- [Copilot](https://copilot.microsoft.com/)\n",
    "\n",
    "Refer to https://hackmd.io/@phonchi/LLM_Tutor"
   ]
  },
  {
   "cell_type": "markdown",
   "metadata": {
    "id": "F-_Xq7N3G4ro",
    "slideshow": {
     "slide_type": "subslide"
    }
   },
   "source": [
    "Variables can be used to store all of the types of data values that Python is \n",
    "able to represent."
   ]
  },
  {
   "cell_type": "code",
   "execution_count": null,
   "metadata": {
    "id": "8_XRcq0gGztA",
    "slideshow": {
     "slide_type": "fragment"
    }
   },
   "outputs": [],
   "source": [
    "my_string = 'characters'\n",
    "my_Boolean = True # True/False\n",
    "my_integer = 5\n",
    "my_floating_point = 26.2\n",
    "my_complex = 2+1j # Note that 1 can not be omitted\n",
    "\n",
    "# You can condense the above statements into one line separated by ;\n",
    "my_string = 'characters'; my_Boolean = True; my_integer = 5; my_floating_point = 26.2; my_complex = 2+1j\n",
    "\n",
    "\n",
    "### Multiple Assignment!\n",
    "# You can also assign values to more than one variable using just a single line of code!\n",
    "my_string, my_Boolean, my_integer, my_floating_point, my_complex = 'characters',  True, 5, 26.2, 2+1j"
   ]
  },
  {
   "cell_type": "code",
   "execution_count": null,
   "metadata": {
    "colab": {
     "base_uri": "https://localhost:8080/"
    },
    "id": "_jE07k-TmDwV",
    "outputId": "3ce285db-a3f7-4713-dec3-40f509dd37f2",
    "slideshow": {
     "slide_type": "subslide"
    }
   },
   "outputs": [],
   "source": [
    "print(10)\n",
    "print(3.14)\n",
    "print(2e10)   # scientific notation (https://en.wikipedia.org/wiki/Scientific_notation#E_notation)\n",
    "print(12_000) # you can group digits using underscores to make large numbers more readable\n",
    "print(3+2j)"
   ]
  },
  {
   "cell_type": "markdown",
   "metadata": {
    "id": "eZ99k_bcmL2_",
    "slideshow": {
     "slide_type": "fragment"
    }
   },
   "source": [
    "Note that when you’re writing long numbers, you can group digits using underscores to make large numbers more readable. In addition, `print()` can be used to print any numerical number including those in scientific notation."
   ]
  },
  {
   "cell_type": "markdown",
   "metadata": {
    "id": "BV5LcxKvKnml",
    "slideshow": {
     "slide_type": "slide"
    }
   },
   "source": [
    "### Data types"
   ]
  },
  {
   "cell_type": "markdown",
   "metadata": {
    "id": "vxF99qxYKqKN",
    "slideshow": {
     "slide_type": "subslide"
    }
   },
   "source": [
    "In Python variables and constants have a ***type***. We can ask Python what type something is by using the `type()` function"
   ]
  },
  {
   "cell_type": "code",
   "execution_count": null,
   "metadata": {
    "colab": {
     "base_uri": "https://localhost:8080/"
    },
    "id": "HIwnHarAHqN2",
    "outputId": "d765d2c3-0598-414c-ab64-c38f50dc4971",
    "slideshow": {
     "slide_type": "fragment"
    }
   },
   "outputs": [],
   "source": [
    "type('Hello, World!'), type(False), type(4), type(3.2), type(3+5j)"
   ]
  },
  {
   "cell_type": "code",
   "execution_count": null,
   "metadata": {
    "colab": {
     "base_uri": "https://localhost:8080/"
    },
    "id": "yuLCRUfgLSN7",
    "outputId": "5c46112f-3793-4e27-be0e-4c6a0c54ce9a",
    "slideshow": {
     "slide_type": "fragment"
    }
   },
   "outputs": [],
   "source": [
    "type(my_string),  type(my_Boolean), type(my_integer), type(my_floating_point), type(my_complex)"
   ]
  },
  {
   "cell_type": "markdown",
   "metadata": {
    "id": "LWdCVrl0M7tM",
    "slideshow": {
     "slide_type": "subslide"
    }
   },
   "source": [
    "You can convert object of one type to another using ***cast*** by `str()`, `float()`, `int()`, etc."
   ]
  },
  {
   "cell_type": "code",
   "execution_count": null,
   "metadata": {
    "colab": {
     "base_uri": "https://localhost:8080/"
    },
    "id": "eW-J5M1QLfr9",
    "outputId": "6771cb57-3d2a-46a8-fad3-09b08050ce16",
    "slideshow": {
     "slide_type": "fragment"
    }
   },
   "outputs": [],
   "source": [
    "float(3)"
   ]
  },
  {
   "cell_type": "code",
   "execution_count": null,
   "metadata": {
    "colab": {
     "base_uri": "https://localhost:8080/"
    },
    "id": "Q3VfAIceNHNB",
    "outputId": "a456489e-7e17-47d8-c937-c0f94fe96b0c",
    "slideshow": {
     "slide_type": "fragment"
    }
   },
   "outputs": [],
   "source": [
    "int(3.9)"
   ]
  },
  {
   "cell_type": "code",
   "execution_count": null,
   "metadata": {
    "colab": {
     "base_uri": "https://localhost:8080/"
    },
    "id": "YO7geNxFNrdA",
    "outputId": "3d339ffa-2183-4a65-ec6c-e106a24a67e5",
    "slideshow": {
     "slide_type": "fragment"
    }
   },
   "outputs": [],
   "source": [
    "int('3')"
   ]
  },
  {
   "cell_type": "code",
   "execution_count": null,
   "metadata": {
    "colab": {
     "base_uri": "https://localhost:8080/",
     "height": 35
    },
    "id": "PaSE-iN1NJKQ",
    "outputId": "f18cd1f3-840b-4a0b-e54b-6e78d657f369",
    "slideshow": {
     "slide_type": "fragment"
    }
   },
   "outputs": [],
   "source": [
    "str(3)"
   ]
  },
  {
   "cell_type": "markdown",
   "metadata": {
    "id": "kAGlrti-O_dS",
    "slideshow": {
     "slide_type": "subslide"
    }
   },
   "source": [
    "Python `ord()` and `chr()` are built-in functions. They are used to convert a character to an int and vice versa. Python `ord()` and `chr()` functions are exactly opposite of each other. \n",
    "\n",
    "Python `ord()` function takes string argument of a single [Unicode](https://www.ascii-code.com/) character and return its integer Unicode code point value. Let’s look at some examples of using `ord()` function."
   ]
  },
  {
   "cell_type": "code",
   "execution_count": null,
   "metadata": {
    "colab": {
     "base_uri": "https://localhost:8080/"
    },
    "id": "8ifgThqGNvNk",
    "outputId": "d6a7072b-e6c5-4518-ef9b-ca1b9f4b928f",
    "slideshow": {
     "slide_type": "fragment"
    }
   },
   "outputs": [],
   "source": [
    "x = ord('A')\n",
    "print(x)"
   ]
  },
  {
   "cell_type": "markdown",
   "metadata": {
    "id": "mFbauh61PVdd",
    "slideshow": {
     "slide_type": "fragment"
    }
   },
   "source": [
    "Python `chr()` function takes integer argument and return the string representing a character at that code point."
   ]
  },
  {
   "cell_type": "code",
   "execution_count": null,
   "metadata": {
    "colab": {
     "base_uri": "https://localhost:8080/"
    },
    "id": "39M2v5ZnPTGx",
    "outputId": "a28e8d8a-e22b-4ac9-9ec3-b010d07cb327",
    "slideshow": {
     "slide_type": "fragment"
    }
   },
   "outputs": [],
   "source": [
    "y = chr(65)\n",
    "print(y)"
   ]
  },
  {
   "cell_type": "markdown",
   "metadata": {
    "slideshow": {
     "slide_type": "slide"
    }
   },
   "source": [
    "### Conversion"
   ]
  },
  {
   "cell_type": "markdown",
   "metadata": {
    "slideshow": {
     "slide_type": "subslide"
    }
   },
   "source": [
    "There are two types of type conversion in Python.\n",
    "\n",
    "- Implicit Conversion - automatic type conversion. Python always converts smaller data types to larger data types to avoid the loss of data.\n",
    "- Explicit Conversion - manual type conversion"
   ]
  },
  {
   "cell_type": "code",
   "execution_count": null,
   "metadata": {
    "slideshow": {
     "slide_type": "fragment"
    }
   },
   "outputs": [],
   "source": [
    "5 + 4.2 # Implicit conversion"
   ]
  },
  {
   "cell_type": "markdown",
   "metadata": {
    "slideshow": {
     "slide_type": "fragment"
    }
   },
   "source": [
    "In Python, `complex > float > int > bool`"
   ]
  },
  {
   "cell_type": "code",
   "execution_count": null,
   "metadata": {
    "slideshow": {
     "slide_type": "fragment"
    }
   },
   "outputs": [],
   "source": [
    "int(4.7) + 3 # Explicit conversion"
   ]
  },
  {
   "cell_type": "code",
   "execution_count": null,
   "metadata": {
    "slideshow": {
     "slide_type": "subslide"
    }
   },
   "outputs": [],
   "source": [
    "display_quiz(path+\"ex_type.json\", max_width=800)"
   ]
  },
  {
   "cell_type": "markdown",
   "metadata": {
    "id": "TIwbpk_NUoAg",
    "slideshow": {
     "slide_type": "slide"
    }
   },
   "source": [
    "## Debugging"
   ]
  },
  {
   "cell_type": "markdown",
   "metadata": {
    "id": "mNNarsTrTREV",
    "slideshow": {
     "slide_type": "subslide"
    }
   },
   "source": [
    "Programming languages are not very forgiving for beginners, and a great deal of time learning to write software can be spent trying to find bugs, or errors in the code. Locating such bugs and correcting them is thus known as ***debugging***. "
   ]
  },
  {
   "cell_type": "markdown",
   "metadata": {
    "slideshow": {
     "slide_type": "fragment"
    }
   },
   "source": [
    "There are three major classes of bug that we create in software: \n",
    "\n",
    "- ***syntax errors*** (mistakes in the symbols that have been typed)\n",
    "- ***semantic errors*** (mistakes in the meaning of the program)\n",
    "- ***runtime errors*** (mistakes that occur when the program is executed.) "
   ]
  },
  {
   "cell_type": "markdown",
   "metadata": {
    "slideshow": {
     "slide_type": "subslide"
    }
   },
   "source": [
    "Syntax errors are the most common for novices, and include simple errors such as forgetting one of the quote marks at the beginning or ending of a text string, failing to close open parentheses, or misspelling the function name `print()`. As examples:"
   ]
  },
  {
   "cell_type": "code",
   "execution_count": null,
   "metadata": {
    "colab": {
     "base_uri": "https://localhost:8080/",
     "height": 132
    },
    "id": "LEpvId03TMaf",
    "outputId": "3f6442f2-c7d3-40de-afa4-4cbaac2d32db",
    "slideshow": {
     "slide_type": "fragment"
    }
   },
   "outputs": [],
   "source": [
    "print(5 + )"
   ]
  },
  {
   "cell_type": "markdown",
   "metadata": {
    "id": "82tpxH4-Tyuw",
    "slideshow": {
     "slide_type": "fragment"
    }
   },
   "source": [
    "This expression is missing a value between the addition operator and the \n",
    "closing parenthesis."
   ]
  },
  {
   "cell_type": "markdown",
   "metadata": {
    "slideshow": {
     "slide_type": "skip"
    }
   },
   "source": [
    "> The Python interpreter will generally try to point these errors out when it encounters them, displaying an offending line number and a description of the problem. With some practice, a beginner can quickly learn to recognize and interpret common error cases. "
   ]
  },
  {
   "cell_type": "code",
   "execution_count": null,
   "metadata": {
    "colab": {
     "base_uri": "https://localhost:8080/",
     "height": 132
    },
    "id": "qqiJD6a4Tvc8",
    "outputId": "25500ee2-cee1-4673-ca70-d6323fa01eda",
    "slideshow": {
     "slide_type": "subslide"
    }
   },
   "outputs": [],
   "source": [
    "print(mystring)"
   ]
  },
  {
   "cell_type": "markdown",
   "metadata": {
    "slideshow": {
     "slide_type": "fragment"
    }
   },
   "source": [
    "In this case it found a name error and reports that the variable being printed has not been defined. \n",
    "Python can’t identify the variable name provided."
   ]
  },
  {
   "cell_type": "code",
   "execution_count": null,
   "metadata": {
    "colab": {
     "base_uri": "https://localhost:8080/",
     "height": 167
    },
    "id": "NJZ1mZByT0pr",
    "outputId": "c1fe6275-21cd-40de-a622-ae247eda1861",
    "slideshow": {
     "slide_type": "subslide"
    }
   },
   "outputs": [],
   "source": [
    "pront(5)"
   ]
  },
  {
   "cell_type": "markdown",
   "metadata": {
    "slideshow": {
     "slide_type": "fragment"
    }
   },
   "source": [
    "Like calling someone by the wrong name, misspelling the name of a known \n",
    "function or variable can result in confusion and embarrassment."
   ]
  },
  {
   "cell_type": "markdown",
   "metadata": {
    "slideshow": {
     "slide_type": "skip"
    }
   },
   "source": [
    "> Pay close attention to error messages. What clues do you get from the error message? Where does it say the problem occurred? "
   ]
  },
  {
   "cell_type": "markdown",
   "metadata": {
    "id": "sI6kzqcjT-2w",
    "slideshow": {
     "slide_type": "subslide"
    }
   },
   "source": [
    "Semantic errors are flaws in the algorithm, or flaws in the way the algorithm is expressed in a language. Examples might include using the wrong variable name data type in a calculation, or getting the order of arithmetic operations wrong in a complex expression. "
   ]
  },
  {
   "cell_type": "code",
   "execution_count": null,
   "metadata": {
    "slideshow": {
     "slide_type": "fragment"
    }
   },
   "outputs": [],
   "source": [
    "num1 = input('Enter a number:')\n",
    "num2 = input('Enter another number:')\n",
    "sum_var = num1 + num2\n",
    "\n",
    "print('The sum of', num1, 'and', num2, 'is', sum_var)"
   ]
  },
  {
   "cell_type": "markdown",
   "metadata": {
    "slideshow": {
     "slide_type": "fragment"
    }
   },
   "source": [
    "The error is that the program performs concatenation instead of addition, because the programmer failed to write the code necessary to convert the inputs to integers."
   ]
  },
  {
   "cell_type": "markdown",
   "metadata": {
    "slideshow": {
     "slide_type": "fragment"
    }
   },
   "source": [
    "The `input()` function waits for the user to type some text on the keyboard and press ENTER and **returns a string value**. It allows the programmer to provide a prompt string."
   ]
  },
  {
   "cell_type": "markdown",
   "metadata": {
    "slideshow": {
     "slide_type": "skip"
    }
   },
   "source": [
    "> Identifying semantic errors can be tricky because no error message appears to make it obvious that the results are incorrect. The only way you can detect semantic errors is if you know in advance what the program should do for a given set of input. Then, you run the program with that input data and compare the output of the program with what you expect.\n",
    "```python\n",
    "Test Case\n",
    "----------\n",
    "Input: 2, 3\n",
    "Expected Output: 5\n",
    "```\n",
    "\n",
    "> Once you have test case, use `print()` statements to print out variable values, user inputs, and intermediate calcaultion results so you can compare them to what you expected."
   ]
  },
  {
   "cell_type": "markdown",
   "metadata": {
    "slideshow": {
     "slide_type": "subslide"
    }
   },
   "source": [
    "Finally, runtime errors at this level might include unintentionally dividing by zero or using a variable before you have defined it. Python reads statements from top to bottom, and it must see an assignment statement to a variable before that variable is used in an expression."
   ]
  },
  {
   "cell_type": "code",
   "execution_count": null,
   "metadata": {
    "slideshow": {
     "slide_type": "fragment"
    }
   },
   "outputs": [],
   "source": [
    "5/0"
   ]
  },
  {
   "cell_type": "code",
   "execution_count": null,
   "metadata": {
    "slideshow": {
     "slide_type": "subslide"
    }
   },
   "outputs": [],
   "source": [
    "display_quiz(path+\"error.json\", max_width=800)"
   ]
  },
  {
   "cell_type": "markdown",
   "metadata": {
    "slideshow": {
     "slide_type": "subslide"
    }
   },
   "source": [
    "> ### Exercise 3: Employ AI tools to diagnose errors."
   ]
  },
  {
   "cell_type": "markdown",
   "metadata": {
    "slideshow": {
     "slide_type": "slide"
    }
   },
   "source": [
    "## The first program"
   ]
  },
  {
   "cell_type": "markdown",
   "metadata": {
    "slideshow": {
     "slide_type": "subslide"
    }
   },
   "source": [
    "While the interactive shell is good for running Python instructions one at a time, sometimes you have to use a ***script***, to write entire Python programs. In this case, you’ll type the instructions into the file editor. "
   ]
  },
  {
   "cell_type": "code",
   "execution_count": null,
   "metadata": {
    "slideshow": {
     "slide_type": "fragment"
    }
   },
   "outputs": [],
   "source": [
    "%%writefile hello.py\n",
    "\"\"\"\n",
    "This program says hello and asks for your name.\n",
    "It also ask the age of you.\n",
    "\"\"\"\n",
    "\n",
    "print('Hello, world!')\n",
    "myName = input('What is your name? ') # ask for their name\n",
    "print('It is good to meet you, ' + myName)\n",
    "print('The length of your name is:\\n' + str(len(myName)))\n",
    "myAge = input('What is your age? ') # ask for their age\n",
    "print('You will be ' + str(int(myAge) + 1) + ' in a year.')"
   ]
  },
  {
   "cell_type": "markdown",
   "metadata": {
    "slideshow": {
     "slide_type": "subslide"
    }
   },
   "source": [
    "Once you’ve entered your source code, the ipython **magic** `%%writefile` will save it so that you won’t have to retype it each time you start. You can then use another magic `%run` to execute the python script. "
   ]
  },
  {
   "cell_type": "code",
   "execution_count": null,
   "metadata": {
    "slideshow": {
     "slide_type": "fragment"
    }
   },
   "outputs": [],
   "source": [
    "%run hello.py"
   ]
  },
  {
   "cell_type": "markdown",
   "metadata": {
    "slideshow": {
     "slide_type": "subslide"
    }
   },
   "source": [
    "> ### Exercise 4: Utilize AI tools to explain the program or add comments to the program."
   ]
  },
  {
   "cell_type": "markdown",
   "metadata": {
    "slideshow": {
     "slide_type": "skip"
    }
   },
   "source": [
    "### Dissecting Your Program"
   ]
  },
  {
   "cell_type": "markdown",
   "metadata": {
    "slideshow": {
     "slide_type": "skip"
    }
   },
   "source": [
    "With your new program open in the file editor, let’s take a quick tour of the Python instructions it uses by looking at what each line of code does."
   ]
  },
  {
   "cell_type": "markdown",
   "metadata": {
    "slideshow": {
     "slide_type": "skip"
    }
   },
   "source": [
    "1. The first line is the comment that tells others your intention of this program or the authorship of the program. Here it uses the ***multiline comment*** by using the triple quotes. The line `print('Hello, world!')` means “Print out the text in the string 'Hello, world!'.” When Python executes this line, you say that Python is calling the `print()` ***function*** and the string value is being passed to the function. A value that is passed to a function call is an ***argument***. When you write a function name, the opening and closing parentheses at the end identify it as the name of a function."
   ]
  },
  {
   "cell_type": "markdown",
   "metadata": {
    "slideshow": {
     "slide_type": "skip"
    }
   },
   "source": [
    "2. The `input()` function waits for the user to type some text on the keyboard and press ENTER. The `myName = input()` function call evaluates to a string equal to the user’s text, and the line of code assigns the `myName` variable to this string value."
   ]
  },
  {
   "cell_type": "markdown",
   "metadata": {
    "slideshow": {
     "slide_type": "skip"
    }
   },
   "source": [
    "3. The following call to `print('It is good to meet you, ' + myName)` is an expression. `'It is good to meet you, '` and `myName` between the parentheses are concatenated together via the operand `+` and printed out."
   ]
  },
  {
   "cell_type": "markdown",
   "metadata": {
    "slideshow": {
     "slide_type": "skip"
    }
   },
   "source": [
    "4. You can pass the `len()` function a string value (or a variable containing a string), and the function evaluates to the integer value of the number of characters in that string. If you want to concatenate an integer such as 29 with a string to pass to `print()`, you’ll need to get the value '29', which is the string form of 29. The `str()` function can be passed an integer value and will evaluate to a string value version of the integer. Besides, there is a `\\n` in the statement `print('The length of your name is:\\n' + str(len(myName)))`. The string starts with the backslash has a special escape meaning and `\\n` means adding a newline."
   ]
  },
  {
   "cell_type": "markdown",
   "metadata": {
    "slideshow": {
     "slide_type": "skip"
    }
   },
   "source": [
    "5. The `int()` function is also helpful if you have a number as a string value that you want to use in some mathematics. For example, the `input()` function always returns a string, even if the user enters a number. The `myAge` variable contains the value returned from `input()`. You can use the `int(myAge)` code to return an integer value of the string in `myAge`. This integer value is then added to 1 in the expression `int(myAge) + 1`. The result of this addition is passed to the `str()` function: `str(int(myAge) + 1)`. The string value returned is then concatenated with the strings `'You will be '` and `' in a year.'` to evaluate one large string value. This large string is finally passed to `print()` to be displayed on the screen."
   ]
  },
  {
   "cell_type": "markdown",
   "metadata": {
    "id": "LwTvxL92Rbgp",
    "slideshow": {
     "slide_type": "subslide"
    }
   },
   "source": [
    "> ### Exercise 5:  Write a script that inputs a five-digit integer from the user. Separate the number into its individual digits. Print them separated by three spaces each. For example, if the user types in the number 42339, the script should print 4 $~~$ 2 $~~$ 3 $~~$ 3 $~~$ 9\n",
    "\n",
    "Hint: Use floor division (`//`) and remainder (`%`) to isolate the digits.  "
   ]
  },
  {
   "cell_type": "code",
   "execution_count": null,
   "metadata": {
    "slideshow": {
     "slide_type": "subslide"
    }
   },
   "outputs": [],
   "source": [
    "# Your answer here\n",
    "# x=42339\n",
    "# Get the user's input from their keyboard and convert it to integer:\n",
    "x = _____('Enter a 5 digit integer')\n",
    "# Get the last digit by remainder\n",
    "digits4 = \n",
    "# Perform floor division and get the remainig digits\n",
    "x = \n",
    "#....\n",
    "\n",
    "# Print out the results\n",
    "____(digits0,'   ',digits1,'   ',digits2,'   ',digits3,'   ',digits4)"
   ]
  },
  {
   "cell_type": "markdown",
   "metadata": {
    "slideshow": {
     "slide_type": "subslide"
    }
   },
   "source": [
    "> ### Exercise 5: Employ AI tools to write a program or enhance the program."
   ]
  },
  {
   "cell_type": "markdown",
   "metadata": {
    "slideshow": {
     "slide_type": "skip"
    }
   },
   "source": [
    "## The zen of Python"
   ]
  },
  {
   "cell_type": "code",
   "execution_count": null,
   "metadata": {
    "slideshow": {
     "slide_type": "skip"
    }
   },
   "outputs": [],
   "source": [
    "import this"
   ]
  },
  {
   "cell_type": "markdown",
   "metadata": {
    "slideshow": {
     "slide_type": "skip"
    }
   },
   "source": [
    "You can compute expressions with a calculator or enter string concatenations with a word processor. You can even do string replication easily by copying and pasting text. But once you know how to handle the programing elements, you will be able to instruct Python to operate on large amounts of data automatically for you to replace these tasks."
   ]
  },
  {
   "cell_type": "markdown",
   "metadata": {
    "slideshow": {
     "slide_type": "skip"
    }
   },
   "source": [
    "Don’t try to write perfect code; write code that works, and then decide whether to improve your code for that project or move on to something new. But as you continue to the next chapters and start digging into more involved topics, try to keep this philosophy of **simplicity** and **clarity** in mind. "
   ]
  },
  {
   "cell_type": "markdown",
   "metadata": {
    "slideshow": {
     "slide_type": "skip"
    }
   },
   "source": [
    "> You can also refer [PEP8](https://peps.python.org/pep-0008/) which is a reference document that provides guidelines and best practices on how to write Python code."
   ]
  },
  {
   "cell_type": "code",
   "execution_count": null,
   "metadata": {
    "slideshow": {
     "slide_type": "subslide"
    }
   },
   "outputs": [],
   "source": [
    "from jupytercards import display_flashcards\n",
    "fpath= \"https://raw.githubusercontent.com/phonchi/nsysu-math106A/refs/heads/main/extra/flashcards/\"\n",
    "display_flashcards(fpath + 'ch1.json')"
   ]
  },
  {
   "cell_type": "markdown",
   "metadata": {
    "slideshow": {
     "slide_type": "skip"
    }
   },
   "source": [
    "## Keywords"
   ]
  },
  {
   "cell_type": "markdown",
   "metadata": {
    "slideshow": {
     "slide_type": "skip"
    }
   },
   "source": [
    "- **algorithm**: It contains well-defined, unambiguous steps and must produce a result in a finite time.\n",
    "- **pseudocode**: A simple way to describe the steps of an algorithm in plain language that looks like code.\n",
    "- **programming**: The process of writing instructions (code) that a computer follows to perform tasks.\n",
    "- **programming language**: A set of rules and syntax used to write code that computers can understand.\n",
    "- **interpreted language**: A programming language where the code is executed directly, line-by-line, without first being compiled.\n",
    "- **interpreter**: A tool that reads and executes code one line at a time.\n",
    "- **statement**: A single line of code that tells the computer to perform an action.\n",
    "- **function**: A reusable block of code that performs a specific task when you call it.\n",
    "- **arguments**: The values or information you pass into a function to help it work.\n",
    "- **constants**: Values that, once set, should not change while the program is running.\n",
    "- **method**: A function that belongs to an object, used to perform actions with that object.\n",
    "- **comment**: Notes in the code meant for humans to read; these are ignored by the computer.\n",
    "- **expression**: A combination of values, variables, and operators that computes a new value.\n",
    "- **floor division**: A division operation using `//` that returns the largest whole number less than or equal to the result.\n",
    "- **variable**: A name that holds a value which can change as the program runs.\n",
    "- **assignment statement**: A line of code that assigns a value to a variable using the `=` sign.\n",
    "- **keywords**: Reserved words in Python that have special meanings and cannot be used as names for your variables or functions.\n",
    "- **type**: The category of data stored in a variable, such as numbers (`int`, `float`) or text (`str`).\n",
    "- **debugging**: The process of finding and fixing errors in your code.\n",
    "- **syntax error**: An error caused by code that doesn't follow the proper rules or grammar of Python.\n",
    "- **semantic error**: An error where the code runs without crashing, but doesn't do what you intended because of a logical mistake.\n",
    "- **runtime error**: An error that occurs while the program is running, often stopping the program unexpectedly."
   ]
  }
 ],
 "metadata": {
  "colab": {
   "provenance": []
  },
  "kernelspec": {
   "display_name": "Python 3 (ipykernel)",
   "language": "python",
   "name": "python3"
  },
  "language_info": {
   "codemirror_mode": {
    "name": "ipython",
    "version": 3
   },
   "file_extension": ".py",
   "mimetype": "text/x-python",
   "name": "python",
   "nbconvert_exporter": "python",
   "pygments_lexer": "ipython3",
   "version": "3.9.13"
  },
  "rise": {
   "chalkboard": {
    "color": [
     "rgb(250, 0, 0)",
     "rgb(250, 0, 0)"
    ]
   },
   "controls": false,
   "enable_chalkboard": true,
   "footer": "",
   "overlay": "<div class='myfooter'><h4>Python Basics</h4></div>",
   "slideNumber": "true",
   "theme": "night"
  },
  "vscode": {
   "interpreter": {
    "hash": "ffe9a5d1be64f395cda62646beb00f4fbc1d5c319e2b42024d6d4b4beddf19a5"
   }
  }
 },
 "nbformat": 4,
 "nbformat_minor": 1
}
