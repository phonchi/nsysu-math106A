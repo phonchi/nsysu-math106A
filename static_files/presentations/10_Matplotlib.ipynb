{
 "cells": [
  {
   "cell_type": "markdown",
   "metadata": {
    "id": "11n5gndbRzoY",
    "slideshow": {
     "slide_type": "slide"
    }
   },
   "source": [
    "# Visualization with Matplotlib"
   ]
  },
  {
   "cell_type": "markdown",
   "metadata": {
    "slideshow": {
     "slide_type": "skip"
    }
   },
   "source": [
    "<table align=\"left\">\n",
    "  <td>\n",
    "    <a href=\"https://colab.research.google.com/github/phonchi/nsysu-math106A/blob/master/static_files/presentations/10_Matplotlib.ipynb\" target=\"_parent\"><img src=\"https://colab.research.google.com/assets/colab-badge.svg\" alt=\"Open In Colab\"/></a>\n",
    "  </td>\n",
    "  <td>\n",
    "    <a target=\"_blank\" href=\"https://kaggle.com/kernels/welcome?src=https://github.com/phonchi/nsysu-math106A/blob/master/static_files/presentations/10_Matplotlib.ipynb\"><img src=\"https://kaggle.com/static/images/open-in-kaggle.svg\" /></a>\n",
    "  </td>\n",
    "</table>"
   ]
  },
  {
   "cell_type": "markdown",
   "metadata": {
    "slideshow": {
     "slide_type": "skip"
    }
   },
   "source": [
    "Execute the following two cells for the setup:"
   ]
  },
  {
   "cell_type": "code",
   "execution_count": null,
   "metadata": {
    "slideshow": {
     "slide_type": "skip"
    }
   },
   "outputs": [],
   "source": [
    "!pip install jupyterquiz \n",
    "!pip install jupytercards\n",
    "\n",
    "from IPython.display import display, Javascript\n",
    "display(Javascript('Jupyter.notebook.kernel.restart()'))"
   ]
  },
  {
   "cell_type": "code",
   "execution_count": null,
   "metadata": {
    "slideshow": {
     "slide_type": "skip"
    }
   },
   "outputs": [],
   "source": [
    "from jupyterquiz import display_quiz\n",
    "\n",
    "path=\"https://raw.githubusercontent.com/phonchi/nsysu-math106A/refs/heads/main/extra/questions/ch10/\""
   ]
  },
  {
   "cell_type": "markdown",
   "metadata": {
    "slideshow": {
     "slide_type": "subslide"
    }
   },
   "source": [
    "1. Introduction\n",
    "2. Simple plots - 1\n",
    "3. Simple plots - 2\n",
    "4. Advance plots\n",
    "5. Customizing Plots\n",
    "6. Multiple Subplots"
   ]
  },
  {
   "cell_type": "markdown",
   "metadata": {
    "id": "W7KmRUMWFE7E",
    "slideshow": {
     "slide_type": "slide"
    }
   },
   "source": [
    "## Introduction"
   ]
  },
  {
   "cell_type": "markdown",
   "metadata": {
    "id": "rJn4M7KiFE7E",
    "slideshow": {
     "slide_type": "subslide"
    }
   },
   "source": [
    "`Matplotlib` is a multiplatform data visualization library built on `NumPy` `arrays`. `Matplotlib` supports numerous backends and output types, which means we can count on it to work regardless of the operating system we are using or the output format we desire. Let's install the package first:"
   ]
  },
  {
   "cell_type": "code",
   "execution_count": null,
   "metadata": {
    "colab": {
     "base_uri": "https://localhost:8080/"
    },
    "executionInfo": {
     "elapsed": 5,
     "status": "ok",
     "timestamp": 1683112650883,
     "user": {
      "displayName": "phonchi chung",
      "userId": "13517391734500420886"
     },
     "user_tz": -480
    },
    "id": "CdCsOW1BFE7E",
    "outputId": "9711dc03-2df3-4387-f860-5c34e5e7c694",
    "slideshow": {
     "slide_type": "fragment"
    }
   },
   "outputs": [],
   "source": [
    "package_name = \"matplotlib\"\n",
    "package_name2 = \"ipympl\"\n",
    "\n",
    "try:\n",
    "    __import__(package_name)\n",
    "    print(f\"{package_name} is already installed.\")\n",
    "except ImportError:\n",
    "    print(f\"{package_name} not found. Installing...\")\n",
    "    %pip install {package_name}\n",
    "\n",
    "try:\n",
    "    __import__(package_name2)\n",
    "    print(f\"{package_name2} is already installed.\")\n",
    "except ImportError:\n",
    "    print(f\"{package_name2} not found. Installing...\")\n",
    "    %pip install {package_name2}"
   ]
  },
  {
   "cell_type": "markdown",
   "metadata": {
    "id": "c4rSJMAcFE7F",
    "slideshow": {
     "slide_type": "subslide"
    }
   },
   "source": [
    "Creating interactive plots within a Jupyter notebook can be accomplished using the `%matplotlib` command. Additionally, we have the option to embed graphics directly in the notebook using `inline` option:"
   ]
  },
  {
   "cell_type": "code",
   "execution_count": null,
   "metadata": {
    "id": "eDIVSn01FE7F",
    "slideshow": {
     "slide_type": "fragment"
    }
   },
   "outputs": [],
   "source": [
    "#Interactive backend\n",
    "#%matplotlib widget \n",
    "#Interactive backend\n",
    "#%matplotlib ipympl\n",
    "#Static backend\n",
    "%matplotlib inline "
   ]
  },
  {
   "cell_type": "markdown",
   "metadata": {
    "id": "qZQv4TV4FE7G",
    "slideshow": {
     "slide_type": "subslide"
    }
   },
   "source": [
    "Just as we use the `np` shorthand for `NumPy`, we will use some standard shorthands for `Matplotlib` imports:"
   ]
  },
  {
   "cell_type": "code",
   "execution_count": null,
   "metadata": {
    "id": "Dl6TABITFE7G",
    "slideshow": {
     "slide_type": "fragment"
    }
   },
   "outputs": [],
   "source": [
    "import matplotlib as mpl\n",
    "import matplotlib.pyplot as plt # a collection of functions that make matplotlib work like MATLAB\n",
    "import numpy as np\n",
    "plt.style.use('seaborn-v0_8-whitegrid') #plt.style.use('seaborn-whitegrid')"
   ]
  },
  {
   "cell_type": "markdown",
   "metadata": {
    "id": "UKFv27wjkmx2",
    "slideshow": {
     "slide_type": "fragment"
    }
   },
   "source": [
    "We can choose the style we would like from the [here](https://matplotlib.org/stable/gallery/style_sheets/style_sheets_reference.html)."
   ]
  },
  {
   "cell_type": "markdown",
   "metadata": {
    "slideshow": {
     "slide_type": "skip"
    }
   },
   "source": [
    "Finally, if you're utilizing Google Colab along with the interactive backend, you must include the following line of code:"
   ]
  },
  {
   "cell_type": "code",
   "execution_count": null,
   "metadata": {
    "slideshow": {
     "slide_type": "skip"
    }
   },
   "outputs": [],
   "source": [
    "from google.colab import output\n",
    "output.enable_custom_widget_manager()"
   ]
  },
  {
   "cell_type": "markdown",
   "metadata": {
    "id": "a_BBEqwSFE7G",
    "slideshow": {
     "slide_type": "subslide"
    }
   },
   "source": [
    "### Two interfaces for the `matplotlib`"
   ]
  },
  {
   "cell_type": "markdown",
   "metadata": {
    "id": "kGogJWk1FE7G",
    "slideshow": {
     "slide_type": "subslide"
    }
   },
   "source": [
    "A feature of `Matplotlib` that may cause confusion is its dual interfaces: a user-friendly ***functional-style state-based interface*** and a more powerful ***object-oriented interface***. \n",
    "\n",
    "Firstly, we create the data we would like to plot. The simplest method, `plot()` accept two `arrays` (`x` and `y`) as inputs. It will plot `y` versus `x` as lines and/or markers."
   ]
  },
  {
   "cell_type": "code",
   "execution_count": null,
   "metadata": {
    "id": "D2e003AGFE7H",
    "slideshow": {
     "slide_type": "fragment"
    }
   },
   "outputs": [],
   "source": [
    "x = np.linspace(-np.pi, np.pi, 256)\n",
    "C, S = np.cos(x), np.sin(x)"
   ]
  },
  {
   "cell_type": "markdown",
   "metadata": {
    "id": "gIEFO0bLFE7H",
    "slideshow": {
     "slide_type": "fragment"
    }
   },
   "source": [
    "`x` is now a array with 256 values ranging from $-\\pi$ to $\\pi$ (included). `C` is the cosine (256 values) and `S` is the sine (256 values)."
   ]
  },
  {
   "cell_type": "markdown",
   "metadata": {
    "id": "GXoPpeALFE7H",
    "slideshow": {
     "slide_type": "subslide"
    }
   },
   "source": [
    "#### Functional Interface"
   ]
  },
  {
   "cell_type": "markdown",
   "metadata": {
    "id": "PGac_t6DFE7H",
    "slideshow": {
     "slide_type": "subslide"
    }
   },
   "source": [
    "`Matplotlib` was initially developed as a `Python` alternative for `MATLAB` users, and many aspects of its syntax reflect this origin. The `MATLAB`-style tools can be found in the `pyplot` (`plt`) interface. "
   ]
  },
  {
   "cell_type": "code",
   "execution_count": null,
   "metadata": {
    "colab": {
     "base_uri": "https://localhost:8080/",
     "height": 425
    },
    "executionInfo": {
     "elapsed": 957,
     "status": "ok",
     "timestamp": 1683109357554,
     "user": {
      "displayName": "phonchi chung",
      "userId": "13517391734500420886"
     },
     "user_tz": -480
    },
    "id": "Yeeam5sjFE7H",
    "outputId": "f71bbdbf-5fc3-4b92-e12d-91515e0fb19d",
    "slideshow": {
     "slide_type": "fragment"
    }
   },
   "outputs": [],
   "source": [
    "# 1. create a plot figure\n",
    "plt.figure()\n",
    "# 2. create the first of two panels and set current axis\n",
    "plt.subplot(2, 1, 1) # (rows, columns, panel number)\n",
    "plt.plot(x, S)\n",
    "# 3. create the second panel and set current axis\n",
    "plt.subplot(2, 1, 2)\n",
    "plt.plot(x, C);  # It is stateful!"
   ]
  },
  {
   "cell_type": "markdown",
   "metadata": {
    "slideshow": {
     "slide_type": "skip"
    }
   },
   "source": [
    "Note that the semicolon at the end of the last line is intentional: it suppresses the textual representation of the plot from the output."
   ]
  },
  {
   "cell_type": "markdown",
   "metadata": {
    "id": "iUlmafopFE7H",
    "slideshow": {
     "slide_type": "skip"
    }
   },
   "source": [
    "It's crucial to understand that this interface is ***stateful***: it maintains information about the \"current\" figure and axes, which serve as the targets for all `plt` commands. We can obtain a reference to these by using the `plt.gcf()` (get current figure) and `plt.gca()` (get current axes) functions."
   ]
  },
  {
   "cell_type": "code",
   "execution_count": null,
   "metadata": {
    "colab": {
     "base_uri": "https://localhost:8080/",
     "height": 430
    },
    "executionInfo": {
     "elapsed": 303,
     "status": "ok",
     "timestamp": 1683109408554,
     "user": {
      "displayName": "phonchi chung",
      "userId": "13517391734500420886"
     },
     "user_tz": -480
    },
    "id": "yCo7wrKfFE7I",
    "outputId": "42d304ff-6d16-47a3-f20d-64ffcc9ffd91",
    "slideshow": {
     "slide_type": "skip"
    }
   },
   "outputs": [],
   "source": [
    "plt.gca();"
   ]
  },
  {
   "cell_type": "markdown",
   "metadata": {
    "id": "fGGeQDiGFE7I",
    "slideshow": {
     "slide_type": "skip"
    }
   },
   "source": [
    "Although the stateful interface is quick and convenient for basic plots, it can lead to difficulties. For instance, after creating the second panel, how can we return to the first one and add something? While this can be achieved using the MATLAB-style interface, it may be somewhat awkward. Thankfully, there is a more efficient solution."
   ]
  },
  {
   "cell_type": "markdown",
   "metadata": {
    "id": "8vKqW5alFE7I",
    "slideshow": {
     "slide_type": "subslide"
    }
   },
   "source": [
    "#### Object-oriented interface"
   ]
  },
  {
   "cell_type": "markdown",
   "metadata": {
    "id": "nFIn0IVbFE7I",
    "slideshow": {
     "slide_type": "subslide"
    }
   },
   "source": [
    "For more complex scenarios or when greater control over the figure is desired, the object-oriented interface comes in handy. Instead of relying on the concept of an \"active\" figure or axes, the object-oriented interface treats plotting functions as methods of explicit `Figure` and `Axes` objects."
   ]
  },
  {
   "cell_type": "code",
   "execution_count": null,
   "metadata": {
    "colab": {
     "base_uri": "https://localhost:8080/",
     "height": 425
    },
    "executionInfo": {
     "elapsed": 1100,
     "status": "ok",
     "timestamp": 1683109476115,
     "user": {
      "displayName": "phonchi chung",
      "userId": "13517391734500420886"
     },
     "user_tz": -480
    },
    "id": "J9ucugRhFE7I",
    "outputId": "037215f2-56b4-4691-d1fc-8c8a80e213a7",
    "slideshow": {
     "slide_type": "fragment"
    }
   },
   "outputs": [],
   "source": [
    "# 1. First create a grid of plots\n",
    "# ax will be an array of two Axes objects\n",
    "fig, ax = plt.subplots(2)\n",
    "# 2. Call plot() method on the appropriate object\n",
    "ax[0].plot(x, S)\n",
    "ax[1].plot(x, C);"
   ]
  },
  {
   "cell_type": "markdown",
   "metadata": {
    "id": "aV3t94RbFE7I",
    "slideshow": {
     "slide_type": "skip"
    }
   },
   "source": [
    "For basic plots, the choice between the two styles is mainly a matter of personal preference. However, as plots become more intricate, the object-oriented approach may be essential."
   ]
  },
  {
   "cell_type": "code",
   "execution_count": null,
   "metadata": {
    "slideshow": {
     "slide_type": "subslide"
    }
   },
   "outputs": [],
   "source": [
    "display_quiz(path+\"oop.json\", max_width=800)"
   ]
  },
  {
   "cell_type": "markdown",
   "metadata": {
    "id": "JKR1JsR7FE7I",
    "slideshow": {
     "slide_type": "slide"
    }
   },
   "source": [
    "## Simple plots - 1"
   ]
  },
  {
   "cell_type": "markdown",
   "metadata": {
    "id": "GPmkl2gQFE7I",
    "slideshow": {
     "slide_type": "subslide"
    }
   },
   "source": [
    "### Simple line plots"
   ]
  },
  {
   "cell_type": "markdown",
   "metadata": {
    "id": "La9MJPX9Jlqz",
    "slideshow": {
     "slide_type": "subslide"
    }
   },
   "source": [
    "To create a 2D line plot, follow these general steps:\n",
    "\n",
    "1. Call the `plt.figure()` to create a new figure. (optional for `%matplotlib inline`)\n",
    "2. Generate a sequence of $x$ values usually using `linspace()`.\n",
    "3. Generate a sequence of $y$ values usually by substitute the $x$ values into a function.\n",
    "4. Input `plt.plot(x, y, [format], **kwargs)` where `[format]` is an (optional) format string, and `**kwargs` are (optional) keyword arguments specifying the line properties of the plot.\n",
    "5. Utilize `plt` functions to enhance the figure with features such as a title, legend, grid lines, etc.\n",
    "6. Input `plt.show()` to display the resulting figure (this step is optional in a Jupyter notebook)."
   ]
  },
  {
   "cell_type": "markdown",
   "metadata": {
    "id": "aNO5YAP-Gn7H",
    "slideshow": {
     "slide_type": "subslide"
    }
   },
   "source": [
    "Let's begin with a basic example where we try plotting the parabola \n",
    " using 5 points:"
   ]
  },
  {
   "cell_type": "markdown",
   "metadata": {
    "slideshow": {
     "slide_type": "skip"
    }
   },
   "source": [
    "Please be aware that when utilizing the interactive backend, it's necessary to include `plt.figure()` in each cell where a new plot is to be created."
   ]
  },
  {
   "cell_type": "code",
   "execution_count": null,
   "metadata": {
    "colab": {
     "base_uri": "https://localhost:8080/",
     "height": 425
    },
    "executionInfo": {
     "elapsed": 945,
     "status": "ok",
     "timestamp": 1683109702939,
     "user": {
      "displayName": "phonchi chung",
      "userId": "13517391734500420886"
     },
     "user_tz": -480
    },
    "id": "xelwstL6GpsO",
    "outputId": "0a5935c0-aeef-4f3a-f746-6a7794cbf388",
    "slideshow": {
     "slide_type": "fragment"
    }
   },
   "outputs": [],
   "source": [
    "x = [-2,-1,0,1,2]\n",
    "y = [4,1,0,1,4]\n",
    "plt.plot(x,y);"
   ]
  },
  {
   "cell_type": "markdown",
   "metadata": {
    "id": "y5qwFb27Gr32",
    "slideshow": {
     "slide_type": "fragment"
    }
   },
   "source": [
    "The sequences `x` and `y` determine the coordinates of the points in the plot and the line is formed by connecting these points with straight lines."
   ]
  },
  {
   "cell_type": "markdown",
   "metadata": {
    "slideshow": {
     "slide_type": "subslide"
    }
   },
   "source": [
    "The second observation suggests that if we aim to display a smooth curve, we need to plot numerous points; otherwise, the plot will not appear smooth. Let's attempt this again, using the `NumPy` function `np.linspace()` to create 200 points:"
   ]
  },
  {
   "cell_type": "code",
   "execution_count": null,
   "metadata": {
    "colab": {
     "base_uri": "https://localhost:8080/",
     "height": 425
    },
    "executionInfo": {
     "elapsed": 874,
     "status": "ok",
     "timestamp": 1683109781468,
     "user": {
      "displayName": "phonchi chung",
      "userId": "13517391734500420886"
     },
     "user_tz": -480
    },
    "id": "EQ9jmaQVHEGu",
    "outputId": "66f4a6d7-10d7-43dc-998d-ce7084729cec",
    "slideshow": {
     "slide_type": "fragment"
    }
   },
   "outputs": [],
   "source": [
    "x = np.linspace(-2,2,200)\n",
    "y = x**2\n",
    "plt.plot(x,y);"
   ]
  },
  {
   "cell_type": "markdown",
   "metadata": {
    "id": "kt81FPC2KTcD",
    "slideshow": {
     "slide_type": "skip"
    }
   },
   "source": [
    "Looks much better!"
   ]
  },
  {
   "cell_type": "markdown",
   "metadata": {
    "id": "v-iFzgkYFE7J",
    "slideshow": {
     "slide_type": "subslide"
    }
   },
   "source": [
    "Let's try another example with a simple sinusoid:"
   ]
  },
  {
   "cell_type": "code",
   "execution_count": null,
   "metadata": {
    "colab": {
     "base_uri": "https://localhost:8080/",
     "height": 425
    },
    "executionInfo": {
     "elapsed": 570,
     "status": "ok",
     "timestamp": 1683111407034,
     "user": {
      "displayName": "phonchi chung",
      "userId": "13517391734500420886"
     },
     "user_tz": -480
    },
    "id": "X-fZLjJcFE7J",
    "outputId": "5ff7b5a2-5554-4017-eeaf-2ba49de86c2b",
    "slideshow": {
     "slide_type": "fragment"
    }
   },
   "outputs": [],
   "source": [
    "x = np.linspace(0, 10, 1000)\n",
    "plt.plot(x, np.sin(x)); # let the figure and axes be created for us in the background"
   ]
  },
  {
   "cell_type": "markdown",
   "metadata": {
    "id": "fjKajeyEFE7J",
    "slideshow": {
     "slide_type": "subslide"
    }
   },
   "source": [
    "If we want to create a single figure with multiple lines, we can simply call the `plot()` function multiple times:"
   ]
  },
  {
   "cell_type": "code",
   "execution_count": null,
   "metadata": {
    "colab": {
     "base_uri": "https://localhost:8080/",
     "height": 425
    },
    "executionInfo": {
     "elapsed": 593,
     "status": "ok",
     "timestamp": 1683111409024,
     "user": {
      "displayName": "phonchi chung",
      "userId": "13517391734500420886"
     },
     "user_tz": -480
    },
    "id": "aMelzbvyFE7J",
    "outputId": "f4f764eb-9197-435f-c089-1a6bce70608a",
    "slideshow": {
     "slide_type": "fragment"
    }
   },
   "outputs": [],
   "source": [
    "plt.plot(x, np.sin(x))\n",
    "plt.plot(x, np.cos(x));"
   ]
  },
  {
   "cell_type": "markdown",
   "metadata": {
    "id": "p-xox2YXFE7K",
    "slideshow": {
     "slide_type": "subslide"
    }
   },
   "source": [
    "#### Adjusting the plot: Line colors, styles and widths"
   ]
  },
  {
   "cell_type": "markdown",
   "metadata": {
    "id": "9eEGKRtlFE7K",
    "slideshow": {
     "slide_type": "subslide"
    }
   },
   "source": [
    "One of the first modifications you might want to make to a plot is adjusting the line colors and styles. The `plt.plot()` function accepts additional arguments that can be employed to define these aspects. To change the color, you can use the `color` keyword:"
   ]
  },
  {
   "cell_type": "code",
   "execution_count": null,
   "metadata": {
    "colab": {
     "base_uri": "https://localhost:8080/",
     "height": 425
    },
    "executionInfo": {
     "elapsed": 1170,
     "status": "ok",
     "timestamp": 1683111416110,
     "user": {
      "displayName": "phonchi chung",
      "userId": "13517391734500420886"
     },
     "user_tz": -480
    },
    "id": "cUO2KeOYFE7K",
    "outputId": "daeffcac-7eef-44f8-ab1a-4aafd7b25b02",
    "slideshow": {
     "slide_type": "fragment"
    }
   },
   "outputs": [],
   "source": [
    "plt.plot(x, np.cos(x - 0), color='blue')         # specify color by name\n",
    "plt.plot(x, np.cos(x - 1), color='g')            # short color code (rgbcmyk)\n",
    "plt.plot(x, np.cos(x - 2), color='0.75')         # grayscale between 0 and 1\n",
    "plt.plot(x, np.cos(x - 4), color=(1.0,0.2,0.3)); # RGB tuple, values 0 to 1"
   ]
  },
  {
   "cell_type": "markdown",
   "metadata": {
    "id": "4D1gzn7JFE7K",
    "slideshow": {
     "slide_type": "subslide"
    }
   },
   "source": [
    "Similarly, the line style can be adjusted using the `linestyle` keyword:"
   ]
  },
  {
   "cell_type": "code",
   "execution_count": null,
   "metadata": {
    "colab": {
     "base_uri": "https://localhost:8080/",
     "height": 425
    },
    "executionInfo": {
     "elapsed": 875,
     "status": "ok",
     "timestamp": 1683111435610,
     "user": {
      "displayName": "phonchi chung",
      "userId": "13517391734500420886"
     },
     "user_tz": -480
    },
    "id": "MtUX1U3sFE7K",
    "outputId": "41bbff19-bd41-40ce-a681-396d5478456b",
    "slideshow": {
     "slide_type": "fragment"
    }
   },
   "outputs": [],
   "source": [
    "plt.plot(x, x - 0, linestyle='-')  # solid\n",
    "plt.plot(x, x - 1, linestyle='--') # dashed\n",
    "plt.plot(x, x - 2, linestyle='-.') # dashdot\n",
    "plt.plot(x, x - 3, linestyle=':')  # dotted\n",
    "plt.plot(x, x - 4, ':k');          # (use format string here!)\n",
    "# You can save some keystrokes by combining these linestyle and color codes into a single non-keyword argument"
   ]
  },
  {
   "cell_type": "markdown",
   "metadata": {
    "id": "DGye9qCdFE7L",
    "slideshow": {
     "slide_type": "subslide"
    }
   },
   "source": [
    "Finally, you can also adjust the width using `linewidth` keyword:"
   ]
  },
  {
   "cell_type": "code",
   "execution_count": null,
   "metadata": {
    "colab": {
     "base_uri": "https://localhost:8080/",
     "height": 425
    },
    "executionInfo": {
     "elapsed": 658,
     "status": "ok",
     "timestamp": 1683111452294,
     "user": {
      "displayName": "phonchi chung",
      "userId": "13517391734500420886"
     },
     "user_tz": -480
    },
    "id": "BAlbHeAnFE7L",
    "outputId": "7beedb69-8552-4adb-ff77-6e8683dab8d6",
    "slideshow": {
     "slide_type": "fragment"
    }
   },
   "outputs": [],
   "source": [
    "plt.plot(x, np.cos(x - 0)) \n",
    "plt.plot(x, np.cos(x - 1), linewidth='5');"
   ]
  },
  {
   "cell_type": "markdown",
   "metadata": {
    "id": "bZ16GrDVFE7L",
    "slideshow": {
     "slide_type": "subslide"
    }
   },
   "source": [
    "#### Adjusting the plot: Axes limits"
   ]
  },
  {
   "cell_type": "markdown",
   "metadata": {
    "id": "doEBWe8TFE7L",
    "slideshow": {
     "slide_type": "subslide"
    }
   },
   "source": [
    "`Matplotlib` generally provides suitable default axes limits for your plot, but in certain cases, having more control can be advantageous. The simplest method to fine-tune the limits is by utilizing the `plt.xlim()` and `plt.ylim()` functions:"
   ]
  },
  {
   "cell_type": "code",
   "execution_count": null,
   "metadata": {
    "colab": {
     "base_uri": "https://localhost:8080/",
     "height": 430
    },
    "executionInfo": {
     "elapsed": 974,
     "status": "ok",
     "timestamp": 1683111461971,
     "user": {
      "displayName": "phonchi chung",
      "userId": "13517391734500420886"
     },
     "user_tz": -480
    },
    "id": "AmeUGtD3FE7L",
    "outputId": "4c1700ff-1c2b-4d96-b266-6b0510edf908",
    "slideshow": {
     "slide_type": "fragment"
    }
   },
   "outputs": [],
   "source": [
    "plt.plot(x, np.cos(x))\n",
    "\n",
    "plt.xlim(-0.5, 10.5)\n",
    "plt.ylim(-1.5, 1.5);"
   ]
  },
  {
   "cell_type": "markdown",
   "metadata": {
    "id": "S_yNomP4FE7L",
    "slideshow": {
     "slide_type": "subslide"
    }
   },
   "source": [
    "#### Labeling plots"
   ]
  },
  {
   "cell_type": "markdown",
   "metadata": {
    "id": "MM5lvqT3FE7L",
    "slideshow": {
     "slide_type": "subslide"
    }
   },
   "source": [
    "Let's take a quick look at labeling plots. Titles and axis labels are the most basic types of labels — there are methods available to set them quickly. "
   ]
  },
  {
   "cell_type": "markdown",
   "metadata": {
    "slideshow": {
     "slide_type": "skip"
    }
   },
   "source": [
    "Moreover, when multiple lines appear within a single set of axes, a plot legend can be helpful in labeling each line type. Once again, `Matplotlib` has a built-in method for swiftly creating such a legend, achieved through the `plt.legend()` method:"
   ]
  },
  {
   "cell_type": "code",
   "execution_count": null,
   "metadata": {
    "colab": {
     "base_uri": "https://localhost:8080/",
     "height": 475
    },
    "executionInfo": {
     "elapsed": 991,
     "status": "ok",
     "timestamp": 1683111480209,
     "user": {
      "displayName": "phonchi chung",
      "userId": "13517391734500420886"
     },
     "user_tz": -480
    },
    "id": "eeSnyZbMFE7M",
    "outputId": "222c1984-251b-4f2c-ca2e-4eb4877bc330",
    "slideshow": {
     "slide_type": "fragment"
    }
   },
   "outputs": [],
   "source": [
    "plt.plot(x, np.sin(x), '-g', label='sin(x)') # solid green line\n",
    "plt.plot(x, np.cos(x), ':b', label='cos(x)') # dotted blue line\n",
    "plt.title(\"A Sin/Cos Curve\", fontsize=18)    # we can also specify the font size\n",
    "plt.xlabel(\"x\", fontsize=14)\n",
    "plt.ylabel(\"sin(x)\", fontsize=14)\n",
    "plt.legend(fontsize=12)\n",
    "plt.axis('equal');"
   ]
  },
  {
   "cell_type": "markdown",
   "metadata": {
    "id": "R1Wy21smFE7M",
    "slideshow": {
     "slide_type": "skip"
    }
   },
   "source": [
    "Note that we also use the function `plt.axis('equal')` to force the scaling to be equal on both axes. In addition, the `plt.legend()` function keeps track of the line style and color, and matches these with the correct label!"
   ]
  },
  {
   "cell_type": "markdown",
   "metadata": {
    "id": "VzRsRA5sFE7M",
    "slideshow": {
     "slide_type": "subslide"
    }
   },
   "source": [
    "For more anatomy of a figure, you can refer to the following figure (which is created using the code available [here](https://matplotlib.org/stable/gallery/showcase/anatomy.html)):"
   ]
  },
  {
   "cell_type": "markdown",
   "metadata": {
    "id": "jrlR-871FE7M",
    "slideshow": {
     "slide_type": "fragment"
    }
   },
   "source": [
    "<center><img src=\"https://raw.githubusercontent.com/phonchi/nsysu-math106A/refs/heads/main/extra/Figures/img21.png\" width=\"40%\" height=\"40%\"></center>"
   ]
  },
  {
   "cell_type": "markdown",
   "metadata": {
    "id": "namS9s9UFE7M",
    "slideshow": {
     "slide_type": "subslide"
    }
   },
   "source": [
    "#### `Matplotlib` tips"
   ]
  },
  {
   "cell_type": "markdown",
   "metadata": {
    "id": "Ga0ODMd1FE7M",
    "slideshow": {
     "slide_type": "subslide"
    }
   },
   "source": [
    "While many `plt` functions (Functional interface) have direct `ax` method (OOP interface) equivalents (`plt.plot()` → `ax.plot()`, `plt.legend()` → `ax.legend()`, etc.), this does not apply to all commands. Specifically, functions for setting limits, labels, and titles undergo slight modifications. To transition between MATLAB-style functions and object-oriented methods, implement the following changes:\n",
    "\n",
    "<div align=\"center\">\n",
    "\n",
    "|  Functional |      OOP      |\n",
    "|:-----------:|:-------------:|\n",
    "| plt.xlabel()  | ax.set_xlabel() |\n",
    "|  plt.ylabel() | ax.set_ylabel() |\n",
    "|   plt.xlim()  |  ax.set_xlim()  |\n",
    "|   plt.ylim()  |  ax.set_ylim()  |\n",
    "|  plt.title()  |  ax.set_title() |\n",
    "\n",
    "</div>"
   ]
  },
  {
   "cell_type": "markdown",
   "metadata": {
    "slideshow": {
     "slide_type": "subslide"
    }
   },
   "source": [
    "## Exercise 1: Try to plot the function $\\frac{1}{x(x-1)}$ within the range -2 to 3 with evenly spaced points. Try to set the point at the discontinuity to `np.nan` so that the point won't be plotted in the figure for better visualization purposes.\n",
    "\n",
    "Hint: You can use `np.isclose(x, discontinuity, atol=threshold)` function to find the index of the point closest to the discontinuity. On the other hand `y[y>threshold]; y[y<-threshold]` may also be used."
   ]
  },
  {
   "cell_type": "code",
   "execution_count": null,
   "metadata": {
    "slideshow": {
     "slide_type": "subslide"
    }
   },
   "outputs": [],
   "source": [
    "# Your code here\n",
    "# ---------------------------------------------------------------\n",
    "# 1. Generate an evenly‑spaced grid of x‑values on [-2, 3] \n",
    "# ---------------------------------------------------------------\n",
    "num_points = 1_000                     # number of samples to plot\n",
    "x = np.linspace(____, _____, num_points)     # linearly spaced grid\n",
    "\n",
    "# ---------------------------------------------------------------\n",
    "# 2. Evaluate y = 1 / (x * (x - 1)) on that grid\n",
    "# ---------------------------------------------------------------\n",
    "y = _____________\n",
    "\n",
    "# ---------------------------------------------------------------\n",
    "# 3. Remove the singularities   (x = 0 and x = 1)\n",
    "#    np.isclose(...) finds the grid points closest to each pole.\n",
    "# ---------------------------------------------------------------\n",
    "mask = np.isclose(x,_______, atol=1e-2) | \\\n",
    "            np.isclose(x, _______, atol=1e-2)     # boolean mask for both poles\n",
    "y[mask_disc] = _______                                    # exclude poles from the plot\n",
    "\n",
    "# ---------------------------------------------------------------\n",
    "# 4. (Optional)  Clip extremely large magnitudes to improve\n",
    "#    visual readability — anything with |y| > 1e3 is omitted.\n",
    "# ---------------------------------------------------------------\n",
    "threshold = 1e3\n",
    "y[np.abs(y) > threshold] = np.nan"
   ]
  },
  {
   "cell_type": "code",
   "execution_count": null,
   "metadata": {
    "slideshow": {
     "slide_type": "subslide"
    }
   },
   "outputs": [],
   "source": [
    "plt.figure(figsize=(6, 4))\n",
    "plt.plot(x, y, label=r'$y = \\dfrac{1}{x\\,(x-1)}$')\n",
    "plt.xlabel('x')\n",
    "plt.ylabel('y')\n",
    "plt.legend()\n",
    "plt.grid(True)\n",
    "plt.tight_layout()\n",
    "plt.show()"
   ]
  },
  {
   "cell_type": "markdown",
   "metadata": {
    "slideshow": {
     "slide_type": "slide"
    }
   },
   "source": [
    "## Simple plots - 2"
   ]
  },
  {
   "cell_type": "markdown",
   "metadata": {
    "id": "cRWxfRWpFE7M",
    "slideshow": {
     "slide_type": "subslide"
    }
   },
   "source": [
    "### Simple scatter plots"
   ]
  },
  {
   "cell_type": "markdown",
   "metadata": {
    "id": "30h-n5UzFE7M",
    "slideshow": {
     "slide_type": "subslide"
    }
   },
   "source": [
    "Another frequently used plot type is the basic scatter plot. In this case, points are depicted individually with a dot, circle, or other shape, rather than being connected by line segments. It turns out that the same function can also generate scatter plots:"
   ]
  },
  {
   "cell_type": "code",
   "execution_count": null,
   "metadata": {
    "colab": {
     "base_uri": "https://localhost:8080/",
     "height": 425
    },
    "executionInfo": {
     "elapsed": 486,
     "status": "ok",
     "timestamp": 1683111554532,
     "user": {
      "displayName": "phonchi chung",
      "userId": "13517391734500420886"
     },
     "user_tz": -480
    },
    "id": "zhdo6TSPFE7M",
    "outputId": "731d0f53-c135-4792-ff23-95d8ee17182a",
    "slideshow": {
     "slide_type": "fragment"
    }
   },
   "outputs": [],
   "source": [
    "x = np.linspace(0, 10, 30)\n",
    "y = np.sin(x)\n",
    "plt.plot(x, y, 'o', color='black');"
   ]
  },
  {
   "cell_type": "markdown",
   "metadata": {
    "id": "sjB7qn2jFE7N",
    "slideshow": {
     "slide_type": "subslide"
    }
   },
   "source": [
    "The third argument in the function call is a character representing the type of symbol used for plotting. Similar to specifying options like '-' or '--' to control the line style, marker styles also have their own set of brief string codes:"
   ]
  },
  {
   "cell_type": "code",
   "execution_count": null,
   "metadata": {
    "colab": {
     "base_uri": "https://localhost:8080/",
     "height": 426
    },
    "executionInfo": {
     "elapsed": 800,
     "status": "ok",
     "timestamp": 1683111555612,
     "user": {
      "displayName": "phonchi chung",
      "userId": "13517391734500420886"
     },
     "user_tz": -480
    },
    "id": "qZZNJOYqFE7N",
    "outputId": "0addfcae-1003-4e13-e093-cf35a5a94430",
    "slideshow": {
     "slide_type": "fragment"
    }
   },
   "outputs": [],
   "source": [
    "np.random.seed(42)\n",
    "\n",
    "for marker in ['o', '.', ',', 'x', '+', 'v', '^', '<', '>', 's', 'd']:\n",
    "    plt.plot(np.random.random(1), np.random.random(1), marker, color='black', label=f'marker={marker}')\n",
    "\n",
    "plt.legend(fontsize=13)\n",
    "plt.xlim(0, 1.8);"
   ]
  },
  {
   "cell_type": "markdown",
   "metadata": {
    "id": "jsMJZjWpFE7N",
    "slideshow": {
     "slide_type": "subslide"
    }
   },
   "source": [
    "For even greater versatility, these character codes can be combined with line and color codes to plot points accompanied by a connecting line. Furthermore, the size or color of the markers can be customized:"
   ]
  },
  {
   "cell_type": "code",
   "execution_count": null,
   "metadata": {
    "colab": {
     "base_uri": "https://localhost:8080/",
     "height": 425
    },
    "executionInfo": {
     "elapsed": 488,
     "status": "ok",
     "timestamp": 1683111556099,
     "user": {
      "displayName": "phonchi chung",
      "userId": "13517391734500420886"
     },
     "user_tz": -480
    },
    "id": "XwAT_-qUFE7N",
    "outputId": "dda0bb3e-15fd-42be-bbe9-b8d6919d7c0e",
    "slideshow": {
     "slide_type": "fragment"
    }
   },
   "outputs": [],
   "source": [
    "plt.plot(x, y, '-vb', markersize=15, linewidth=4, markerfacecolor='orange', markeredgewidth=2)\n",
    "plt.ylim(-1.2, 1.2);"
   ]
  },
  {
   "cell_type": "markdown",
   "metadata": {
    "id": "A1cmmkGrFE7N",
    "slideshow": {
     "slide_type": "subslide"
    }
   },
   "source": [
    "#### Scatter Plots with `plt.scatter()`"
   ]
  },
  {
   "cell_type": "markdown",
   "metadata": {
    "id": "mqhf4Bm2FE7N",
    "slideshow": {
     "slide_type": "subslide"
    }
   },
   "source": [
    "The main advantage of `plt.scatter()` over `plt.plot()` is its ability to generate scatter plots **where the properties of each individual point (size, face color, edge color, etc.) can be individually controlled or mapped to data**. "
   ]
  },
  {
   "cell_type": "markdown",
   "metadata": {
    "slideshow": {
     "slide_type": "skip"
    }
   },
   "source": [
    "To demonstrate this, let's create a random scatter plot with points of various colors and sizes. To better visualize the overlapping points, we'll also use the `alpha` keyword to adjust the transparency level:"
   ]
  },
  {
   "cell_type": "code",
   "execution_count": null,
   "metadata": {
    "id": "qa_FRK43FE7O",
    "outputId": "e792b04c-cb20-457e-87a9-98963d2bf3c6",
    "slideshow": {
     "slide_type": "fragment"
    }
   },
   "outputs": [],
   "source": [
    "np.random.seed(42)\n",
    "x = np.random.randn(100)\n",
    "y = np.random.randn(100)\n",
    "colors = np.random.rand(100)\n",
    "sizes = 1000 * np.random.rand(100)\n",
    "plt.scatter(x, y, c=colors, s=sizes, alpha=0.3, cmap='viridis')\n",
    "plt.colorbar(); # show color scale"
   ]
  },
  {
   "cell_type": "markdown",
   "metadata": {
    "id": "NsKiNy7aFE7O",
    "slideshow": {
     "slide_type": "skip"
    }
   },
   "source": [
    "Observe that the `color` argument is automatically mapped to a color scale (demonstrated here by the `colorbar()` command). Moreover, we can choose a color map using the `cmap` keyword. To view all `Matplotlib` color maps, refer to the [list of colormaps](https://matplotlib.org/stable/tutorials/colors/colormaps.html)."
   ]
  },
  {
   "cell_type": "markdown",
   "metadata": {
    "id": "dkeXYWvuFE7O",
    "slideshow": {
     "slide_type": "subslide"
    }
   },
   "source": [
    "### Density plots"
   ]
  },
  {
   "cell_type": "markdown",
   "metadata": {
    "id": "57uliTlvFE7Q",
    "slideshow": {
     "slide_type": "subslide"
    }
   },
   "source": [
    "#### Histograms, binnings, and density plots"
   ]
  },
  {
   "cell_type": "markdown",
   "metadata": {
    "id": "6ILCuc1UFE7Q",
    "slideshow": {
     "slide_type": "subslide"
    }
   },
   "source": [
    "A basic histogram can be an excellent initial step in comprehending a dataset. We can use `plt.hist()` to calculate and generate a histogram of sample data:"
   ]
  },
  {
   "cell_type": "code",
   "execution_count": null,
   "metadata": {
    "colab": {
     "base_uri": "https://localhost:8080/",
     "height": 425
    },
    "executionInfo": {
     "elapsed": 342,
     "status": "ok",
     "timestamp": 1683113173684,
     "user": {
      "displayName": "phonchi chung",
      "userId": "13517391734500420886"
     },
     "user_tz": -480
    },
    "id": "YszfLhhcFE7Q",
    "outputId": "c518ff2f-8ba2-4347-a870-e5c82da36ca4",
    "slideshow": {
     "slide_type": "fragment"
    }
   },
   "outputs": [],
   "source": [
    "np.random.seed(42)\n",
    "data = np.random.normal(size=1000)\n",
    "plt.hist(data);"
   ]
  },
  {
   "cell_type": "markdown",
   "metadata": {
    "id": "2Oz3zoI8FE7Q",
    "slideshow": {
     "slide_type": "subslide"
    }
   },
   "source": [
    "The `hist()` function provides numerous options for fine-tuning both the computation and display. Here's an example of a more customized histogram:"
   ]
  },
  {
   "cell_type": "code",
   "execution_count": null,
   "metadata": {
    "colab": {
     "base_uri": "https://localhost:8080/",
     "height": 425
    },
    "executionInfo": {
     "elapsed": 353,
     "status": "ok",
     "timestamp": 1683113175734,
     "user": {
      "displayName": "phonchi chung",
      "userId": "13517391734500420886"
     },
     "user_tz": -480
    },
    "id": "gRT-a5paFE7Q",
    "outputId": "96e196fe-9f32-4e1c-d5eb-63babe241f01",
    "slideshow": {
     "slide_type": "fragment"
    }
   },
   "outputs": [],
   "source": [
    "plt.hist(data, bins=30, density=True, alpha=0.5, color='steelblue', edgecolor='none')\n",
    "x = np.linspace(-4,4,100)\n",
    "y = 1/(2*np.pi)**0.5 * np.exp(-x**2/2)\n",
    "plt.plot(x,y,'b',alpha=0.8);"
   ]
  },
  {
   "cell_type": "markdown",
   "metadata": {
    "id": "xkBeSHhSFE7U",
    "slideshow": {
     "slide_type": "skip"
    }
   },
   "source": [
    "The `density=True` keyword argument normalizes the histogram and displays it on the same axes as the data. The `bins` keyword argument specifies the number of bins to use for the histogram. Here, we also superimpose the normal distribution $y = \\frac{1}{\\sqrt{2\\pi}} e^{-x^2/2}$."
   ]
  },
  {
   "cell_type": "markdown",
   "metadata": {
    "id": "7q3MeCzJFE7U",
    "slideshow": {
     "slide_type": "slide"
    }
   },
   "source": [
    "## Advance plots"
   ]
  },
  {
   "cell_type": "markdown",
   "metadata": {
    "id": "7m1vNRI2FE7U",
    "slideshow": {
     "slide_type": "subslide"
    }
   },
   "source": [
    "### Filling the area between lines"
   ]
  },
  {
   "cell_type": "markdown",
   "metadata": {
    "id": "g7LROfMtUMOy",
    "slideshow": {
     "slide_type": "subslide"
    }
   },
   "source": [
    "Sometimes, it may be useful to fill areas between plots using `plt.fill_between()`:"
   ]
  },
  {
   "cell_type": "code",
   "execution_count": null,
   "metadata": {
    "colab": {
     "base_uri": "https://localhost:8080/",
     "height": 443
    },
    "executionInfo": {
     "elapsed": 930,
     "status": "ok",
     "timestamp": 1683112446007,
     "user": {
      "displayName": "phonchi chung",
      "userId": "13517391734500420886"
     },
     "user_tz": -480
    },
    "id": "6TyWZCFQFE7U",
    "outputId": "2dd1cacb-0a43-4410-9e57-7ac5100a5852",
    "slideshow": {
     "slide_type": "fragment"
    }
   },
   "outputs": [],
   "source": [
    "x = np.linspace(0, 2*np.pi, 1000)\n",
    "\n",
    "plt.plot(x, np.sin(x), 'r')\n",
    "plt.plot(x, np.cos(x), 'g')\n",
    "plt.fill_between(x, np.cos(x), np.sin(x), color='red', alpha=0.1);"
   ]
  },
  {
   "cell_type": "markdown",
   "metadata": {
    "id": "SOyBNMNJFE7V",
    "slideshow": {
     "slide_type": "subslide"
    }
   },
   "source": [
    "### Plot in polar coordinate"
   ]
  },
  {
   "cell_type": "markdown",
   "metadata": {
    "id": "0DOMf5pBUdmB",
    "slideshow": {
     "slide_type": "subslide"
    }
   },
   "source": [
    "To plot the figure in different coordinate system, we can use `projection` option of the `plt.axes()` method:"
   ]
  },
  {
   "cell_type": "code",
   "execution_count": null,
   "metadata": {
    "colab": {
     "base_uri": "https://localhost:8080/",
     "height": 450
    },
    "executionInfo": {
     "elapsed": 1076,
     "status": "ok",
     "timestamp": 1683112507144,
     "user": {
      "displayName": "phonchi chung",
      "userId": "13517391734500420886"
     },
     "user_tz": -480
    },
    "id": "V5wXTEkjFE7V",
    "outputId": "9c79a1a4-91b7-4823-e61c-7b4424f3f265",
    "slideshow": {
     "slide_type": "fragment"
    }
   },
   "outputs": [],
   "source": [
    "t = np.linspace(0, 2*np.pi, 64)\n",
    "# plot in polar coordinates\n",
    "plt.axes(projection='polar')\n",
    "plt.plot(t, np.sin(t), '-');\n",
    "# Set ticks for polar coordinate\n",
    "plt.xticks([0, np.pi/2, np.pi, 3*np.pi/2], ['0', '$\\pi/2$', '$\\pi$', '$3\\pi/2$'])\n",
    "plt.yticks([-0.5,0,0.5,1]);"
   ]
  },
  {
   "cell_type": "markdown",
   "metadata": {
    "id": "3EaV8J-fkmyI",
    "slideshow": {
     "slide_type": "subslide"
    }
   },
   "source": [
    "Note that we would expect that a radius of 0 designates the origin, and a negative radius is reflected across the origin; Specifically, the polar coordinates $(r, t)$ and $(-r, t+\\pi)$ should represent the same point. To implement this behavior, use the code below:"
   ]
  },
  {
   "cell_type": "code",
   "execution_count": null,
   "metadata": {
    "id": "cshXubLfkmyJ",
    "outputId": "0bc4ad9d-3488-40bd-eae8-b30c84ced6f4",
    "scrolled": true,
    "slideshow": {
     "slide_type": "fragment"
    }
   },
   "outputs": [],
   "source": [
    "t = np.linspace(0, 2*np.pi, 64)\n",
    "r = np.sin(t)\n",
    "# plot in polar coordinates\n",
    "plt.axes(projection='polar')\n",
    "plt.plot(t+(r<0)*np.pi, np.abs(r), '-')\n",
    "# Set ticks for polar coordinate\n",
    "plt.xticks([0, np.pi/2, np.pi, 3*np.pi/2], ['0', '$\\pi/2$', '$\\pi$', '$3\\pi/2$']);"
   ]
  },
  {
   "cell_type": "markdown",
   "metadata": {
    "slideshow": {
     "slide_type": "subslide"
    }
   },
   "source": [
    "## Exercise 2: Try to plot the $\\sin(2x)$ function in the range $x = [-\\pi, \\pi]$ and fill the area between the curve and the x-axis with the color `blue` and `alpha=0.25` as follows\n",
    "\n",
    "You can use the following code to set the ticks:\n",
    "\n",
    "```python\n",
    "radian_multiples = [-1, -1/2, 0, 1/2, 1]\n",
    "radians = [n * np.pi for n in radian_multiples]\n",
    "radian_labels = ['$\\pi$', '$-\\pi/2$', '0', '$\\pi/2$', '$\\pi$']\n",
    "plt.xticks(radians, radian_labels);\n",
    "```"
   ]
  },
  {
   "cell_type": "code",
   "execution_count": null,
   "metadata": {
    "slideshow": {
     "slide_type": "subslide"
    }
   },
   "outputs": [],
   "source": [
    "# Your code here\n",
    "# --------------------------------------------------------------------\n",
    "# 1. Generate x‑values from -π to π\n",
    "# --------------------------------------------------------------------\n",
    "x = np.linspace(-np.pi, np.pi, 1_000)      # dense grid for smooth curve\n",
    "\n",
    "# --------------------------------------------------------------------\n",
    "# 2. Evaluate y = sin(2x)\n",
    "# --------------------------------------------------------------------\n",
    "y = _________\n",
    "\n",
    "# --------------------------------------------------------------------\n",
    "# 3. Plot the curve and shade the area between y and the x‑axis\n",
    "# --------------------------------------------------------------------\n",
    "plt.figure(figsize=(6, 4))\n",
    "plt.plot(___,____)                     # curve\n",
    "plt.fill_between(____, ____, _____, color='blue', alpha=0.25)  # shaded region"
   ]
  },
  {
   "cell_type": "code",
   "execution_count": null,
   "metadata": {
    "slideshow": {
     "slide_type": "subslide"
    }
   },
   "outputs": [],
   "source": [
    "radian_multiples = [-1, -1/2, 0, 1/2, 1]\n",
    "radians = [n * np.pi for n in radian_multiples]\n",
    "radian_labels = ['$-\\\\pi$', '$-\\\\pi/2$', '0', '$\\\\pi/2$', '$\\\\pi$']\n",
    "plt.xticks(radians, radian_labels)\n",
    "\n",
    "plt.xlabel('x')\n",
    "plt.ylabel('sin(2x)')\n",
    "plt.title(r'$y = \\sin(2x)$ on $[-\\pi, \\pi]$')\n",
    "plt.axhline(0, color='black', linewidth=0.8)  # x‑axis\n",
    "plt.grid(True)\n",
    "plt.tight_layout()\n",
    "plt.show()"
   ]
  },
  {
   "cell_type": "markdown",
   "metadata": {
    "id": "sXAu-MOoFE7V",
    "slideshow": {
     "slide_type": "skip"
    }
   },
   "source": [
    "## Customizing Plots"
   ]
  },
  {
   "cell_type": "markdown",
   "metadata": {
    "id": "-nmjISDVFE7V",
    "slideshow": {
     "slide_type": "skip"
    }
   },
   "source": [
    "### Customizing plot legends"
   ]
  },
  {
   "cell_type": "markdown",
   "metadata": {
    "id": "-WE4Vr7jFE7V",
    "slideshow": {
     "slide_type": "skip"
    }
   },
   "source": [
    "Plot legends provide context to a visualization, attributing meaning to the various plot elements. For instance, we can designate the location and display the frame:"
   ]
  },
  {
   "cell_type": "code",
   "execution_count": null,
   "metadata": {
    "colab": {
     "base_uri": "https://localhost:8080/",
     "height": 426
    },
    "executionInfo": {
     "elapsed": 3,
     "status": "ok",
     "timestamp": 1683112542016,
     "user": {
      "displayName": "phonchi chung",
      "userId": "13517391734500420886"
     },
     "user_tz": -480
    },
    "id": "6S9cJpr1FE7V",
    "outputId": "87883369-d947-454e-c240-86b3ab440bb0",
    "slideshow": {
     "slide_type": "skip"
    }
   },
   "outputs": [],
   "source": [
    "x = np.linspace(0, 10, 100)\n",
    "plt.plot(x, np.sin(x), '-g', label='sin(x)')\n",
    "plt.plot(x, np.cos(x), ':b', label='cos(x)')\n",
    "plt.axis('equal')\n",
    "\n",
    "plt.legend(loc='upper left', frameon=True);"
   ]
  },
  {
   "cell_type": "markdown",
   "metadata": {
    "id": "JUAVSZURFE7W",
    "slideshow": {
     "slide_type": "skip"
    }
   },
   "source": [
    "#### Text and Annotation"
   ]
  },
  {
   "cell_type": "markdown",
   "metadata": {
    "id": "EllRVUSBFE7W",
    "slideshow": {
     "slide_type": "skip"
    }
   },
   "source": [
    "Making a good graph or chart means guiding the viewer so that the figure tells a story. Sometimes, this story can be told just through the figure, without needing extra words. But other times, we need to add small pieces of text and labels to help explain the image. The most basic text we'll use are labels for the axes and titles for the chart."
   ]
  },
  {
   "cell_type": "markdown",
   "metadata": {
    "id": "P6IzN9edFE7W",
    "slideshow": {
     "slide_type": "skip"
    }
   },
   "source": [
    "When visualizing data, it's frequently beneficial to annotate particular features of the plot to attract the viewer's attention. This can be done manually using the `plt.text()` function, which positions text at a specified x/y value. Furthermore, we can use the `plt.annotate()` function, which generates text and an arrow and enables the arrows to be specified with great flexibility."
   ]
  },
  {
   "cell_type": "code",
   "execution_count": null,
   "metadata": {
    "colab": {
     "base_uri": "https://localhost:8080/",
     "height": 426
    },
    "executionInfo": {
     "elapsed": 2050,
     "status": "ok",
     "timestamp": 1683112661205,
     "user": {
      "displayName": "phonchi chung",
      "userId": "13517391734500420886"
     },
     "user_tz": -480
    },
    "id": "cDBHxtz7FE7W",
    "outputId": "033052e0-80d2-4538-cc34-8a02de4945ac",
    "slideshow": {
     "slide_type": "skip"
    }
   },
   "outputs": [],
   "source": [
    "plt.figure() \n",
    "x = np.linspace(0, 20, 1000)\n",
    "plt.plot(x, np.cos(x))\n",
    "plt.axis('equal')\n",
    "\n",
    "plt.annotate('local maximum', xy=(6.28, 1), xytext=(10, 4), arrowprops=dict(facecolor='black'), fontsize=14)\n",
    "plt.annotate('local minimum', xy=(5 * np.pi, -1), xytext=(2, -6), arrowprops=dict(arrowstyle=\"->\"), fontsize=14)\n",
    "plt.text(3.14, -1, 'local minimum', fontsize=14, ha='center'); # (x, y, text)"
   ]
  },
  {
   "cell_type": "markdown",
   "metadata": {
    "id": "gb8qQorJFE7W",
    "slideshow": {
     "slide_type": "skip"
    }
   },
   "source": [
    "The arrow style is controlled through the `arrowprops` dictionary, which has numerous options available."
   ]
  },
  {
   "cell_type": "markdown",
   "metadata": {
    "id": "V97KlQzfFE7W",
    "slideshow": {
     "slide_type": "skip"
    }
   },
   "source": [
    "#### Customizing ticks and spines"
   ]
  },
  {
   "cell_type": "markdown",
   "metadata": {
    "id": "hP55iuJJFE7W",
    "slideshow": {
     "slide_type": "skip"
    }
   },
   "source": [
    "`Matplotlib`'s default tick locators and formatters are generally sufficient for many common situations but are not optimal for every plot. Within each axis, there are major tick marks and minor tick marks."
   ]
  },
  {
   "cell_type": "markdown",
   "metadata": {
    "slideshow": {
     "slide_type": "skip"
    }
   },
   "source": [
    "As the names suggest, major ticks are typically more prominent or larger, while minor ticks are usually smaller. You can modify the ticks using the `xticks()` and `yticks()` functions. The first argument is a list of tick locations, and the second argument is a list of tick labels:"
   ]
  },
  {
   "cell_type": "code",
   "execution_count": null,
   "metadata": {
    "colab": {
     "base_uri": "https://localhost:8080/",
     "height": 429
    },
    "executionInfo": {
     "elapsed": 930,
     "status": "ok",
     "timestamp": 1683112756746,
     "user": {
      "displayName": "phonchi chung",
      "userId": "13517391734500420886"
     },
     "user_tz": -480
    },
    "id": "qGpVafHbFE7W",
    "outputId": "5b701029-d635-4d9d-f342-85577e78e8f2",
    "slideshow": {
     "slide_type": "skip"
    }
   },
   "outputs": [],
   "source": [
    "x = np.linspace(0, 20, 1000)\n",
    "plt.plot(x, np.cos(x))\n",
    "plt.plot(x, np.sin(x))\n",
    "plt.axis('equal')\n",
    "# Set the ticks and tick labels\n",
    "plt.xticks([0, np.pi, 2 * np.pi, 3 * np.pi, 4 * np.pi],\n",
    "           [r'$0$', r'$\\pi$', r'$2\\pi$', r'$3\\pi$', r'$4\\pi$'], fontsize=14)\n",
    "plt.yticks([-1, 0, +1],  [r'$-1$', r'$0$', r'$+1$'], fontsize=14);"
   ]
  },
  {
   "cell_type": "markdown",
   "metadata": {
    "id": "UMWNn_kDFE7X",
    "slideshow": {
     "slide_type": "skip"
    }
   },
   "source": [
    "***Spines*** are the lines connecting the axis tick marks and indicating the boundaries of the data area. They can be positioned at arbitrary locations, and by default, they are positioned at the borders of the axis. "
   ]
  },
  {
   "cell_type": "markdown",
   "metadata": {
    "slideshow": {
     "slide_type": "skip"
    }
   },
   "source": [
    "We'll change that and position them in the middle instead. Since there are four spines (top, bottom, left, and right), we'll remove the top and right spines and move the bottom and left spines to the center:"
   ]
  },
  {
   "cell_type": "code",
   "execution_count": null,
   "metadata": {
    "colab": {
     "base_uri": "https://localhost:8080/",
     "height": 341
    },
    "executionInfo": {
     "elapsed": 942,
     "status": "ok",
     "timestamp": 1683112786722,
     "user": {
      "displayName": "phonchi chung",
      "userId": "13517391734500420886"
     },
     "user_tz": -480
    },
    "id": "SRuP4OhSFE7X",
    "outputId": "3910875f-1aee-49c4-cef2-925cffaa1dab",
    "slideshow": {
     "slide_type": "skip"
    }
   },
   "outputs": [],
   "source": [
    "plt.figure(figsize=(8,5), dpi=80)\n",
    "X = np.linspace(-np.pi, np.pi, 256, endpoint=True)\n",
    "C = np.cos(X)\n",
    "S = np.sin(X)\n",
    "plt.plot(X, C, color=\"blue\", linewidth=2.5, linestyle=\"-\")\n",
    "plt.plot(X, S, color=\"red\", linewidth=2.5, linestyle=\"-\")\n",
    "ax = plt.gca()\n",
    "ax.spines[['top', 'right']].set_visible(False)\n",
    "ax.spines['bottom'].set_position(('data',0))\n",
    "ax.spines['left'].set_position(('data',0))"
   ]
  },
  {
   "cell_type": "markdown",
   "metadata": {
    "id": "-HNkJVo6FE7X",
    "slideshow": {
     "slide_type": "skip"
    }
   },
   "source": [
    "Note that here we also use `plt.figure(figsize=(8,5), dpi=80)` to set the figure size and resolution."
   ]
  },
  {
   "cell_type": "markdown",
   "metadata": {
    "id": "ECBx9UVuFE7X",
    "slideshow": {
     "slide_type": "slide"
    }
   },
   "source": [
    "## Multiple Subplots"
   ]
  },
  {
   "cell_type": "markdown",
   "metadata": {
    "id": "TVwdQMnBFE7X",
    "slideshow": {
     "slide_type": "subslide"
    }
   },
   "source": [
    "Sometimes, it's helpful to look at different pieces of data next to each other. To do this, `Matplotlib` uses something called **subplots**. Subplots are basically smaller graphs that can live together in one bigger graph. These smaller graphs could be little graphs placed inside a larger one, a grid of many graphs, or they could be arranged in other more complicated ways."
   ]
  },
  {
   "cell_type": "markdown",
   "metadata": {
    "id": "RYZF1OPrFE7X",
    "slideshow": {
     "slide_type": "subslide"
    }
   },
   "source": [
    "### `plt.subplots()`"
   ]
  },
  {
   "cell_type": "markdown",
   "metadata": {
    "id": "MnyRJHQsFE7X",
    "slideshow": {
     "slide_type": "subslide"
    }
   },
   "source": [
    "Aligned rows or columns of subplots are a common enough requirement that `Matplotlib` has several convenience routines that make it easy to create them. `plt.subplots()` is the easiest tool to use. Instead of creating a single subplot, **this function creates a complete grid of subplots in one line, and returns them as a `NumPy` array**. The arguments are the number of rows and the number of columns."
   ]
  },
  {
   "cell_type": "markdown",
   "metadata": {
    "id": "YDstm_ffFE7X",
    "slideshow": {
     "slide_type": "subslide"
    }
   },
   "source": [
    "Let’s create a $2 \\times 3$ grid of subplots, and adjust the spacing between them:"
   ]
  },
  {
   "cell_type": "code",
   "execution_count": null,
   "metadata": {
    "colab": {
     "base_uri": "https://localhost:8080/",
     "height": 430
    },
    "executionInfo": {
     "elapsed": 1245,
     "status": "ok",
     "timestamp": 1683112910955,
     "user": {
      "displayName": "phonchi chung",
      "userId": "13517391734500420886"
     },
     "user_tz": -480
    },
    "id": "AFsQ4uAHFE7X",
    "outputId": "d9fb4ec4-b7fe-4bc0-ac81-b580af4a75ce",
    "slideshow": {
     "slide_type": "fragment"
    }
   },
   "outputs": [],
   "source": [
    "fig, ax = plt.subplots(2, 3)\n",
    "fig.subplots_adjust(hspace=0.4, wspace=0.4)\n",
    "for i in range(2):\n",
    "    for j in range(3):\n",
    "        ax[i, j].text(0.5, 0.5, str((i, j)), fontsize=18, ha='center', va='center')"
   ]
  },
  {
   "cell_type": "markdown",
   "metadata": {
    "id": "DqotgWbgFE7Y",
    "slideshow": {
     "slide_type": "subslide"
    }
   },
   "source": [
    "The command `plt.subplots_adjust()` can be used to adjust the spacing between subplots. We can then use the subplots to plot different figures:"
   ]
  },
  {
   "cell_type": "code",
   "execution_count": null,
   "metadata": {
    "colab": {
     "base_uri": "https://localhost:8080/",
     "height": 430
    },
    "executionInfo": {
     "elapsed": 972,
     "status": "ok",
     "timestamp": 1683112940287,
     "user": {
      "displayName": "phonchi chung",
      "userId": "13517391734500420886"
     },
     "user_tz": -480
    },
    "id": "P-8wQYtyFE7Y",
    "outputId": "b09ade67-5a8b-47df-c4d0-7ec71efc9a83",
    "slideshow": {
     "slide_type": "fragment"
    }
   },
   "outputs": [],
   "source": [
    "fig, ax = plt.subplots(2, 2)\n",
    "fig.subplots_adjust(hspace=0.4, wspace=0.4)\n",
    "x = np.linspace(0, 10, 1000)\n",
    "ax[0,0].plot(x, np.sin(x))\n",
    "ax[0,1].plot(x, np.cos(x))\n",
    "ax[1,0].plot(x, x**2)\n",
    "ax[1,0].set_xscale('log') # Set the scale to log scale\n",
    "ax[1,0].set_yscale('log')\n",
    "ax[1,1].plot(x, x**2);"
   ]
  },
  {
   "cell_type": "markdown",
   "metadata": {
    "slideshow": {
     "slide_type": "skip"
    }
   },
   "source": [
    "In this case, the space is set to 40% of the subplot width and height."
   ]
  },
  {
   "cell_type": "markdown",
   "metadata": {
    "id": "ID31pj5CFE7Y",
    "slideshow": {
     "slide_type": "subslide"
    }
   },
   "source": [
    "In summary, `Matplotlib` is a data visualization library for creating visualizations in `Python`. It provides a wide variety of customizable plots, charts, and graphs, making it a powerful tool for data analysis and communication. With `Matplotlib`, we can create line plots, scatter plots, histograms, and many other types of visualizations. You can customize the appearance of your plots with a wide range of options, including color schemes, fonts, axes labels, and annotations. Refer to [https://matplotlib.org/cheatsheets/](https://matplotlib.org/cheatsheets/) for more details."
   ]
  },
  {
   "cell_type": "code",
   "execution_count": null,
   "metadata": {
    "slideshow": {
     "slide_type": "subslide"
    }
   },
   "outputs": [],
   "source": [
    "from jupytercards import display_flashcards\n",
    "fpath= \"https://raw.githubusercontent.com/phonchi/nsysu-math106A/refs/heads/main/extra/flashcards/\"\n",
    "display_flashcards(fpath + 'ch10.json')"
   ]
  },
  {
   "cell_type": "markdown",
   "metadata": {
    "id": "7sWGSqiN2Ec1",
    "slideshow": {
     "slide_type": "skip"
    }
   },
   "source": [
    "## References"
   ]
  },
  {
   "cell_type": "markdown",
   "metadata": {
    "id": "3Yb2aLUW2GG1",
    "slideshow": {
     "slide_type": "skip"
    }
   },
   "source": [
    "1. [https://scipy-lectures.org/intro/matplotlib/index.html](https://scipy-lectures.org/intro/matplotlib/index.html)\n",
    "\n",
    "2. [https://jakevdp.github.io/PythonDataScienceHandbook/#4.-Visualization-with-Matplotlib](https://jakevdp.github.io/PythonDataScienceHandbook/#4.-Visualization-with-Matplotlib)\n",
    "\n",
    "3. [https://matplotlib.org/stable/gallery/showcase/anatomy.html](https://matplotlib.org/stable/gallery/showcase/anatomy.html)"
   ]
  },
  {
   "cell_type": "markdown",
   "metadata": {
    "slideshow": {
     "slide_type": "skip"
    }
   },
   "source": [
    "## Key terms"
   ]
  },
  {
   "cell_type": "markdown",
   "metadata": {
    "slideshow": {
     "slide_type": "skip"
    }
   },
   "source": [
    "- **Functional-style Interface**: Also known as the Pyplot interface, this is the simpler way of creating plots in Matplotlib where you directly call plotting functions. It's called \"functional-style\" because it involves calling functions on the Pyplot module directly and it takes care of creating and managing figures and axes for you. \n",
    "- **Object-oriented Interface**: This interface is used when you need more control over your figure. Instead of letting Matplotlib handle what the current figure and axes is, you do it yourself. You create Figure and Axes objects and call methods on these objects to manipulate them directly. This makes it easier to create complex layouts and to reuse components.\n",
    "- **Stateful**: Stateful refers to Matplotlib's ability to keep track of the current figure and axes, which are where all plt commands are applied. The interface is stateful because it stores the last created or modified figure and axes as the current one. This is what enables the Functional-style Interface to work.\n",
    "- **Figure**: In Matplotlib, the whole window/page is called the Figure. It's the top-level component that contains all the elements of the plot. A Figure can have several other elements like Axes, Legends, and Titles, among others. \n",
    "- **Axes**: These are what you think of as 'a plot'. They are the area in which the data is plotted with functions and can have ticks, labels, etc., associated with it. A figure can contain multiple Axes objects, which can be placed in a grid-like format inside the Figure.\n",
    "- **Line Plots**: Line plots are probably one of the most common types of graph. You can use it to visualize the relationship between any two sets of data. For example, you can plot a curve that represents the relationship between temperature (y-axis) and altitude (x-axis).\n",
    "- **Legends**: Legends help in understanding the plot better. It's an area describing the elements of the graph. In the legend, there are labels along with the represented graphics (lines, points) which are used to depict what they represent in the plot.\n",
    "- **Format String**: A format string in Matplotlib is a way to specify colors, markers, and line styles. A format string is a string that contains characters that represent different formatting actions. For example, 'bo-' represents a blue color, circle marker, and solid line style.\n",
    "- **Scatter Plots**: Scatter plots’ primary uses are to observe and show relationships between two numeric variables. The dots in a scatter plot not only report the values of individual data points, but also patterns when the data are taken as a whole.\n",
    "- **Marker**: A \"marker\" in Matplotlib refers to the symbol used in a plot to represent a data point.\n",
    "- **Colormaps**: Colormaps are used to map numerical data to colors in a graph, usually in a gradient-like way. They're used in creating plots like heatmaps or in plots where you'd want to show a gradient of colors. Matplotlib provides a lot of pre-made colormaps for use.\n",
    "- **Density Plots**: A density plot is a graphical representation that uses a kernel density estimate to show the probability density function of a random variable. It is a smoothed version of the histogram and improves upon it by dealing with the noise in the data and providing a smooth curve.\n",
    "- **Ticks**: Ticks are the values used to show specific points on the coordinate axis. It can be a number or a string. Whenever we plot a graph, the axes adjust and take the default ticks. Matplotlib’s default ticks are generally sufficient in common situations but are in no way optimal for every plot.\n",
    "- **Spines**: Spines are lines connecting the axis tick marks and noting the boundaries of the data area. They can be placed at arbitrary positions and until now, were on the border of the axis. In other words, they are the simple lines that denote the boundaries of the plot area – they join the axis tick marks.\n",
    "- **Subplots**: Sometimes we may wish to plot different types of plots (like a density plot, line plot, scatter plot) or multiple instances of the same plot but different data in a single figure. Subplots allow us to do that. They provide an option to plot multiple plots in a single figure. "
   ]
  }
 ],
 "metadata": {
  "celltoolbar": "Slideshow",
  "colab": {
   "provenance": []
  },
  "kernelspec": {
   "display_name": "Python 3 (ipykernel)",
   "language": "python",
   "name": "python3"
  },
  "language_info": {
   "codemirror_mode": {
    "name": "ipython",
    "version": 3
   },
   "file_extension": ".py",
   "mimetype": "text/x-python",
   "name": "python",
   "nbconvert_exporter": "python",
   "pygments_lexer": "ipython3",
   "version": "3.9.13"
  },
  "rise": {
   "chalkboard": {
    "color": [
     "rgb(250, 0, 0)",
     "rgb(250, 0, 0)"
    ]
   },
   "controls": false,
   "enable_chalkboard": true,
   "footer": "",
   "overlay": "<div class='myfooter'><h4>Visualization with Matplotlib</h4></div>",
   "scroll": true,
   "slideNumber": "true",
   "theme": "night"
  },
  "vscode": {
   "interpreter": {
    "hash": "1561eddc5e0c9c74df968f74d5080d02882967127f956e6e7049c43d2ef42321"
   }
  }
 },
 "nbformat": 4,
 "nbformat_minor": 1
}
