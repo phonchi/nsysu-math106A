{
 "cells": [
  {
   "cell_type": "markdown",
   "metadata": {
    "id": "11n5gndbRzoY",
    "slideshow": {
     "slide_type": "slide"
    }
   },
   "source": [
    "# Other collections - Dictionaries and Sets\n"
   ]
  },
  {
   "cell_type": "markdown",
   "metadata": {
    "id": "AIFsv_RZ1iV0",
    "slideshow": {
     "slide_type": "skip"
    }
   },
   "source": [
    "<table align=\"left\">\n",
    "  <td>\n",
    "    <a href=\"https://colab.research.google.com/github/phonchi/nsysu-math106A/blob/master/static_files/presentations/05_Dictionaries_sets.ipynb\" target=\"_parent\"><img src=\"https://colab.research.google.com/assets/colab-badge.svg\" alt=\"Open In Colab\"/></a>\n",
    "  </td>\n",
    "  <td>\n",
    "    <a target=\"_blank\" href=\"https://kaggle.com/kernels/welcome?src=https://github.com/phonchi/nsysu-math106A/blob/master/static_files/presentations/05_Dictionaries_sets.ipynb\"><img src=\"https://kaggle.com/static/images/open-in-kaggle.svg\" /></a>\n",
    "  </td>\n",
    "</table>"
   ]
  },
  {
   "cell_type": "markdown",
   "metadata": {
    "slideshow": {
     "slide_type": "skip"
    }
   },
   "source": [
    "Execute the following two cells for the setup:"
   ]
  },
  {
   "cell_type": "code",
   "execution_count": null,
   "metadata": {
    "slideshow": {
     "slide_type": "skip"
    }
   },
   "outputs": [],
   "source": [
    "!pip install jupyterquiz \n",
    "!pip install jupytercards\n",
    "\n",
    "from IPython.display import display, Javascript\n",
    "display(Javascript('Jupyter.notebook.kernel.restart()'))"
   ]
  },
  {
   "cell_type": "code",
   "execution_count": null,
   "metadata": {
    "slideshow": {
     "slide_type": "skip"
    }
   },
   "outputs": [],
   "source": [
    "from jupyterquiz import display_quiz\n",
    "\n",
    "path=\"https://raw.githubusercontent.com/phonchi/nsysu-math106A/refs/heads/main/extra/questions/ch5/\""
   ]
  },
  {
   "cell_type": "markdown",
   "metadata": {
    "slideshow": {
     "slide_type": "subslide"
    }
   },
   "source": [
    "1. Introduction\n",
    "\n",
    "2. Dictionary\n",
    "\n",
    "3. Set"
   ]
  },
  {
   "cell_type": "markdown",
   "metadata": {
    "slideshow": {
     "slide_type": "subslide"
    }
   },
   "source": [
    "We've discussed three built-in sequence collections — `strings`, `lists` and `tuples`. "
   ]
  },
  {
   "cell_type": "markdown",
   "metadata": {
    "slideshow": {
     "slide_type": "fragment"
    }
   },
   "source": [
    "Now, we consider the built-in non-sequence collections — `dictionaries` and `sets`. "
   ]
  },
  {
   "cell_type": "markdown",
   "metadata": {
    "slideshow": {
     "slide_type": "fragment"
    }
   },
   "source": [
    "- A `dictionary` is an unordered collection which stores ***key–value*** pairs that map immutable keys to values, just as a conventional paper dictionary maps words to definitions. \n",
    "\n",
    "- A `set` is an unordered collection of unique immutable elements."
   ]
  },
  {
   "cell_type": "markdown",
   "metadata": {
    "id": "UVyscPC3mYeo",
    "slideshow": {
     "slide_type": "slide"
    }
   },
   "source": [
    "## Dictionaries"
   ]
  },
  {
   "cell_type": "markdown",
   "metadata": {
    "id": "MOGo5JaVmdnJ",
    "slideshow": {
     "slide_type": "subslide"
    }
   },
   "source": [
    "Like a `list`, a `dictionary` is a mutable collection of many values, but more general. In a `list`, the index positions have to be integers; in a `dictionary`, the indices can be any immutable data type."
   ]
  },
  {
   "cell_type": "markdown",
   "metadata": {
    "id": "42QE-OUnptIL",
    "slideshow": {
     "slide_type": "fragment"
    }
   },
   "source": [
    "<center><img src=\"https://raw.githubusercontent.com/phonchi/nsysu-math106A/refs/heads/main/extra/Figures/dictionaries.jpg\"></center>\n",
    "<div align=\"center\"> source: https://pynative.com/python-dictionaries/ </div>"
   ]
  },
  {
   "cell_type": "markdown",
   "metadata": {
    "slideshow": {
     "slide_type": "subslide"
    }
   },
   "source": [
    " You can think of a dictionary as a mapping between a set of indices (which are called ***keys***) and a set of ***values***. Each key maps to a value. The association of a key and a value is called a ***key-value*** pair or sometimes an ***item***."
   ]
  },
  {
   "cell_type": "markdown",
   "metadata": {
    "slideshow": {
     "slide_type": "fragment"
    }
   },
   "source": [
    "A `dictionary`'s keys must be immutable (such as `strings`, `integers` or `tuples`) and unique (that is, no duplicates). However, multiple keys can have the same value."
   ]
  },
  {
   "cell_type": "markdown",
   "metadata": {
    "id": "I1zr7rV8d2Oa",
    "slideshow": {
     "slide_type": "skip"
    }
   },
   "source": [
    "> It is noted that as of Python 3.7, dictionary items maintain the order in which they are inserted into the dictionary. However, `dictionaries` are considered unordered collections and do not write code that depends on the order of the key–value pairs. "
   ]
  },
  {
   "cell_type": "markdown",
   "metadata": {
    "id": "tB2j7j3YmpRZ",
    "slideshow": {
     "slide_type": "fragment"
    }
   },
   "source": [
    "As an example, we'll build a dictionary that maps from subjects to grades, so the keys are `string` while the values are `integers`. The function `dict` creates a new dictionary with no items. "
   ]
  },
  {
   "cell_type": "code",
   "execution_count": null,
   "metadata": {
    "id": "TXcMt4SuqC7c",
    "outputId": "4e36c533-c3db-49af-9752-4d54784fd757",
    "slideshow": {
     "slide_type": "subslide"
    }
   },
   "outputs": [],
   "source": [
    "type({}) # {} also treated as dict in Python"
   ]
  },
  {
   "cell_type": "code",
   "execution_count": null,
   "metadata": {
    "id": "JKYIUUsujPRj",
    "outputId": "c01e40ca-ed2f-499c-c90d-2067bf773ff3",
    "slideshow": {
     "slide_type": "fragment"
    }
   },
   "outputs": [],
   "source": [
    "grade = dict()\n",
    "type(grade), grade"
   ]
  },
  {
   "cell_type": "markdown",
   "metadata": {
    "id": "M3f_fuvfm7SD",
    "slideshow": {
     "slide_type": "fragment"
    }
   },
   "source": [
    "To add/update items to the dictionary, you can again use subscript operator (square brackets):"
   ]
  },
  {
   "cell_type": "code",
   "execution_count": null,
   "metadata": {
    "id": "Crr5iMsmm7j6",
    "outputId": "45ce7108-a32b-4011-f494-09e9343d103c",
    "slideshow": {
     "slide_type": "fragment"
    }
   },
   "outputs": [],
   "source": [
    "grade['calculus'] = 85 # Key:'calculus', value: 85\n",
    "print(grade) # Note that key and value are separate by colon"
   ]
  },
  {
   "cell_type": "markdown",
   "metadata": {
    "slideshow": {
     "slide_type": "subslide"
    }
   },
   "source": [
    "You can create a `dictionary` that contains multiple items by enclosing in curly braces, `{}`, a comma-separated list of key–value pairs, each of the form `key:value`."
   ]
  },
  {
   "cell_type": "code",
   "execution_count": null,
   "metadata": {
    "id": "PpP_327sn4Xn",
    "outputId": "e0759b62-0c2b-47fd-91ad-1c4c97002f61",
    "slideshow": {
     "slide_type": "fragment"
    }
   },
   "outputs": [],
   "source": [
    "grade = {'calculus':85, 'introduction to mathematics':80, 'computer programming':90, 'linear algebra':95}\n",
    "grade"
   ]
  },
  {
   "cell_type": "markdown",
   "metadata": {
    "id": "D2qbNFSAnt5Z",
    "slideshow": {
     "slide_type": "fragment"
    }
   },
   "source": [
    "Note that you can store them using separate `lists` for subjects and scores, but the following update and maintenance will become tedious:\n",
    "\n",
    "```python\n",
    "subjects = ['calculus', 'introduction to mathematics', 'computer programming', 'linear algebra']\n",
    "score = [85, 80, 90, 95]\n",
    "````"
   ]
  },
  {
   "cell_type": "markdown",
   "metadata": {
    "id": "QX4Ti3yEod_A",
    "slideshow": {
     "slide_type": "subslide"
    }
   },
   "source": [
    "You can now use the keys to look up the corresponding values:"
   ]
  },
  {
   "cell_type": "code",
   "execution_count": null,
   "metadata": {
    "id": "mo31IN5toMnq",
    "outputId": "68d0338b-1aa9-4519-a341-ff64274e60de",
    "slideshow": {
     "slide_type": "fragment"
    }
   },
   "outputs": [],
   "source": [
    "print(grade['computer programming'])"
   ]
  },
  {
   "cell_type": "markdown",
   "metadata": {
    "slideshow": {
     "slide_type": "fragment"
    }
   },
   "source": [
    "You can obtain the number of items using `len()`"
   ]
  },
  {
   "cell_type": "code",
   "execution_count": null,
   "metadata": {
    "slideshow": {
     "slide_type": "fragment"
    }
   },
   "outputs": [],
   "source": [
    "len(grade)"
   ]
  },
  {
   "cell_type": "markdown",
   "metadata": {
    "id": "GzwHWKMpSnRP",
    "slideshow": {
     "slide_type": "skip"
    }
   },
   "source": [
    "> Note that you can't access items in them using integer indexes like `grade[0]` because it is unordered collections. (Consider the case when you use 4, 2, 1, 0 as the keys). Therefore, you can't use slice syntax for dictionaries. "
   ]
  },
  {
   "cell_type": "markdown",
   "metadata": {
    "slideshow": {
     "slide_type": "subslide"
    }
   },
   "source": [
    "Trying to access a key that does not exist in a `dictionary` will result in a `KeyError` error message, much like a `list's` \"out-of-range\" `IndexError` error message."
   ]
  },
  {
   "cell_type": "code",
   "execution_count": null,
   "metadata": {
    "slideshow": {
     "slide_type": "fragment"
    }
   },
   "outputs": [],
   "source": [
    "grade['English']"
   ]
  },
  {
   "cell_type": "markdown",
   "metadata": {
    "id": "biss6VA0qehV",
    "slideshow": {
     "slide_type": "fragment"
    }
   },
   "source": [
    "To add or delete an entry, it is similar to list"
   ]
  },
  {
   "cell_type": "code",
   "execution_count": null,
   "metadata": {
    "id": "eI4RAkSFqlPM",
    "outputId": "b16c9cee-3dcd-4f15-bdc1-5b2e463da9ea",
    "slideshow": {
     "slide_type": "fragment"
    }
   },
   "outputs": [],
   "source": [
    "grade['English'] = 100\n",
    "grade"
   ]
  },
  {
   "cell_type": "markdown",
   "metadata": {
    "slideshow": {
     "slide_type": "subslide"
    }
   },
   "source": [
    "You can delete a key–value pair from a dictionary with the `del` statement:"
   ]
  },
  {
   "cell_type": "code",
   "execution_count": null,
   "metadata": {
    "id": "qom8rf_zqq9O",
    "outputId": "fe8364d6-7007-4b7f-ea91-25a64fb92d0e",
    "slideshow": {
     "slide_type": "fragment"
    }
   },
   "outputs": [],
   "source": [
    "del grade['English']\n",
    "grade"
   ]
  },
  {
   "cell_type": "code",
   "execution_count": null,
   "metadata": {
    "slideshow": {
     "slide_type": "subslide"
    }
   },
   "outputs": [],
   "source": [
    "display_quiz(path+\"dict1.json\", max_width=800)"
   ]
  },
  {
   "cell_type": "markdown",
   "metadata": {
    "slideshow": {
     "slide_type": "slide"
    }
   },
   "source": [
    "### The `keys()`, `values()`, and `items()` Methods"
   ]
  },
  {
   "cell_type": "markdown",
   "metadata": {
    "slideshow": {
     "slide_type": "subslide"
    }
   },
   "source": [
    "There are three `dictionary` methods that will return `list`-like values of the `dictionary`'s keys, values, or both keys and values: `keys()`, `values()`, and `items()`. "
   ]
  },
  {
   "cell_type": "markdown",
   "metadata": {
    "slideshow": {
     "slide_type": "fragment"
    }
   },
   "source": [
    "The values returned by these methods are not true lists, but these data types (`dict_keys`, `dict_values`, and `dict_items`, respectively) can be used in `for` loops (Just like `range` object)!"
   ]
  },
  {
   "cell_type": "markdown",
   "metadata": {
    "slideshow": {
     "slide_type": "fragment"
    }
   },
   "source": [
    "If you want a true list from one of these methods, pass its list-like return value to the `list()` function"
   ]
  },
  {
   "cell_type": "code",
   "execution_count": null,
   "metadata": {
    "slideshow": {
     "slide_type": "fragment"
    }
   },
   "outputs": [],
   "source": [
    "print(type(grade.keys()), type(grade.values()))\n",
    "subject = list(grade.keys())\n",
    "score = list(grade.values())\n",
    "print(subject)\n",
    "print(score)"
   ]
  },
  {
   "cell_type": "code",
   "execution_count": null,
   "metadata": {
    "slideshow": {
     "slide_type": "subslide"
    }
   },
   "outputs": [],
   "source": [
    "for v in grade.values():\n",
    "    print(v)"
   ]
  },
  {
   "cell_type": "markdown",
   "metadata": {
    "slideshow": {
     "slide_type": "fragment"
    }
   },
   "source": [
    "Here, a `for` loop iterates over each of the values in the `grade` dictionary. A `for` loop can also iterate over the keys:"
   ]
  },
  {
   "cell_type": "code",
   "execution_count": null,
   "metadata": {
    "slideshow": {
     "slide_type": "fragment"
    }
   },
   "outputs": [],
   "source": [
    "for k in grade.keys():\n",
    "    print(k)"
   ]
  },
  {
   "cell_type": "code",
   "execution_count": null,
   "metadata": {
    "slideshow": {
     "slide_type": "subslide"
    }
   },
   "outputs": [],
   "source": [
    "for k in grade:\n",
    "    print(k)"
   ]
  },
  {
   "cell_type": "markdown",
   "metadata": {
    "slideshow": {
     "slide_type": "fragment"
    }
   },
   "source": [
    "Note that by default, it will traverse over the keys!"
   ]
  },
  {
   "cell_type": "markdown",
   "metadata": {
    "id": "_bWKfSrwsber",
    "slideshow": {
     "slide_type": "fragment"
    }
   },
   "source": [
    "Dictionaries have a method called `items()` that returns a list of tuples, where each tuple is a key-value pair:"
   ]
  },
  {
   "cell_type": "code",
   "execution_count": null,
   "metadata": {
    "id": "nqNW-NBbsO8A",
    "outputId": "d8c558c5-3c81-40e3-82c0-f1aa5bf556d9",
    "slideshow": {
     "slide_type": "fragment"
    }
   },
   "outputs": [],
   "source": [
    "list(grade.items())"
   ]
  },
  {
   "cell_type": "markdown",
   "metadata": {
    "id": "uXNIm4G4szJG",
    "slideshow": {
     "slide_type": "subslide"
    }
   },
   "source": [
    "Combining `items()`, multiple assignment, and `for`, you can see a nice code pattern for traversing the keys and values of a dictionary in a single loop:"
   ]
  },
  {
   "cell_type": "code",
   "execution_count": null,
   "metadata": {
    "slideshow": {
     "slide_type": "fragment"
    }
   },
   "outputs": [],
   "source": [
    "for key, val in grade.items():\n",
    "    print(key,val)"
   ]
  },
  {
   "cell_type": "code",
   "execution_count": null,
   "metadata": {
    "slideshow": {
     "slide_type": "subslide"
    }
   },
   "outputs": [],
   "source": [
    "display_quiz(path+\"dict2.json\", max_width=800)"
   ]
  },
  {
   "cell_type": "markdown",
   "metadata": {
    "slideshow": {
     "slide_type": "slide"
    }
   },
   "source": [
    "#### Checking Whether a Key or Value Exists in a Dictionary"
   ]
  },
  {
   "cell_type": "markdown",
   "metadata": {
    "slideshow": {
     "slide_type": "subslide"
    }
   },
   "source": [
    "Recall from the previous chapter that the `in` and `not in` operators can check whether a value exists in a list. You can also use these operators to see whether a certain key or value exists in a dictionary"
   ]
  },
  {
   "cell_type": "code",
   "execution_count": null,
   "metadata": {
    "id": "kmCBCvvpokWE",
    "outputId": "fc195640-1b73-4517-8dbe-ea833573379a",
    "slideshow": {
     "slide_type": "fragment"
    }
   },
   "outputs": [],
   "source": [
    "'calculus' in grade, 'English' in grade.keys(), 85 in grade.values() "
   ]
  },
  {
   "cell_type": "markdown",
   "metadata": {
    "slideshow": {
     "slide_type": "skip"
    }
   },
   "source": [
    "> Again, it will check keys by default. Therefore, in the previous example, `'calculus' in grade` is essentially a shorter version of writing `'calculus' in grade.keys()`. This is always the case: if you ever want to check whether a value is (or isn’t) a key in the `dictionary`, you can simply use the `in` (or `not in`) keyword with the `dictionary` itself."
   ]
  },
  {
   "cell_type": "markdown",
   "metadata": {
    "slideshow": {
     "slide_type": "slide"
    }
   },
   "source": [
    "#### Retrieve value uisng  `get()` Method"
   ]
  },
  {
   "cell_type": "code",
   "execution_count": null,
   "metadata": {
    "slideshow": {
     "slide_type": "subslide"
    }
   },
   "outputs": [],
   "source": [
    "if 'English' in grade:\n",
    "    e_score= grade['English']"
   ]
  },
  {
   "cell_type": "markdown",
   "metadata": {
    "slideshow": {
     "slide_type": "fragment"
    }
   },
   "source": [
    "It's tedious to check whether a key exists in a `dictionary` before accessing that key's value. Fortunately, dictionaries have a `get()` method that takes two arguments: the key of the value to retrieve and a fallback value to return if that key does not exist."
   ]
  },
  {
   "cell_type": "code",
   "execution_count": null,
   "metadata": {
    "slideshow": {
     "slide_type": "fragment"
    }
   },
   "outputs": [],
   "source": [
    "picnicItems = {'apples': 5, 'cups': 2}\n",
    "print('I am bringing ' + str(picnicItems.get('cups', 0)) + ' cups.') \n",
    "print('I am bringing ' + str(picnicItems.get('eggs', 0)) + ' eggs.')"
   ]
  },
  {
   "cell_type": "markdown",
   "metadata": {
    "slideshow": {
     "slide_type": "subslide"
    }
   },
   "source": [
    "Because there is no 'eggs' key in the `picnicItems` dictionary, the default value 0 is returned by the `get()` method. Without using `get()`, the code would have caused a `KeyError` message"
   ]
  },
  {
   "cell_type": "code",
   "execution_count": null,
   "metadata": {
    "slideshow": {
     "slide_type": "fragment"
    }
   },
   "outputs": [],
   "source": [
    "picnicItems = {'apples': 5, 'cups': 2}\n",
    "'I am bringing ' + str(picnicItems['eggs']) + ' eggs.'"
   ]
  },
  {
   "cell_type": "code",
   "execution_count": null,
   "metadata": {
    "slideshow": {
     "slide_type": "subslide"
    }
   },
   "outputs": [],
   "source": [
    "display_quiz(path+\"get.json\", max_width=800)"
   ]
  },
  {
   "cell_type": "markdown",
   "metadata": {
    "slideshow": {
     "slide_type": "slide"
    }
   },
   "source": [
    "#### Update value using `setdefault()` Method"
   ]
  },
  {
   "cell_type": "markdown",
   "metadata": {
    "slideshow": {
     "slide_type": "subslide"
    }
   },
   "source": [
    "You'll often have to set a value in a `dictionary` for a certain key only if that key does not already have a value. The code looks something like this:"
   ]
  },
  {
   "cell_type": "code",
   "execution_count": null,
   "metadata": {
    "slideshow": {
     "slide_type": "fragment"
    }
   },
   "outputs": [],
   "source": [
    "spam = {'name': 'Pooka', 'age': 5}\n",
    "if 'color' not in spam:\n",
    "    spam['color'] = 'black'"
   ]
  },
  {
   "cell_type": "markdown",
   "metadata": {
    "slideshow": {
     "slide_type": "fragment"
    }
   },
   "source": [
    "The `setdefault()` method offers a way to do this in one line of code. The first argument passed to the method is the key to check for, and the second argument is the value to set at that key if the key does not exist."
   ]
  },
  {
   "cell_type": "markdown",
   "metadata": {
    "slideshow": {
     "slide_type": "subslide"
    }
   },
   "source": [
    "The `setdefault()` method is a nice shortcut to ensure that a key exists. Here is a short program that counts the number of occurrences of each letter in a `string`."
   ]
  },
  {
   "cell_type": "code",
   "execution_count": null,
   "metadata": {
    "slideshow": {
     "slide_type": "fragment"
    }
   },
   "outputs": [],
   "source": [
    "message = 'It was a bright cold day in April, and the clocks were striking thirteen.'\n",
    "count = {}\n",
    "\n",
    "for character in message:\n",
    "    if character not in count:\n",
    "        count[character] = 0\n",
    "    count[character] = count[character] + 1\n",
    "\n",
    "print(count)    "
   ]
  },
  {
   "cell_type": "code",
   "execution_count": null,
   "metadata": {
    "slideshow": {
     "slide_type": "subslide"
    }
   },
   "outputs": [],
   "source": [
    "message = 'It was a bright cold day in April, and the clocks were striking thirteen.'\n",
    "count = {}\n",
    "\n",
    "for character in message:\n",
    "    count.setdefault(character, 0)\n",
    "    count[character] = count[character] + 1\n",
    "\n",
    "print(count)    "
   ]
  },
  {
   "cell_type": "markdown",
   "metadata": {
    "slideshow": {
     "slide_type": "fragment"
    }
   },
   "source": [
    "You can view the execution of this program at https://autbor.com/setdefault. The program loops over each character in the `message` variable's string, counting how often each character appears. The `setdefault()` method ensures that the key is in the `count` `dictionary` (with a default value of 0) so the program doesn't throw a `KeyError` error when `count[character] = count[character] + 1` is executed!"
   ]
  },
  {
   "cell_type": "markdown",
   "metadata": {
    "slideshow": {
     "slide_type": "fragment"
    }
   },
   "source": [
    "From the output, you can see that the lowercase letter c appears 3 times, the space character appears 13 times, and the uppercase letter A appears 1 time."
   ]
  },
  {
   "cell_type": "code",
   "execution_count": null,
   "metadata": {
    "slideshow": {
     "slide_type": "subslide"
    }
   },
   "outputs": [],
   "source": [
    "display_quiz(path+\"setdefault.json\", max_width=800)"
   ]
  },
  {
   "cell_type": "markdown",
   "metadata": {
    "slideshow": {
     "slide_type": "skip"
    }
   },
   "source": [
    "### Pretty Printing (Optional)"
   ]
  },
  {
   "cell_type": "markdown",
   "metadata": {
    "slideshow": {
     "slide_type": "skip"
    }
   },
   "source": [
    "If you import the `pprint` module into your programs, you’ll have access to the `pprint()` function that will “pretty print” a `dictionary`’s values. This is helpful when you want a cleaner display of the items in a `dictionary` than what `print()` provides."
   ]
  },
  {
   "cell_type": "code",
   "execution_count": null,
   "metadata": {
    "slideshow": {
     "slide_type": "skip"
    }
   },
   "outputs": [],
   "source": [
    "import pprint\n",
    "\n",
    "message = 'It was a cold day.'\n",
    "count = {}\n",
    "\n",
    "for character in message:\n",
    "    count.setdefault(character, 0)\n",
    "    count[character] = count[character] + 1\n",
    "\n",
    "pprint.pprint(count)"
   ]
  },
  {
   "cell_type": "markdown",
   "metadata": {
    "slideshow": {
     "slide_type": "skip"
    }
   },
   "source": [
    "> You can view the execution of this program at https://autbor.com/pprint/. This time, when the program is run, the output looks much cleaner, ***with the keys sorted***. The `pprint.pprint()` function is especially helpful when the dictionary itself contains nested `lists` or `dictionaries`."
   ]
  },
  {
   "cell_type": "markdown",
   "metadata": {
    "slideshow": {
     "slide_type": "slide"
    }
   },
   "source": [
    "#### Dictionary Comprehensions"
   ]
  },
  {
   "cell_type": "markdown",
   "metadata": {
    "slideshow": {
     "slide_type": "subslide"
    }
   },
   "source": [
    "Dictionary comprehensions provide a convenient notation for quickly generating `dictionaries`, often by mapping one `dictionary` to another. For example, in a `dictionary` with unique values, you can reverse the key–value pairs: "
   ]
  },
  {
   "cell_type": "code",
   "execution_count": null,
   "metadata": {
    "slideshow": {
     "slide_type": "fragment"
    }
   },
   "outputs": [],
   "source": [
    "months = {'January': 1, 'February': 2, 'March': 3}"
   ]
  },
  {
   "cell_type": "code",
   "execution_count": null,
   "metadata": {
    "slideshow": {
     "slide_type": "fragment"
    }
   },
   "outputs": [],
   "source": [
    "months2 = {number:name for name, number in months.items()}\n",
    "months2"
   ]
  },
  {
   "cell_type": "markdown",
   "metadata": {
    "slideshow": {
     "slide_type": "skip"
    }
   },
   "source": [
    "> Curly braces delimit a dictionary comprehension, and the expression to the left of the `for` specifies a key–value pair of the form `key:value`. The comprehension iterates through `months.items()`, unpacking each key–value pair tuple into the variables `name` and `number`. The expression `number:name` reverses the key and value, so the new dictionary maps the month numbers to the month names. "
   ]
  },
  {
   "cell_type": "markdown",
   "metadata": {
    "slideshow": {
     "slide_type": "subslide"
    }
   },
   "source": [
    "A dictionary comprehension also can map a `dictionary`'s values to new values. The following comprehension converts a `dictionary` of names and `lists` of grades into a `dictionary` of names and grade-point averages. The variables `k` and `v` commonly mean key and value:"
   ]
  },
  {
   "cell_type": "code",
   "execution_count": null,
   "metadata": {
    "slideshow": {
     "slide_type": "fragment"
    }
   },
   "outputs": [],
   "source": [
    "grades = {'Sue': [98, 87, 94], 'Bob': [84, 95, 91]}"
   ]
  },
  {
   "cell_type": "code",
   "execution_count": null,
   "metadata": {
    "slideshow": {
     "slide_type": "fragment"
    }
   },
   "outputs": [],
   "source": [
    "grades2 = {k:sum(v)/len(v) for k, v in grades.items()}\n",
    "grades2"
   ]
  },
  {
   "cell_type": "markdown",
   "metadata": {
    "slideshow": {
     "slide_type": "skip"
    }
   },
   "source": [
    "> Note the above is nested structure, with a `list` in a `dictionary`!"
   ]
  },
  {
   "cell_type": "markdown",
   "metadata": {
    "slideshow": {
     "slide_type": "skip"
    }
   },
   "source": [
    "### Using Data Structures to Model Real-World Things (Optional)"
   ]
  },
  {
   "cell_type": "markdown",
   "metadata": {
    "slideshow": {
     "slide_type": "skip"
    }
   },
   "source": [
    "A `tic-tac-toe` board looks like a large hash symbol (`#`) with nine slots that can each contain an `X`, an `O`, or a blank. To represent the board with a `dictionary`, you can assign each slot a key, as shown in below:\n",
    "\n",
    "<div align=\"center\">\n",
    "\n",
    "| 1 | 2 | 3 |\n",
    "|---|---|---|\n",
    "| 4 | 5 | 6 |\n",
    "| 7 | 8 | 9 |\n",
    "\n",
    "</div>"
   ]
  },
  {
   "cell_type": "markdown",
   "metadata": {
    "slideshow": {
     "slide_type": "skip"
    }
   },
   "source": [
    "You can use string values to represent what’s in each slot on the board: 'X', 'O', or ' ' (a space). Thus, you’ll need to store nine strings. "
   ]
  },
  {
   "cell_type": "markdown",
   "metadata": {
    "slideshow": {
     "slide_type": "skip"
    }
   },
   "source": [
    "You can use a dictionary of values for this. The string value with the key '3' can represent the top-right corner, the string value with the key '7' can represent the bottom-left corner, the string value with the key '5' can represent the middle, and so on. "
   ]
  },
  {
   "cell_type": "markdown",
   "metadata": {
    "slideshow": {
     "slide_type": "skip"
    }
   },
   "source": [
    "This dictionary is a data structure that represents a tic-tac-toe board. Store this board-as-a-dictionary in a variable named `board`."
   ]
  },
  {
   "cell_type": "code",
   "execution_count": null,
   "metadata": {
    "slideshow": {
     "slide_type": "skip"
    }
   },
   "outputs": [],
   "source": [
    "board = {'1': ' ', '2': ' ', '3': ' ',\n",
    "         '4': ' ', '5': ' ', '6': ' ',\n",
    "         '7': ' ', '8': ' ', '9': ' '}"
   ]
  },
  {
   "cell_type": "markdown",
   "metadata": {
    "slideshow": {
     "slide_type": "skip"
    }
   },
   "source": [
    "A board where player O has won by placing Os across the top might look like this:"
   ]
  },
  {
   "cell_type": "code",
   "execution_count": null,
   "metadata": {
    "slideshow": {
     "slide_type": "skip"
    }
   },
   "outputs": [],
   "source": [
    "board = {'1': 'O', '2': 'O', '3': 'O',\n",
    "         '4': 'X', '5': 'X', '6': ' ',\n",
    "         '7': ' ', '8': ' ', '9': 'X'}\n",
    "print(board)"
   ]
  },
  {
   "cell_type": "markdown",
   "metadata": {
    "slideshow": {
     "slide_type": "skip"
    }
   },
   "source": [
    "<center><img src=\"https://raw.githubusercontent.com/phonchi/nsysu-math106A/refs/heads/main/extra/Figures/tic.jpg\"></center>\n",
    "<div align=\"center\"> source: https://automatetheboringstuff.com/2e/chapter5/ </div>"
   ]
  },
  {
   "cell_type": "markdown",
   "metadata": {
    "slideshow": {
     "slide_type": "skip"
    }
   },
   "source": [
    "Of course, the player should see only what is printed to the screen, not the contents of variables. Let’s create a function to print the board dictionary onto the screen:"
   ]
  },
  {
   "cell_type": "code",
   "execution_count": null,
   "metadata": {
    "slideshow": {
     "slide_type": "skip"
    }
   },
   "outputs": [],
   "source": [
    "def printBoard(board):\n",
    "    \"\"\"\n",
    "    The function that prints out the board in a square shape\n",
    "    \"\"\"\n",
    "    print(board['1'] + '|' + board['2'] + '|' + board['3'])\n",
    "    print('-+-+-')\n",
    "    print(board['4'] + '|' + board['5'] + '|' + board['6'])\n",
    "    print('-+-+-')\n",
    "    print(board['7'] + '|' + board['8'] + '|' + board['9']+\"\\n\")\n",
    "\n",
    "printBoard(board)"
   ]
  },
  {
   "cell_type": "markdown",
   "metadata": {
    "slideshow": {
     "slide_type": "skip"
    }
   },
   "source": [
    "The `printBoard()` function can handle any tic-tac-toe data structure you pass it!"
   ]
  },
  {
   "cell_type": "markdown",
   "metadata": {
    "slideshow": {
     "slide_type": "skip"
    }
   },
   "source": [
    "Now let’s add code that allows the players to enter their moves."
   ]
  },
  {
   "cell_type": "code",
   "execution_count": null,
   "metadata": {
    "slideshow": {
     "slide_type": "skip"
    }
   },
   "outputs": [],
   "source": [
    "board = {'1': ' ', '2': ' ', '3': ' ',\n",
    "         '4': ' ', '5': ' ', '6': ' ',\n",
    "         '7': ' ', '8': ' ', '9': ' '}\n",
    "\n",
    "board['1'] = 'O'  # Update the board\n",
    "printBoard(board)\n",
    "board['5'] = 'X' \n",
    "printBoard(board)"
   ]
  },
  {
   "cell_type": "markdown",
   "metadata": {
    "slideshow": {
     "slide_type": "skip"
    }
   },
   "source": [
    "We can also check whether player has won the game or not using the following code:"
   ]
  },
  {
   "cell_type": "code",
   "execution_count": null,
   "metadata": {
    "slideshow": {
     "slide_type": "skip"
    }
   },
   "outputs": [],
   "source": [
    "p = 'O' # Check whether 'O' has won the game or not\n",
    "\n",
    "((board['1'] == board['2'] == board['3'] == p) or  # Across top\n",
    "(board['4'] == board['5'] == board['6'] == p) or  # Across middle\n",
    "(board['7'] == board['8'] == board['9'] == p) or  # Across boardottom\n",
    "(board['1'] == board['4'] == board['7'] == p) or  # Down left\n",
    "(board['2'] == board['5'] == board['8'] == p) or  # Down middle\n",
    "(board['3'] == board['6'] == board['9'] == p) or  # Down right\n",
    "(board['3'] == board['5'] == board['7'] == p) or  # Diagonal\n",
    "(board['1'] == board['5'] == board['9'] == p))  # Diagonal"
   ]
  },
  {
   "cell_type": "markdown",
   "metadata": {
    "slideshow": {
     "slide_type": "skip"
    }
   },
   "source": [
    "> Note that by enclosing the condiations with `()`, we do not have to add `\\` for multipline commands."
   ]
  },
  {
   "cell_type": "markdown",
   "metadata": {
    "slideshow": {
     "slide_type": "skip"
    }
   },
   "source": [
    "### > Exercise 1: Tic-tac-toe is a classic pencil-and-paper game played on a 3 × 3 grid. Players take turns placing their 'X' or 'O' marks, trying to get three in a row. Try to complete the following game design by complete three functions `getBlankBoard()`, `isValidSpace()` and `isBoardFull()`."
   ]
  },
  {
   "cell_type": "code",
   "execution_count": null,
   "metadata": {
    "slideshow": {
     "slide_type": "skip"
    }
   },
   "outputs": [],
   "source": [
    "def printBoard(board):\n",
    "    \"\"\"\n",
    "    The function that prints out the board in a square shape\n",
    "    \"\"\"\n",
    "    print(board['1'] + '|' + board['2'] + '|' + board['3'])\n",
    "    print('-+-+-')\n",
    "    print(board['4'] + '|' + board['5'] + '|' + board['6'])\n",
    "    print('-+-+-')\n",
    "    print(board['7'] + '|' + board['8'] + '|' + board['9'])\n",
    "\n",
    "\n",
    "def updateBoard(board, space, mark):\n",
    "    \"\"\"Sets the space on the board to mark.\"\"\"\n",
    "    board[space] = mark\n",
    "\n",
    "def isWinner(board, player):\n",
    "    \"\"\"Return True if player is a winner on this TTTBoard.\"\"\"\n",
    "    # Shorter variable names used here for readablility:\n",
    "    b, p = board, player\n",
    "    # Check for 3 marks across 3 rows, 3 columns, and 2 diagonals.\n",
    "    return ((b['1'] == b['2'] == b['3'] == p) or  # Across top\n",
    "            (b['4'] == b['5'] == b['6'] == p) or  # Across middle\n",
    "            (b['7'] == b['8'] == b['9'] == p) or  # Across bottom\n",
    "            (b['1'] == b['4'] == b['7'] == p) or  # Down left\n",
    "            (b['2'] == b['5'] == b['8'] == p) or  # Down middle\n",
    "            (b['3'] == b['6'] == b['9'] == p) or  # Down right\n",
    "            (b['3'] == b['5'] == b['7'] == p) or  # Diagonal\n",
    "            (b['1'] == b['5'] == b['9'] == p))    # Diagonal"
   ]
  },
  {
   "cell_type": "code",
   "execution_count": null,
   "metadata": {
    "slideshow": {
     "slide_type": "skip"
    }
   },
   "outputs": [],
   "source": [
    "def getBlankBoard():\n",
    "    \"\"\"Create a new, blank tic-tac-toe board.\"\"\"\n",
    "    # Map of space numbers: 1|2|3\n",
    "    #                       -+-+-\n",
    "    #                       4|5|6\n",
    "    #                       -+-+-\n",
    "    #                       7|8|9\n",
    "    # Keys are '1' through '9', the values are 'X', 'O', or ' ':\n",
    "    # Initialize all spaces of the board as blank string ' ' using loop or dictionary complehention\n",
    "    ALL_SPACES = ['1', '2', '3', '4', '5', '6', '7', '8', '9']\n",
    "    ______________________________\n",
    "    return board\n",
    "\n",
    "def isValidSpace(board, space):\n",
    "    \"\"\"Returns True if the space on the board is a valid space number (1-9)\n",
    "    and the space is blank.\"\"\"\n",
    "    ALL_SPACES = ['1', '2', '3', '4', '5', '6', '7', '8', '9']\n",
    "    return ____________ and ________________\n",
    "\n",
    "def isBoardFull(board):\n",
    "    \"\"\"Return True if every space on the board has been taken.\"\"\"\n",
    "    for v in ________:  # Traverse over the board to see if there is blank space\n",
    "        if v == ' ':\n",
    "            return False  # If any space is blank, return False.\n",
    "    return True  # No spaces are blank, so return True"
   ]
  },
  {
   "cell_type": "code",
   "execution_count": null,
   "metadata": {
    "slideshow": {
     "slide_type": "skip"
    }
   },
   "outputs": [],
   "source": [
    "# The logic of the game\n",
    "print('Welcome to Tic-Tac-Toe!')\n",
    "gameBoard = getBlankBoard()  # Create a TTT board dictionary.\n",
    "currentPlayer, nextPlayer = 'X', 'O'  # X goes first, O goes next.\n",
    "\n",
    "while True:  # Main game loop.\n",
    "    # 1. Display the board on the screen:\n",
    "    printBoard(gameBoard)\n",
    "\n",
    "    # 2. Keep asking the player until they enter a number 1-9:\n",
    "    move = None\n",
    "    while not isValidSpace(gameBoard, move):\n",
    "        print('What is ' + currentPlayer + '\\'s move? (1-9)')\n",
    "        move = input('> ')\n",
    "    updateBoard(gameBoard, move, currentPlayer)  # Make the move.\n",
    "\n",
    "    # 3. Check if the game is over:\n",
    "    if isWinner(gameBoard, currentPlayer):  # Check for a winner.\n",
    "        printBoard(gameBoard)\n",
    "        print(currentPlayer + ' has won the game!')\n",
    "        break\n",
    "    elif isBoardFull(gameBoard):  # Check for a tie.\n",
    "        print(printBoard(gameBoard))\n",
    "        print('The game is a tie!')\n",
    "        break\n",
    "    # 4. Switch turns to the next player using multiple assignment:\n",
    "    currentPlayer, nextPlayer = nextPlayer, currentPlayer\n",
    "print('Thanks for playing!')"
   ]
  },
  {
   "cell_type": "markdown",
   "metadata": {
    "slideshow": {
     "slide_type": "slide"
    }
   },
   "source": [
    "### Nested Dictionaries and Lists"
   ]
  },
  {
   "cell_type": "markdown",
   "metadata": {
    "slideshow": {
     "slide_type": "slide"
    }
   },
   "source": [
    "#### A List of Dictionaries"
   ]
  },
  {
   "cell_type": "markdown",
   "metadata": {
    "slideshow": {
     "slide_type": "subslide"
    }
   },
   "source": [
    "Consider a game featuring aliens that can have different colors and point values. This simple `dictionary` stores information about a particular alien:"
   ]
  },
  {
   "cell_type": "code",
   "execution_count": null,
   "metadata": {
    "slideshow": {
     "slide_type": "fragment"
    }
   },
   "outputs": [],
   "source": [
    "alien_0 = {'color': 'green', 'points': 5}"
   ]
  },
  {
   "cell_type": "markdown",
   "metadata": {
    "slideshow": {
     "slide_type": "fragment"
    }
   },
   "source": [
    "The `alien_0` dictionary contains a variety of information about one alien, but it has no room to store information about a second alien, much less a screen full of aliens. How can you manage a group of aliens? One way is to make a list of aliens in which each alien is a `dictionary` of information about that alien."
   ]
  },
  {
   "cell_type": "code",
   "execution_count": null,
   "metadata": {
    "slideshow": {
     "slide_type": "subslide"
    }
   },
   "outputs": [],
   "source": [
    "aliens = []\n",
    "# Make 30 green aliens.\n",
    "for alien_number in range(30):\n",
    "    new_alien = {'color': 'green', 'points': 5, 'speed': 'slow'}\n",
    "    aliens.append(new_alien)\n",
    "# Show the first 5 aliens.\n",
    "for alien in aliens[:5]:\n",
    "    print(alien)\n",
    "print(\"...\")\n",
    "# Show how many aliens have been created.\n",
    "print(f\"Total number of aliens: {len(aliens)}\")"
   ]
  },
  {
   "cell_type": "markdown",
   "metadata": {
    "slideshow": {
     "slide_type": "fragment"
    }
   },
   "source": [
    "These aliens all have the same characteristics, but `Python` considers each one a separate object, which allows us to modify each alien individually. How might you work with a group of aliens like this? "
   ]
  },
  {
   "cell_type": "markdown",
   "metadata": {
    "slideshow": {
     "slide_type": "subslide"
    }
   },
   "source": [
    "Imagine that one aspect of a game has some aliens changing color and moving faster as the game progresses. When it's time to change colors, we can use a `for` loop and an `if` statement to change the color of the aliens. For example, to change the first three aliens to yellow, medium-speed aliens worth 10 points each, we could do this:"
   ]
  },
  {
   "cell_type": "code",
   "execution_count": null,
   "metadata": {
    "slideshow": {
     "slide_type": "fragment"
    }
   },
   "outputs": [],
   "source": [
    "for alien in aliens[:3]:\n",
    "    if alien['color'] == 'green':\n",
    "        alien['color'] = 'yellow'\n",
    "        alien['speed'] = 'medium'\n",
    "        alien['points'] = 10\n",
    "\n",
    "aliens[:10]"
   ]
  },
  {
   "cell_type": "markdown",
   "metadata": {
    "slideshow": {
     "slide_type": "slide"
    }
   },
   "source": [
    "## Sets"
   ]
  },
  {
   "cell_type": "markdown",
   "metadata": {
    "slideshow": {
     "slide_type": "subslide"
    }
   },
   "source": [
    "A  `set` is an unordered collection of unique values. `Sets` may contain only immutable objects, like `strings`, `ints`,  `floats` and `tuples` that contain only immutable elements. "
   ]
  },
  {
   "cell_type": "markdown",
   "metadata": {
    "slideshow": {
     "slide_type": "fragment"
    }
   },
   "source": [
    "The following code creates a `set` of strings named `colors`: "
   ]
  },
  {
   "cell_type": "code",
   "execution_count": null,
   "metadata": {
    "slideshow": {
     "slide_type": "fragment"
    }
   },
   "outputs": [],
   "source": [
    "colors = {'red', 'orange', 'yellow', 'green', 'red', 'blue'} # Similar to set in math\n",
    "colors"
   ]
  },
  {
   "cell_type": "markdown",
   "metadata": {
    "slideshow": {
     "slide_type": "fragment"
    }
   },
   "source": [
    "Notice that the duplicate string `'red'` was ignored (without causing an error). An important use of `sets` is **duplicate elimination**, which is automatic when creating a `set`. Also, the resulting `set's` values may not be displayed in the same order as they were listed! Though the color names are displayed in sorted order, **sets are unordered**. You should not write code that depends on the order of their elements!"
   ]
  },
  {
   "cell_type": "markdown",
   "metadata": {
    "slideshow": {
     "slide_type": "skip"
    }
   },
   "source": [
    "> Note that we also use curly bracket to create a set!"
   ]
  },
  {
   "cell_type": "markdown",
   "metadata": {
    "slideshow": {
     "slide_type": "subslide"
    }
   },
   "source": [
    "Though `sets` are iterable, they are not sequences and do not support indexing and slicing with square brackets, `[]`."
   ]
  },
  {
   "cell_type": "code",
   "execution_count": null,
   "metadata": {
    "slideshow": {
     "slide_type": "fragment"
    }
   },
   "outputs": [],
   "source": [
    "colors[0]"
   ]
  },
  {
   "cell_type": "markdown",
   "metadata": {
    "slideshow": {
     "slide_type": "fragment"
    }
   },
   "source": [
    "You can determine the number of items in a set with the built-in `len()` function: "
   ]
  },
  {
   "cell_type": "code",
   "execution_count": null,
   "metadata": {
    "slideshow": {
     "slide_type": "fragment"
    }
   },
   "outputs": [],
   "source": [
    "len(colors)"
   ]
  },
  {
   "cell_type": "markdown",
   "metadata": {
    "slideshow": {
     "slide_type": "subslide"
    }
   },
   "source": [
    "You can check whether a `set` contains a particular value using the `in` and `not in` operators:"
   ]
  },
  {
   "cell_type": "code",
   "execution_count": null,
   "metadata": {
    "slideshow": {
     "slide_type": "fragment"
    }
   },
   "outputs": [],
   "source": [
    "'red' in colors, 'purple' not in colors"
   ]
  },
  {
   "cell_type": "markdown",
   "metadata": {
    "slideshow": {
     "slide_type": "fragment"
    }
   },
   "source": [
    "`Sets` are iterable, so you can process each set element with a `for` loop:"
   ]
  },
  {
   "cell_type": "code",
   "execution_count": null,
   "metadata": {
    "slideshow": {
     "slide_type": "fragment"
    }
   },
   "outputs": [],
   "source": [
    "for color in colors: # {'blue', 'green', 'orange', 'red', 'yellow'}\n",
    "    print(color, end=' ')"
   ]
  },
  {
   "cell_type": "markdown",
   "metadata": {
    "slideshow": {
     "slide_type": "skip"
    }
   },
   "source": [
    "> `Sets` are unordered, so there’s no significance to the iteration order!"
   ]
  },
  {
   "cell_type": "markdown",
   "metadata": {
    "slideshow": {
     "slide_type": "slide"
    }
   },
   "source": [
    "### Creating a `Set` with the Built-In `set()` Function"
   ]
  },
  {
   "cell_type": "markdown",
   "metadata": {
    "slideshow": {
     "slide_type": "subslide"
    }
   },
   "source": [
    "You can create a `set` from another collection of values by using the built-in `set()` function — here we create a `list` that contains several duplicate integer values and use that `list` as `set`'s argument:"
   ]
  },
  {
   "cell_type": "code",
   "execution_count": null,
   "metadata": {
    "slideshow": {
     "slide_type": "fragment"
    }
   },
   "outputs": [],
   "source": [
    "numbers = list(range(10)) + list(range(5))\n",
    "numbers"
   ]
  },
  {
   "cell_type": "code",
   "execution_count": null,
   "metadata": {
    "slideshow": {
     "slide_type": "fragment"
    }
   },
   "outputs": [],
   "source": [
    "set(numbers)"
   ]
  },
  {
   "cell_type": "markdown",
   "metadata": {
    "slideshow": {
     "slide_type": "subslide"
    }
   },
   "source": [
    "If you need to create an empty `set`, you must use the `set()` function with empty parentheses, rather than empty braces, `{}`, which represent an empty `dictionary`:"
   ]
  },
  {
   "cell_type": "code",
   "execution_count": null,
   "metadata": {
    "slideshow": {
     "slide_type": "fragment"
    }
   },
   "outputs": [],
   "source": [
    "set()"
   ]
  },
  {
   "cell_type": "markdown",
   "metadata": {
    "slideshow": {
     "slide_type": "fragment"
    }
   },
   "source": [
    "Python displays an empty `set` as `set()` to avoid confusion with Python's string representation of an empty `dictionary` (`{}`)."
   ]
  },
  {
   "cell_type": "markdown",
   "metadata": {
    "slideshow": {
     "slide_type": "slide"
    }
   },
   "source": [
    "### `Set` Operators and Methods"
   ]
  },
  {
   "cell_type": "markdown",
   "metadata": {
    "slideshow": {
     "slide_type": "subslide"
    }
   },
   "source": [
    "`Sets` are mutable — you can add and remove elements, but set elements must be immutable. Therefore, a `set` cannot have other `sets` as elements."
   ]
  },
  {
   "cell_type": "code",
   "execution_count": null,
   "metadata": {
    "slideshow": {
     "slide_type": "fragment"
    }
   },
   "outputs": [],
   "source": [
    "{6, 5, 'a'}"
   ]
  },
  {
   "cell_type": "code",
   "execution_count": null,
   "metadata": {
    "slideshow": {
     "slide_type": "fragment"
    }
   },
   "outputs": [],
   "source": [
    "{7, 3, {3,5,7}}"
   ]
  },
  {
   "cell_type": "markdown",
   "metadata": {
    "slideshow": {
     "slide_type": "slide"
    }
   },
   "source": [
    "#### Methods for Adding and Removing Elements"
   ]
  },
  {
   "cell_type": "markdown",
   "metadata": {
    "slideshow": {
     "slide_type": "subslide"
    }
   },
   "source": [
    " Here we first discuss operators and methods that modify an existing `set`. "
   ]
  },
  {
   "cell_type": "markdown",
   "metadata": {
    "slideshow": {
     "slide_type": "fragment"
    }
   },
   "source": [
    "Set method `update()` performs a union operation modifying the set in-place — the argument can be any iterable:"
   ]
  },
  {
   "cell_type": "code",
   "execution_count": null,
   "metadata": {
    "slideshow": {
     "slide_type": "fragment"
    }
   },
   "outputs": [],
   "source": [
    "numbers = {1, 3, 5}     \n",
    "numbers.update(range(10)) \n",
    "numbers"
   ]
  },
  {
   "cell_type": "markdown",
   "metadata": {
    "slideshow": {
     "slide_type": "subslide"
    }
   },
   "source": [
    "`Set` method `add()` inserts its argument if the argument is not already in the set; otherwise, the\n",
    "`set` remains unchanged:"
   ]
  },
  {
   "cell_type": "code",
   "execution_count": null,
   "metadata": {
    "slideshow": {
     "slide_type": "fragment"
    }
   },
   "outputs": [],
   "source": [
    "numbers.add(17)\n",
    "numbers.add(3)\n",
    "numbers"
   ]
  },
  {
   "cell_type": "markdown",
   "metadata": {
    "slideshow": {
     "slide_type": "subslide"
    }
   },
   "source": [
    "`Set` method `remove()` removes its argument from the `set` — a `KeyError` occurs if the value is not in the `set`:"
   ]
  },
  {
   "cell_type": "code",
   "execution_count": null,
   "metadata": {
    "slideshow": {
     "slide_type": "fragment"
    }
   },
   "outputs": [],
   "source": [
    "numbers.remove(3)\n",
    "numbers"
   ]
  },
  {
   "cell_type": "code",
   "execution_count": null,
   "metadata": {
    "slideshow": {
     "slide_type": "fragment"
    }
   },
   "outputs": [],
   "source": [
    "numbers.remove(11)"
   ]
  },
  {
   "cell_type": "code",
   "execution_count": null,
   "metadata": {
    "slideshow": {
     "slide_type": "subslide"
    }
   },
   "outputs": [],
   "source": [
    "display_quiz(path+\"set.json\", max_width=800)"
   ]
  },
  {
   "cell_type": "markdown",
   "metadata": {
    "slideshow": {
     "slide_type": "skip"
    }
   },
   "source": [
    "###  Mathematical Set Operations (Optional)"
   ]
  },
  {
   "cell_type": "markdown",
   "metadata": {
    "slideshow": {
     "slide_type": "skip"
    }
   },
   "source": [
    "> The operators and methods presented in this section each result in a new set!"
   ]
  },
  {
   "cell_type": "markdown",
   "metadata": {
    "slideshow": {
     "slide_type": "skip"
    }
   },
   "source": [
    "#### Union "
   ]
  },
  {
   "cell_type": "markdown",
   "metadata": {
    "slideshow": {
     "slide_type": "skip"
    }
   },
   "source": [
    "The union of two `sets` is a set consisting of all the unique elements from both sets. You can calculate the union with the `|` operator or with the set `union()` method:"
   ]
  },
  {
   "cell_type": "code",
   "execution_count": null,
   "metadata": {
    "slideshow": {
     "slide_type": "skip"
    }
   },
   "outputs": [],
   "source": [
    "{1, 3, 5} | {2, 3, 4}"
   ]
  },
  {
   "cell_type": "code",
   "execution_count": null,
   "metadata": {
    "slideshow": {
     "slide_type": "skip"
    }
   },
   "outputs": [],
   "source": [
    "{1, 3, 5}.union([20, 20, 3, 40, 40])"
   ]
  },
  {
   "cell_type": "markdown",
   "metadata": {
    "slideshow": {
     "slide_type": "skip"
    }
   },
   "source": [
    "> The operands of the binary set operators, like `|`, must both be `sets`. The corresponding `set` methods may receive any iterable object as an argument — we passed a `list`. **When a mathematical `set` method receives a non-set iterable argument, it first converts the iterable to a set, then applies the mathematical operation.** "
   ]
  },
  {
   "cell_type": "markdown",
   "metadata": {
    "slideshow": {
     "slide_type": "skip"
    }
   },
   "source": [
    "#### Intersection "
   ]
  },
  {
   "cell_type": "markdown",
   "metadata": {
    "slideshow": {
     "slide_type": "skip"
    }
   },
   "source": [
    "The intersection of two `sets` is a set consisting of all the unique elements that the two `sets` have in common. You can calculate the intersection with the `&` operator or with the set `intersection()` method:"
   ]
  },
  {
   "cell_type": "code",
   "execution_count": null,
   "metadata": {
    "slideshow": {
     "slide_type": "skip"
    }
   },
   "outputs": [],
   "source": [
    "{1, 3, 5} & {2, 3, 4}"
   ]
  },
  {
   "cell_type": "code",
   "execution_count": null,
   "metadata": {
    "slideshow": {
     "slide_type": "skip"
    }
   },
   "outputs": [],
   "source": [
    "{1, 3, 5}.intersection([1, 2, 2, 3, 3, 4, 4])"
   ]
  },
  {
   "cell_type": "markdown",
   "metadata": {
    "slideshow": {
     "slide_type": "skip"
    }
   },
   "source": [
    "#### Difference "
   ]
  },
  {
   "cell_type": "markdown",
   "metadata": {
    "slideshow": {
     "slide_type": "skip"
    }
   },
   "source": [
    "The difference between two `sets` is a set consisting of the elements in the left operand that are not in the right operand. You can calculate the difference with the `-` operator or with the set `difference()` method:"
   ]
  },
  {
   "cell_type": "code",
   "execution_count": null,
   "metadata": {
    "slideshow": {
     "slide_type": "skip"
    }
   },
   "outputs": [],
   "source": [
    "{1, 3, 5} - {2, 3, 4}"
   ]
  },
  {
   "cell_type": "code",
   "execution_count": null,
   "metadata": {
    "slideshow": {
     "slide_type": "skip"
    }
   },
   "outputs": [],
   "source": [
    "{1, 3, 5, 7}.difference([2, 2, 3, 3, 4, 4])"
   ]
  },
  {
   "cell_type": "markdown",
   "metadata": {
    "slideshow": {
     "slide_type": "skip"
    }
   },
   "source": [
    "#### Symmetric Difference "
   ]
  },
  {
   "cell_type": "markdown",
   "metadata": {
    "slideshow": {
     "slide_type": "skip"
    }
   },
   "source": [
    "The symmetric difference between two sets is a set consisting of the elements of both sets that are ***not in common with one another***. You can calculate the symmetric difference with the `^` operator or with the set `symmetric_difference` method:"
   ]
  },
  {
   "cell_type": "code",
   "execution_count": null,
   "metadata": {
    "slideshow": {
     "slide_type": "skip"
    }
   },
   "outputs": [],
   "source": [
    "{1, 3, 5} ^ {2, 3, 4}"
   ]
  },
  {
   "cell_type": "code",
   "execution_count": null,
   "metadata": {
    "slideshow": {
     "slide_type": "skip"
    }
   },
   "outputs": [],
   "source": [
    "{1, 3, 5, 7}.symmetric_difference([2, 2, 3, 3, 4, 4])"
   ]
  },
  {
   "cell_type": "markdown",
   "metadata": {
    "slideshow": {
     "slide_type": "skip"
    }
   },
   "source": [
    "#### Disjoint"
   ]
  },
  {
   "cell_type": "markdown",
   "metadata": {
    "slideshow": {
     "slide_type": "skip"
    }
   },
   "source": [
    "Two `sets` are disjoint if they do not have any common elements. You can determine this with the set `isdisjoint()` method:"
   ]
  },
  {
   "cell_type": "code",
   "execution_count": null,
   "metadata": {
    "slideshow": {
     "slide_type": "skip"
    }
   },
   "outputs": [],
   "source": [
    "{1, 3, 5}.isdisjoint({2, 4, 6})"
   ]
  },
  {
   "cell_type": "code",
   "execution_count": null,
   "metadata": {
    "slideshow": {
     "slide_type": "skip"
    }
   },
   "outputs": [],
   "source": [
    "{1, 3, 5}.isdisjoint({4, 6, 1})"
   ]
  },
  {
   "cell_type": "markdown",
   "metadata": {
    "slideshow": {
     "slide_type": "slide"
    }
   },
   "source": [
    "### Set Comprehensions"
   ]
  },
  {
   "cell_type": "markdown",
   "metadata": {
    "slideshow": {
     "slide_type": "subslide"
    }
   },
   "source": [
    "Like dictionary comprehensions, you define set comprehensions in curly braces. Let's create a new `set` containing only the unique even values in the `list` numbers:"
   ]
  },
  {
   "cell_type": "code",
   "execution_count": null,
   "metadata": {
    "slideshow": {
     "slide_type": "fragment"
    }
   },
   "outputs": [],
   "source": [
    "numbers = [1, 2, 2, 3, 4, 5, 6, 6, 7, 8, 9, 10, 10]\n",
    "evens = {item for item in numbers if item % 2 == 0}\n",
    "\n",
    "evens"
   ]
  },
  {
   "cell_type": "markdown",
   "metadata": {
    "slideshow": {
     "slide_type": "slide"
    }
   },
   "source": [
    "### Sorting the `set` and `dictionary` "
   ]
  },
  {
   "cell_type": "markdown",
   "metadata": {
    "slideshow": {
     "slide_type": "subslide"
    }
   },
   "source": [
    "As we mentioned last week, data types like `tuples` don't provide methods like `sort()`. However `Python` provides the built-in function `sorted()`, which takes any sequence as a parameter and returns a new container with the same elements in a different order. You can also apply `sorted` to the set, but the returning container will be `list`."
   ]
  },
  {
   "cell_type": "code",
   "execution_count": null,
   "metadata": {
    "slideshow": {
     "slide_type": "fragment"
    }
   },
   "outputs": [],
   "source": [
    "help(sorted)"
   ]
  },
  {
   "cell_type": "code",
   "execution_count": null,
   "metadata": {
    "slideshow": {
     "slide_type": "subslide"
    }
   },
   "outputs": [],
   "source": [
    "RANKS = [\"A\", \"2\", \"3\", \"4\", \"5\", \"6\", \"7\", \"8\", \"9\", \"10\", \"J\", \"Q\", \"K\"]\n",
    "\n",
    "def rank_key(card):\n",
    "    return RANKS.index(card)\n",
    "\n",
    "ori_set = {\"A\", \"2\", \"7\", \"4\", \"Q\"}\n",
    "print(sorted(ori_set))\n",
    "sorted_list = sorted(ori_set, key=rank_key) \n",
    "# Each element will be replaced by the output of rank_key() and sorts!\n",
    "print(sorted_list)"
   ]
  },
  {
   "cell_type": "markdown",
   "metadata": {
    "slideshow": {
     "slide_type": "fragment"
    }
   },
   "source": [
    "Note that we have changed the behavior of the `sorted()` function by providing the custom key that allows us to sort the data in a specific order using the predefined `list` and the `index()` function."
   ]
  },
  {
   "cell_type": "markdown",
   "metadata": {
    "slideshow": {
     "slide_type": "subslide"
    }
   },
   "source": [
    "If you would like to sort the `dictionary`, you need to use the `items()` method (Otherwise, it will only return keys). The returning container will again be a `list`:"
   ]
  },
  {
   "cell_type": "code",
   "execution_count": null,
   "metadata": {
    "slideshow": {
     "slide_type": "fragment"
    }
   },
   "outputs": [],
   "source": [
    "grade = {'calculus':85, 'introduction to mathematics':80, 'introduction to computer science':90, 'linear algebra':95}\n",
    "sorted_list = sorted(grade.items())\n",
    "print(sorted_list)"
   ]
  },
  {
   "cell_type": "markdown",
   "metadata": {
    "slideshow": {
     "slide_type": "fragment"
    }
   },
   "source": [
    "If you would like to sort by the value, use the following code:"
   ]
  },
  {
   "cell_type": "code",
   "execution_count": null,
   "metadata": {
    "slideshow": {
     "slide_type": "fragment"
    }
   },
   "outputs": [],
   "source": [
    "def value_key(x):\n",
    "    return x[1]\n",
    "\n",
    "grade = {'calculus':85, 'introduction to mathematics':80, 'computer programming':90, 'linear algebra':95}\n",
    "sorted_dict = sorted(grade.items(), key=value_key)\n",
    "print(sorted_dict)"
   ]
  },
  {
   "cell_type": "markdown",
   "metadata": {
    "slideshow": {
     "slide_type": "subslide"
    }
   },
   "source": [
    "### > Exercise 2: Assume that we have a JSON file called `Pokemon.json`. Each item in the list is a dictionary that stores the name of the Pokemon as well as the species' strength. Complete the program by filling the missing part that reads the data of Pokemon from the `Pokemon.json` and displays the name with total species strength (summation of HP, Attack, Defense, Sp. Attack, Sp. Defense and Speed) line by line sorted by total species strength."
   ]
  },
  {
   "cell_type": "code",
   "execution_count": null,
   "metadata": {
    "slideshow": {
     "slide_type": "subslide"
    }
   },
   "outputs": [],
   "source": [
    "import json\n",
    "\n",
    "# 1. Load the JSON data from the file and reads contents to pokemon_data\n",
    "with open('Pokemon.json', 'r') as file:\n",
    "    pokemon_data = json.load(file)\n",
    "\n",
    "print(pokemon_data)"
   ]
  },
  {
   "cell_type": "code",
   "execution_count": null,
   "metadata": {
    "slideshow": {
     "slide_type": "subslide"
    }
   },
   "outputs": [],
   "source": [
    "# 2. Calculate the total species strength for each Pokemon and add it to pokemon_data\n",
    "for pokemon in pokemon_data:\n",
    "    # Your code here\n",
    "    total_strength = sum([_______________ for key in pokemon if key != \"name\"])\n",
    "    pokemon['total_strength'] = total_strength\n",
    "\n",
    "# 3. Sort the Pokemon data by total species strength\n",
    "def value_key(x):\n",
    "    return x['total_strength'] \n",
    "\n",
    "# Your code here\n",
    "sorted_pokemon_data = sorted(pokemon_data, ________, ________)\n",
    "\n",
    "# 4. Display the sorted Pokemon data\n",
    "for pokemon in sorted_pokemon_data:\n",
    "    print(________+ \" has a total species strength of \"+ ________)"
   ]
  },
  {
   "cell_type": "markdown",
   "metadata": {
    "slideshow": {
     "slide_type": "subslide"
    }
   },
   "source": [
    "In this chapter, we discussed Python's `dictionary` and `set` collections. They are both unorder, mutable and do not allow duplicates."
   ]
  },
  {
   "cell_type": "markdown",
   "metadata": {
    "slideshow": {
     "slide_type": "skip"
    }
   },
   "source": [
    "> We said what a dictionary is and presented several examples. We showed the syntax of key–value pairs and showed how to use them to create `dictionaries` with comma-separated lists of key–value pairs in curly braces, `{}`. You also created dictionaries with dictionary comprehensions. You used square brackets, `[]`, to retrieve the value corresponding to a key, and to insert and update key–value pairs. You also used the dictionary method update to change a key’s associated value. You iterated through a dictionary’s keys, values and items.\n",
    "\n",
    "> You created `sets` of unique immutable values. You combined `sets` with set operators and methods, changed sets’ values with the mutable set operations and created `sets` with set comprehensions. You saw that sets are mutable."
   ]
  },
  {
   "cell_type": "markdown",
   "metadata": {
    "slideshow": {
     "slide_type": "subslide"
    }
   },
   "source": [
    "A short comparison of the containers is shown below:\n",
    "\n",
    "\n",
    "| Feature          | List    | Tuple   | Dictionary  | Set         |\n",
    "|------------------|---------|---------|-------------|-------------|\n",
    "| Mutable (Can be modified in place)         | Yes     | No      | Yes (keys are immutable)    | Yes         |\n",
    "| Iterable (Can be use in for loop)         | Yes     | Yes     | Yes         | Yes         |\n",
    "| Ordered (Can access by index, slicing)         | Yes     | Yes     | No          | No          |\n",
    "| Duplicate Values | Allowed | Allowed | Not in keys | Not allowed |"
   ]
  },
  {
   "cell_type": "code",
   "execution_count": null,
   "metadata": {
    "slideshow": {
     "slide_type": "subslide"
    }
   },
   "outputs": [],
   "source": [
    "from jupytercards import display_flashcards\n",
    "fpath= \"https://raw.githubusercontent.com/phonchi/nsysu-math106A/refs/heads/main/extra/flashcards/\"\n",
    "display_flashcards(fpath + 'ch5.json')"
   ]
  },
  {
   "cell_type": "markdown",
   "metadata": {
    "slideshow": {
     "slide_type": "skip"
    }
   },
   "source": [
    "## Keywords"
   ]
  },
  {
   "cell_type": "markdown",
   "metadata": {
    "slideshow": {
     "slide_type": "skip"
    }
   },
   "source": [
    "- **key-value**: A pair consisting of a key and its associated value, as used in dictionaries.\n",
    "- **key**: An immutable identifier used to access a corresponding value in a dictionary.\n",
    "- **value**: The data associated with a key in a dictionary.\n",
    "- **dictionary**: A collection of key-value pairs where each key is unique.\n",
    "- **set**: An unordered collection of unique elements.\n",
    "- **dictionary comprehension**: A concise way to create dictionaries from iterables using a single expression.\n",
    "- **set comprehension**: A concise way to create sets from iterables using a single expression."
   ]
  }
 ],
 "metadata": {
  "celltoolbar": "Slideshow",
  "colab": {
   "collapsed_sections": [
    "SwFKFBMwRzoa",
    "n3ezAAdIsgpj",
    "gASYx5-Cxzyg",
    "2kLRVhae3rSa",
    "DPpfFEA07W0A",
    "uloOTsPL9A74",
    "MTJO4K049nuU",
    "3hD9uBt6AW9l",
    "IvviPig3At12",
    "HQK5zGP749m3",
    "7YVyJ-IgBZ7s",
    "L5VlI3VKg_dV",
    "wgqoOGqEiUre",
    "jscaE3K65HP9",
    "UMo588t4rY-O",
    "AGs4jgnSsZa1"
   ],
   "provenance": [],
   "toc_visible": true
  },
  "kernelspec": {
   "display_name": "Python 3 (ipykernel)",
   "language": "python",
   "name": "python3"
  },
  "language_info": {
   "codemirror_mode": {
    "name": "ipython",
    "version": 3
   },
   "file_extension": ".py",
   "mimetype": "text/x-python",
   "name": "python",
   "nbconvert_exporter": "python",
   "pygments_lexer": "ipython3",
   "version": "3.9.13"
  },
  "rise": {
   "chalkboard": {
    "color": [
     "rgb(250, 0, 0)",
     "rgb(250, 0, 0)"
    ]
   },
   "controls": false,
   "enable_chalkboard": true,
   "footer": "",
   "overlay": "<div class='myfooter'><h4>Dictionary and set</h4></div>",
   "slideNumber": "true",
   "theme": "night"
  },
  "vscode": {
   "interpreter": {
    "hash": "1561eddc5e0c9c74df968f74d5080d02882967127f956e6e7049c43d2ef42321"
   }
  }
 },
 "nbformat": 4,
 "nbformat_minor": 1
}
