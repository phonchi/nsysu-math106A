{
 "cells": [
  {
   "cell_type": "markdown",
   "metadata": {
    "id": "11n5gndbRzoY",
    "slideshow": {
     "slide_type": "slide"
    }
   },
   "source": [
    "# Manipulating Strings\n"
   ]
  },
  {
   "cell_type": "markdown",
   "metadata": {
    "id": "AIFsv_RZ1iV0",
    "slideshow": {
     "slide_type": "skip"
    }
   },
   "source": [
    "<table align=\"left\">\n",
    "  <td>\n",
    "    <a href=\"https://colab.research.google.com/github/phonchi/nsysu-math106A/blob/master/static_files/presentations/06_Manipulating_string.ipynb\" target=\"_parent\"><img src=\"https://colab.research.google.com/assets/colab-badge.svg\" alt=\"Open In Colab\"/></a>\n",
    "  </td>\n",
    "  <td>\n",
    "    <a target=\"_blank\" href=\"https://kaggle.com/kernels/welcome?src=https://github.com/phonchi/nsysu-math106A/blob/master/static_files/presentations/06_Manipulating_string.ipynb\"><img src=\"https://kaggle.com/static/images/open-in-kaggle.svg\" /></a>\n",
    "  </td>\n",
    "</table>"
   ]
  },
  {
   "cell_type": "markdown",
   "metadata": {
    "slideshow": {
     "slide_type": "skip"
    }
   },
   "source": [
    "Execute the following two cells for the setup:"
   ]
  },
  {
   "cell_type": "code",
   "execution_count": null,
   "metadata": {
    "slideshow": {
     "slide_type": "skip"
    }
   },
   "outputs": [],
   "source": [
    "!pip install jupyterquiz \n",
    "!pip install jupytercards\n",
    "\n",
    "from IPython.display import display, Javascript\n",
    "display(Javascript('Jupyter.notebook.kernel.restart()'))"
   ]
  },
  {
   "cell_type": "code",
   "execution_count": null,
   "metadata": {
    "slideshow": {
     "slide_type": "skip"
    }
   },
   "outputs": [],
   "source": [
    "from jupyterquiz import display_quiz\n",
    "\n",
    "path=\"https://raw.githubusercontent.com/phonchi/nsysu-math106A/refs/heads/main/extra/questions/ch6/\""
   ]
  },
  {
   "cell_type": "markdown",
   "metadata": {
    "slideshow": {
     "slide_type": "subslide"
    }
   },
   "source": [
    "1. Introduction\n",
    "\n",
    "2. String formatting\n",
    "\n",
    "3. String method"
   ]
  },
  {
   "cell_type": "markdown",
   "metadata": {
    "id": "wJjIP5Vne7cM",
    "slideshow": {
     "slide_type": "subslide"
    }
   },
   "source": [
    "Text is one of the most common forms of data our programs will handle. We already know how to concatenate two ***`string`*** together with the `+` operator, but we can do much more than that! "
   ]
  },
  {
   "cell_type": "markdown",
   "metadata": {
    "slideshow": {
     "slide_type": "fragment"
    }
   },
   "source": [
    "We can extract partial strings from `string` just like sequence, add or remove spacing, convert letters to lowercase or uppercase, and check that `strings` are formatted correctly!"
   ]
  },
  {
   "cell_type": "markdown",
   "metadata": {
    "id": "SwFKFBMwRzoa",
    "slideshow": {
     "slide_type": "slide"
    }
   },
   "source": [
    "## String"
   ]
  },
  {
   "cell_type": "markdown",
   "metadata": {
    "id": "xtOzCNTJcj3N",
    "slideshow": {
     "slide_type": "subslide"
    }
   },
   "source": [
    "There are several ways to create a new `string`; the simplest is to enclose the elements in single, double or triple quotes:"
   ]
  },
  {
   "cell_type": "code",
   "execution_count": null,
   "metadata": {
    "colab": {
     "base_uri": "https://localhost:8080/"
    },
    "executionInfo": {
     "elapsed": 4,
     "status": "ok",
     "timestamp": 1668686223113,
     "user": {
      "displayName": "phonchi chung",
      "userId": "13517391734500420886"
     },
     "user_tz": -480
    },
    "id": "ossL66xxcoGg",
    "outputId": "6fac1a14-1607-409b-c6f1-0b05188f6e2c",
    "slideshow": {
     "slide_type": "fragment"
    }
   },
   "outputs": [],
   "source": [
    "type(''), type(\"\"), type(\"\"\"\"\"\")"
   ]
  },
  {
   "cell_type": "markdown",
   "metadata": {
    "slideshow": {
     "slide_type": "skip"
    }
   },
   "source": [
    "> One benefit of using double quotes is that the string can have a single quote character in it."
   ]
  },
  {
   "cell_type": "code",
   "execution_count": null,
   "metadata": {
    "slideshow": {
     "slide_type": "fragment"
    }
   },
   "outputs": [],
   "source": [
    "print(\"I'am fine\")"
   ]
  },
  {
   "cell_type": "markdown",
   "metadata": {
    "id": "Ss9hRGHDRzob",
    "slideshow": {
     "slide_type": "fragment"
    }
   },
   "source": [
    "A `string` is a **sequence that maps index to case sensitive characters and thus belongs to sequence data type**. Anything that we can apply to the sequence can also be applied to `string`. For instance, we can access the **elements (characters)** one at a time with the bracket operator. "
   ]
  },
  {
   "cell_type": "code",
   "execution_count": null,
   "metadata": {
    "id": "4X-QB57Sqxbu",
    "slideshow": {
     "slide_type": "fragment"
    }
   },
   "outputs": [],
   "source": [
    "fruit = 'banana'\n",
    "fruit[1]"
   ]
  },
  {
   "cell_type": "markdown",
   "metadata": {
    "id": "cc7LkxgesPQf",
    "slideshow": {
     "slide_type": "subslide"
    }
   },
   "source": [
    "So \"b\" is the 0th letter (\"zero-th\") of \"banana\", \"a\" is the 1th letter (\"one-th\"), and \"n\" is the 2th (\"two-th\") letter.\n",
    "\n",
    "<center><img src=\"https://raw.githubusercontent.com/phonchi/nsysu-math106A/refs/heads/main/extra/Figures/string.svg\"></center>\n",
    "<div align=\"center\"> source: https://www.py4e.com/html3/06-strings </div>"
   ]
  },
  {
   "cell_type": "markdown",
   "metadata": {
    "slideshow": {
     "slide_type": "skip"
    }
   },
   "source": [
    "> Internally, strings are stored as contiguous blocks of memory that represent the sequence of characters. This storage model is much more memory-efficient."
   ]
  },
  {
   "cell_type": "markdown",
   "metadata": {
    "id": "GQ-v5PkhrxLt",
    "slideshow": {
     "slide_type": "fragment"
    }
   },
   "source": [
    "`len()` can be used to return the number of characters in a `string`:"
   ]
  },
  {
   "cell_type": "code",
   "execution_count": null,
   "metadata": {
    "id": "9eio5IH1sRe_",
    "slideshow": {
     "slide_type": "fragment"
    }
   },
   "outputs": [],
   "source": [
    "len(fruit)"
   ]
  },
  {
   "cell_type": "markdown",
   "metadata": {
    "id": "BCdYJtfCsNTk",
    "slideshow": {
     "slide_type": "subslide"
    }
   },
   "source": [
    "We can use negative indices, which count backward from the end of the string."
   ]
  },
  {
   "cell_type": "code",
   "execution_count": null,
   "metadata": {
    "id": "2kdWhLASsWjM",
    "slideshow": {
     "slide_type": "fragment"
    }
   },
   "outputs": [],
   "source": [
    "fruit[-1], fruit[-2]"
   ]
  },
  {
   "cell_type": "markdown",
   "metadata": {
    "id": "MZguDlIUuGmy",
    "slideshow": {
     "slide_type": "fragment"
    }
   },
   "source": [
    "Slicing also works on `string` to extract a substring from the original string. Remember that we can slice sequences using `[start:stop:step]`. The operator `[start:stop]` returns the part of the string from the \"start-th\" character to the \"stop-th\" character, including the first but excluding the last with `step=1`. "
   ]
  },
  {
   "cell_type": "markdown",
   "metadata": {
    "slideshow": {
     "slide_type": "skip"
    }
   },
   "source": [
    "> If we omit the first index (before the colon), the slice starts at the beginning of the `string`. If we omit the second index, the slice goes to the end of the `string`."
   ]
  },
  {
   "cell_type": "code",
   "execution_count": null,
   "metadata": {
    "id": "2fPn1ShJubZo",
    "slideshow": {
     "slide_type": "subslide"
    }
   },
   "outputs": [],
   "source": [
    "s = 'Cool-Python'\n",
    "print(s[:5]) #same as s[0:5] \n",
    "print(s[5:]) #same as s[5:len(s)] \n",
    "print(s[::2]) #same as s[0:len(s):2]\n",
    "print(s[::]) #same as s[:] and s[0:len(s):1] => copy the string\n",
    "print(s[::-1]) #same as s[-1:-(len(s)+1):-1] => reverse the string"
   ]
  },
  {
   "cell_type": "code",
   "execution_count": null,
   "metadata": {
    "id": "uYrfWa9lwFFx",
    "slideshow": {
     "slide_type": "fragment"
    }
   },
   "outputs": [],
   "source": [
    "s = \"hello\" # `Strings` are \"immutable\", which means that it cannot be modified\n",
    "s[0] = 'y' "
   ]
  },
  {
   "cell_type": "markdown",
   "metadata": {
    "id": "775wqKWHwtGa",
    "slideshow": {
     "slide_type": "subslide"
    }
   },
   "source": [
    "The \"object\" in this case, is the `string` and the \"item\" is the character we tried to assign. The best we can do is create a new `string` that is a variation on the original:"
   ]
  },
  {
   "cell_type": "code",
   "execution_count": null,
   "metadata": {
    "id": "YuVQIH1XwfID",
    "slideshow": {
     "slide_type": "fragment"
    }
   },
   "outputs": [],
   "source": [
    "print(id(s))\n",
    "s = 'y' + s[1:len(s)]\n",
    "print(id(s))\n",
    "print(s)"
   ]
  },
  {
   "cell_type": "markdown",
   "metadata": {
    "id": "zq-Y5gN7x64f",
    "slideshow": {
     "slide_type": "subslide"
    }
   },
   "source": [
    "A lot of computations involve processing a `string` one character at a time. Often they start at the beginning, select each character in turn, do something to it, and continue until the end. The traversal of `string` is just like we see before:"
   ]
  },
  {
   "cell_type": "code",
   "execution_count": null,
   "metadata": {
    "id": "22fq9pCezegR",
    "slideshow": {
     "slide_type": "fragment"
    }
   },
   "outputs": [],
   "source": [
    "# Test if s contains 'o'\n",
    "b = False\n",
    "for char in s: # Retrieve item (character) one by one\n",
    "    if char == 'o':\n",
    "        b = True\n",
    "        break\n",
    "print(b)"
   ]
  },
  {
   "cell_type": "markdown",
   "metadata": {
    "slideshow": {
     "slide_type": "fragment"
    }
   },
   "source": [
    "The `in` and `not in` operators can be used with `strings` just like with `list`. An expression with two strings joined using `in` or `not in` will evaluate to a Boolean `True` or `False`:"
   ]
  },
  {
   "cell_type": "code",
   "execution_count": null,
   "metadata": {
    "slideshow": {
     "slide_type": "fragment"
    }
   },
   "outputs": [],
   "source": [
    "print('o' in 'Hello')\n",
    "print('cats' not in 'cats and dogs')"
   ]
  },
  {
   "cell_type": "code",
   "execution_count": null,
   "metadata": {
    "slideshow": {
     "slide_type": "subslide"
    }
   },
   "outputs": [],
   "source": [
    "display_quiz(path+\"string1.json\", max_width=800)"
   ]
  },
  {
   "cell_type": "markdown",
   "metadata": {
    "slideshow": {
     "slide_type": "slide"
    }
   },
   "source": [
    "### Escape Characters"
   ]
  },
  {
   "cell_type": "markdown",
   "metadata": {
    "slideshow": {
     "slide_type": "subslide"
    }
   },
   "source": [
    "An ***escape character*** lets us use characters that are otherwise impossible to put into a `string`. An escape character consists of a backslash (`\\`) followed by the character we want to add to the string. "
   ]
  },
  {
   "cell_type": "markdown",
   "metadata": {
    "slideshow": {
     "slide_type": "skip"
    }
   },
   "source": [
    "> Despite consisting of two characters, it is commonly referred to as a singular escape character!"
   ]
  },
  {
   "cell_type": "markdown",
   "metadata": {
    "slideshow": {
     "slide_type": "fragment"
    }
   },
   "source": [
    "For example, the escape character for a single quote is `\\'`. We can use this inside a string that begins and ends with single quotes."
   ]
  },
  {
   "cell_type": "code",
   "execution_count": null,
   "metadata": {
    "slideshow": {
     "slide_type": "fragment"
    }
   },
   "outputs": [],
   "source": [
    "spam = 'Say hi to Bob\\'s mother.'\n",
    "spam"
   ]
  },
  {
   "cell_type": "markdown",
   "metadata": {
    "slideshow": {
     "slide_type": "subslide"
    }
   },
   "source": [
    "Python knows that since the single quote in `Bob\\'s` has a backslash, it is not a single quote meant to end the `string`. The escape characters `\\'` and `\\\"` let us put single quotes and double quotes inside our strings, respectively."
   ]
  },
  {
   "cell_type": "markdown",
   "metadata": {
    "slideshow": {
     "slide_type": "fragment"
    }
   },
   "source": [
    "<center>\n",
    "\n",
    "| Escape character | Prints as            |\n",
    "|------------------|----------------------|\n",
    "| `\\'`               | Single quote         |\n",
    "| `\\\"`               | Double quote         |\n",
    "| `\\\\`               | Backslash            |\n",
    "| `\\t`               | Tab                  |\n",
    "| `\\n`               | Newline (line break) |\n",
    "\n",
    "</center>"
   ]
  },
  {
   "cell_type": "code",
   "execution_count": null,
   "metadata": {
    "slideshow": {
     "slide_type": "fragment"
    }
   },
   "outputs": [],
   "source": [
    "print(\"Hello there!\\nHow are you?\\n\\tI\\'m doing fine.\")"
   ]
  },
  {
   "cell_type": "code",
   "execution_count": null,
   "metadata": {
    "slideshow": {
     "slide_type": "subslide"
    }
   },
   "outputs": [],
   "source": [
    "display_quiz(path+\"escape.json\", max_width=800)"
   ]
  },
  {
   "cell_type": "markdown",
   "metadata": {
    "slideshow": {
     "slide_type": "subslide"
    }
   },
   "source": [
    "### > Exercise 1: Ask LLM about the concept of escape character and list some examples\n",
    "\n",
    "- [ChatGPT](https://chatgpt.com/)\n",
    "- [Gemini](https://gemini.google.com/)\n",
    "- [Copilot](https://copilot.microsoft.com/)\n",
    "\n",
    "Refer to https://hackmd.io/@phonchi/LLM_Tutor"
   ]
  },
  {
   "cell_type": "markdown",
   "metadata": {
    "slideshow": {
     "slide_type": "slide"
    }
   },
   "source": [
    "#### Raw Strings"
   ]
  },
  {
   "cell_type": "markdown",
   "metadata": {
    "slideshow": {
     "slide_type": "subslide"
    }
   },
   "source": [
    "We can place an `r` before the beginning quotation mark of a `string` to make it a ***raw string***. **A raw string completely ignores all escape characters** and prints any backslash that appears in the `string`. "
   ]
  },
  {
   "cell_type": "code",
   "execution_count": null,
   "metadata": {
    "slideshow": {
     "slide_type": "fragment"
    }
   },
   "outputs": [],
   "source": [
    "print(r'That is Carol\\'s cat.')"
   ]
  },
  {
   "cell_type": "markdown",
   "metadata": {
    "slideshow": {
     "slide_type": "fragment"
    }
   },
   "source": [
    "Because this is a raw string, Python considers the backslash as part of the `string` and not as the start of an escape character. "
   ]
  },
  {
   "cell_type": "markdown",
   "metadata": {
    "slideshow": {
     "slide_type": "fragment"
    }
   },
   "source": [
    "Raw strings are helpful if we are typing strings that contain many backslashes, such as the `strings` used for Windows file paths like `r'C:\\Users\\Al\\Desktop'`."
   ]
  },
  {
   "cell_type": "markdown",
   "metadata": {
    "slideshow": {
     "slide_type": "slide"
    }
   },
   "source": [
    "### Putting Strings Inside Other Strings"
   ]
  },
  {
   "cell_type": "markdown",
   "metadata": {
    "slideshow": {
     "slide_type": "subslide"
    }
   },
   "source": [
    "Putting `strings` inside other `strings` is a common operation in programming. So far, we've been using the `+` operator and string concatenation to do this:"
   ]
  },
  {
   "cell_type": "code",
   "execution_count": null,
   "metadata": {
    "slideshow": {
     "slide_type": "fragment"
    }
   },
   "outputs": [],
   "source": [
    "name = 'AI'\n",
    "age = 33\n",
    "language = 'Python'\n",
    "print(\"Hey! I'm \" + name + \", \" + str(age)+ \" old and I love \" + language + \" Programing\")"
   ]
  },
  {
   "cell_type": "markdown",
   "metadata": {
    "slideshow": {
     "slide_type": "fragment"
    }
   },
   "source": [
    "However, this requires a lot of tedious typing. A simpler approach is to use ***string interpolation***. The format operator, `%` allows us to construct `strings`, replacing parts of the `strings` with the data stored in variables. "
   ]
  },
  {
   "cell_type": "markdown",
   "metadata": {
    "slideshow": {
     "slide_type": "skip"
    }
   },
   "source": [
    "> **When applied to integers, `%` is the modulus operator. But when the first operand is a `string`, `%` is the format operator.**"
   ]
  },
  {
   "cell_type": "markdown",
   "metadata": {
    "id": "HoP5PNW-9Jk_",
    "slideshow": {
     "slide_type": "subslide"
    }
   },
   "source": [
    "The first operand is the ***format string***, which contains one or more ***format specifiers*** that specify how the second operand is formatted. The result is again a `string`. "
   ]
  },
  {
   "cell_type": "markdown",
   "metadata": {
    "slideshow": {
     "slide_type": "fragment"
    }
   },
   "source": [
    "For example, the format specifiers `%d` means that the second operand should be formatted as an integer (\"d\" stands for \"decimal\"):"
   ]
  },
  {
   "cell_type": "markdown",
   "metadata": {
    "slideshow": {
     "slide_type": "fragment"
    }
   },
   "source": [
    "<center><img src=\"https://raw.githubusercontent.com/phonchi/nsysu-math106A/refs/heads/main/extra/Figures/string_format.webp\"></center>\n",
    "<div align=\"center\"> source: https://towardsdatascience.com/python-string-interpolation-829e14e1fc75 </div>"
   ]
  },
  {
   "cell_type": "code",
   "execution_count": null,
   "metadata": {
    "id": "XUVfczP09OJR",
    "slideshow": {
     "slide_type": "fragment"
    }
   },
   "outputs": [],
   "source": [
    "print(\"\\nHey! I'm %s, %d years old and I love %s Programing\"%(name,age,language))   # Like the printf in C"
   ]
  },
  {
   "cell_type": "markdown",
   "metadata": {
    "slideshow": {
     "slide_type": "skip"
    }
   },
   "source": [
    "> One benefit is that `str()` doesn't have to be called to convert values to `strings`"
   ]
  },
  {
   "cell_type": "markdown",
   "metadata": {
    "slideshow": {
     "slide_type": "subslide"
    }
   },
   "source": [
    "We can have more control over the formatting, for instance:"
   ]
  },
  {
   "cell_type": "markdown",
   "metadata": {
    "slideshow": {
     "slide_type": "fragment"
    }
   },
   "source": [
    "<center><img src=\"https://raw.githubusercontent.com/phonchi/nsysu-math106A/refs/heads/main/extra/Figures/format_spec.png\" width=\"50%\"></center>\n",
    "<div align=\"center\"> source: https://refactored.ai/microcourse/notebook?path=content%2F02-Python_for_Data_Scientists%2F03-Data_Structures_in_python%2F01-Basic_data_types_and_operators.ipynb </div>"
   ]
  },
  {
   "cell_type": "code",
   "execution_count": null,
   "metadata": {
    "slideshow": {
     "slide_type": "subslide"
    }
   },
   "outputs": [],
   "source": [
    "a = 32\n",
    "b = 32.145\n",
    "print('a=%4d, b=%6.2f' % (a,b))"
   ]
  },
  {
   "cell_type": "code",
   "execution_count": null,
   "metadata": {
    "slideshow": {
     "slide_type": "fragment"
    }
   },
   "outputs": [],
   "source": [
    "a = 32\n",
    "b = 32.145\n",
    "print(f'a={a:4d}, b={b:6.2f}')"
   ]
  },
  {
   "cell_type": "markdown",
   "metadata": {
    "slideshow": {
     "slide_type": "skip"
    }
   },
   "source": [
    "> By default, Python right-aligns numbers and left-aligns other values such as strings. The numbers after `%` is the total field width and the field width for the decimal part (separated by `.`). For values with fewer characters than the field width, the remaining character positions are filled with spaces. The `%f` is used to format floating points and note that variable `b` has been rounded."
   ]
  },
  {
   "cell_type": "markdown",
   "metadata": {
    "id": "JQilFDZB9dPP",
    "slideshow": {
     "slide_type": "subslide"
    }
   },
   "source": [
    "Python 3.6 introduced ***f-strings*** (The `f` is for format), which is similar to string interpolation except that braces are used instead of `%`, with the variables or expressions placed directly inside the braces."
   ]
  },
  {
   "cell_type": "markdown",
   "metadata": {
    "slideshow": {
     "slide_type": "fragment"
    }
   },
   "source": [
    "Like raw strings, f-strings have an `f` prefix before the starting quotation mark. "
   ]
  },
  {
   "cell_type": "code",
   "execution_count": null,
   "metadata": {
    "id": "qgfevIe19eHx",
    "slideshow": {
     "slide_type": "fragment"
    }
   },
   "outputs": [],
   "source": [
    "print(f\"\\nHey! I'm {name}, {age+2} years old and I love {language} Programing\") "
   ]
  },
  {
   "cell_type": "markdown",
   "metadata": {
    "slideshow": {
     "slide_type": "skip"
    }
   },
   "source": [
    "> Note that it is even possible to do inline arithmetic"
   ]
  },
  {
   "cell_type": "markdown",
   "metadata": {
    "slideshow": {
     "slide_type": "subslide"
    }
   },
   "source": [
    "We can have more control with the f-string besides the field width, like specifying left, right and center alignment with `<`, `>` and `^`. Note now the format specifiers are placed after the variable separated by a colon:"
   ]
  },
  {
   "cell_type": "code",
   "execution_count": null,
   "metadata": {
    "slideshow": {
     "slide_type": "fragment"
    }
   },
   "outputs": [],
   "source": [
    "print(f'[{a:<15d}]') # a = 32, b = 32.145\n",
    "print(f'[{b:^9.2f}]')"
   ]
  },
  {
   "cell_type": "markdown",
   "metadata": {
    "slideshow": {
     "slide_type": "fragment"
    }
   },
   "source": [
    "In addition, we can use `+` before the field width specifies that a positive number should be preceded by a `+`. A negative number always starts with a `-`.  To fill the remaining characters of the field with 0s rather than spaces, place a `0` before the field width (and after the `+` if there is one):"
   ]
  },
  {
   "cell_type": "code",
   "execution_count": null,
   "metadata": {
    "slideshow": {
     "slide_type": "fragment"
    }
   },
   "outputs": [],
   "source": [
    "print(f'[{a:+10d}]')\n",
    "print(f'[{a:+010d}]')"
   ]
  },
  {
   "cell_type": "markdown",
   "metadata": {
    "slideshow": {
     "slide_type": "skip"
    }
   },
   "source": [
    "See https://docs.python.org/3/library/string.html#formatspec for more details."
   ]
  },
  {
   "cell_type": "markdown",
   "metadata": {
    "slideshow": {
     "slide_type": "skip"
    }
   },
   "source": [
    "> Yet another is the `format()` method, see https://realpython.com/python-string-formatting/#toc for more details."
   ]
  },
  {
   "cell_type": "code",
   "execution_count": null,
   "metadata": {
    "slideshow": {
     "slide_type": "subslide"
    }
   },
   "outputs": [],
   "source": [
    "display_quiz(path+\"string2.json\", max_width=800)"
   ]
  },
  {
   "cell_type": "markdown",
   "metadata": {
    "slideshow": {
     "slide_type": "subslide"
    }
   },
   "source": [
    "### Exercise 2: Assuming we are designing a word game called \"The Mysterious Island\" and we need to print the statistics of the player each time the game begins. Try to complete the following function that receives the variables from the game and displays the information that right aligns with each other using the f-string:\n",
    "\n",
    "```\n",
    "Player1 Stats:\n",
    "Health:           100/100\n",
    "Gold:               0/150\n",
    "Experience:   50.00/60.00\n",
    "\n",
    "\n",
    "Player2 Stats:\n",
    "Health:            60/100\n",
    "Gold:             120/150\n",
    "Experience:   40.00/60.00\n",
    "```\n",
    "\n",
    "Hint: The maximal width required for each row is 25."
   ]
  },
  {
   "cell_type": "markdown",
   "metadata": {
    "slideshow": {
     "slide_type": "skip"
    }
   },
   "source": [
    "<center><img src=\"https://raw.githubusercontent.com/phonchi/nsysu-math106A/refs/heads/main/extra/Figures/Leonardo_game.jpg\" width=40%></center>"
   ]
  },
  {
   "cell_type": "code",
   "execution_count": null,
   "metadata": {
    "slideshow": {
     "slide_type": "subslide"
    }
   },
   "outputs": [],
   "source": [
    "def print_stats(player_name, health, experience, gold):\n",
    "    print(f\"{player_name} Stats:\")\n",
    "    print(f\"Health:{____:____}/100\")\n",
    "    print(f\"Gold:{____:____}/150\")\n",
    "    print(f\"Experience:{____:____}/60.00\")"
   ]
  },
  {
   "cell_type": "code",
   "execution_count": null,
   "metadata": {
    "slideshow": {
     "slide_type": "subslide"
    }
   },
   "outputs": [],
   "source": [
    "game_title = \"The Mysterious Island\"\n",
    "\n",
    "welcome_message = f'Welcome to \"{game_title}\" adventure!\\n\\n'\n",
    "# 1. Print the welcome_message\n",
    "print(welcome_message)\n",
    "\n",
    "# 2. Use string and number formatting to print out the statistics\n",
    "player_name = \"Player1\"\n",
    "health = 100\n",
    "gold = 0\n",
    "experience = 50.000\n",
    "\n",
    "print_stats(player_name, health, experience, gold)\n",
    "\n",
    "print(\"\\n\")\n",
    "\n",
    "player_name = \"Player2\"\n",
    "health = 60\n",
    "gold = 120\n",
    "experience = 40.0\n",
    "\n",
    "print_stats(player_name, health, experience, gold)"
   ]
  },
  {
   "cell_type": "markdown",
   "metadata": {
    "id": "DPpfFEA07W0A",
    "slideshow": {
     "slide_type": "slide"
    }
   },
   "source": [
    "## String method"
   ]
  },
  {
   "cell_type": "markdown",
   "metadata": {
    "id": "zFPpUx5w7al_",
    "slideshow": {
     "slide_type": "subslide"
    }
   },
   "source": [
    "`Strings` are an example of Python ***objects***. An object contains both data (the actual `string` itself) and methods, which are effective functions that are built into the object and are available to any instance of the object."
   ]
  },
  {
   "cell_type": "markdown",
   "metadata": {
    "id": "894SyVBC7fbO",
    "slideshow": {
     "slide_type": "fragment"
    }
   },
   "source": [
    "Python has a function called `dir()`, which lists the methods available for an object. "
   ]
  },
  {
   "cell_type": "code",
   "execution_count": null,
   "metadata": {
    "id": "hfQPXKNF7ZzM",
    "slideshow": {
     "slide_type": "fragment"
    }
   },
   "outputs": [],
   "source": [
    "print(dir(s))"
   ]
  },
  {
   "cell_type": "markdown",
   "metadata": {
    "id": "BtXyvNIT7ncg",
    "slideshow": {
     "slide_type": "skip"
    }
   },
   "source": [
    "> While the `dir()` function lists the methods, and you can use `help()` to get some simple documentation on a method, a better source of documentation for `string` methods would be https://docs.python.org/library/stdtypes.html#string-methods."
   ]
  },
  {
   "cell_type": "markdown",
   "metadata": {
    "slideshow": {
     "slide_type": "slide"
    }
   },
   "source": [
    "#### The `upper()`, `lower()` Methods"
   ]
  },
  {
   "cell_type": "markdown",
   "metadata": {
    "slideshow": {
     "slide_type": "subslide"
    }
   },
   "source": [
    "The `upper()` and `lower()` string methods return a **new `string`** where all the letters in the original `string` have been converted to uppercase or lowercase:"
   ]
  },
  {
   "cell_type": "code",
   "execution_count": null,
   "metadata": {
    "slideshow": {
     "slide_type": "fragment"
    }
   },
   "outputs": [],
   "source": [
    "spam = 'Hello, world!'\n",
    "spam = spam.upper()\n",
    "print(spam)\n",
    "spam = spam.lower()\n",
    "print(spam)"
   ]
  },
  {
   "cell_type": "markdown",
   "metadata": {
    "slideshow": {
     "slide_type": "fragment"
    }
   },
   "source": [
    "Note that these methods do not change the `string` itself but return new `string` values. If we want to change the original `string`, we have to call `upper()` or `lower()` on the string and then assign the new string to the variable where the original was stored!"
   ]
  },
  {
   "cell_type": "markdown",
   "metadata": {
    "slideshow": {
     "slide_type": "fragment"
    }
   },
   "source": [
    "This is why we must use `spam = spam.upper()` to change the string in spam instead of simply `spam.upper()`."
   ]
  },
  {
   "cell_type": "markdown",
   "metadata": {
    "slideshow": {
     "slide_type": "skip"
    }
   },
   "source": [
    "> This is just like if a variable `eggs` contains the value 10. Writing `eggs + 3` does not change the value of `eggs`, but `eggs = eggs + 3` does.). These data types are immutable and can not be modified in-place."
   ]
  },
  {
   "cell_type": "markdown",
   "metadata": {
    "slideshow": {
     "slide_type": "subslide"
    }
   },
   "source": [
    "The `upper()` and `lower()` methods are helpful if we need **to make a case-insensitive comparison**. For example, the strings `'great'` and `'GREat'` are not equal to each other. But in the following small program, it does not matter whether the user types `Great`, `GREAT`, or `grEAT`, because the `string` is first converted to lowercase."
   ]
  },
  {
   "cell_type": "code",
   "execution_count": null,
   "metadata": {
    "slideshow": {
     "slide_type": "fragment"
    }
   },
   "outputs": [],
   "source": [
    "print('How are you?')\n",
    "feeling = input()\n",
    "if feeling.lower() == 'great':\n",
    "    print('I feel great too.')\n",
    "else:\n",
    "    print('I hope the rest of your day is good.')"
   ]
  },
  {
   "cell_type": "code",
   "execution_count": null,
   "metadata": {
    "slideshow": {
     "slide_type": "subslide"
    }
   },
   "outputs": [],
   "source": [
    "display_quiz(path+\"string3.json\", max_width=800)"
   ]
  },
  {
   "cell_type": "markdown",
   "metadata": {
    "slideshow": {
     "slide_type": "slide"
    }
   },
   "source": [
    "#### The `isX()` Methods"
   ]
  },
  {
   "cell_type": "markdown",
   "metadata": {
    "slideshow": {
     "slide_type": "subslide"
    }
   },
   "source": [
    "There are several other `string` methods that have names beginning with the word `is`. These methods return a Boolean value that describes the nature of the `string`. Here are some common `isX()` string methods:"
   ]
  },
  {
   "cell_type": "markdown",
   "metadata": {
    "slideshow": {
     "slide_type": "fragment"
    }
   },
   "source": [
    "- `isupper()/islower()` Returns `True` if the string has at least one letter and all the letters are uppercase or lowercase\n",
    "\n",
    "- `isalpha()` Returns `True` if the string consists only of letters and isn't blank\n",
    "\n",
    "- `isalnum()` Returns `True` if the string consists only of letters and numbers and is not blank\n",
    "\n",
    "- `isdecimal()` Returns `True` if the string consists only of numeric characters and is not blank\n",
    "\n",
    "- `isspace()` Returns `True` if the string consists only of spaces, tabs, and newlines and is not blank\n",
    "\n",
    "- `istitle()` Returns `True` if the string consists only of words that begin with an uppercase letter followed by only lowercase letters and is not blank"
   ]
  },
  {
   "cell_type": "code",
   "execution_count": null,
   "metadata": {
    "slideshow": {
     "slide_type": "subslide"
    }
   },
   "outputs": [],
   "source": [
    "print('Hello, world!'.islower()) \n",
    "print('hello, world!'.islower())\n",
    "print('hello'.isalpha())\n",
    "print('hello123'.isalnum())\n",
    "print('hello123'.isdecimal())\n",
    "print(' '.isspace())\n",
    "print('This Is Title Case'.istitle())"
   ]
  },
  {
   "cell_type": "markdown",
   "metadata": {
    "slideshow": {
     "slide_type": "subslide"
    }
   },
   "source": [
    "The `isX()` string methods are helpful when you need to validate user input. For example, the following program repeatedly asks users for their `age` and a `password` until they provide valid input:"
   ]
  },
  {
   "cell_type": "code",
   "execution_count": null,
   "metadata": {
    "slideshow": {
     "slide_type": "fragment"
    }
   },
   "outputs": [],
   "source": [
    "while True:\n",
    "    print('Enter your age:')\n",
    "    age = input()\n",
    "    if age.isdecimal():\n",
    "        break\n",
    "    print('Please enter a number for your age.')\n",
    "\n",
    "while True:\n",
    "    print('Select a new password (letters and numbers only):')\n",
    "    password = input()\n",
    "    if password.isalnum():\n",
    "        break\n",
    "    print('Passwords can only have letters and numbers.')"
   ]
  },
  {
   "cell_type": "markdown",
   "metadata": {
    "slideshow": {
     "slide_type": "skip"
    }
   },
   "source": [
    "> In the first while loop, we ask the user for their age and store their input in `age`. If `age` is a valid (decimal) value, we break out of this first while loop and move on to the second, which asks for a `password`. Otherwise, we inform the user that they need to enter a number and again ask them to enter their `age`. In the second while loop, we ask for a `password`, store the user's input in `password`, and break out of the loop if the input is alpha­numeric. If it wasn't, we're not satisfied, so we tell the user the `password` needs to be alphanumeric and again ask them to enter a password."
   ]
  },
  {
   "cell_type": "code",
   "execution_count": null,
   "metadata": {
    "slideshow": {
     "slide_type": "subslide"
    }
   },
   "outputs": [],
   "source": [
    "display_quiz(path+\"string4.json\", max_width=800)"
   ]
  },
  {
   "cell_type": "markdown",
   "metadata": {
    "slideshow": {
     "slide_type": "skip"
    }
   },
   "source": [
    "#### The `startswith()` and `endswith()` Methods (Optional)"
   ]
  },
  {
   "cell_type": "markdown",
   "metadata": {
    "slideshow": {
     "slide_type": "skip"
    }
   },
   "source": [
    "The `startswith()` and `endswith()` methods return `True` if the `string` they are called on begins or ends (respectively) with the `string` passed to the method; otherwise, they return `False`:"
   ]
  },
  {
   "cell_type": "code",
   "execution_count": null,
   "metadata": {
    "slideshow": {
     "slide_type": "skip"
    }
   },
   "outputs": [],
   "source": [
    "print('Hello, world!'.startswith('Hello'))\n",
    "print('abc123'.endswith('12'))"
   ]
  },
  {
   "cell_type": "markdown",
   "metadata": {
    "slideshow": {
     "slide_type": "slide"
    }
   },
   "source": [
    "#### The `replace()` methods"
   ]
  },
  {
   "cell_type": "markdown",
   "metadata": {
    "id": "M-PIrdKX-Kz_",
    "slideshow": {
     "slide_type": "subslide"
    }
   },
   "source": [
    "The `replace()` function is like a \"search and replace\" operation in a word processor:"
   ]
  },
  {
   "cell_type": "code",
   "execution_count": null,
   "metadata": {
    "id": "GOiICZMo-Mn-",
    "slideshow": {
     "slide_type": "fragment"
    }
   },
   "outputs": [],
   "source": [
    "greet = 'Hello Bob'\n",
    "nstr = greet.replace('Bob','Jane')\n",
    "print(nstr)"
   ]
  },
  {
   "cell_type": "markdown",
   "metadata": {
    "slideshow": {
     "slide_type": "slide"
    }
   },
   "source": [
    "#### The `join()` and `split()` Methods"
   ]
  },
  {
   "cell_type": "markdown",
   "metadata": {
    "slideshow": {
     "slide_type": "subslide"
    }
   },
   "source": [
    "The `join()` method is useful when we have a list of strings that need to be joined together into a single `string`. The `join()` method is called on a `string`, gets passed a list of strings, and returns a `string`. The returned `string` is the concatenation of each `string` in the passed-in list. "
   ]
  },
  {
   "cell_type": "code",
   "execution_count": null,
   "metadata": {
    "slideshow": {
     "slide_type": "fragment"
    }
   },
   "outputs": [],
   "source": [
    "print(', '.join(['cats', 'rats', 'bats']))     #Separated by comma\n",
    "print(' '.join(['My', 'name', 'is', 'Simon'])) #Separated by white space"
   ]
  },
  {
   "cell_type": "code",
   "execution_count": null,
   "metadata": {
    "slideshow": {
     "slide_type": "fragment"
    }
   },
   "outputs": [],
   "source": [
    "' and '.join(['cats', 'rats', 'bats'])"
   ]
  },
  {
   "cell_type": "markdown",
   "metadata": {
    "slideshow": {
     "slide_type": "fragment"
    }
   },
   "source": [
    "Notice that the string `join()` calls on is inserted between each string of the list argument. For example, when `join(['cats', 'rats', 'bats'])` is called on the `', '` string, the returned string is `'cats, rats, bats'`."
   ]
  },
  {
   "cell_type": "markdown",
   "metadata": {
    "slideshow": {
     "slide_type": "subslide"
    }
   },
   "source": [
    "The `split()` method does the opposite: It's called on a string and returns a list of strings."
   ]
  },
  {
   "cell_type": "code",
   "execution_count": null,
   "metadata": {
    "slideshow": {
     "slide_type": "fragment"
    }
   },
   "outputs": [],
   "source": [
    "'My name is Simon'.split()"
   ]
  },
  {
   "cell_type": "markdown",
   "metadata": {
    "slideshow": {
     "slide_type": "fragment"
    }
   },
   "source": [
    "By default, the `string` 'My name is Simon' is split wherever whitespace characters such as the space, tab, or newline characters are found. These whitespace characters are not included in the strings in the returned list."
   ]
  },
  {
   "cell_type": "markdown",
   "metadata": {
    "slideshow": {
     "slide_type": "fragment"
    }
   },
   "source": [
    "You can pass a delimiter string to the `split()` method to specify a different string to split upon:"
   ]
  },
  {
   "cell_type": "code",
   "execution_count": null,
   "metadata": {
    "slideshow": {
     "slide_type": "fragment"
    }
   },
   "outputs": [],
   "source": [
    "'cats, rats, bats'.split(',')"
   ]
  },
  {
   "cell_type": "markdown",
   "metadata": {
    "slideshow": {
     "slide_type": "subslide"
    }
   },
   "source": [
    "A common use of `split()` is to split a multiline string along the newline characters:"
   ]
  },
  {
   "cell_type": "code",
   "execution_count": null,
   "metadata": {
    "slideshow": {
     "slide_type": "fragment"
    }
   },
   "outputs": [],
   "source": [
    "spam = '''Dear Alice,\n",
    "How have you been? I am fine.\n",
    "There is a container in the fridge\n",
    "that is labeled \"Milk Experiment.\"\n",
    "\n",
    "Please do not drink it.\n",
    "Sincerely,\n",
    "Bob'''\n",
    "\n",
    "spam.split('\\n')"
   ]
  },
  {
   "cell_type": "markdown",
   "metadata": {
    "slideshow": {
     "slide_type": "fragment"
    }
   },
   "source": [
    "Passing `split()` the argument `'\\n'` lets us split the multiline string stored in `spam` along the newlines and return a list in which each item corresponds to one line of the `string`."
   ]
  },
  {
   "cell_type": "markdown",
   "metadata": {
    "slideshow": {
     "slide_type": "slide"
    }
   },
   "source": [
    "#### Removing Whitespace with the `strip()`, `lstrip()` and `rstrip()` Methods"
   ]
  },
  {
   "cell_type": "markdown",
   "metadata": {
    "slideshow": {
     "slide_type": "subslide"
    }
   },
   "source": [
    "Sometimes you may want to strip off whitespace characters (space, tab, and newline) from the left side, right side, or both sides of a string. The `strip()` string method will return a new string without any whitespace characters at the beginning or end. The `lstrip()` and `rstrip()` methods will remove whitespace characters from the left and right ends, respectively."
   ]
  },
  {
   "cell_type": "code",
   "execution_count": null,
   "metadata": {
    "id": "klCtkrIZIgB3",
    "slideshow": {
     "slide_type": "fragment"
    }
   },
   "outputs": [],
   "source": [
    "spam = '    Hello, World    \\n'\n",
    "spam.strip()"
   ]
  },
  {
   "cell_type": "code",
   "execution_count": null,
   "metadata": {
    "slideshow": {
     "slide_type": "fragment"
    }
   },
   "outputs": [],
   "source": [
    "spam.lstrip()"
   ]
  },
  {
   "cell_type": "code",
   "execution_count": null,
   "metadata": {
    "slideshow": {
     "slide_type": "fragment"
    }
   },
   "outputs": [],
   "source": [
    "spam.rstrip()"
   ]
  },
  {
   "cell_type": "markdown",
   "metadata": {
    "slideshow": {
     "slide_type": "subslide"
    }
   },
   "source": [
    "### Exercise 3: When editing the markdown document, you can create a bulleted list by putting each list item on its own line and placing a `-` in front. But say you have a really large list to which you want to add bullet points. You could just type those `-` at the beginning of each line, one by one. Or you could automate this task with a short Python program! For example, if I have following text:\n",
    "\n",
    "```\n",
    "Lists of resources\n",
    "Lists of books\n",
    "Lists of videos\n",
    "Lists of blogs\n",
    "```\n",
    "\n",
    "After running the program, the text should contain the following:\n",
    "\n",
    "```\n",
    "- Lists of resources\n",
    "- Lists of books\n",
    "- Lists of videos\n",
    "- Lists of blogs\n",
    "```"
   ]
  },
  {
   "cell_type": "markdown",
   "metadata": {
    "slideshow": {
     "slide_type": "skip"
    }
   },
   "source": [
    "<center><img src=\"https://raw.githubusercontent.com/phonchi/nsysu-math106A/refs/heads/main/extra/Figures/Leonardo_paper.jpg\" width=40%></center>"
   ]
  },
  {
   "cell_type": "code",
   "execution_count": null,
   "metadata": {
    "slideshow": {
     "slide_type": "subslide"
    }
   },
   "outputs": [],
   "source": [
    "text = \"\"\"Lists of resources\n",
    "Lists of books\n",
    "Lists of videos\n",
    "Lists of blogs\"\"\"\n",
    "\n",
    "# 1. Separate lines into list using string method.\n",
    "lines = text.______(\"\\n\")\n",
    "\n",
    "# 2. Add -\n",
    "for i, line in enumerate(lines):    # loop through all indexes for \"lines\" list\n",
    "    lines[i] = _______             # add - to each string in \"lines\" list\n",
    "\n",
    "# 3. Use string method to conctenate list of strings back to string\n",
    "text = \"\\n\"._______(lines)\n",
    "print(text)"
   ]
  },
  {
   "cell_type": "markdown",
   "metadata": {
    "slideshow": {
     "slide_type": "skip"
    }
   },
   "source": [
    "> Text is a common form of data, and Python comes with many helpful string methods to process the text stored in `string`. You will make use of indexing, slicing, and string methods in almost every Python program you write. The programs you are writing now don’t seem too sophisticated—they don’t have graphical user interfaces with images and colorful text. So far, you’re displaying text with `print()` and letting the user enter text with `input()`. However, another way to manipulate large amounts of text is by reading and writing files directly off the hard drive. You’ll learn how to do this with Python later on.\n",
    "\n",
    "> That just about covers all the basic concepts of Python programming! You'll continue to learn new concepts throughout the rest of this course, but you now know enough to start writing some useful programs that can automate tasks. If you’d like to see a collection of short, simple Python programs built from the basic concepts you’ve learned so far, check out https://github.com/asweigart/pythonstdiogames/. Try copying the source code for each program by hand and then make modifications to see how they affect the behavior of the program. Once you have an understanding of how the program works, try re-creating the program yourself from scratch. You don’t need to re-create the source code exactly; just focus on what the program does rather than how it does it."
   ]
  },
  {
   "cell_type": "code",
   "execution_count": null,
   "metadata": {
    "slideshow": {
     "slide_type": "subslide"
    }
   },
   "outputs": [],
   "source": [
    "from jupytercards import display_flashcards\n",
    "fpath= \"https://raw.githubusercontent.com/phonchi/nsysu-math106A/refs/heads/main/extra/flashcards/\"\n",
    "display_flashcards(fpath + 'ch6.json')"
   ]
  },
  {
   "cell_type": "markdown",
   "metadata": {
    "slideshow": {
     "slide_type": "skip"
    }
   },
   "source": [
    "## Keywords"
   ]
  },
  {
   "cell_type": "markdown",
   "metadata": {
    "slideshow": {
     "slide_type": "skip"
    }
   },
   "source": [
    "- **string**: A sequence of characters used to represent text data.\n",
    "- **escape character**: A backslash (`\\`) used to introduce special character sequences in a string, such as `\\n` for newline.\n",
    "- **raw string**: A string prefixed with `r` that treats backslashes as literal characters rather than escape sequences.\n",
    "- **string interpolation**: The process of inserting variable values or expressions into a string placeholder.\n",
    "- **format string**: A string containing placeholders that can be replaced with variable values, often using the `%` symbol.\n",
    "- **format specifiers**: Special syntax within a format string that defines how a value should be formatted (e.g., `.2f` for two decimal places).\n",
    "- **f-string**: A string literal prefixed with `f` that allows inline expression evaluation and formatting directly within the string."
   ]
  }
 ],
 "metadata": {
  "celltoolbar": "Slideshow",
  "colab": {
   "collapsed_sections": [
    "SwFKFBMwRzoa",
    "n3ezAAdIsgpj",
    "gASYx5-Cxzyg",
    "2kLRVhae3rSa",
    "DPpfFEA07W0A",
    "uloOTsPL9A74",
    "MTJO4K049nuU",
    "3hD9uBt6AW9l",
    "IvviPig3At12",
    "HQK5zGP749m3",
    "7YVyJ-IgBZ7s",
    "L5VlI3VKg_dV",
    "wgqoOGqEiUre",
    "jscaE3K65HP9",
    "UMo588t4rY-O",
    "AGs4jgnSsZa1"
   ],
   "provenance": [],
   "toc_visible": true
  },
  "kernelspec": {
   "display_name": "Python 3 (ipykernel)",
   "language": "python",
   "name": "python3"
  },
  "language_info": {
   "codemirror_mode": {
    "name": "ipython",
    "version": 3
   },
   "file_extension": ".py",
   "mimetype": "text/x-python",
   "name": "python",
   "nbconvert_exporter": "python",
   "pygments_lexer": "ipython3",
   "version": "3.9.13"
  },
  "rise": {
   "chalkboard": {
    "color": [
     "rgb(250, 0, 0)",
     "rgb(250, 0, 0)"
    ]
   },
   "controls": false,
   "enable_chalkboard": true,
   "footer": "",
   "overlay": "<div class='myfooter'><h4>Manipulating String</h4></div>",
   "slideNumber": "true",
   "theme": "night"
  },
  "vscode": {
   "interpreter": {
    "hash": "1561eddc5e0c9c74df968f74d5080d02882967127f956e6e7049c43d2ef42321"
   }
  }
 },
 "nbformat": 4,
 "nbformat_minor": 1
}
