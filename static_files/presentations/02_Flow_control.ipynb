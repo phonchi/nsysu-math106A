{
 "cells": [
  {
   "cell_type": "markdown",
   "metadata": {
    "id": "11n5gndbRzoY",
    "slideshow": {
     "slide_type": "slide"
    }
   },
   "source": [
    "# Flow Control"
   ]
  },
  {
   "cell_type": "markdown",
   "metadata": {
    "slideshow": {
     "slide_type": "skip"
    }
   },
   "source": [
    "Execute the following two cells for the setup:"
   ]
  },
  {
   "cell_type": "code",
   "execution_count": null,
   "metadata": {
    "slideshow": {
     "slide_type": "skip"
    }
   },
   "outputs": [],
   "source": [
    "!pip install jupyterquiz \n",
    "!pip install jupytercards\n",
    "\n",
    "from IPython.display import display, Javascript\n",
    "display(Javascript('Jupyter.notebook.kernel.restart()'))"
   ]
  },
  {
   "cell_type": "code",
   "execution_count": null,
   "metadata": {
    "slideshow": {
     "slide_type": "skip"
    }
   },
   "outputs": [],
   "source": [
    "from jupyterquiz import display_quiz\n",
    "\n",
    "path=\"https://raw.githubusercontent.com/phonchi/nsysu-math106A/refs/heads/main/extra/questions/ch2/\""
   ]
  },
  {
   "cell_type": "markdown",
   "metadata": {
    "slideshow": {
     "slide_type": "subslide"
    }
   },
   "source": [
    "1. Introduction\n",
    "\n",
    "2. Elements of Flow Control\n",
    "\n",
    "3. Importing Modules"
   ]
  },
  {
   "cell_type": "markdown",
   "metadata": {
    "id": "AIFsv_RZ1iV0",
    "slideshow": {
     "slide_type": "skip"
    }
   },
   "source": [
    "<table align=\"left\">\n",
    "  <td>\n",
    "    <a href=\"https://colab.research.google.com/github/phonchi/nsysu-math106A/blob/master/static_files/presentations/02_Flow_control.ipynb\" target=\"_parent\"><img src=\"https://colab.research.google.com/assets/colab-badge.svg\" alt=\"Open In Colab\"/></a>\n",
    "  </td>\n",
    "  <td>\n",
    "    <a target=\"_blank\" href=\"https://kaggle.com/kernels/welcome?src=https://github.com/phonchi/nsysu-math106A/blob/master/static_files/presentations/02_Flow_control.ipynb\"><img src=\"https://kaggle.com/static/images/open-in-kaggle.svg\" /></a>\n",
    "  </td>\n",
    "</table>"
   ]
  },
  {
   "cell_type": "markdown",
   "metadata": {
    "id": "SwFKFBMwRzoa",
    "slideshow": {
     "slide_type": "slide"
    }
   },
   "source": [
    "## Introduction"
   ]
  },
  {
   "cell_type": "markdown",
   "metadata": {
    "id": "Ss9hRGHDRzob",
    "slideshow": {
     "slide_type": "subslide"
    }
   },
   "source": [
    "Last week, we learned the basics of individual instructions and that a program is just a series of instructions. But programming's real strength isn't just running one instruction after another! "
   ]
  },
  {
   "cell_type": "markdown",
   "metadata": {
    "slideshow": {
     "slide_type": "fragment"
    }
   },
   "source": [
    "A program can decide to skip instructions, repeat them, or choose one of several instructions to run! ***Flow control statements*** can decide which Python instructions to execute under which conditions."
   ]
  },
  {
   "cell_type": "markdown",
   "metadata": {
    "slideshow": {
     "slide_type": "fragment"
    }
   },
   "source": [
    "These flow control statements directly correspond to the symbols in a flowchart!"
   ]
  },
  {
   "cell_type": "markdown",
   "metadata": {
    "slideshow": {
     "slide_type": "skip"
    }
   },
   "source": [
    "> A flowchart usually has more than one way to go from the start to the end. Flowcharts represent these branching points with diamonds, while the other steps (states) are represented with rectangles. The starting and ending steps are represented with rounded rectangles."
   ]
  },
  {
   "cell_type": "markdown",
   "metadata": {
    "slideshow": {
     "slide_type": "subslide"
    }
   },
   "source": [
    "<center><img src=\"https://raw.githubusercontent.com/phonchi/nsysu-math106A/refs/heads/main/extra/Figures/000039.jpg\" width=\"35%\"></center>\n",
    "<div align=\"center\"> source: https://automatetheboringstuff.com/2e/chapter2/ </div>"
   ]
  },
  {
   "cell_type": "markdown",
   "metadata": {
    "slideshow": {
     "slide_type": "fragment"
    }
   },
   "source": [
    "But before you learn about flow control statements, you first need to learn how to represent those **yes** and **no** options and understand how to write those branching points as Python code. To that end, <u>let’s explore Boolean values, comparison operators, and Boolean operators</u>."
   ]
  },
  {
   "cell_type": "markdown",
   "metadata": {
    "id": "WjPuxQq1sA-3",
    "slideshow": {
     "slide_type": "slide"
    }
   },
   "source": [
    "### Boolean expressions"
   ]
  },
  {
   "cell_type": "markdown",
   "metadata": {
    "id": "TVuZi_rfsC9u",
    "slideshow": {
     "slide_type": "subslide"
    }
   },
   "source": [
    "A ***boolean expression*** is an expression that is either True or False. The following examples use the operator `==`, which compares two operands and produces `True` if they are equal and `False` otherwise:"
   ]
  },
  {
   "cell_type": "code",
   "execution_count": null,
   "metadata": {
    "colab": {
     "base_uri": "https://localhost:8080/"
    },
    "executionInfo": {
     "elapsed": 268,
     "status": "ok",
     "timestamp": 1665656455180,
     "user": {
      "displayName": "phonchi chung",
      "userId": "13517391734500420886"
     },
     "user_tz": -480
    },
    "id": "QYptoP__sAbn",
    "outputId": "509e26a1-7d5a-45c8-fd10-e7fa4ce694ec",
    "slideshow": {
     "slide_type": "fragment"
    }
   },
   "outputs": [],
   "source": [
    "print(5 == 5)\n",
    "print(5 == 6)"
   ]
  },
  {
   "cell_type": "markdown",
   "metadata": {
    "id": "cc7LkxgesPQf",
    "slideshow": {
     "slide_type": "fragment"
    }
   },
   "source": [
    "`True` and `False` are special values that belong to the class `bool` which are ***Boolean values***; they are not strings:"
   ]
  },
  {
   "cell_type": "code",
   "execution_count": null,
   "metadata": {
    "colab": {
     "base_uri": "https://localhost:8080/"
    },
    "executionInfo": {
     "elapsed": 3,
     "status": "ok",
     "timestamp": 1665656388598,
     "user": {
      "displayName": "phonchi chung",
      "userId": "13517391734500420886"
     },
     "user_tz": -480
    },
    "id": "9eio5IH1sRe_",
    "outputId": "10691270-f0b2-4cac-c7a1-b0e286eedbd0",
    "slideshow": {
     "slide_type": "fragment"
    }
   },
   "outputs": [],
   "source": [
    "type(True), type(False)"
   ]
  },
  {
   "cell_type": "markdown",
   "metadata": {
    "slideshow": {
     "slide_type": "subslide"
    }
   },
   "source": [
    "The `==` operator is one of the ***comparison operators*** or relational operators; the others are:"
   ]
  },
  {
   "cell_type": "markdown",
   "metadata": {
    "id": "DoBusgVgs4sP",
    "slideshow": {
     "slide_type": "fragment"
    }
   },
   "source": [
    "|            | Meaning                         |\n",
    "|------------|---------------------------------|\n",
    "| x != y     | x is not equal to y             |\n",
    "| x > y      | x is greater than y             |\n",
    "| x < y      | x is less than y                |\n",
    "| x >= y     | x is greater than or equal to y |\n",
    "| x <= y     | x is less than or equal to y    |\n",
    "| x is y     | x is the same as y              |\n",
    "| x is not y | x is not the same as y          |"
   ]
  },
  {
   "cell_type": "markdown",
   "metadata": {
    "slideshow": {
     "slide_type": "skip"
    }
   },
   "source": [
    "> 👨‍⚕️ The `Python` symbols are different from the mathematical symbols for the same operations. A common error is to use a single equal sign `=` instead of a double equal sign `==`. Remember that `=` is used in the assignment statement and `==` is a comparison operator. There is no such thing as `=<` or `=>`.\n",
    "\n",
    "> Note `is` (Identity Operator) will checks whether two variables refer to the exact same object in memory. `==` (Equality Operator): Compares the values of two objects to see if they are equal."
   ]
  },
  {
   "cell_type": "markdown",
   "metadata": {
    "slideshow": {
     "slide_type": "subslide"
    }
   },
   "source": [
    "These operators evaluate to `True` or `False` depending on the values you give them and, therefore, can be used in the decision point as a condition statement."
   ]
  },
  {
   "cell_type": "code",
   "execution_count": null,
   "metadata": {
    "slideshow": {
     "slide_type": "fragment"
    }
   },
   "outputs": [],
   "source": [
    "print(42==42)\n",
    "print(42==42.0)         # It will compare its value!\n",
    "print(42=='42')         # int/float are always different from string\n",
    "print(2!=3)\n",
    "print('hello'=='Hello') # Python is case sensitive\n",
    "print(42 < 100)\n",
    "print(42 >= 100)"
   ]
  },
  {
   "cell_type": "code",
   "execution_count": null,
   "metadata": {
    "slideshow": {
     "slide_type": "subslide"
    }
   },
   "outputs": [],
   "source": [
    "display_quiz(path+\"bool.json\", max_width=800)"
   ]
  },
  {
   "cell_type": "markdown",
   "metadata": {
    "id": "vk4VMOiLBn7L",
    "slideshow": {
     "slide_type": "slide"
    }
   },
   "source": [
    "### Boolean (Logical) Operators"
   ]
  },
  {
   "cell_type": "markdown",
   "metadata": {
    "slideshow": {
     "slide_type": "subslide"
    }
   },
   "source": [
    "The three ***Boolean operators*** (`and`, `or`, and `not`) are used to operate on Boolean values. Like comparison operators, they evaluate these expressions down to a Boolean value. Let’s explore these operators in detail."
   ]
  },
  {
   "cell_type": "markdown",
   "metadata": {
    "slideshow": {
     "slide_type": "fragment"
    }
   },
   "source": [
    "| Expression      | Evaluates to . . . |  \n",
    "|-----------------|--------------------|\n",
    "| True and True   | True               |\n",
    "| True and False  | False              |\n",
    "| False and True  | False              |\n",
    "| False and False | False              |"
   ]
  },
  {
   "cell_type": "markdown",
   "metadata": {
    "slideshow": {
     "slide_type": "subslide"
    }
   },
   "source": [
    "| Expression     | Evaluates to . . . |\n",
    "|----------------|--------------------|\n",
    "| True or True   | True               |\n",
    "| True or False  | True               |\n",
    "| False or True  | True               |\n",
    "| False or False | False              |"
   ]
  },
  {
   "cell_type": "markdown",
   "metadata": {
    "slideshow": {
     "slide_type": "fragment"
    }
   },
   "source": [
    "| Expression | Evaluates to . . . |\n",
    "|------------|--------------------|\n",
    "| not True   | False              |\n",
    "| not False  | True               |"
   ]
  },
  {
   "cell_type": "code",
   "execution_count": null,
   "metadata": {
    "slideshow": {
     "slide_type": "subslide"
    }
   },
   "outputs": [],
   "source": [
    "print((4 < 5) and (5 < 6))\n",
    "print((6 < 5) or (9 < 6))\n",
    "print((1 == 2) or (2 == 2))\n",
    "print(not (1==3) and (3==4))"
   ]
  },
  {
   "cell_type": "markdown",
   "metadata": {
    "slideshow": {
     "slide_type": "fragment"
    }
   },
   "source": [
    "The computer will evaluate the left expression first, and then it will evaluate the right expression."
   ]
  },
  {
   "cell_type": "markdown",
   "metadata": {
    "slideshow": {
     "slide_type": "fragment"
    }
   },
   "source": [
    "The Boolean operators have an order of operations just like the math operators do. After any math and comparison operators evaluate, Python evaluates the `not` operators first, then the `and` operators, and then the `or` operators."
   ]
  },
  {
   "cell_type": "markdown",
   "metadata": {
    "slideshow": {
     "slide_type": "subslide"
    }
   },
   "source": [
    "Arithmetic operators take precedence over logical operators. Python will always evaluate the arithmetic operators first. Next comes the relational operators. Finally, the logical operators are done last."
   ]
  },
  {
   "cell_type": "markdown",
   "metadata": {
    "slideshow": {
     "slide_type": "fragment"
    }
   },
   "source": [
    "| Level    | Category      | Operators           |\n",
    "|----------|---------------|---------------------|\n",
    "| 7 (high) | exponent      | **                  |\n",
    "| 6        | multiplication| *, /, //, %         |\n",
    "| 5        | addition      | +, -                |\n",
    "| 4        | relational    | ==, !=, <=, >=, >, <  |\n",
    "| 3        | logical       | not                 |\n",
    "| 2        | logical       | and                 |\n",
    "| 1 (low)  | logical       | or                  |\n"
   ]
  },
  {
   "cell_type": "code",
   "execution_count": null,
   "metadata": {
    "slideshow": {
     "slide_type": "subslide"
    }
   },
   "outputs": [],
   "source": [
    "display_quiz(path+\"logical.json\", max_width=800)"
   ]
  },
  {
   "cell_type": "markdown",
   "metadata": {
    "id": "_6ZotSZXEzN5",
    "slideshow": {
     "slide_type": "slide"
    }
   },
   "source": [
    "## Elements of Flow Control"
   ]
  },
  {
   "cell_type": "markdown",
   "metadata": {
    "slideshow": {
     "slide_type": "subslide"
    }
   },
   "source": [
    "It can be shown that all programs could be written using three forms of control—namely, ***sequential execution, the selection statement and the repetition statement***. This is the idea behind ***structured programming***."
   ]
  },
  {
   "cell_type": "markdown",
   "metadata": {
    "slideshow": {
     "slide_type": "fragment"
    }
   },
   "source": [
    "Flow control statements often start with a part called the ***condition*** and are always followed by a block of code called the ***clause*** or body. "
   ]
  },
  {
   "cell_type": "markdown",
   "metadata": {
    "slideshow": {
     "slide_type": "fragment"
    }
   },
   "source": [
    "The Boolean expressions you've seen so far could all be considered conditions, which are the same thing as expressions; the condition is just a more specific name in the context of flow control statements!"
   ]
  },
  {
   "cell_type": "markdown",
   "metadata": {
    "slideshow": {
     "slide_type": "skip"
    }
   },
   "source": [
    "> Conditions always evaluate down to a Boolean value, `True` or `False`. A flow control statement decides what to do based on whether its condition is `True` or `False`."
   ]
  },
  {
   "cell_type": "markdown",
   "metadata": {
    "slideshow": {
     "slide_type": "slide"
    }
   },
   "source": [
    "### Blocks of Code"
   ]
  },
  {
   "cell_type": "markdown",
   "metadata": {
    "slideshow": {
     "slide_type": "subslide"
    }
   },
   "source": [
    "Lines of Python code can be grouped together in ***blocks***. You can tell when a block begins and ends from the ***indentation*** of the lines of code. There are three rules for blocks.\n",
    "\n",
    "1. Blocks begin when the indentation increases."
   ]
  },
  {
   "cell_type": "markdown",
   "metadata": {
    "slideshow": {
     "slide_type": "fragment"
    }
   },
   "source": [
    "2. Blocks can contain other blocks.\n",
    "3. Blocks end when the indentation decreases to zero or to a containing block's indentation."
   ]
  },
  {
   "cell_type": "markdown",
   "metadata": {
    "slideshow": {
     "slide_type": "subslide"
    }
   },
   "source": [
    "Blocks are easier to understand by looking at some indented code, so let's find the blocks in part of a small game program, shown here:"
   ]
  },
  {
   "cell_type": "code",
   "execution_count": null,
   "metadata": {
    "slideshow": {
     "slide_type": "fragment"
    }
   },
   "outputs": [],
   "source": [
    "name = 'Mary'\n",
    "password = 'swordfish'\n",
    "if name == 'Mary':\n",
    "    print('Hello, Mary')\n",
    "    if password == 'swordfish':\n",
    "        print('Access granted.')\n",
    "    else:\n",
    "        print('Wrong password.')"
   ]
  },
  {
   "cell_type": "markdown",
   "metadata": {
    "slideshow": {
     "slide_type": "fragment"
    }
   },
   "source": [
    "You can view the execution of this program at https://autbor.com/blocks/. The first block of code starts at the line `print('Hello, Mary')` and contains all the lines after it. Inside this block is another block, which has only a single line in it: `print('Access Granted.')`. The third block is also one line long: `print('Wrong password.')`."
   ]
  },
  {
   "cell_type": "markdown",
   "metadata": {
    "slideshow": {
     "slide_type": "subslide"
    }
   },
   "source": [
    "An `IndentationError` occurs if you have more than one statement in a block and those statements do not have the same indentation:"
   ]
  },
  {
   "cell_type": "code",
   "execution_count": null,
   "metadata": {
    "slideshow": {
     "slide_type": "fragment"
    }
   },
   "outputs": [],
   "source": [
    "name = 'Mary'\n",
    "password = 'swordfish'\n",
    "if name == 'Mary':\n",
    "  print('Hello, Mary')\n",
    "    if password == 'swordfish':\n",
    "        print('Access granted.')\n",
    "    else:\n",
    "        print('Wrong password.')"
   ]
  },
  {
   "cell_type": "markdown",
   "metadata": {
    "slideshow": {
     "slide_type": "skip"
    }
   },
   "source": [
    "> 👨‍⚕️ It is recomend to use **four white spaces** as the indentation"
   ]
  },
  {
   "cell_type": "code",
   "execution_count": null,
   "metadata": {
    "slideshow": {
     "slide_type": "subslide"
    }
   },
   "outputs": [],
   "source": [
    "display_quiz(path+\"block.json\", max_width=800)"
   ]
  },
  {
   "cell_type": "markdown",
   "metadata": {
    "id": "1NUilGNt2iJS",
    "slideshow": {
     "slide_type": "slide"
    }
   },
   "source": [
    "### Conditional execution"
   ]
  },
  {
   "cell_type": "markdown",
   "metadata": {
    "id": "U_5LmIfNE165",
    "slideshow": {
     "slide_type": "subslide"
    }
   },
   "source": [
    "The control statement affords us a mechanism for jumping from one part of a program to another. This enables what is called ***control structures***. "
   ]
  },
  {
   "cell_type": "markdown",
   "metadata": {
    "slideshow": {
     "slide_type": "fragment"
    }
   },
   "source": [
    "One example of this is the ***if-statement***. An `if` statement's body (that is, the block following the `if` statement) will execute if the statement’s condition is `True`. The body is skipped if the condition is `False`."
   ]
  },
  {
   "cell_type": "markdown",
   "metadata": {
    "id": "eLp7j4ueFK4h",
    "slideshow": {
     "slide_type": "fragment"
    }
   },
   "source": [
    "In Python, an `if` statement consists of the following:\n",
    "\n",
    "- The `if` keyword\n",
    "- A condition (that is, an expression that evaluates to `True` or `False`)\n",
    "- A colon\n",
    "- Starting on the next line, an indented block of code (called the `if` body)"
   ]
  },
  {
   "cell_type": "markdown",
   "metadata": {
    "slideshow": {
     "slide_type": "subslide"
    }
   },
   "source": [
    "The boolean expression after the `if` statement is called the condition. We end the `if` statement with a colon character (`:`) and the line(s) after the `if` statement are indented. If the logical condition is true, then the indented statement gets executed. If the logical condition is false, the indented statement is skipped."
   ]
  },
  {
   "cell_type": "code",
   "execution_count": null,
   "metadata": {
    "colab": {
     "base_uri": "https://localhost:8080/"
    },
    "executionInfo": {
     "elapsed": 429,
     "status": "ok",
     "timestamp": 1665387208888,
     "user": {
      "displayName": "phonchi chung",
      "userId": "13517391734500420886"
     },
     "user_tz": -480
    },
    "id": "OLi_7GqcRzox",
    "outputId": "50ce1edb-f501-4b8b-f3d8-9e95e748c2ce",
    "slideshow": {
     "slide_type": "fragment"
    }
   },
   "outputs": [],
   "source": [
    "name = 'Mary'\n",
    "if name == 'Alice':\n",
    "    print('Hi, Alice.')"
   ]
  },
  {
   "cell_type": "markdown",
   "metadata": {
    "slideshow": {
     "slide_type": "subslide"
    }
   },
   "source": [
    "<center><img src=\"https://raw.githubusercontent.com/phonchi/nsysu-math106A/refs/heads/main/extra/Figures/000147.jpg\"></center>\n",
    "<div align=\"center\"> source: https://automatetheboringstuff.com/2e/chapter2/ </div>"
   ]
  },
  {
   "cell_type": "markdown",
   "metadata": {
    "id": "i7wWs6bj1CeU",
    "slideshow": {
     "slide_type": "subslide"
    }
   },
   "source": [
    "A second form of the `if` statement is alternative execution, in which there are two possibilities and the condition determines which one gets executed. The syntax looks like this:"
   ]
  },
  {
   "cell_type": "code",
   "execution_count": null,
   "metadata": {
    "colab": {
     "base_uri": "https://localhost:8080/"
    },
    "executionInfo": {
     "elapsed": 2,
     "status": "ok",
     "timestamp": 1665387517163,
     "user": {
      "displayName": "phonchi chung",
      "userId": "13517391734500420886"
     },
     "user_tz": -480
    },
    "id": "j3ALfiYq1KNJ",
    "outputId": "ef0ee27a-f6d7-4734-90dc-97fd8b01e537",
    "slideshow": {
     "slide_type": "fragment"
    }
   },
   "outputs": [],
   "source": [
    "if name == 'Alice':\n",
    "    print('Hi, Alice.')\n",
    "else:\n",
    "    print('Hello, stranger.')"
   ]
  },
  {
   "cell_type": "markdown",
   "metadata": {
    "slideshow": {
     "slide_type": "fragment"
    }
   },
   "source": [
    "You can also write the above code in one line using the ***ternary conditional operator***:"
   ]
  },
  {
   "cell_type": "code",
   "execution_count": null,
   "metadata": {
    "slideshow": {
     "slide_type": "fragment"
    }
   },
   "outputs": [],
   "source": [
    "print('Hi, Alice.') if name == 'Alice' else print('Hello, stranger.') # Note that we do not have colon in between!"
   ]
  },
  {
   "cell_type": "markdown",
   "metadata": {
    "id": "wS5jvy7X1VNY",
    "slideshow": {
     "slide_type": "subslide"
    }
   },
   "source": [
    "<center><img src=\"https://raw.githubusercontent.com/phonchi/nsysu-math106A/refs/heads/main/extra/Figures/000118.jpg\"></center>\n",
    "<div align=\"center\"> source: https://automatetheboringstuff.com/2e/chapter2/ </div>"
   ]
  },
  {
   "cell_type": "markdown",
   "metadata": {
    "id": "Lk7kiHwr1hEh",
    "slideshow": {
     "slide_type": "subslide"
    }
   },
   "source": [
    "Since the condition must either be true or false, exactly one of the alternatives will be executed. The alternatives are called branches, because they are branches in the flow of execution."
   ]
  },
  {
   "cell_type": "markdown",
   "metadata": {
    "id": "PCLnLflt1rZR",
    "slideshow": {
     "slide_type": "fragment"
    }
   },
   "source": [
    "Sometimes there are more than two possibilities and we need more than two branches. One way to express a computation like that is a chained conditional:"
   ]
  },
  {
   "cell_type": "code",
   "execution_count": null,
   "metadata": {
    "colab": {
     "base_uri": "https://localhost:8080/"
    },
    "executionInfo": {
     "elapsed": 2,
     "status": "ok",
     "timestamp": 1665387694945,
     "user": {
      "displayName": "phonchi chung",
      "userId": "13517391734500420886"
     },
     "user_tz": -480
    },
    "id": "NtHQJ54h1yTp",
    "outputId": "3af6417b-88d9-4398-8fdb-0aee8cb71de2",
    "slideshow": {
     "slide_type": "fragment"
    }
   },
   "outputs": [],
   "source": [
    "name = 'Carol'\n",
    "age = 3000\n",
    "if name == 'Alice':\n",
    "    print('Hi, Alice.')\n",
    "elif age < 12:\n",
    "    print('You are not Alice, kidd.')\n",
    "else:\n",
    "    print('You are neither Alice nor a little kid.')"
   ]
  },
  {
   "cell_type": "markdown",
   "metadata": {
    "slideshow": {
     "slide_type": "fragment"
    }
   },
   "source": [
    "You can view the execution of this program at https://autbor.com/littlekid/. In plain English, this type of flow control structure would be “If the first condition is true, do this. Else, if the second condition is true, do that."
   ]
  },
  {
   "cell_type": "markdown",
   "metadata": {
    "id": "YzlT65M418D5",
    "slideshow": {
     "slide_type": "subslide"
    }
   },
   "source": [
    "<center><img src=\"https://raw.githubusercontent.com/phonchi/nsysu-math106A/refs/heads/main/extra/Figures/000032.jpg\" width=\"35%\"></center>\n",
    "<div align=\"center\"> source: https://automatetheboringstuff.com/2e/chapter2/ </div>"
   ]
  },
  {
   "cell_type": "code",
   "execution_count": null,
   "metadata": {
    "slideshow": {
     "slide_type": "subslide"
    }
   },
   "outputs": [],
   "source": [
    "display_quiz(path+\"conditions.json\", max_width=800)"
   ]
  },
  {
   "cell_type": "markdown",
   "metadata": {
    "slideshow": {
     "slide_type": "subslide"
    }
   },
   "source": [
    "> ### Exercise 1: Write a program that prompts the user to enter a `row` and `column` (each between 0 and 7) corresponding to an $8 \\times 8$ chessboard square, then prints \"black\" or \"white\" depending on the square's color; if either input is outside the 0–7 range, it prints \"out of board.\""
   ]
  },
  {
   "cell_type": "markdown",
   "metadata": {
    "slideshow": {
     "slide_type": "fragment"
    }
   },
   "source": [
    "<center><img src=\"https://raw.githubusercontent.com/phonchi/nsysu-math106A/refs/heads/main/extra/Figures/image011.png\" width=\"20%\"></center>\n",
    "<div align=\"center\"> source: https://inventwithpython.com/pythongently/images/image011.png </div>"
   ]
  },
  {
   "cell_type": "code",
   "execution_count": null,
   "metadata": {
    "slideshow": {
     "slide_type": "subslide"
    }
   },
   "outputs": [],
   "source": [
    "row = int(input(\"Enter row :\"))\n",
    "column = int(input(\"Enter column :\"))\n",
    "# If the column and row is out of bounds, print out of board:\n",
    "if column ____ or column ___ or row ___ or row ____:\n",
    "    print('out of board')\n",
    "# If the even/oddness of the column and row match, print 'white':\n",
    "____ column % _ == row % _:\n",
    "    print('white')\n",
    "# If they don't match, then print 'black':\n",
    "____:\n",
    "    print('black')"
   ]
  },
  {
   "cell_type": "markdown",
   "metadata": {
    "id": "ydjopqnU2n_R",
    "slideshow": {
     "slide_type": "slide"
    }
   },
   "source": [
    "### Loops and Iterations"
   ]
  },
  {
   "cell_type": "markdown",
   "metadata": {
    "id": "7EvWoL27Fbqx",
    "slideshow": {
     "slide_type": "subslide"
    }
   },
   "source": [
    "You can make a block of code execute over and over again using a ***`while` statement***. The code in a `while` body will be executed as long as the `while` statement’s condition is `True`. A `while` statement always consists of the following:"
   ]
  },
  {
   "cell_type": "markdown",
   "metadata": {
    "slideshow": {
     "slide_type": "fragment"
    }
   },
   "source": [
    "- The `while` keyword\n",
    "- A condition and a colon\n",
    "- Starting on the next line, an indented block of code (called the `while` body)"
   ]
  },
  {
   "cell_type": "code",
   "execution_count": null,
   "metadata": {
    "colab": {
     "base_uri": "https://localhost:8080/"
    },
    "executionInfo": {
     "elapsed": 2,
     "status": "ok",
     "timestamp": 1665382029603,
     "user": {
      "displayName": "phonchi chung",
      "userId": "13517391734500420886"
     },
     "user_tz": -480
    },
    "id": "mJnA-rQOFIAm",
    "outputId": "9c888db1-27fd-4f47-a04a-0aa1da02ba4d",
    "slideshow": {
     "slide_type": "fragment"
    }
   },
   "outputs": [],
   "source": [
    "spam = 0\n",
    "while spam < 5:\n",
    "    print('Hello, world.')\n",
    "    spam += 1 # equivalent to spam = spam + 1"
   ]
  },
  {
   "cell_type": "markdown",
   "metadata": {
    "slideshow": {
     "slide_type": "fragment"
    }
   },
   "source": [
    "***Augmented assignments*** abbreviate assignment expressions in which the same variable name appears on the left and right of the assignment’s `=` as above"
   ]
  },
  {
   "cell_type": "markdown",
   "metadata": {
    "slideshow": {
     "slide_type": "subslide"
    }
   },
   "source": [
    "<center><img src=\"https://raw.githubusercontent.com/phonchi/nsysu-math106A/refs/heads/main/extra/Figures/000112.jpg\"></center>\n",
    "<div align=\"center\"> source: https://automatetheboringstuff.com/2e/chapter2/ </div>"
   ]
  },
  {
   "cell_type": "markdown",
   "metadata": {
    "id": "bXzLhOOb27tS",
    "slideshow": {
     "slide_type": "subslide"
    }
   },
   "source": [
    "More formally, here is the flow of execution for a `while` statement:\n",
    "\n",
    "1. Evaluate the condition, yielding `True` or `False`.\n",
    "\n",
    "2. If the condition is false, exit the `while` statement and continue execution at the next statement.\n",
    "\n",
    "3. If the condition is true, execute the body and then go back to step 1."
   ]
  },
  {
   "cell_type": "markdown",
   "metadata": {
    "id": "MLdwEwBq3N4B",
    "slideshow": {
     "slide_type": "fragment"
    }
   },
   "source": [
    "In the `while` ***loop***, the condition is always checked at the start of each ***iteration*** (that is, each time the loop is executed). If the condition is `True`, then the body is executed, and afterward, the condition is checked again. The first time the condition is found to be `False`, the while body is skipped."
   ]
  },
  {
   "cell_type": "markdown",
   "metadata": {
    "slideshow": {
     "slide_type": "subslide"
    }
   },
   "source": [
    "A common programming pattern is that we can run the program as long as the user wants by putting most of the program in a `while` loop. We'll define a quit value to decide when to leave:"
   ]
  },
  {
   "cell_type": "code",
   "execution_count": null,
   "metadata": {
    "slideshow": {
     "slide_type": "fragment"
    }
   },
   "outputs": [],
   "source": [
    "prompt = \"\\nTell me something, and I will repeat it back to you:\"\n",
    "prompt += \"\\nEnter 'quit' to end the program. \"\n",
    "message = \"\"\n",
    "while message != 'quit':\n",
    "    message = input(prompt)\n",
    "    print(message)"
   ]
  },
  {
   "cell_type": "markdown",
   "metadata": {
    "slideshow": {
     "slide_type": "fragment"
    }
   },
   "source": [
    "We first set up a variable `message` to keep track of whatever value the user enters. We define `message` as an empty string, `\"\"`, so Python has something to check at the first time. "
   ]
  },
  {
   "cell_type": "markdown",
   "metadata": {
    "slideshow": {
     "slide_type": "skip"
    }
   },
   "source": [
    "> The first time through the loop, the message is just an empty string, so Python enters the loop. At `message = input(prompt)`, Python displays the prompt and waits for the user to enter their input. Whatever they enter is assigned to `message` and printed; then, Python reevaluates the condition in the `while` statement. As long as the user has not entered the word 'quit', the prompt is displayed again and Python waits for more input. When the user finally enters 'quit', Python stops executing the while loop and the program ends."
   ]
  },
  {
   "cell_type": "markdown",
   "metadata": {
    "slideshow": {
     "slide_type": "subslide"
    }
   },
   "source": [
    "Note that Python considers `0`, `None`, empty string, and empty container as `False` and all other things are `True`!"
   ]
  },
  {
   "cell_type": "code",
   "execution_count": null,
   "metadata": {
    "slideshow": {
     "slide_type": "fragment"
    }
   },
   "outputs": [],
   "source": [
    "bool(\"\"), bool(0), bool(None), bool(prompt), bool(12)"
   ]
  },
  {
   "cell_type": "markdown",
   "metadata": {
    "slideshow": {
     "slide_type": "slide"
    }
   },
   "source": [
    "#### Using `break` to Exit a Loop"
   ]
  },
  {
   "cell_type": "markdown",
   "metadata": {
    "slideshow": {
     "slide_type": "subslide"
    }
   },
   "source": [
    "The above program works well, except that it prints the word 'quit' as if it were an actual message. In fact, there is a shortcut to getting the program execution to break out of a `while` loop’s body early. If the execution reaches a ***`break` statement***, it immediately exits the while loop’s body！"
   ]
  },
  {
   "cell_type": "code",
   "execution_count": null,
   "metadata": {
    "slideshow": {
     "slide_type": "fragment"
    }
   },
   "outputs": [],
   "source": [
    "prompt = \"\\nTell me something, and I will repeat it back to you:\"\n",
    "prompt += \"\\nEnter 'quit' to end the program. \"\n",
    "message = \"\"\n",
    "while True:\n",
    "    message = input(prompt)\n",
    "    if message == 'quit':\n",
    "        break\n",
    "    else:\n",
    "        print(message)"
   ]
  },
  {
   "cell_type": "markdown",
   "metadata": {
    "slideshow": {
     "slide_type": "fragment"
    }
   },
   "source": [
    "The fourth line creates an ***infinite loop***; it is a `while` loop whose condition is always `True`. After the program execution enters this loop, it will exit the loop only when a `break` statement is executed."
   ]
  },
  {
   "cell_type": "markdown",
   "metadata": {
    "slideshow": {
     "slide_type": "skip"
    }
   },
   "source": [
    "> An infinite loop that never exits is a common programming bug!"
   ]
  },
  {
   "cell_type": "markdown",
   "metadata": {
    "slideshow": {
     "slide_type": "skip"
    }
   },
   "source": [
    "> Just like before, this program asks the user to for the input. Now, however, while the execution is still inside the `while` loop, an `if` statement checks whether the `message` is equal to 'quit'. If this condition is `True`, the `break` statement is run, and the execution moves out of the loop. Otherwise, the `if` statement’s body that contains the `break` statement is skipped, which again prints out the `message`. After that, the program execution jumps back to the start of the `while` statement to recheck the condition. Since this condition is merely the `True` Boolean value, the execution enters the loop to ask the user to type another message."
   ]
  },
  {
   "cell_type": "markdown",
   "metadata": {
    "slideshow": {
     "slide_type": "slide"
    }
   },
   "source": [
    "#### `continue` Statemet"
   ]
  },
  {
   "cell_type": "markdown",
   "metadata": {
    "slideshow": {
     "slide_type": "subslide"
    }
   },
   "source": [
    "Rather than breaking out of a loop entirely without executing the rest of its code, you can use the ***`continue` statement*** to return to the beginning of the loop based on the result of a conditional test. For example, consider a loop  that counts from 1 to 10 but prints only the odd numbers in that range:"
   ]
  },
  {
   "cell_type": "code",
   "execution_count": null,
   "metadata": {
    "slideshow": {
     "slide_type": "fragment"
    }
   },
   "outputs": [],
   "source": [
    "current_number = 0\n",
    "while current_number < 10:\n",
    "    current_number += 1\n",
    "    if current_number % 2 == 0:\n",
    "        continue\n",
    "    else:\n",
    "        print(current_number, end=' ')"
   ]
  },
  {
   "cell_type": "markdown",
   "metadata": {
    "slideshow": {
     "slide_type": "skip"
    }
   },
   "source": [
    "> First, we set `current_number` to 0. Because it’s less than 10, Python enters the while loop. Once inside the loop, we increment the count by 1, so  `current_number` is 1. The `if` statement then checks the modulo of `current_number` and 2. If the modulo is 0, the `continue` statement tells Python to ignore the rest of the loop and return to the beginning. If the `current_number` is not divisible by 2, the rest of the loop is executed and Python prints the `current_number`."
   ]
  },
  {
   "cell_type": "markdown",
   "metadata": {
    "slideshow": {
     "slide_type": "fragment"
    }
   },
   "source": [
    "Note that the built-in function `print()` displays its argument(s), then moves the cursor to the next line. You can change this behavior with the argument `end`. We used one space (' '), so each call to print displays the character’s value followed by one space!"
   ]
  },
  {
   "cell_type": "markdown",
   "metadata": {
    "slideshow": {
     "slide_type": "skip"
    }
   },
   "source": [
    "> If you ever run a program that has a bug causing it to get stuck in an infinite loop, press CTRL-C. This will send a `KeyboardInterrupt` error to your program and cause it to stop immediately."
   ]
  },
  {
   "cell_type": "code",
   "execution_count": null,
   "metadata": {
    "scrolled": true,
    "slideshow": {
     "slide_type": "subslide"
    }
   },
   "outputs": [],
   "source": [
    "display_quiz(path+\"while.json\", max_width=800)"
   ]
  },
  {
   "cell_type": "markdown",
   "metadata": {
    "slideshow": {
     "slide_type": "slide"
    }
   },
   "source": [
    "#### “TRUTHY” and “FALSY” Values"
   ]
  },
  {
   "cell_type": "markdown",
   "metadata": {
    "slideshow": {
     "slide_type": "subslide"
    }
   },
   "source": [
    "Let us delve into the following program:"
   ]
  },
  {
   "cell_type": "code",
   "execution_count": null,
   "metadata": {
    "slideshow": {
     "slide_type": "fragment"
    }
   },
   "outputs": [],
   "source": [
    "name = ''\n",
    "while not name:\n",
    "    print('Enter your name:')\n",
    "    name = input()\n",
    "\n",
    "print('How many guests will you have?')\n",
    "numOfGuests = int(input())\n",
    "\n",
    "if numOfGuests:\n",
    "    print('Be sure to have enough room for all your guests.')\n",
    "print('Done')"
   ]
  },
  {
   "cell_type": "markdown",
   "metadata": {
    "slideshow": {
     "slide_type": "fragment"
    }
   },
   "source": [
    "You can view the execution of this program at https://autbor.com/howmanyguests/. "
   ]
  },
  {
   "cell_type": "markdown",
   "metadata": {
    "slideshow": {
     "slide_type": "skip"
    }
   },
   "source": [
    "> 👨‍⚕️ If the user enters a blank string for name, then the `while` statement’s condition will be `True`, and the program continues to ask for a name. If the value for `numOfGuests` is not `0`, then the condition is considered to be `True`, and the program will print a reminder for the user. You could have entered `not name != ''` instead of `not name`, and `numOfGuests != 0` instead of `numOfGuests`, but using the truthy and falsy values can make your code easier to read."
   ]
  },
  {
   "cell_type": "markdown",
   "metadata": {
    "slideshow": {
     "slide_type": "slide"
    }
   },
   "source": [
    "### `for` Loops and the `range()` Function"
   ]
  },
  {
   "cell_type": "markdown",
   "metadata": {
    "slideshow": {
     "slide_type": "subslide"
    }
   },
   "source": [
    "The `while` loop keeps looping `while` when its condition is `True`, but what if you want to execute a block of code **only a certain number of times**? You can do this with a ***`for` loop statement*** and the `range()` function."
   ]
  },
  {
   "cell_type": "markdown",
   "metadata": {
    "slideshow": {
     "slide_type": "fragment"
    }
   },
   "source": [
    "A `for` statement looks something like `for i in range(5)`: and includes the following:\n",
    "\n",
    "- The `for` keyword\n",
    "- A variable name\n",
    "- The ***`in` keyword***"
   ]
  },
  {
   "cell_type": "markdown",
   "metadata": {
    "slideshow": {
     "slide_type": "fragment"
    }
   },
   "source": [
    "- A call to the `range()` funtion with up to three integers passed to it (The `for` statement can iterate over a ***sequence*** item by item!)\n",
    "- A colon\n",
    "- Starting on the next line, an indented block of code (called the for body)"
   ]
  },
  {
   "cell_type": "markdown",
   "metadata": {
    "slideshow": {
     "slide_type": "subslide"
    }
   },
   "source": [
    "Let’s create a new program to help you see a `for` loop in action."
   ]
  },
  {
   "cell_type": "code",
   "execution_count": null,
   "metadata": {
    "slideshow": {
     "slide_type": "fragment"
    }
   },
   "outputs": [],
   "source": [
    "print('My name is')\n",
    "for i in range(5):\n",
    "    print('Jimmy Five Times (' + str(i) + ')')"
   ]
  },
  {
   "cell_type": "markdown",
   "metadata": {
    "slideshow": {
     "slide_type": "fragment"
    }
   },
   "source": [
    "You can view the execution of this program at https://autbor.com/fivetimesfor/. "
   ]
  },
  {
   "cell_type": "markdown",
   "metadata": {
    "slideshow": {
     "slide_type": "skip"
    }
   },
   "source": [
    "> 👨‍⚕️ The code in the `for` loop’s body is run five times. The first time it is run, the variable `i` is set to 0. The `print()` call in the body will print Jimmy Five Times (0). After Python finishes an iteration through all the code inside the `for` loop’s body, the execution goes back to the top of the loop, and the `for` statement increments `i` by one. This is why `range(5)` results in five iterations through the body, with `i` being set to 0, then 1, then 2, then 3, and then 4. The variable `i` will go up to, **but will not include, the integer passed to `range()`**. "
   ]
  },
  {
   "cell_type": "markdown",
   "metadata": {
    "slideshow": {
     "slide_type": "subslide"
    }
   },
   "source": [
    "You can actually use a `while` loop to do the same thing as a `for` loop; `for` loops are just more concise."
   ]
  },
  {
   "cell_type": "code",
   "execution_count": null,
   "metadata": {
    "slideshow": {
     "slide_type": "fragment"
    }
   },
   "outputs": [],
   "source": [
    "print('My name is')\n",
    "i = 0\n",
    "while i < 5:\n",
    "    print('Jimmy Five Times (' + str(i) + ')')\n",
    "    i = i + 1"
   ]
  },
  {
   "cell_type": "markdown",
   "metadata": {
    "slideshow": {
     "slide_type": "slide"
    }
   },
   "source": [
    "#### The Starting, Stopping, and Stepping Arguments to `range()`"
   ]
  },
  {
   "cell_type": "markdown",
   "metadata": {
    "slideshow": {
     "slide_type": "subslide"
    }
   },
   "source": [
    "Some functions can be called with multiple arguments separated by a comma, and `range()` is one of them. This lets you change the integer passed to `range()` to follow any sequence of integers, including starting at a number other than zero."
   ]
  },
  {
   "cell_type": "code",
   "execution_count": null,
   "metadata": {
    "slideshow": {
     "slide_type": "fragment"
    }
   },
   "outputs": [],
   "source": [
    "for i in range(12, 16):\n",
    "    print(i)"
   ]
  },
  {
   "cell_type": "markdown",
   "metadata": {
    "slideshow": {
     "slide_type": "fragment"
    }
   },
   "source": [
    "The `range()` function can also be called with three arguments. The first two arguments will be the start and stop values, and the third will be the step argument."
   ]
  },
  {
   "cell_type": "markdown",
   "metadata": {
    "slideshow": {
     "slide_type": "skip"
    }
   },
   "source": [
    "> The step is the amount that the variable is increased by after each iteration."
   ]
  },
  {
   "cell_type": "code",
   "execution_count": null,
   "metadata": {
    "slideshow": {
     "slide_type": "subslide"
    }
   },
   "outputs": [],
   "source": [
    "for i in range(0, 10, 2):\n",
    "    print(i)"
   ]
  },
  {
   "cell_type": "markdown",
   "metadata": {
    "slideshow": {
     "slide_type": "fragment"
    }
   },
   "source": [
    "You can even use a **negative number** for the step argument to make the `for` loop count down instead of up."
   ]
  },
  {
   "cell_type": "code",
   "execution_count": null,
   "metadata": {
    "slideshow": {
     "slide_type": "fragment"
    }
   },
   "outputs": [],
   "source": [
    "for i in range(5, -1, -1):\n",
    "    print(i)"
   ]
  },
  {
   "cell_type": "markdown",
   "metadata": {
    "slideshow": {
     "slide_type": "skip"
    }
   },
   "source": [
    "> Note that Python introduce [switch](https://learnpython.com/blog/python-match-case-statement/) statement as another control statement in Python 3.10 "
   ]
  },
  {
   "cell_type": "code",
   "execution_count": null,
   "metadata": {
    "slideshow": {
     "slide_type": "subslide"
    }
   },
   "outputs": [],
   "source": [
    "display_quiz(path+\"for.json\", max_width=800)"
   ]
  },
  {
   "cell_type": "markdown",
   "metadata": {
    "slideshow": {
     "slide_type": "subslide"
    }
   },
   "source": [
    "> ### Exercise 2: Write a script that displays the following triangle patterns. Use `for` loops to generate the patterns. \n",
    "\n",
    "```\n",
    "*\n",
    "**\n",
    "***\n",
    "****\n",
    "*****\n",
    "******\n",
    "*******\n",
    "********\n",
    "*********\n",
    "**********\n",
    "```\n",
    "\n",
    "Hint: Try to use nested loops and use the outer loop to display each row while the inner loop to display each column"
   ]
  },
  {
   "cell_type": "code",
   "execution_count": null,
   "metadata": {
    "slideshow": {
     "slide_type": "subslide"
    }
   },
   "outputs": [],
   "source": [
    "for row in range(__,__):\n",
    "    for column in range(__,__):\n",
    "        print('*', end='')\n",
    "    print()"
   ]
  },
  {
   "cell_type": "markdown",
   "metadata": {
    "slideshow": {
     "slide_type": "slide"
    }
   },
   "source": [
    "## Importing Modules"
   ]
  },
  {
   "cell_type": "markdown",
   "metadata": {
    "slideshow": {
     "slide_type": "subslide"
    }
   },
   "source": [
    "All Python programs can call a basic set of functions called **built-in functions**, including the `print()`, `input()`, `len()` and `range()` functions you’ve seen before. "
   ]
  },
  {
   "cell_type": "markdown",
   "metadata": {
    "slideshow": {
     "slide_type": "fragment"
    }
   },
   "source": [
    "Python also comes with a set of modules called the ***standard library***. Each module is a Python program that contains a related group of functions that can be embedded in your programs. "
   ]
  },
  {
   "cell_type": "markdown",
   "metadata": {
    "slideshow": {
     "slide_type": "fragment"
    }
   },
   "source": [
    "For example, the `math` module has mathematics-related functions. The `random` module has random number-related functions, and so on."
   ]
  },
  {
   "cell_type": "markdown",
   "metadata": {
    "slideshow": {
     "slide_type": "subslide"
    }
   },
   "source": [
    "Before you can use the functions in a module, you must ***import*** the module with an `import` statement. In code, an `import` statement consists of the following:\n",
    "\n",
    "- The `import` keyword"
   ]
  },
  {
   "cell_type": "markdown",
   "metadata": {
    "slideshow": {
     "slide_type": "fragment"
    }
   },
   "source": [
    "- The name of the module\n",
    "- Optionally, more module names, as long as they are separated by commas"
   ]
  },
  {
   "cell_type": "markdown",
   "metadata": {
    "slideshow": {
     "slide_type": "subslide"
    }
   },
   "source": [
    "Once you import a module, you can use all the cool functions of that module. Let’s give it a try with the `random` module, which will give us access to the `random.randint()` function."
   ]
  },
  {
   "cell_type": "code",
   "execution_count": null,
   "metadata": {
    "slideshow": {
     "slide_type": "fragment"
    }
   },
   "outputs": [],
   "source": [
    "import random\n",
    "for i in range(5):\n",
    "    print(random.randint(1, 10))"
   ]
  },
  {
   "cell_type": "markdown",
   "metadata": {
    "slideshow": {
     "slide_type": "fragment"
    }
   },
   "source": [
    "You can view the execution of this program at https://autbor.com/printrandom/. The `random.randint()` function call evaluates to a random integer value between the two integers that you pass it. "
   ]
  },
  {
   "cell_type": "markdown",
   "metadata": {
    "slideshow": {
     "slide_type": "fragment"
    }
   },
   "source": [
    "Since `randint()` is in the `random` module, you must first type `random.` in front of the function name to tell Python to look for this function inside the `random` module."
   ]
  },
  {
   "cell_type": "markdown",
   "metadata": {
    "slideshow": {
     "slide_type": "skip"
    }
   },
   "source": [
    "> Check out the Python standard library [here](https://docs.python.org/3/library/index.html#library-index) or [here](https://pymotw.com/3/index.html)"
   ]
  },
  {
   "cell_type": "markdown",
   "metadata": {
    "slideshow": {
     "slide_type": "slide"
    }
   },
   "source": [
    "### Ending a Program Early with the `sys.exit()` Function"
   ]
  },
  {
   "cell_type": "markdown",
   "metadata": {
    "slideshow": {
     "slide_type": "subslide"
    }
   },
   "source": [
    "The last flow control concept to cover is how to terminate the program. Programs always terminate if the program execution reaches the bottom of the instructions. "
   ]
  },
  {
   "cell_type": "markdown",
   "metadata": {
    "slideshow": {
     "slide_type": "fragment"
    }
   },
   "source": [
    "However, you can cause the program to terminate before the last instruction by calling the `sys.exit()`. Since this function is in the `sys` module, you have to `import sys` before your program can use it."
   ]
  },
  {
   "cell_type": "code",
   "execution_count": null,
   "metadata": {
    "slideshow": {
     "slide_type": "fragment"
    }
   },
   "outputs": [],
   "source": [
    "%%writefile exit.py\n",
    "\n",
    "import sys\n",
    "\n",
    "while True:\n",
    "    print('Type exit to exit.')\n",
    "    response = input()\n",
    "    if response == 'exit':\n",
    "        sys.exit()\n",
    "    print('You typed ' + response + '.')\n",
    "print('This line will not be printed')"
   ]
  },
  {
   "cell_type": "code",
   "execution_count": null,
   "metadata": {
    "slideshow": {
     "slide_type": "subslide"
    }
   },
   "outputs": [],
   "source": [
    "%run exit.py"
   ]
  },
  {
   "cell_type": "markdown",
   "metadata": {
    "slideshow": {
     "slide_type": "fragment"
    }
   },
   "source": [
    "By using expressions that evaluate to `True` or `False` (also called conditions), you can write programs that make decisions on what code to execute and what code to skip. You can also execute code over and over again in a loop while a certain condition evaluates to `True`."
   ]
  },
  {
   "cell_type": "markdown",
   "metadata": {
    "slideshow": {
     "slide_type": "fragment"
    }
   },
   "source": [
    "These flow control statements will let you write more intelligent programs. You can also use another type of flow control by **writing your own functions**, which is the topic of the next chapter."
   ]
  },
  {
   "cell_type": "code",
   "execution_count": null,
   "metadata": {
    "slideshow": {
     "slide_type": "subslide"
    }
   },
   "outputs": [],
   "source": [
    "from jupytercards import display_flashcards\n",
    "fpath= \"https://raw.githubusercontent.com/phonchi/nsysu-math106A/refs/heads/main/extra/flashcards/\"\n",
    "display_flashcards(fpath + 'ch2.json')"
   ]
  },
  {
   "cell_type": "markdown",
   "metadata": {
    "slideshow": {
     "slide_type": "skip"
    }
   },
   "source": [
    "## Keywords"
   ]
  },
  {
   "cell_type": "markdown",
   "metadata": {
    "slideshow": {
     "slide_type": "skip"
    }
   },
   "source": [
    "- **Flow control statements**: Instructions that determine the order in which code is executed.\n",
    "- **boolean expression**: An expression that evaluates to either True or False.\n",
    "- **Boolean values**: The two truth values in Python: True and False.\n",
    "- **comparison operators**: Operators like `==`, `!=`, `<`, `>`, `<=`, and `>=` that compare values.\n",
    "- **Boolean operators**: Operators such as `and`, `or`, and `not` used to combine or invert boolean expressions.\n",
    "- **sequential execution**: The process where code runs one statement after the other in order.\n",
    "- **selection statement**: A statement that lets the program choose between different paths based on conditions (e.g., if statements).\n",
    "- **repetition statement**: A loop that repeats a block of code until a condition is met (e.g., for or while loops).\n",
    "- **structured programming**: A style of programming that uses blocks, loops, and functions to create clear, logical code.\n",
    "- **condition**: A boolean expression used to decide which code path to take.\n",
    "- **clause**: A part of a control structure, such as the condition part of an if-statement.\n",
    "- **block of code**: A group of statements that are executed together, usually defined by indentation.\n",
    "- **indentation**: Spaces at the beginning of a line that define blocks of code in Python.\n",
    "- **control structures**: Constructs like loops and conditional statements that control the flow of execution.\n",
    "- **if-statement**: A conditional statement that executes code only if a specified condition is True.\n",
    "- **ternary conditional operator**: A compact way to write an if-else statement that returns one of two values based on a condition.\n",
    "- **while statement**: A loop that repeats a block of code as long as a condition remains True.\n",
    "- **Augmented assignments**: Shorthand operators (like `+=`, `-=`, `*=`) that update a variable's value in place.\n",
    "- **break statement**: A command that immediately exits a loop.\n",
    "- **infinite loop**: A loop that never stops running on its own unless interrupted.\n",
    "- **continue statement**: A command that skips the rest of the current loop iteration and moves to the next one.\n",
    "- **for loop statement**: A loop that iterates over each item in a sequence, executing a block of code for each item.\n",
    "- **`in`**: A keyword used to check if a value exists in a sequence or to iterate over items in that sequence.\n",
    "- **sequence type**: Data types that store ordered collections of items, such as lists, tuples, and strings.\n",
    "- **standard library**: A collection of modules and functions that come with Python to help perform many common tasks."
   ]
  }
 ],
 "metadata": {
  "celltoolbar": "Slideshow",
  "colab": {
   "provenance": []
  },
  "kernelspec": {
   "display_name": "Python 3 (ipykernel)",
   "language": "python",
   "name": "python3"
  },
  "language_info": {
   "codemirror_mode": {
    "name": "ipython",
    "version": 3
   },
   "file_extension": ".py",
   "mimetype": "text/x-python",
   "name": "python",
   "nbconvert_exporter": "python",
   "pygments_lexer": "ipython3",
   "version": "3.9.13"
  },
  "rise": {
   "chalkboard": {
    "color": [
     "rgb(250, 0, 0)",
     "rgb(250, 0, 0)"
    ]
   },
   "controls": false,
   "enable_chalkboard": true,
   "footer": "",
   "overlay": "<div class='myfooter'><h4>Flow Control</h4></div>",
   "slideNumber": "true",
   "theme": "night"
  },
  "vscode": {
   "interpreter": {
    "hash": "ffe9a5d1be64f395cda62646beb00f4fbc1d5c319e2b42024d6d4b4beddf19a5"
   }
  }
 },
 "nbformat": 4,
 "nbformat_minor": 1
}
