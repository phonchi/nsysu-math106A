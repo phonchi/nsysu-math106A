{
 "cells": [
  {
   "cell_type": "markdown",
   "metadata": {
    "id": "S43Yd0de2REp"
   },
   "source": [
    "# Computer Programming, Midterm Exam, 2025/04/09"
   ]
  },
  {
   "cell_type": "markdown",
   "metadata": {
    "id": "A4_QjCdg2REu"
   },
   "source": [
    "#### Student ID: *Double click here to fill the Student ID*\n",
    "\n",
    "#### Name: *Double click here to fill the name*"
   ]
  },
  {
   "cell_type": "markdown",
   "metadata": {
    "id": "hU-j67b--fi_"
   },
   "source": [
    "## A.\tSingle Choice Questions (5%, 60%)"
   ]
  },
  {
   "cell_type": "markdown",
   "metadata": {
    "id": "jfjOG4GmbbOn"
   },
   "source": [
    "### (1) Which of the following statements about Python's numeric operations and data types is correct?\n",
    "\n",
    "(A) Python allows the use of commas to separate digits in numeric literals (e.g., writing `12,000` for 12000) to enhance readability.\n",
    "\n",
    "(B) In Python, the floor division operator (`//`) always produces a floating-point result when dividing two numbers.\n",
    "\n",
    "(C) The expression 3+j is a valid way to represent a complex number in Python.\n",
    "\n",
    "(D) When performing arithmetic operations between two built-in numeric types, Python implicitly converts the operand with the smaller data type to the larger type to avoid loss of precision."
   ]
  },
  {
   "cell_type": "markdown",
   "metadata": {
    "id": "q-esSq79bxT5"
   },
   "source": [
    "> Ans: (D).\n",
    "\n",
    "Option (A): Incorrect because Python does not allow commas in numeric literals; underscores must be used instead (e.g., 12_000). Option (B): Incorrect because the `//` operator performs floor division and returns an integer if both operands are integers. Option (C): Incorrect because a complex literal requires a numeric coefficient with the imaginary unit (e.g., 3+1j), and simply writing 3+j would result in an error unless j is defined as a variable."
   ]
  },
  {
   "cell_type": "markdown",
   "metadata": {
    "id": "K7cKh2qM4bUu"
   },
   "source": [
    "### (2) Which of the following statements about Python's syntax is true?\n",
    "\n",
    "(A) Python uses curly brackets `{}` to separate different code blocks.\n",
    "\n",
    "(B) All statements within the same code block must have the same level of indentation in Python.\n",
    "\n",
    "(C) The values `0` and `[]` are treated as `True` when used in Boolean expressions in Python.\n",
    "\n",
    "(D) Python's list indexing starts at 1, so the first element of a list `L` is accessed using `L[1]`."
   ]
  },
  {
   "cell_type": "markdown",
   "metadata": {
    "id": "q2hQwIsx2REx"
   },
   "source": [
    "> Ans: (B).\n",
    "\n",
    "- **Option (A):** Incorrect because Python uses indentation (not curly brackets) to define code blocks.  \n",
    "\n",
    "- **Option (C):** Incorrect because `0` and `[]` are considered `False` in Boolean contexts.  \n",
    "\n",
    "- **Option (D):** Incorrect since Python uses 0-based indexing, meaning the first element is accessed with `L[0]`."
   ]
  },
  {
   "cell_type": "markdown",
   "metadata": {
    "id": "2hQx9s8IRITn"
   },
   "source": [
    "### (3) Assume we execute the following code and the user inputs a floating-point number (for example, `\"12.3\"`):\n",
    "\n",
    "```python\n",
    "spam1 = input()\n",
    "spam2 = float(spam1) // 5\n",
    "spam3 = spam2 + 18\n",
    "```\n",
    "\n",
    "Which variable ends up having a different data type from the others?\n",
    "\n",
    "(A) `spam1`  \n",
    "\n",
    "(B) `spam2`  \n",
    "\n",
    "(C) `spam3`  \n",
    "\n",
    "(D) All of them have different data types"
   ]
  },
  {
   "cell_type": "markdown",
   "metadata": {
    "id": "6SvRpujMN7d8"
   },
   "source": [
    "> Ans: (A)\n",
    "\n",
    "- **`spam1`:** This variable receives the input from the user via `input()`, so it is of type **string**.\n",
    "- **`spam2`:** Here, `spam1` is converted to a float, and then floor division (`//`) is performed. Since one operand is a float, the result is a **float**.\n",
    "- **`spam3`:** This is the sum of `spam2` (a float) and the integer `18`, resulting in a **float**.\n",
    "\n",
    "Thus, `spam1` is the only variable with a different data type (string) compared to `spam2` and `spam3` (both floats)."
   ]
  },
  {
   "cell_type": "markdown",
   "metadata": {
    "id": "-FOoLn6N2REz"
   },
   "source": [
    "### (4) Which of the following statements is true?\n",
    "\n",
    "(A) The function call `random.randint(0, 5)` randomly generates an integer between 0 and 5 (inclusive).\n",
    "\n",
    "(B) In function definitions, parameters with default values must always be placed at the leftmost side of the parameter list.\n",
    "\n",
    "(C) The expression `list(range(1, 5, -1))` returns the list `[5, 4, 3, 2, 1]`.\n",
    "\n",
    "(D) When defining a function, we must always include a `return` statement."
   ]
  },
  {
   "cell_type": "markdown",
   "metadata": {
    "id": "1HdWhzeZ2REz"
   },
   "source": [
    "Ans: (A)\n",
    "\n",
    "\n",
    "- **Option (A):** Correct. The function `random.randint(1, 5)` returns a random integer in the inclusive range from 1 to 5.\n",
    "- **Option (B):** Incorrect. In Python, parameters with default values must come *after* parameters without default values.\n",
    "- **Option (C):** Incorrect. The `range(1, 5, -1)` produces an empty sequence because a negative step cannot generate numbers from 1 up to 5.\n",
    "- **Option (D):** Incorrect. A function in Python will return `None` by default if no `return` statement is provided.\n",
    "\n",
    "Thus, the only true statement is **Option (A)**."
   ]
  },
  {
   "cell_type": "markdown",
   "metadata": {
    "id": "tKQ90FIYN7d9"
   },
   "source": [
    "### (5) Which of the following will **NOT** be printed out when calling the `help()` function on a custom or built-in function?\n",
    "\n",
    "(A) Name of the function\n",
    "\n",
    "(B) docstring\n",
    "\n",
    "(C) Body of the function\n",
    "\n",
    "(D) Parameter list of the function"
   ]
  },
  {
   "cell_type": "markdown",
   "metadata": {
    "id": "MQ20luYDN7d-"
   },
   "source": [
    "> Ans: (C)"
   ]
  },
  {
   "cell_type": "markdown",
   "metadata": {
    "id": "59tvrWGc2REx"
   },
   "source": [
    "### (6) Assume we have the following list: `x = ['n', 's', 'y', 's', 'u']`. What will be printed when the following code is executed?\n",
    "\n",
    "```python\n",
    "a = x[:]\n",
    "print(a[::-1])\n",
    "```\n",
    "\n",
    "(A) `u`  \n",
    "\n",
    "(B) `['u', 's', 'y', 's', 'n']`  \n",
    "\n",
    "(C) `['u']`  \n",
    "\n",
    "(D) `['n', 's', 'y', 's', 'u']`"
   ]
  },
  {
   "cell_type": "markdown",
   "metadata": {
    "id": "vnhWGa4GN7d-"
   },
   "source": [
    "> Ans: (B)\n",
    "\n",
    "- The expression `x[:]` creates a shallow copy of the list `x`.\n",
    "- The slice `a[::-1]` returns a new list that is the reverse of `a`.\n",
    "- Therefore, `print(a[::-1])` outputs `['u', 's', 'y', 's', 'n']`.\n",
    "\n",
    "This makes option **(B)** the correct answer."
   ]
  },
  {
   "cell_type": "markdown",
   "metadata": {
    "id": "RLVOvY5ZOVah"
   },
   "source": [
    "### (7) Assume we want to swap the values of two variables, `a` and `b`. Which of the following methods is **NOT** a proper way to achieve this?\n",
    "\n",
    "(A)\n",
    "```python\n",
    "a = b\n",
    "b = a\n",
    "```\n",
    "\n",
    "(B)\n",
    "```python\n",
    "temp = b\n",
    "b = a\n",
    "a = temp\n",
    "```\n",
    "\n",
    "(C)\n",
    "```python\n",
    "a, b = b, a\n",
    "```\n",
    "\n",
    "(D)\n",
    "```python\n",
    "temp = a\n",
    "a = b\n",
    "b = temp\n",
    "```"
   ]
  },
  {
   "cell_type": "markdown",
   "metadata": {
    "id": "sSFVJe7qTDBF"
   },
   "source": [
    "Ans: (A)\n",
    "\n",
    "- **Option (A):**  \n",
    "  The first line, `a = b`, assigns the value of `b` to `a`, which overwrites the original value of `a`. When the second line, `b = a`, is executed, `b` is assigned the new value of `a` (which is already equal to `b`). As a result, both variables end up with the original value of `b`, and the swap does not occur.\n",
    "\n",
    "- **Option (B):**  \n",
    "  Uses a temporary variable (`temp`) to hold the value of `b` before assigning `a` to `b`, then reassigning `a` with the value from `temp`. This correctly swaps the values.\n",
    "\n",
    "- **Option (C):**  \n",
    "  Utilizes Python's tuple unpacking to swap the values in a concise and idiomatic way. This method correctly exchanges the values.\n",
    "\n",
    "- **Option (D):**  \n",
    "  Similar to (B), this approach uses a temporary variable (`temp`) to store the original value of `a` before performing the swap. It is also a proper way to swap the values.\n",
    "\n",
    "Thus, only **option (A)** fails to correctly swap the values."
   ]
  },
  {
   "cell_type": "markdown",
   "metadata": {
    "id": "zwH348yXZP94"
   },
   "source": [
    "### (8) Which of the following is the correct Python expression to check if the number stored in variable `x` is between 1 and 10 (inclusive)?\n",
    "\n",
    "(A) `1 =< x =< 10`\n",
    "\n",
    "(B) `x >= 1 and <= 10`\n",
    "\n",
    "(C) `x >= 1 and x <= 10`\n",
    "\n",
    "(D) `x >= 1 or x <= 10`"
   ]
  },
  {
   "cell_type": "markdown",
   "metadata": {
    "id": "6VK2qyRLN7eA"
   },
   "source": [
    "> Ans: (C).\n",
    "\n",
    "Option (A): Incorrect because the comparison operator is written incorrectly. The correct operator is <= (not =<), and Python allows chained comparisons like 1 <= x <= 10 instead.\n",
    "\n",
    "Option (B): Incorrect since the second comparison is incomplete; the variable x must be repeated.\n",
    "\n",
    "Option (D): Incorrect because it uses or instead of and, which does not correctly confine x to the desired range."
   ]
  },
  {
   "cell_type": "markdown",
   "metadata": {
    "id": "4kgGFftfMMhL"
   },
   "source": [
    "### (9) Which of the following statements about Python syntax is false?\n",
    "\n",
    "(A) An identifier in Python may consist of letters, digits, and underscores, but it must not begin with a digit.\n",
    "\n",
    "(B) Accessing a list element using an index that is equal to or greater than the list’s length causes a runtime error.\n",
    "\n",
    "(C) A comment in Python—whether single-line or multi-line—must begin with a percentage sign (`%`).\n",
    "\n",
    "(D) The `input()` function always returns a string, even if the user types numerical data."
   ]
  },
  {
   "cell_type": "markdown",
   "metadata": {
    "id": "iGh60Z0j2REy"
   },
   "source": [
    "> Ans: (C)\n",
    "\n",
    "Options (A), (B), and (D) are true statements about Python. Option (C) is false because Python comments begin with a hash (`#`), not a percentage sign."
   ]
  },
  {
   "cell_type": "markdown",
   "metadata": {
    "id": "llVRpBEfXx8w"
   },
   "source": [
    "### (10) Which of the following statements is false?\n",
    "\n",
    "(A) `int` and `string` are immutable data types in Python.  \n",
    "\n",
    "(B) Dictionary keys must be unique.  \n",
    "\n",
    "(C) A list in Python can contain multiple items with the same value.  \n",
    "\n",
    "(D) The `get()` method of a dictionary returns the value for a given key; if the key is not found, it raises an error."
   ]
  },
  {
   "cell_type": "markdown",
   "metadata": {
    "id": "5ng60M1RZIiH"
   },
   "source": [
    "> Ans:  (D)\n",
    "\n",
    "The `get()` method returns `None` (or a specified default value) when the key is not found, rather than raising an error."
   ]
  },
  {
   "cell_type": "markdown",
   "metadata": {
    "id": "tCv5j3HvcQu8"
   },
   "source": [
    "### (11) Consider the following Python code snippet:\n",
    "\n",
    "```python\n",
    "numbers = [1, 1, 1, 2, 2, 3, 4, 5, 7, 9]\n",
    "spam = [item for item in numbers if item % 2 == 0]\n",
    "for i in spam:\n",
    "    print(i, end=' ')\n",
    "```\n",
    "\n",
    "What will be printed when this code is executed?\n",
    "\n",
    "(A) `1 1 1 2 2 3 4 5 7 9`  \n",
    "\n",
    "(B) `1 1 1 3 4 5 7 9`  \n",
    "\n",
    "(C) `1 1 1 3 5 7 9`  \n",
    "\n",
    "(D) `2 2 4`"
   ]
  },
  {
   "cell_type": "markdown",
   "metadata": {
    "id": "wQhhAsO1ddm6"
   },
   "source": [
    "> Ans: (D)\n",
    "\n",
    "- The list comprehension `spam = [item for item in numbers if item % 2 == 0]` filters the list `numbers` for even values.\n",
    "- In the list `numbers`, the even numbers are `2`, `2`, and `4`.\n",
    "- The loop then prints these numbers with a space between them.\n",
    "\n",
    "Thus, the output is:  \n",
    "```\n",
    "2 2 4\n",
    "```\n",
    "\n",
    "This makes **option (D)** the correct answer."
   ]
  },
  {
   "cell_type": "markdown",
   "metadata": {
    "id": "JAXPS7xzdf0a"
   },
   "source": [
    "### (12) Which of the following statements is false?\n",
    "\n",
    "(A) The operators `in` and `not in` can be used to determine whether a dictionary contains a specified key.\n",
    "\n",
    "(B) For the nested list `m = [[1, 2, 3], [4, 5, 6]]`, the expression `m[0][2]` yields the value `3`.\n",
    "\n",
    "(C) In Python, both `('s')` and `('s',)` are treated as tuples containing the single element `'s'`.\n",
    "\n",
    "(D) Assuming `s` is a string, the expression `s[::-1]` is equivalent to `s[len(s)-1:-1:-1]`."
   ]
  },
  {
   "cell_type": "markdown",
   "metadata": {
    "id": "h5nxvGEQfqsJ"
   },
   "source": [
    "> Ans: (C)(D)\n",
    "\n",
    "**Explanation:**\n",
    "\n",
    "- **Option (A):** Correct. The `in` and `not in` operators check for the presence of keys in dictionaries.\n",
    "- **Option (B):** Correct. In the nested list, `m[0][2]` accesses the third element of the first sublist, which is `3`.\n",
    "- **Option (C):** False. While `('s',)` is a tuple containing the string `'s'`, `('s')` is simply the string `'s'` because a single element tuple must include a trailing comma.\n",
    "- **Option (D):** False. `s[len(s)-1:-1:-1]` will results in empty string.\n",
    "\n",
    "This makes **Option (C) and (D)** the false statement."
   ]
  },
  {
   "cell_type": "markdown",
   "metadata": {
    "id": "IKA-mIPT-Xhs"
   },
   "source": [
    "## B.\tShort-answer and coding questions, be sure to follow the instructions from the code template."
   ]
  },
  {
   "cell_type": "markdown",
   "metadata": {
    "id": "R1WmAgDn2REz"
   },
   "source": [
    "### (13)   Write programs that display the following triangle patterns using `for` loops. (10%)\n",
    "\n",
    "Hint: You can use the same pattern from our quiz and modify the body of `for` loop."
   ]
  },
  {
   "cell_type": "markdown",
   "metadata": {
    "id": "72pr6W0cN7eC"
   },
   "source": [
    "(a)\n",
    "\n",
    "```\n",
    "     1\n",
    "    222\n",
    "   33333\n",
    "  4444444\n",
    " 555555555\n",
    "66666666666\n",
    "```\n",
    "\n",
    "(b)\n",
    "\n",
    "```\n",
    "66666666666\n",
    " 555555555\n",
    "  4444444\n",
    "   33333\n",
    "    222\n",
    "     1\n",
    "```"
   ]
  },
  {
   "cell_type": "code",
   "execution_count": null,
   "metadata": {
    "id": "GAlJLAgAN7eD",
    "outputId": "aba772a2-91d8-44f6-cb63-79ae5b712992"
   },
   "outputs": [
    {
     "name": "stdout",
     "output_type": "stream",
     "text": [
      "     1\n",
      "    222\n",
      "   33333\n",
      "  4444444\n",
      " 555555555\n",
      "66666666666\n"
     ]
    }
   ],
   "source": [
    "# Number of rows in the pyramid\n",
    "rows = 6\n",
    "\n",
    "# Loop through each row (from 1 to rows)\n",
    "for i in range(1, rows + 1):\n",
    "    # Print the leading spaces\n",
    "    for j in range(rows - i):\n",
    "        print(' ', end='')\n",
    "    # Print the '#' characters (2*i - 1 makes an odd number)\n",
    "    for k in range(2 * i - 1):\n",
    "        print(i, end='')\n",
    "    # Move to the next line\n",
    "    print()"
   ]
  },
  {
   "cell_type": "code",
   "execution_count": null,
   "metadata": {
    "id": "jRxIIEhFN7eG",
    "outputId": "52aa1d8e-5d4f-45fc-b9b5-7e49aaaf3329"
   },
   "outputs": [
    {
     "name": "stdout",
     "output_type": "stream",
     "text": [
      "66666666666\n",
      " 555555555\n",
      "  4444444\n",
      "   33333\n",
      "    222\n",
      "     1\n"
     ]
    }
   ],
   "source": [
    "# Number of rows in the pyramid\n",
    "rows = 6\n",
    "\n",
    "# Loop through each row in reverse (from rows to 1)\n",
    "for i in range(rows, 0, -1):\n",
    "    # Print the leading spaces\n",
    "    for j in range(rows - i):\n",
    "        print(' ', end='')\n",
    "    # Print the '#' characters (2*i - 1 makes an odd number)\n",
    "    for k in range(2 * i - 1):\n",
    "        print(i, end='')\n",
    "    # Move to the next line\n",
    "    print()"
   ]
  },
  {
   "cell_type": "markdown",
   "metadata": {
    "id": "8pBqFykejV6l"
   },
   "source": [
    "### (14) In this simulation of a simple card game, a standard deck of 52 cards is used. We randomly select 30 cards from the deck and evenly divide them between two players so that each player receives a hand of 15 cards. The goal is to determine whether a player's hand contains a Four-of-a-Kind, defined as having four or more cards of the same rank. (10%)\n",
    "\n",
    "**(a)** Explain the functionality of the helper functions: (4%)\n",
    "- **`get_ranks(hand)`**  \n",
    "- **`count_ranks(arr)`**\n",
    "\n",
    "**(b)** Using these helper functions, complete the function **`four_of_kind(hand)`** so that it returns `True` if the hand contains a Four-of-a-Kind, and `False` otherwise. (6%)\n",
    "\n",
    "*Hints:*  \n",
    "- A Four-of-a-Kind is achieved if any rank appears **four or more times** in the hand."
   ]
  },
  {
   "cell_type": "code",
   "execution_count": null,
   "metadata": {
    "id": "SaXFeg5aPP9O"
   },
   "outputs": [],
   "source": [
    "import random\n",
    "\n",
    "RANKS = [\"A\", \"2\", \"3\", \"4\", \"5\", \"6\", \"7\", \"8\", \"9\", \"10\", \"J\", \"Q\", \"K\"]\n",
    "\n",
    "def create_deck():\n",
    "    suits = ['♣', '♦', '♥', '♠']\n",
    "    deck = [(rank, suit) for rank in RANKS for suit in suits] # Use list comprehension to create the deck.\n",
    "    return deck\n",
    "\n",
    "# A function that shuffles the deck, selects 30 cards, and deals them equally between two players.\n",
    "def deal_cards(deck):\n",
    "    random.shuffle(deck)\n",
    "    deck = deck[:30]\n",
    "    hand1 = deck[:15]  # First player's hand (15 cards)\n",
    "    hand2 = deck[15:]  # Second player's hand (15 cards)\n",
    "    return hand1, hand2\n",
    "\n",
    "def get_ranks(hand):\n",
    "    return [rank for rank, suit in hand]\n",
    "\n",
    "def count_ranks(arr):\n",
    "    count_dict = {}\n",
    "    for elem in arr:\n",
    "        count_dict[elem] = count_dict.get(elem, 0) + 1\n",
    "    counts = []\n",
    "    for count in count_dict.values():\n",
    "        counts.append(count)\n",
    "    return counts\n",
    "\n",
    "def four_of_kind(hand):\n",
    "    \"\"\"\n",
    "    Parameters:\n",
    "        hand: List of (rank, suit) tuples representing a player's hand.\n",
    "    Returns:\n",
    "        True if the hand contains a Four-of-a-Kind, False otherwise.\n",
    "    \"\"\"\n",
    "    # Your code here\n",
    "    # Extract the ranks from the hand.\n",
    "    ranks = get_ranks(hand)\n",
    "\n",
    "    # Count the frequency of each rank.\n",
    "    counts = count_ranks(ranks)\n",
    "\n",
    "    # Check if any rank appears four or more times.\n",
    "    for count in counts:\n",
    "        if count >= 4:\n",
    "            return True\n",
    "    return False"
   ]
  },
  {
   "cell_type": "code",
   "execution_count": null,
   "metadata": {
    "id": "KwhXxAAZN7eH",
    "outputId": "bea1ed96-e509-43be-e17c-ca6638ac4e29"
   },
   "outputs": [
    {
     "name": "stdout",
     "output_type": "stream",
     "text": [
      "Player 1 hand: [('8', '♦'), ('K', '♥'), ('6', '♥'), ('10', '♥'), ('J', '♣'), ('5', '♥'), ('6', '♣'), ('4', '♠'), ('3', '♥'), ('9', '♥'), ('7', '♠'), ('A', '♠'), ('3', '♣'), ('K', '♣'), ('3', '♦')]\n",
      "Player 2 hand: [('6', '♦'), ('8', '♠'), ('Q', '♠'), ('K', '♦'), ('4', '♣'), ('K', '♠'), ('8', '♣'), ('Q', '♣'), ('9', '♣'), ('Q', '♥'), ('J', '♥'), ('5', '♣'), ('5', '♦'), ('Q', '♦'), ('5', '♠')]\n"
     ]
    }
   ],
   "source": [
    "# Test data 1\n",
    "\n",
    "random.seed(2025)\n",
    "deck = create_deck()\n",
    "hand1, hand2 = deal_cards(deck)\n",
    "s1 = four_of_kind(hand1)\n",
    "s2 = four_of_kind(hand2)\n",
    "\n",
    "print(\"Player 1 hand:\", hand1)\n",
    "print(\"Player 2 hand:\", hand2)\n",
    "\n",
    "\n",
    "# Test data 2\n",
    "random.seed(20)\n",
    "deck = create_deck()\n",
    "hand1, hand2 = deal_cards(deck)\n",
    "\n",
    "s3 = four_of_kind(hand1)\n",
    "s4 = four_of_kind(hand2)\n",
    "\n",
    "assert (s1, s2) == (False, True)\n",
    "assert (s3, s4) == (False, False)"
   ]
  },
  {
   "cell_type": "markdown",
   "metadata": {
    "id": "umCHTbAcN7eI"
   },
   "source": [
    "**(a) Explanation of Helper Functions:**\n",
    "\n",
    "- **`get_ranks(hand)`**:  \n",
    "  This function processes the player's hand (a list of tuples where each tuple represents a card with its rank and suit) and returns a new list that contains only the ranks of the cards. For example, if a hand is `[(\"A\", \"♣\"), (\"K\", \"♦\"), (\"A\", \"♠\")]`, the function returns `[\"A\", \"K\", \"A\"]`.\n",
    "\n",
    "- **`count_ranks(arr)`**:  \n",
    "  This function takes a list of ranks (for example, `[\"A\", \"K\", \"A\"]`) and counts how many times each distinct rank appears. It uses a dictionary to accumulate counts and finally returns a list of these counts. If the input is `[\"A\", \"K\", \"A\"]`, the dictionary becomes `{\"A\": 2, \"K\": 1}`, and the function returns `[2, 1]`."
   ]
  },
  {
   "cell_type": "markdown",
   "metadata": {
    "id": "pgGXM7VcN7eI"
   },
   "source": [
    "### (15) Write a Python program that approximates π using the Wallis formula: (10%)\n",
    "\n",
    "$$\n",
    "\\pi \\approx 2 \\times \\prod_{i=1}^{N}\\left(\\frac{2i}{2i-1} \\times \\frac{2i}{2i+1}\\right)\n",
    "$$\n",
    "\n",
    "Your program should iteratively multiply terms of the product (starting with `i = 1`) and update the approximation until the absolute error between your computed π value and the true value from `math.pi` is less than $10^{-2}$. Once the desired accuracy is reached, print the computed value of π along with the number of terms $N$ used, separated by a dash.  \n",
    "\n",
    "For example, the output might look like:\n",
    "\n",
    "```\n",
    "3.1316 - 100\n",
    "```\n",
    "\n",
    "*Hints:*\n",
    "- Import the `math` module and use `math.pi` as the ground truth value.\n",
    "- Use the `abs()` function to compute the absolute error."
   ]
  },
  {
   "cell_type": "code",
   "execution_count": null,
   "metadata": {
    "id": "FXu5mi4ZN7eI",
    "outputId": "3771e2bc-4526-4bfd-d1a0-c8268da1c2a6"
   },
   "outputs": [
    {
     "name": "stdout",
     "output_type": "stream",
     "text": [
      "3.1316 - 78\n"
     ]
    }
   ],
   "source": [
    "import math\n",
    "\n",
    "# Initialize the product and the term counter\n",
    "product = 1.0\n",
    "i = 1\n",
    "\n",
    "while True:\n",
    "    # Update the product using the Wallis formula term for the current i\n",
    "    product *= (2 * i / (2 * i - 1)) * (2 * i / (2 * i + 1))\n",
    "\n",
    "    # Compute the current approximation of π\n",
    "    pi_approx = 2 * product\n",
    "\n",
    "    # Check if the absolute error is below 10^-2\n",
    "    if abs(pi_approx - math.pi) < 1e-2:\n",
    "        break\n",
    "\n",
    "    # Move to the next term\n",
    "    i += 1\n",
    "\n",
    "# Print the computed π value (formatted to 4 decimal places) and the number of terms used\n",
    "print(f\"{pi_approx:.4f} - {i}\")"
   ]
  },
  {
   "cell_type": "markdown",
   "metadata": {
    "id": "7Q_7AwnmN7eJ"
   },
   "source": [
    "We need 78 terms in order to get the error below $10^{-2}$"
   ]
  },
  {
   "cell_type": "markdown",
   "metadata": {
    "id": "QtLRWzNV2qfc"
   },
   "source": [
    "### (16) A **prime number** is an integer greater than 1 that has no divisors other than 1 and itself. Your task is to write two functions in Python: (10%)\n",
    "\n",
    "1. **`is_prime(n)`**  \n",
    "   This function should return `True` if the given integer `n` is a prime number, and `False` otherwise.\n",
    "\n",
    "2. **`next_prime(n)`**  \n",
    "   This function should return the smallest prime number greater than the given integer `n`.\n",
    "\n",
    "The following assertions should pass:\n",
    "\n",
    "```python\n",
    "assert next_prime(14) == 17\n",
    "assert next_prime(2) == 3\n",
    "assert next_prime(20) == 23\n",
    "```\n",
    "\n",
    "*Hints:*  \n",
    "- Use loops and the modulo operator (`%`) to check whether a number has any divisors.  \n",
    "- Increment `n` until you find the next prime number."
   ]
  },
  {
   "cell_type": "code",
   "execution_count": 1,
   "metadata": {
    "colab": {
     "base_uri": "https://localhost:8080/"
    },
    "executionInfo": {
     "elapsed": 35,
     "status": "ok",
     "timestamp": 1744272636597,
     "user": {
      "displayName": "廖廣筑",
      "userId": "02307763027994466049"
     },
     "user_tz": -480
    },
    "id": "Xwj0VEoDN7eU",
    "outputId": "b798195f-266b-43c3-bffd-87a04334d64f"
   },
   "outputs": [
    {
     "name": "stdout",
     "output_type": "stream",
     "text": [
      "17\n"
     ]
    }
   ],
   "source": [
    "def is_prime(n):\n",
    "    \"\"\"\n",
    "    Check whether the given integer n is a prime number.\n",
    "\n",
    "    A prime number is an integer greater than 1 that has no divisors other than 1 and itself.\n",
    "    \"\"\"\n",
    "    # If n is less than or equal to 1, it cannot be a prime number.\n",
    "    if n <= 1:\n",
    "        return False\n",
    "\n",
    "    # Only need to check for factors up to the square root of n.\n",
    "    # If n has a factor greater than its square root, the corresponding factor would be less than the square root.\n",
    "    for i in range(2, int(n ** 0.5) + 1):\n",
    "        # If n is divisible by any number i in this range, then n is not prime.\n",
    "        if n % i == 0:\n",
    "            return False\n",
    "\n",
    "    # If no divisors were found, n is a prime number.\n",
    "    return True\n",
    "\n",
    "def next_prime(n):\n",
    "    \"\"\"\n",
    "    Find and return the smallest prime number greater than n.\n",
    "\n",
    "    This function increments the number n by 1 and checks if the new number is prime.\n",
    "    It continues this process until it finds a prime number.\n",
    "    \"\"\"\n",
    "    # Start checking with the number immediately after n.\n",
    "    n += 1\n",
    "\n",
    "    # Continue to loop until a prime number is found.\n",
    "    while not is_prime(n):\n",
    "        # If n is not prime, increment n by 1 and check again.\n",
    "        n += 1\n",
    "\n",
    "    # When a prime number is found, return it.\n",
    "    return n\n",
    "\n",
    "# Test cases to verify that the functions work as expected.\n",
    "assert next_prime(14) == 17, \"Expected next_prime(14) to be 17\"\n",
    "assert next_prime(2) == 3, \"Expected next_prime(2) to be 3\"\n",
    "assert next_prime(20) == 23, \"Expected next_prime(20) to be 23\"\n",
    "\n",
    "# Optionally, print a test example to visually confirm the result.\n",
    "print(next_prime(14))  # Expected output: 17"
   ]
  },
  {
   "cell_type": "markdown",
   "metadata": {
    "id": "E4MiRgFA6Xl_"
   },
   "source": [
    "### (17) Consider the following Python code snippet: (10%)\n",
    "\n",
    "```python\n",
    "def eggs(ham):\n",
    "    spam = spam + ham\n",
    "\n",
    "spam = [2, 3, 5]\n",
    "ham = (8, 13, 21)\n",
    "eggs(ham)\n",
    "print(spam)\n",
    "```\n",
    "\n",
    "(a) Explain why this code results in an error when executed.\n",
    "\n",
    "(b) Without modifying the function parameters, revise the function `eggs` so that after executing `eggs(ham)`, the variable `spam` contains all six integers from both `spam` and `ham` (i.e., `[2, 3, 5, 8, 13, 21]`)."
   ]
  },
  {
   "cell_type": "markdown",
   "metadata": {
    "id": "4Za8ZRog7tQO"
   },
   "source": [
    "**(a) Explanation of the Error:**\n",
    "\n",
    "- **Local vs. Global Scope:**  \n",
    "  Inside the function `eggs`, the line `spam = spam + ham` attempts to update the variable `spam`. Since an assignment is made, Python treats `spam` as a local variable. However, the right-hand side of the assignment (`spam + ham`) tries to access the variable `spam` before it has been defined locally. This leads to error because the function cannot find a local variable named `spam` at the time of evaluation.\n",
    "\n",
    "- **Data Type Mismatch:**  \n",
    "  Additionally, `spam` is a list and `ham` is a tuple. Directly concatenating a list with a tuple is not allowed in Python. They must be of the same type (e.g., both lists) for the `+` operator to work.\n",
    "\n",
    "**(b) Revised Function Implementation:**\n",
    "\n",
    "To fix the error and achieve the desired outcome, you can modify the function `eggs` as follows:\n",
    "  \n",
    "1. **Declare `spam` as a global variable** within the function so that it refers to the variable defined outside.\n",
    "2. **Convert `ham` to a list** before concatenating it with `spam`.\n",
    "\n",
    "A valid solution is:\n",
    "\n",
    "```python\n",
    "def eggs(ham):\n",
    "    global spam\n",
    "    spam = spam + list(ham)\n",
    "```\n",
    "\n",
    "*Alternative Solution:*  \n",
    "You could also use the `extend` method, which appends the elements of `ham` (a tuple) to the list `spam` without needing to reassign it:\n",
    "\n",
    "```python\n",
    "def eggs(ham):\n",
    "    global spam\n",
    "    spam.extend(ham)\n",
    "```\n",
    "\n",
    "In both cases, after calling `eggs(ham)`, the variable `spam` will contain `[2, 3, 5, 8, 13, 21]`."
   ]
  }
 ],
 "metadata": {
  "colab": {
   "collapsed_sections": [
    "JAXPS7xzdf0a",
    "193bVqAlgtmW"
   ],
   "provenance": []
  },
  "kernelspec": {
   "display_name": "base",
   "language": "python",
   "name": "python3"
  },
  "language_info": {
   "codemirror_mode": {
    "name": "ipython",
    "version": 3
   },
   "file_extension": ".py",
   "mimetype": "text/x-python",
   "name": "python",
   "nbconvert_exporter": "python",
   "pygments_lexer": "ipython3",
   "version": "3.9.13"
  }
 },
 "nbformat": 4,
 "nbformat_minor": 0
}
