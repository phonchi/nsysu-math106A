{
 "cells": [
  {
   "cell_type": "markdown",
   "metadata": {
    "id": "11n5gndbRzoY",
    "slideshow": {
     "slide_type": "slide"
    }
   },
   "source": [
    "# Array-Oriented Programming with NumPy - Part 1\n"
   ]
  },
  {
   "cell_type": "markdown",
   "metadata": {
    "slideshow": {
     "slide_type": "skip"
    }
   },
   "source": [
    "<table align=\"left\">\n",
    "  <td>\n",
    "    <a href=\"https://colab.research.google.com/github/phonchi/nsysu-math106A/blob/master/static_files/presentations/09-1_Basic_NumPy.ipynb\" target=\"_parent\"><img src=\"https://colab.research.google.com/assets/colab-badge.svg\" alt=\"Open In Colab\"/></a>\n",
    "  </td>\n",
    "  <td>\n",
    "    <a target=\"_blank\" href=\"https://kaggle.com/kernels/welcome?src=https://github.com/phonchi/nsysu-math106A/blob/master/static_files/presentations/09-1_Basic_NumPy.ipynb\"><img src=\"https://kaggle.com/static/images/open-in-kaggle.svg\" /></a>\n",
    "  </td>\n",
    "</table>"
   ]
  },
  {
   "cell_type": "markdown",
   "metadata": {
    "slideshow": {
     "slide_type": "skip"
    }
   },
   "source": [
    "Execute the following two cells for the setup:"
   ]
  },
  {
   "cell_type": "code",
   "execution_count": null,
   "metadata": {
    "slideshow": {
     "slide_type": "skip"
    }
   },
   "outputs": [],
   "source": [
    "!pip install jupyterquiz \n",
    "!pip install jupytercards\n",
    "\n",
    "from IPython.display import display, Javascript\n",
    "display(Javascript('Jupyter.notebook.kernel.restart()'))"
   ]
  },
  {
   "cell_type": "code",
   "execution_count": null,
   "metadata": {
    "slideshow": {
     "slide_type": "skip"
    }
   },
   "outputs": [],
   "source": [
    "from jupyterquiz import display_quiz\n",
    "\n",
    "path=\"https://raw.githubusercontent.com/phonchi/nsysu-math106A/refs/heads/main/extra/questions/ch9/\""
   ]
  },
  {
   "cell_type": "markdown",
   "metadata": {
    "slideshow": {
     "slide_type": "subslide"
    }
   },
   "source": [
    "1. Introduction\n",
    "\n",
    "2. Creating an array using different approaches (Constructors)\n",
    "\n",
    "3. Indexing and slicing (Getter and Setter)\n",
    "\n",
    "4. NumPy calculation methods (Reduction)"
   ]
  },
  {
   "cell_type": "markdown",
   "metadata": {
    "id": "7UomBxHtJ14C",
    "slideshow": {
     "slide_type": "slide"
    }
   },
   "source": [
    "## 1. Introduction"
   ]
  },
  {
   "cell_type": "markdown",
   "metadata": {
    "id": "wJjIP5Vne7cM",
    "slideshow": {
     "slide_type": "subslide"
    }
   },
   "source": [
    "The `NumPy` (Numerical Python) library is the favored Python array implementation. It provides a high-performance, feature-rich $n$-dimensional array type called `array`. Array operations are typically one or two orders of magnitude faster than those on `lists`. "
   ]
  },
  {
   "cell_type": "markdown",
   "metadata": {
    "slideshow": {
     "slide_type": "fragment"
    }
   },
   "source": [
    "Although the built-in `lists` can also possess multiple dimensions and be processed using nested loops. A key advantage of NumPy is \"array-oriented programming,\" which employs ***functional-style programming*** and ***internal iteration*** to make array manipulation concise and straightforward, reducing the likelihood of bugs that can arise from explicitly programmed loops."
   ]
  },
  {
   "cell_type": "markdown",
   "metadata": {
    "id": "7_Nk_sSZXdHc",
    "slideshow": {
     "slide_type": "fragment"
    }
   },
   "source": [
    "<img src=\"https://raw.githubusercontent.com/phonchi/nsysu-math106A/refs/heads/main/extra/Figures/img1.png\" width=\"60%\" height=\"60%\" style=\"margin-left:auto; margin-right:auto\">"
   ]
  },
  {
   "cell_type": "markdown",
   "metadata": {
    "id": "FJTvUTQeJ14D",
    "slideshow": {
     "slide_type": "subslide"
    }
   },
   "source": [
    "In `Python`, we don't have to declare types or handle memory by hand. Every variable holds more than just the value itself— they also include additional information about the value's <u>type</u> and <u>size</u>:"
   ]
  },
  {
   "cell_type": "markdown",
   "metadata": {
    "id": "Vr41fwKDJ14D",
    "slideshow": {
     "slide_type": "fragment"
    }
   },
   "source": [
    "<img src=\"https://raw.githubusercontent.com/phonchi/nsysu-math106A/refs/heads/main/extra/Figures/img2.jpg\" width=\"60%\" height=\"60%\" style=\"margin-left:auto; margin-right:auto\">"
   ]
  },
  {
   "cell_type": "markdown",
   "metadata": {
    "id": "k9RA4DbFJ14E",
    "slideshow": {
     "slide_type": "subslide"
    }
   },
   "source": [
    "Likewise, a `Python` `list` is very flexible: it can hold `objects` of many different types. But that flexibility comes at a price — because the interpreter has to know what each element is, every item carries its own notes about type, size, and other details.\n",
    "\n",
    "When all elements happen to share the same type, most of that extra data is just repeated over and over! A fixed‑type `NumPy` `array` avoids this overhead by recording the type only once and storing all the raw values in one tightly packed block of memory, making it far more efficient than a dynamic‑type `list` for large, uniform data."
   ]
  },
  {
   "cell_type": "markdown",
   "metadata": {
    "id": "uPyGKGnTJ14E",
    "slideshow": {
     "slide_type": "subslide"
    }
   },
   "source": [
    "<center><img src=\"https://raw.githubusercontent.com/phonchi/nsysu-math106A/refs/heads/main/extra/Figures/img3.jpg\" width=\"60%\" height=\"60%\"></center>"
   ]
  },
  {
   "cell_type": "markdown",
   "metadata": {
    "id": "NegtURPKJ14F",
    "slideshow": {
     "slide_type": "fragment"
    }
   },
   "source": [
    "From the figure, we can see that at the implementation level, the `array` primarily consists of a single pointer to a contiguous data block. In contrast, the `Python` `list` features a pointer to a block of pointers, each of which points to a `Python` object, such as a `Python` `integer`."
   ]
  },
  {
   "cell_type": "markdown",
   "metadata": {
    "slideshow": {
     "slide_type": "subslide"
    }
   },
   "source": [
    "All in all, the primary benefit of the `list` is its flexibility. Since each `list` element is a comprehensive structure containing data and type information, the `list` can accommodate data of any type. While fixed-type `NumPy` `arrays` do not offer this level of adaptability\n",
    "\n",
    "- They are significantly more efficient for storing and manipulating data. \n",
    "- In addition, we know that every object consists of <u>data</u> and <u>methods</u>. The `array` object of the `NumPy` package not only provides efficient storage of array-based data but adds to this efficient operation on that data. "
   ]
  },
  {
   "cell_type": "markdown",
   "metadata": {
    "id": "1MhblIgjyvd7",
    "slideshow": {
     "slide_type": "subslide"
    }
   },
   "source": [
    "In the first step, we need to install `NumPy` as follows:"
   ]
  },
  {
   "cell_type": "code",
   "execution_count": null,
   "metadata": {
    "colab": {
     "base_uri": "https://localhost:8080/"
    },
    "executionInfo": {
     "elapsed": 293,
     "status": "ok",
     "timestamp": 1684207813039,
     "user": {
      "displayName": "phonchi chung",
      "userId": "13517391734500420886"
     },
     "user_tz": -480
    },
    "id": "pRMstCTrJ14F",
    "outputId": "a6c380d4-5763-46b0-dd26-e4fc7c208586",
    "slideshow": {
     "slide_type": "fragment"
    }
   },
   "outputs": [],
   "source": [
    "package_name = \"numpy\"\n",
    "\n",
    "try:\n",
    "    __import__(package_name)\n",
    "    print(f\"{package_name} is already installed.\")\n",
    "except ImportError:\n",
    "    print(f\"{package_name} not found. Installing...\")\n",
    "    %pip install {package_name}"
   ]
  },
  {
   "cell_type": "markdown",
   "metadata": {
    "id": "xtOzCNTJcj3N",
    "slideshow": {
     "slide_type": "subslide"
    }
   },
   "source": [
    "The official `NumPy` documentation recommends importing the `numpy` <u>module</u> as `np` so that we can access its methods with `np.`:"
   ]
  },
  {
   "cell_type": "code",
   "execution_count": null,
   "metadata": {
    "executionInfo": {
     "elapsed": 461,
     "status": "ok",
     "timestamp": 1684207840575,
     "user": {
      "displayName": "phonchi chung",
      "userId": "13517391734500420886"
     },
     "user_tz": -480
    },
    "id": "ossL66xxcoGg",
    "slideshow": {
     "slide_type": "fragment"
    }
   },
   "outputs": [],
   "source": [
    "import numpy as np"
   ]
  },
  {
   "cell_type": "code",
   "execution_count": null,
   "metadata": {
    "slideshow": {
     "slide_type": "subslide"
    }
   },
   "outputs": [],
   "source": [
    "display_quiz(path+\"list_array.json\", max_width=800)"
   ]
  },
  {
   "cell_type": "markdown",
   "metadata": {
    "id": "SwFKFBMwRzoa",
    "slideshow": {
     "slide_type": "slide"
    }
   },
   "source": [
    "## 2. Creating  `array` using different approaches (Constructors)"
   ]
  },
  {
   "cell_type": "markdown",
   "metadata": {
    "id": "6s3o7piEd0N5",
    "slideshow": {
     "slide_type": "subslide"
    }
   },
   "source": [
    "### 2.1 Creating  `array` from fix sequence"
   ]
  },
  {
   "cell_type": "markdown",
   "metadata": {
    "id": "Ss9hRGHDRzob",
    "slideshow": {
     "slide_type": "subslide"
    }
   },
   "source": [
    "The `numpy` module offers numerous <u>functions</u> to create arrays. In this case, we employ the `array()` function, which accepts a sequence of elements and returns a new `array` containing the input elements. For instance, let's pass a `list`:"
   ]
  },
  {
   "cell_type": "code",
   "execution_count": null,
   "metadata": {
    "colab": {
     "base_uri": "https://localhost:8080/"
    },
    "executionInfo": {
     "elapsed": 11,
     "status": "ok",
     "timestamp": 1683087507568,
     "user": {
      "displayName": "phonchi chung",
      "userId": "13517391734500420886"
     },
     "user_tz": -480
    },
    "id": "QHY0S7FYJ14H",
    "outputId": "1b91d4c5-e52c-434a-8442-48b7fd516cad",
    "slideshow": {
     "slide_type": "fragment"
    }
   },
   "outputs": [],
   "source": [
    "import numpy as np\n",
    "numbers = np.array([2, 3, 5, 7, 11])\n",
    "print(numbers)\n",
    "numbers, type(numbers)"
   ]
  },
  {
   "cell_type": "markdown",
   "metadata": {
    "id": "M08lekdQJ14I",
    "slideshow": {
     "slide_type": "fragment"
    }
   },
   "source": [
    "The `array()` function copies its <u>argument</u>'s contents into the `array`. Note that the type is `numpy.ndarray` and all the output will prefix the data with the <u>keyword</u> `array`."
   ]
  },
  {
   "cell_type": "markdown",
   "metadata": {
    "id": "kmbPdXCmJ14I",
    "slideshow": {
     "slide_type": "subslide"
    }
   },
   "source": [
    "The `array()` function copies its argument's dimensions. Let's create an `array` from a two-row-by-three-column nested `list`:"
   ]
  },
  {
   "cell_type": "code",
   "execution_count": null,
   "metadata": {
    "colab": {
     "base_uri": "https://localhost:8080/"
    },
    "executionInfo": {
     "elapsed": 9,
     "status": "ok",
     "timestamp": 1683087507568,
     "user": {
      "displayName": "phonchi chung",
      "userId": "13517391734500420886"
     },
     "user_tz": -480
    },
    "id": "C-TTiQ4LJ14I",
    "outputId": "98d00792-ad42-40d8-9913-f2bd96c20df4",
    "slideshow": {
     "slide_type": "fragment"
    }
   },
   "outputs": [],
   "source": [
    "np.array([[1, 2, 3], [4, 5, 6]]), type(np.array([[1, 2, 3], [4, 5, 6]]))"
   ]
  },
  {
   "cell_type": "markdown",
   "metadata": {
    "id": "knUz0VD7z2NY",
    "slideshow": {
     "slide_type": "fragment"
    }
   },
   "source": [
    "A 2D array is a sequence of 1D arrays that represent each row."
   ]
  },
  {
   "cell_type": "markdown",
   "metadata": {
    "id": "jBIrOPZCJ14I",
    "slideshow": {
     "slide_type": "subslide"
    }
   },
   "source": [
    "####  `array`  Attributes "
   ]
  },
  {
   "cell_type": "markdown",
   "metadata": {
    "id": "Ygh-sqpdJ14J",
    "slideshow": {
     "slide_type": "subslide"
    }
   },
   "source": [
    "The `array` function determines an array's element type from its argument's elements. We can check the element type with an array's `dtype` <u>attribute</u>:"
   ]
  },
  {
   "cell_type": "code",
   "execution_count": null,
   "metadata": {
    "colab": {
     "base_uri": "https://localhost:8080/"
    },
    "executionInfo": {
     "elapsed": 7,
     "status": "ok",
     "timestamp": 1683087507568,
     "user": {
      "displayName": "phonchi chung",
      "userId": "13517391734500420886"
     },
     "user_tz": -480
    },
    "id": "Nqb49gbiJ14J",
    "outputId": "95002761-5cac-403b-9d6c-3fe221c55ed9",
    "slideshow": {
     "slide_type": "fragment"
    }
   },
   "outputs": [],
   "source": [
    "integers = np.array([[1, 2, 3], [4, 5, 6]])\n",
    "floats = np.array([0.0, 0.1, 0.2, 0.3, 0.4])\n",
    "\n",
    "integers.dtype, floats.dtype"
   ]
  },
  {
   "cell_type": "markdown",
   "metadata": {
    "id": "uvUrUd2vJ14J",
    "slideshow": {
     "slide_type": "fragment"
    }
   },
   "source": [
    "In the upcoming section, we will notice that several array-creation functions include a `dtype` keyword argument, allowing us to define an array's element type."
   ]
  },
  {
   "cell_type": "markdown",
   "metadata": {
    "slideshow": {
     "slide_type": "notes"
    }
   },
   "source": [
    "> For speed, **NumPy** is implemented in C and adopts C‑level data types. By default, an integer array uses the `int_` dtype, which maps to C's `long` — 32‑bit on a 32‑bit system and 64‑bit on a 64‑bit system. Floating‑point arrays default to `float64`, identical to C’s 64‑bit IEEE *double*.\n",
    "\n",
    "> In practice you will most often see the dtypes `int64`, `float64`, and `bool`. The complete list is in the NumPy documentation: <https://docs.scipy.org/doc/numpy/user/basics.types.html>."
   ]
  },
  {
   "cell_type": "markdown",
   "metadata": {
    "id": "qH8HRNZ6J14J",
    "slideshow": {
     "slide_type": "subslide"
    }
   },
   "source": [
    "The attribute `ndim` contains an array's number of dimensions and the attribute `shape` contains a `tuple` specifying an array's dimensions: "
   ]
  },
  {
   "cell_type": "code",
   "execution_count": null,
   "metadata": {
    "colab": {
     "base_uri": "https://localhost:8080/"
    },
    "executionInfo": {
     "elapsed": 6,
     "status": "ok",
     "timestamp": 1683087507569,
     "user": {
      "displayName": "phonchi chung",
      "userId": "13517391734500420886"
     },
     "user_tz": -480
    },
    "id": "U0hYFJ6rJ14J",
    "outputId": "085ac5d6-686a-44aa-e388-94199e8e9a19",
    "slideshow": {
     "slide_type": "fragment"
    }
   },
   "outputs": [],
   "source": [
    "print(integers.ndim)\n",
    "print(floats.ndim)"
   ]
  },
  {
   "cell_type": "code",
   "execution_count": null,
   "metadata": {
    "colab": {
     "base_uri": "https://localhost:8080/"
    },
    "executionInfo": {
     "elapsed": 5,
     "status": "ok",
     "timestamp": 1683087507569,
     "user": {
      "displayName": "phonchi chung",
      "userId": "13517391734500420886"
     },
     "user_tz": -480
    },
    "id": "xgJKw6xzJ14J",
    "outputId": "fe6b3d91-c952-40ac-8547-b535f94c11a0",
    "slideshow": {
     "slide_type": "fragment"
    }
   },
   "outputs": [],
   "source": [
    "print(integers.shape)\n",
    "print(floats.shape)"
   ]
  },
  {
   "cell_type": "markdown",
   "metadata": {
    "id": "rBIJ7ipkJ14K",
    "slideshow": {
     "slide_type": "fragment"
    }
   },
   "source": [
    "Here, integers have 2 rows and 3 columns (6 elements) and floats are one-dimensional, containing 5 floating numbers."
   ]
  },
  {
   "cell_type": "markdown",
   "metadata": {
    "slideshow": {
     "slide_type": "subslide"
    }
   },
   "source": [
    "We can view an array's total number of elements with the attribute `size` and the number of bytes required to store each element with `itemsize`:"
   ]
  },
  {
   "cell_type": "code",
   "execution_count": null,
   "metadata": {
    "colab": {
     "base_uri": "https://localhost:8080/"
    },
    "executionInfo": {
     "elapsed": 2,
     "status": "ok",
     "timestamp": 1683087509124,
     "user": {
      "displayName": "phonchi chung",
      "userId": "13517391734500420886"
     },
     "user_tz": -480
    },
    "id": "UqjEQUDvJ14K",
    "outputId": "aa0722f0-2ca7-49c2-a61d-d8884899af93",
    "slideshow": {
     "slide_type": "fragment"
    }
   },
   "outputs": [],
   "source": [
    "print(integers.size)\n",
    "print(integers.itemsize)\n",
    "print(floats.size)\n",
    "print(floats.itemsize)"
   ]
  },
  {
   "cell_type": "markdown",
   "metadata": {
    "id": "n9ehxkHHJ14K",
    "slideshow": {
     "slide_type": "fragment"
    }
   },
   "source": [
    "Note that the `size` of the integers is the result of multiplying the values in the `tuple` — two rows with three elements each, totaling six elements. In each instance, `itemsize` is 4 and 8 because integers comprise `int32` values, and as floats consist of `float64` values."
   ]
  },
  {
   "cell_type": "markdown",
   "metadata": {
    "id": "vDZiWdilJ14K",
    "slideshow": {
     "slide_type": "subslide"
    }
   },
   "source": [
    "### 2.2 Filling `array` with specific values"
   ]
  },
  {
   "cell_type": "markdown",
   "metadata": {
    "id": "5j-SudSSJ14K",
    "slideshow": {
     "slide_type": "subslide"
    }
   },
   "source": [
    "`NumPy` offers the functions `zeros()`, `ones()`, and `full()` for creating arrays filled with 0s, 1s, or a specified value, respectively. By default, `zeros()` and `ones()` generate arrays containing `float64` values. We will demonstrate how to customize the element type shortly. The first argument for these functions should be either an `integer` or a `tuple` of integers defining the desired dimensions. When given an integer, each function returns a one-dimensional array containing the specified number of elements:"
   ]
  },
  {
   "cell_type": "code",
   "execution_count": null,
   "metadata": {
    "colab": {
     "base_uri": "https://localhost:8080/"
    },
    "executionInfo": {
     "elapsed": 275,
     "status": "ok",
     "timestamp": 1683089137863,
     "user": {
      "displayName": "phonchi chung",
      "userId": "13517391734500420886"
     },
     "user_tz": -480
    },
    "id": "rSbUEmq6J14K",
    "outputId": "f02e8a0f-678d-4423-9751-ba4a797df12c",
    "slideshow": {
     "slide_type": "fragment"
    }
   },
   "outputs": [],
   "source": [
    "np.zeros(5)"
   ]
  },
  {
   "cell_type": "markdown",
   "metadata": {
    "id": "YkG4H_wmJ14L",
    "slideshow": {
     "slide_type": "subslide"
    }
   },
   "source": [
    "When provided with a `tuple` of integers, these functions return a multidimensional array featuring the specified dimensions. We can define the array's element type using the `dtype` keyword argument for the `zeros()` and `ones()` functions:"
   ]
  },
  {
   "cell_type": "code",
   "execution_count": null,
   "metadata": {
    "colab": {
     "base_uri": "https://localhost:8080/"
    },
    "executionInfo": {
     "elapsed": 276,
     "status": "ok",
     "timestamp": 1683089145944,
     "user": {
      "displayName": "phonchi chung",
      "userId": "13517391734500420886"
     },
     "user_tz": -480
    },
    "id": "73-eVqpEJ14L",
    "outputId": "79c3c81c-833a-49b0-85e5-ff3b0b399a58",
    "slideshow": {
     "slide_type": "fragment"
    }
   },
   "outputs": [],
   "source": [
    "np.ones((2, 4), dtype=np.int32)"
   ]
  },
  {
   "cell_type": "markdown",
   "metadata": {
    "id": "In-sod4hJ14L",
    "slideshow": {
     "slide_type": "subslide"
    }
   },
   "source": [
    "The `array` returned by `full()` contains elements with the second argument's value and type: "
   ]
  },
  {
   "cell_type": "code",
   "execution_count": null,
   "metadata": {
    "colab": {
     "base_uri": "https://localhost:8080/"
    },
    "executionInfo": {
     "elapsed": 2,
     "status": "ok",
     "timestamp": 1683089231367,
     "user": {
      "displayName": "phonchi chung",
      "userId": "13517391734500420886"
     },
     "user_tz": -480
    },
    "id": "yhZ2JQ1GJ14L",
    "outputId": "d0c74e63-eb80-4a32-9220-e477caefb6ef",
    "slideshow": {
     "slide_type": "fragment"
    }
   },
   "outputs": [],
   "source": [
    "np.full((3, 5), 13+2j), np.full((3, 5), 13+2j).dtype"
   ]
  },
  {
   "cell_type": "markdown",
   "metadata": {
    "id": "VLlCLWeiJ14M",
    "slideshow": {
     "slide_type": "subslide"
    }
   },
   "source": [
    "### 2.3 Creating `array` from sequence generated by different methods"
   ]
  },
  {
   "cell_type": "markdown",
   "metadata": {
    "id": "pMCr_gOpJ14M",
    "slideshow": {
     "slide_type": "subslide"
    }
   },
   "source": [
    "#### Creating sequence with fix step by `arange()` "
   ]
  },
  {
   "cell_type": "markdown",
   "metadata": {
    "id": "V1hbNXWKJ14M",
    "slideshow": {
     "slide_type": "subslide"
    }
   },
   "source": [
    "We can employ `NumPy`'s `arange()` function to create integer ranges, similar to using the built-in `range()` function. The first two arguments of the function determine the starting and ending values of the range, with the ending value excluded from the array. The optional third argument represents the step size which has a default value of 1:"
   ]
  },
  {
   "cell_type": "code",
   "execution_count": null,
   "metadata": {
    "colab": {
     "base_uri": "https://localhost:8080/"
    },
    "executionInfo": {
     "elapsed": 286,
     "status": "ok",
     "timestamp": 1683098242260,
     "user": {
      "displayName": "phonchi chung",
      "userId": "13517391734500420886"
     },
     "user_tz": -480
    },
    "id": "-R7E5kxSJ14M",
    "outputId": "09193cec-2903-43c1-d57c-c37129d5ffd4",
    "slideshow": {
     "slide_type": "fragment"
    }
   },
   "outputs": [],
   "source": [
    "np.arange(5)"
   ]
  },
  {
   "cell_type": "code",
   "execution_count": null,
   "metadata": {
    "colab": {
     "base_uri": "https://localhost:8080/"
    },
    "executionInfo": {
     "elapsed": 276,
     "status": "ok",
     "timestamp": 1683098244302,
     "user": {
      "displayName": "phonchi chung",
      "userId": "13517391734500420886"
     },
     "user_tz": -480
    },
    "id": "35V4V_raJ14M",
    "outputId": "f3380c33-0df9-4351-c21a-67a500864109",
    "slideshow": {
     "slide_type": "fragment"
    }
   },
   "outputs": [],
   "source": [
    "np.arange(5, 10)"
   ]
  },
  {
   "cell_type": "code",
   "execution_count": null,
   "metadata": {
    "colab": {
     "base_uri": "https://localhost:8080/"
    },
    "executionInfo": {
     "elapsed": 280,
     "status": "ok",
     "timestamp": 1683098247901,
     "user": {
      "displayName": "phonchi chung",
      "userId": "13517391734500420886"
     },
     "user_tz": -480
    },
    "id": "kjbTZzlEJ14M",
    "outputId": "5552fbaf-876f-498c-bad3-1fd17a4b5e76",
    "scrolled": true,
    "slideshow": {
     "slide_type": "fragment"
    }
   },
   "outputs": [],
   "source": [
    "np.arange(10, 1, -2) "
   ]
  },
  {
   "cell_type": "markdown",
   "metadata": {
    "id": "KHJjaBWLeU0_",
    "slideshow": {
     "slide_type": "fragment"
    }
   },
   "source": [
    "Note that it is the same as `range()`, which takes three arguments `numpy.arange(start, stop, step)` and the first and third arguments can be omitted."
   ]
  },
  {
   "cell_type": "markdown",
   "metadata": {
    "id": "qKmJiyzrJ14N",
    "slideshow": {
     "slide_type": "subslide"
    }
   },
   "source": [
    "#### Creating sequence with fix sample number by `linspace()`"
   ]
  },
  {
   "cell_type": "markdown",
   "metadata": {
    "id": "CzEFrClyJ14N",
    "slideshow": {
     "slide_type": "subslide"
    }
   },
   "source": [
    "Additionally, we can generate evenly spaced floating-point ranges using `NumPy`'s `linspace()` function. The first two arguments of the function determine the starting and ending values of the range, with the ending value **included** in the `array`. The optional keyword argument `num` designates the number of evenly spaced values to create:"
   ]
  },
  {
   "cell_type": "code",
   "execution_count": null,
   "metadata": {
    "id": "psSIFUilJ14N",
    "outputId": "dad6f1af-0d7e-4304-eab8-15e1600c71d2",
    "slideshow": {
     "slide_type": "fragment"
    }
   },
   "outputs": [],
   "source": [
    "np.linspace(0.0, 1.0, num=5)"
   ]
  },
  {
   "cell_type": "markdown",
   "metadata": {
    "id": "CEYjPqnWJ14N",
    "slideshow": {
     "slide_type": "subslide"
    }
   },
   "source": [
    "#### Reshaping an `array` "
   ]
  },
  {
   "cell_type": "markdown",
   "metadata": {
    "id": "0V5fNcKnJ14N",
    "slideshow": {
     "slide_type": "subslide"
    }
   },
   "source": [
    "We can also first create an `array` using the previous methods and then utilize the `array` method `reshape()` to convert the one-dimensional array into a multidimensional array. Let's generate an array containing values from 1 to 20 and then reshape it into a matrix with four rows and five columns:"
   ]
  },
  {
   "cell_type": "code",
   "execution_count": null,
   "metadata": {
    "colab": {
     "base_uri": "https://localhost:8080/"
    },
    "executionInfo": {
     "elapsed": 309,
     "status": "ok",
     "timestamp": 1683098797577,
     "user": {
      "displayName": "phonchi chung",
      "userId": "13517391734500420886"
     },
     "user_tz": -480
    },
    "id": "gpVw_IOPJ14N",
    "outputId": "99ea5d8a-48e9-4bce-ea35-cbadeb7d06ce",
    "slideshow": {
     "slide_type": "fragment"
    }
   },
   "outputs": [],
   "source": [
    "np.arange(1, 21).reshape(4, 5)"
   ]
  },
  {
   "cell_type": "markdown",
   "metadata": {
    "id": "dd7m-qCDJ14N",
    "slideshow": {
     "slide_type": "fragment"
    }
   },
   "source": [
    "Note the ***chained method*** calls in the previous example. Initially, `arange()` generates an array containing values 1 to 20. Then, we invoke `reshape()` on that array to obtain the displayed 4-by-5 array. We can `reshape()` any array as long as the new shape contains the same number of elements as the original. Thus, a six-element one-dimensional array can be transformed into a 3-by-2 or 2-by-3 array, and vice versa!"
   ]
  },
  {
   "cell_type": "code",
   "execution_count": null,
   "metadata": {
    "slideshow": {
     "slide_type": "subslide"
    }
   },
   "outputs": [],
   "source": [
    "display_quiz(path+\"constructors.json\", max_width=850)"
   ]
  },
  {
   "cell_type": "markdown",
   "metadata": {
    "id": "2NGVqR7wJ14N",
    "slideshow": {
     "slide_type": "subslide"
    }
   },
   "source": [
    "### Example 1: `List` vs. `array`  performance: Introducing  `%%timeit`  "
   ]
  },
  {
   "cell_type": "markdown",
   "metadata": {
    "id": "Q-nlBTSUJ14N",
    "slideshow": {
     "slide_type": "subslide"
    }
   },
   "source": [
    "Most `array` operations execute significantly faster than corresponding `list` operations. To demonstrate, we'll use the `%%timeit` magic command, which benchmarks the average duration of operations. "
   ]
  },
  {
   "cell_type": "code",
   "execution_count": null,
   "metadata": {
    "id": "_ojEncpNJ14O",
    "slideshow": {
     "slide_type": "fragment"
    }
   },
   "outputs": [],
   "source": [
    "import random"
   ]
  },
  {
   "cell_type": "markdown",
   "metadata": {
    "id": "AngpG0KfJ14O",
    "slideshow": {
     "slide_type": "fragment"
    }
   },
   "source": [
    "Here, let's use the `random` module's `randint()` function with a list comprehension to create a list of six million die rolls and time the operation using `%%timeit`:"
   ]
  },
  {
   "cell_type": "code",
   "execution_count": null,
   "metadata": {
    "colab": {
     "base_uri": "https://localhost:8080/"
    },
    "executionInfo": {
     "elapsed": 41111,
     "status": "ok",
     "timestamp": 1683099050191,
     "user": {
      "displayName": "phonchi chung",
      "userId": "13517391734500420886"
     },
     "user_tz": -480
    },
    "id": "-AWxXf7xJ14O",
    "outputId": "450025f8-e56f-4ebf-be22-d67c655e5bb0",
    "slideshow": {
     "slide_type": "fragment"
    }
   },
   "outputs": [],
   "source": [
    "%%timeit\n",
    "rolls_list = [random.randint(1, 6) for i in range(0, 6_000_000)] #_ is use to separate long integer"
   ]
  },
  {
   "cell_type": "markdown",
   "metadata": {
    "id": "UcAcIkGtJ14O",
    "slideshow": {
     "slide_type": "notes"
    }
   },
   "source": [
    "> By default, `%%timeit` executes a statement in a loop, and it runs the loop seven times. If we do not indicate the number of loops, [`%%timeit`](https://ipython.readthedocs.io/en/stable/interactive/magics.html#magic-timeit) chooses an appropriate value."
   ]
  },
  {
   "cell_type": "markdown",
   "metadata": {
    "id": "DZd-K-Z-J14O",
    "slideshow": {
     "slide_type": "subslide"
    }
   },
   "source": [
    "Now, let's use the `randint()` function from the `numpy.random` module to create an array"
   ]
  },
  {
   "cell_type": "code",
   "execution_count": null,
   "metadata": {
    "colab": {
     "base_uri": "https://localhost:8080/"
    },
    "executionInfo": {
     "elapsed": 6912,
     "status": "ok",
     "timestamp": 1683099102902,
     "user": {
      "displayName": "phonchi chung",
      "userId": "13517391734500420886"
     },
     "user_tz": -480
    },
    "id": "X3kcVvSbJ14O",
    "outputId": "efe4544a-365a-4df2-b99c-860bfaec6719",
    "slideshow": {
     "slide_type": "fragment"
    }
   },
   "outputs": [],
   "source": [
    "%%timeit \n",
    "rolls_array = np.random.randint(1, 7, 6_000_000)"
   ]
  },
  {
   "cell_type": "markdown",
   "metadata": {
    "id": "IEdRuMJOJ14O",
    "slideshow": {
     "slide_type": "slide"
    }
   },
   "source": [
    "## 3. Indexing and slicing (Getter and Setter)"
   ]
  },
  {
   "cell_type": "markdown",
   "metadata": {
    "id": "_42_vDxuJ14O",
    "slideshow": {
     "slide_type": "subslide"
    }
   },
   "source": [
    "One-dimensional `arrays` can be *indexed* and *sliced* using the same syntax and techniques applied when handling other sequence data types, such as built-in `lists` or `tuples`."
   ]
  },
  {
   "cell_type": "code",
   "execution_count": null,
   "metadata": {
    "slideshow": {
     "slide_type": "fragment"
    }
   },
   "outputs": [],
   "source": [
    "a = np.array([1,2,3,4,5])\n",
    "a[0], a[1:3]"
   ]
  },
  {
   "cell_type": "markdown",
   "metadata": {
    "id": "xR1M3BN9J14P",
    "slideshow": {
     "slide_type": "fragment"
    }
   },
   "source": [
    "To select an element in a two-dimensional array, specify two indices containing the element's row and column indices in square brackets:"
   ]
  },
  {
   "cell_type": "code",
   "execution_count": null,
   "metadata": {
    "colab": {
     "base_uri": "https://localhost:8080/"
    },
    "executionInfo": {
     "elapsed": 3,
     "status": "ok",
     "timestamp": 1683099476232,
     "user": {
      "displayName": "phonchi chung",
      "userId": "13517391734500420886"
     },
     "user_tz": -480
    },
    "id": "X7K_sRd6J14P",
    "outputId": "fd2a8955-138a-4ac1-de16-0ddf6c5f7b6b",
    "slideshow": {
     "slide_type": "fragment"
    }
   },
   "outputs": [],
   "source": [
    "grades = np.array([[87, 96, 70], [60, 87, 90],\n",
    "                   [94, 77, 92], [100, 81, 82]])\n",
    "grades"
   ]
  },
  {
   "cell_type": "code",
   "execution_count": null,
   "metadata": {
    "colab": {
     "base_uri": "https://localhost:8080/"
    },
    "executionInfo": {
     "elapsed": 2,
     "status": "ok",
     "timestamp": 1683099476594,
     "user": {
      "displayName": "phonchi chung",
      "userId": "13517391734500420886"
     },
     "user_tz": -480
    },
    "id": "sNZRKd9YJ14P",
    "outputId": "46d01d2b-ea9e-44f0-9d33-df6db3b75160",
    "slideshow": {
     "slide_type": "fragment"
    }
   },
   "outputs": [],
   "source": [
    "grades[0, 1]  # row 0, column 1"
   ]
  },
  {
   "cell_type": "markdown",
   "metadata": {
    "id": "nedecSBCJ14P",
    "slideshow": {
     "slide_type": "subslide"
    }
   },
   "source": [
    "To select a single row, we can specify only one index in square brackets:"
   ]
  },
  {
   "cell_type": "code",
   "execution_count": null,
   "metadata": {
    "colab": {
     "base_uri": "https://localhost:8080/"
    },
    "executionInfo": {
     "elapsed": 2,
     "status": "ok",
     "timestamp": 1683099478417,
     "user": {
      "displayName": "phonchi chung",
      "userId": "13517391734500420886"
     },
     "user_tz": -480
    },
    "id": "MbyXNl9QJ14Q",
    "outputId": "dc3fb1c5-9359-430b-a893-e1ee3aff785c",
    "slideshow": {
     "slide_type": "fragment"
    }
   },
   "outputs": [],
   "source": [
    "grades, grades[1]"
   ]
  },
  {
   "cell_type": "markdown",
   "metadata": {
    "id": "NVEzNhqCJ14Q",
    "slideshow": {
     "slide_type": "fragment"
    }
   },
   "source": [
    "To select multiple sequential rows, use slice notation:"
   ]
  },
  {
   "cell_type": "code",
   "execution_count": null,
   "metadata": {
    "colab": {
     "base_uri": "https://localhost:8080/"
    },
    "executionInfo": {
     "elapsed": 2,
     "status": "ok",
     "timestamp": 1683099479769,
     "user": {
      "displayName": "phonchi chung",
      "userId": "13517391734500420886"
     },
     "user_tz": -480
    },
    "id": "gnCiAKAcJ14Q",
    "outputId": "278edbdd-e8c7-4ab0-9bc9-0383eb9f751f",
    "slideshow": {
     "slide_type": "fragment"
    }
   },
   "outputs": [],
   "source": [
    "grades[0:2]"
   ]
  },
  {
   "cell_type": "markdown",
   "metadata": {
    "id": "AuYGB-WkJ14Q",
    "slideshow": {
     "slide_type": "fragment"
    }
   },
   "source": [
    "To select multiple non-sequential rows, use a list of row indices which is called ***fancy indexing***:"
   ]
  },
  {
   "cell_type": "code",
   "execution_count": null,
   "metadata": {
    "colab": {
     "base_uri": "https://localhost:8080/"
    },
    "executionInfo": {
     "elapsed": 2,
     "status": "ok",
     "timestamp": 1683099480063,
     "user": {
      "displayName": "phonchi chung",
      "userId": "13517391734500420886"
     },
     "user_tz": -480
    },
    "id": "SBLwG3kZJ14Q",
    "outputId": "c6f67521-941d-419d-8e3f-dd721c96941e",
    "slideshow": {
     "slide_type": "fragment"
    }
   },
   "outputs": [],
   "source": [
    "grades[[1, 3]]"
   ]
  },
  {
   "cell_type": "markdown",
   "metadata": {
    "id": "vpk30SrdJ14Q",
    "slideshow": {
     "slide_type": "subslide"
    }
   },
   "source": [
    "Let's select only the elements in the first column: "
   ]
  },
  {
   "cell_type": "code",
   "execution_count": null,
   "metadata": {
    "colab": {
     "base_uri": "https://localhost:8080/"
    },
    "executionInfo": {
     "elapsed": 2,
     "status": "ok",
     "timestamp": 1683099481589,
     "user": {
      "displayName": "phonchi chung",
      "userId": "13517391734500420886"
     },
     "user_tz": -480
    },
    "id": "rJT8fHznJ14Q",
    "outputId": "0a79fabf-2ddc-4ad7-aae3-5e00386b4d20",
    "slideshow": {
     "slide_type": "fragment"
    }
   },
   "outputs": [],
   "source": [
    "grades, grades[:, 0]"
   ]
  },
  {
   "cell_type": "markdown",
   "metadata": {
    "id": "xohLBKNfJ14Q",
    "slideshow": {
     "slide_type": "fragment"
    }
   },
   "source": [
    "The 0 after the comma signifies that we are selecting only column 0. The `:` before the comma indicates which rows within that column to choose. In this instance, `:` is a slice representing all rows. We can also select consecutive columns using a slice:"
   ]
  },
  {
   "cell_type": "code",
   "execution_count": null,
   "metadata": {
    "colab": {
     "base_uri": "https://localhost:8080/"
    },
    "executionInfo": {
     "elapsed": 271,
     "status": "ok",
     "timestamp": 1683099483987,
     "user": {
      "displayName": "phonchi chung",
      "userId": "13517391734500420886"
     },
     "user_tz": -480
    },
    "id": "rOsigFp5J14R",
    "outputId": "81d2e268-e2c3-47d1-b8ca-cbf6186819aa",
    "slideshow": {
     "slide_type": "fragment"
    }
   },
   "outputs": [],
   "source": [
    "grades[:, 1:3]"
   ]
  },
  {
   "cell_type": "markdown",
   "metadata": {
    "id": "Wvfz017eJ14R",
    "slideshow": {
     "slide_type": "subslide"
    }
   },
   "source": [
    "or specific columns with fancy indexing using a list of column indices:"
   ]
  },
  {
   "cell_type": "code",
   "execution_count": null,
   "metadata": {
    "colab": {
     "base_uri": "https://localhost:8080/"
    },
    "executionInfo": {
     "elapsed": 282,
     "status": "ok",
     "timestamp": 1683099508981,
     "user": {
      "displayName": "phonchi chung",
      "userId": "13517391734500420886"
     },
     "user_tz": -480
    },
    "id": "jyGxNrcyJ14R",
    "outputId": "06d68453-ecbf-4b30-dcb1-f7594b395024",
    "slideshow": {
     "slide_type": "fragment"
    }
   },
   "outputs": [],
   "source": [
    "grades, grades[:, [0, 2]]"
   ]
  },
  {
   "cell_type": "markdown",
   "metadata": {
    "id": "kwNGP3BHjMSS",
    "slideshow": {
     "slide_type": "subslide"
    }
   },
   "source": [
    "`array` is <u>mutable</u>. Therefore, if we want to modify the value of the array, we can use the previous method and put the result on the left-hand side: "
   ]
  },
  {
   "cell_type": "code",
   "execution_count": null,
   "metadata": {
    "colab": {
     "base_uri": "https://localhost:8080/"
    },
    "executionInfo": {
     "elapsed": 297,
     "status": "ok",
     "timestamp": 1683099650685,
     "user": {
      "displayName": "phonchi chung",
      "userId": "13517391734500420886"
     },
     "user_tz": -480
    },
    "id": "SHup2KBzjgLZ",
    "outputId": "14b566f3-a6d5-475d-c70b-e29fec8b0bb7",
    "slideshow": {
     "slide_type": "fragment"
    }
   },
   "outputs": [],
   "source": [
    "print(grades)\n",
    "grades[3, 2] = 42\n",
    "grades"
   ]
  },
  {
   "cell_type": "markdown",
   "metadata": {
    "id": "N9XybQ5QJ14R",
    "slideshow": {
     "slide_type": "subslide"
    }
   },
   "source": [
    "### Views: Shallow copies"
   ]
  },
  {
   "cell_type": "markdown",
   "metadata": {
    "id": "ss9HilbmJ14R",
    "slideshow": {
     "slide_type": "subslide"
    }
   },
   "source": [
    "***Views*** are objects that see the data in other objects, instead of having their own copies of the data. Views are also referred to as ***shallow copies***. Several `array` methods and slicing operations generate views of an `array`'s data. The `array` method `view()` returns a new `array` object with a view of the original `array` object's data. First, let's create an `array` and a view of that `array`:"
   ]
  },
  {
   "cell_type": "code",
   "execution_count": null,
   "metadata": {
    "id": "RdVXeapNJ14R",
    "slideshow": {
     "slide_type": "fragment"
    }
   },
   "outputs": [],
   "source": [
    "numbers = np.arange(1, 6)\n",
    "numbers2 = numbers.view()"
   ]
  },
  {
   "cell_type": "markdown",
   "metadata": {
    "id": "MH3UpgTFJ14R",
    "slideshow": {
     "slide_type": "fragment"
    }
   },
   "source": [
    "We can use the built-in `id()` function to verify that `numbers` and `numbers2` are different objects:"
   ]
  },
  {
   "cell_type": "code",
   "execution_count": null,
   "metadata": {
    "colab": {
     "base_uri": "https://localhost:8080/"
    },
    "executionInfo": {
     "elapsed": 281,
     "status": "ok",
     "timestamp": 1683099821393,
     "user": {
      "displayName": "phonchi chung",
      "userId": "13517391734500420886"
     },
     "user_tz": -480
    },
    "id": "8IY9OSqcJ14R",
    "outputId": "a70bf76d-cae7-427c-eb37-fbbfcaae4f19",
    "slideshow": {
     "slide_type": "fragment"
    }
   },
   "outputs": [],
   "source": [
    "id(numbers), id(numbers2)"
   ]
  },
  {
   "cell_type": "markdown",
   "metadata": {
    "id": "Nql-Z7WvkTTQ",
    "slideshow": {
     "slide_type": "subslide"
    }
   },
   "source": [
    "`NumPy` also has a handy function called `shares_memory()` that can be utilized in this scenario:"
   ]
  },
  {
   "cell_type": "code",
   "execution_count": null,
   "metadata": {
    "colab": {
     "base_uri": "https://localhost:8080/"
    },
    "executionInfo": {
     "elapsed": 285,
     "status": "ok",
     "timestamp": 1683099893868,
     "user": {
      "displayName": "phonchi chung",
      "userId": "13517391734500420886"
     },
     "user_tz": -480
    },
    "id": "3zx35HEWJ14S",
    "outputId": "7f2bc3ce-f54e-4861-a80f-556870ec7687",
    "slideshow": {
     "slide_type": "fragment"
    }
   },
   "outputs": [],
   "source": [
    "np.shares_memory(numbers, numbers2)"
   ]
  },
  {
   "cell_type": "markdown",
   "metadata": {
    "id": "3chkjulKJ14S",
    "slideshow": {
     "slide_type": "fragment"
    }
   },
   "source": [
    "To prove that `numbers2` views the same data as `numbers`, let's modify an element in `numbers`, then display both arrays:"
   ]
  },
  {
   "cell_type": "code",
   "execution_count": null,
   "metadata": {
    "colab": {
     "base_uri": "https://localhost:8080/"
    },
    "executionInfo": {
     "elapsed": 429,
     "status": "ok",
     "timestamp": 1683099911482,
     "user": {
      "displayName": "phonchi chung",
      "userId": "13517391734500420886"
     },
     "user_tz": -480
    },
    "id": "JTTu3PDyJ14S",
    "outputId": "56f6d853-279b-48b3-a127-c7aed8dd2d04",
    "slideshow": {
     "slide_type": "fragment"
    }
   },
   "outputs": [],
   "source": [
    "numbers[1] *= 10\n",
    "numbers"
   ]
  },
  {
   "cell_type": "code",
   "execution_count": null,
   "metadata": {
    "colab": {
     "base_uri": "https://localhost:8080/"
    },
    "executionInfo": {
     "elapsed": 2,
     "status": "ok",
     "timestamp": 1683099913029,
     "user": {
      "displayName": "phonchi chung",
      "userId": "13517391734500420886"
     },
     "user_tz": -480
    },
    "id": "3JuGwvqAJ14S",
    "outputId": "e63cb892-a286-4082-aae8-ed12f5ac022a",
    "slideshow": {
     "slide_type": "fragment"
    }
   },
   "outputs": [],
   "source": [
    "numbers2"
   ]
  },
  {
   "cell_type": "markdown",
   "metadata": {
    "id": "35FbMnzUJ14S",
    "slideshow": {
     "slide_type": "subslide"
    }
   },
   "source": [
    "Similarly, changing a value in the view also changes that value in the original array:"
   ]
  },
  {
   "cell_type": "code",
   "execution_count": null,
   "metadata": {
    "colab": {
     "base_uri": "https://localhost:8080/"
    },
    "executionInfo": {
     "elapsed": 2,
     "status": "ok",
     "timestamp": 1683099934924,
     "user": {
      "displayName": "phonchi chung",
      "userId": "13517391734500420886"
     },
     "user_tz": -480
    },
    "id": "h_0pMIDuJ14S",
    "outputId": "879cbce3-2522-42f5-b982-797e507326b8",
    "slideshow": {
     "slide_type": "fragment"
    }
   },
   "outputs": [],
   "source": [
    "numbers2[1] /= 5\n",
    "numbers, numbers2"
   ]
  },
  {
   "cell_type": "markdown",
   "metadata": {
    "id": "OtiEKCSMJ14S",
    "slideshow": {
     "slide_type": "fragment"
    }
   },
   "source": [
    "Slices also create views. Let's make `numbers2` a slice that views only the first three elements of numbers:"
   ]
  },
  {
   "cell_type": "code",
   "execution_count": null,
   "metadata": {
    "colab": {
     "base_uri": "https://localhost:8080/"
    },
    "executionInfo": {
     "elapsed": 309,
     "status": "ok",
     "timestamp": 1683099965941,
     "user": {
      "displayName": "phonchi chung",
      "userId": "13517391734500420886"
     },
     "user_tz": -480
    },
    "id": "wEukj1oHJ14S",
    "outputId": "cb0b50b8-eec9-49e3-8b9e-50947c305966",
    "slideshow": {
     "slide_type": "fragment"
    }
   },
   "outputs": [],
   "source": [
    "numbers2 = numbers[0:3]\n",
    "numbers2"
   ]
  },
  {
   "cell_type": "markdown",
   "metadata": {
    "id": "J9fdDiNCJ14T",
    "slideshow": {
     "slide_type": "subslide"
    }
   },
   "source": [
    "Now, let's modify an element both arrays share, then display them. Again, we see that `numbers2` is a view of `numbers`:"
   ]
  },
  {
   "cell_type": "code",
   "execution_count": null,
   "metadata": {
    "colab": {
     "base_uri": "https://localhost:8080/"
    },
    "executionInfo": {
     "elapsed": 361,
     "status": "ok",
     "timestamp": 1683099977863,
     "user": {
      "displayName": "phonchi chung",
      "userId": "13517391734500420886"
     },
     "user_tz": -480
    },
    "id": "YS3g2jahJ14T",
    "outputId": "9858a727-c119-4e0e-a814-c51570637853",
    "slideshow": {
     "slide_type": "fragment"
    }
   },
   "outputs": [],
   "source": [
    "numbers[1] *= 20\n",
    "numbers"
   ]
  },
  {
   "cell_type": "code",
   "execution_count": null,
   "metadata": {
    "colab": {
     "base_uri": "https://localhost:8080/"
    },
    "executionInfo": {
     "elapsed": 1,
     "status": "ok",
     "timestamp": 1683099979210,
     "user": {
      "displayName": "phonchi chung",
      "userId": "13517391734500420886"
     },
     "user_tz": -480
    },
    "id": "Yuw2uECTJ14T",
    "outputId": "5371d19c-1e76-4fb8-ca04-21fb5d769be3",
    "slideshow": {
     "slide_type": "fragment"
    }
   },
   "outputs": [],
   "source": [
    "numbers2"
   ]
  },
  {
   "cell_type": "markdown",
   "metadata": {
    "id": "xEMTYGHIk5kh",
    "slideshow": {
     "slide_type": "fragment"
    }
   },
   "source": [
    "Note that this behavior is different from `list`, where the slicing will create a new sub `list`! "
   ]
  },
  {
   "cell_type": "markdown",
   "metadata": {
    "id": "cDAMEH2XJ14T",
    "slideshow": {
     "slide_type": "subslide"
    }
   },
   "source": [
    "### Deep Copies"
   ]
  },
  {
   "cell_type": "markdown",
   "metadata": {
    "id": "Xqd3ysK1J14U",
    "slideshow": {
     "slide_type": "subslide"
    }
   },
   "source": [
    "While views are distinct `array` objects, they save memory by sharing element data with other `arrays`. Nonetheless, when dealing with mutable values, it is occasionally essential to create a ***deep copy*** containing independent copies of the original data."
   ]
  },
  {
   "cell_type": "markdown",
   "metadata": {
    "slideshow": {
     "slide_type": "notes"
    }
   },
   "source": [
    "> This is particularly crucial in multi-core programming, where different components of our program may try to modify our data simultaneously, potentially leading to data corruption."
   ]
  },
  {
   "cell_type": "markdown",
   "metadata": {
    "id": "-zP42zt7J14U",
    "slideshow": {
     "slide_type": "fragment"
    }
   },
   "source": [
    "The `array` method `copy()` returns a new `array` object with a deep copy of the original `array` object's data. First, let's create an `array` and a deep copy of that `array`:"
   ]
  },
  {
   "cell_type": "code",
   "execution_count": null,
   "metadata": {
    "id": "xZC0Ab_oJ14U",
    "slideshow": {
     "slide_type": "fragment"
    }
   },
   "outputs": [],
   "source": [
    "numbers = np.arange(1, 6)\n",
    "numbers2 = numbers.copy()"
   ]
  },
  {
   "cell_type": "markdown",
   "metadata": {
    "id": "IOXXbse4J14U",
    "slideshow": {
     "slide_type": "subslide"
    }
   },
   "source": [
    "To prove that `numbers2` has a separate copy of the data in `numbers`, let's modify an element in `numbers`, then display both arrays: "
   ]
  },
  {
   "cell_type": "code",
   "execution_count": null,
   "metadata": {
    "colab": {
     "base_uri": "https://localhost:8080/"
    },
    "executionInfo": {
     "elapsed": 2,
     "status": "ok",
     "timestamp": 1683100291817,
     "user": {
      "displayName": "phonchi chung",
      "userId": "13517391734500420886"
     },
     "user_tz": -480
    },
    "id": "NoCi13stJ14U",
    "outputId": "9f9ef9ad-fa9c-4259-bfed-f0b535b3a5e5",
    "slideshow": {
     "slide_type": "fragment"
    }
   },
   "outputs": [],
   "source": [
    "numbers[1] *= 5\n",
    "numbers"
   ]
  },
  {
   "cell_type": "code",
   "execution_count": null,
   "metadata": {
    "colab": {
     "base_uri": "https://localhost:8080/"
    },
    "executionInfo": {
     "elapsed": 3,
     "status": "ok",
     "timestamp": 1683100293718,
     "user": {
      "displayName": "phonchi chung",
      "userId": "13517391734500420886"
     },
     "user_tz": -480
    },
    "id": "4XhB_W_5J14U",
    "outputId": "333f49f7-7b08-4697-8d0c-e69eef56b27f",
    "slideshow": {
     "slide_type": "fragment"
    }
   },
   "outputs": [],
   "source": [
    "numbers2"
   ]
  },
  {
   "cell_type": "markdown",
   "metadata": {
    "id": "a7Twd7XSJ14U",
    "slideshow": {
     "slide_type": "notes"
    }
   },
   "source": [
    ">  Recall that if we need deep copies of other types of `Python` objects, just pass them to the `copy` module’s `deepcopy()` function. "
   ]
  },
  {
   "cell_type": "code",
   "execution_count": null,
   "metadata": {
    "slideshow": {
     "slide_type": "subslide"
    }
   },
   "outputs": [],
   "source": [
    "display_quiz(path+\"view_copy.json\", max_width=850)"
   ]
  },
  {
   "cell_type": "markdown",
   "metadata": {
    "id": "Sb2mHWztJ14V",
    "slideshow": {
     "slide_type": "subslide"
    }
   },
   "source": [
    "### More about Reshaping and Transposing "
   ]
  },
  {
   "cell_type": "markdown",
   "metadata": {
    "id": "exxX2n_BJ14V",
    "slideshow": {
     "slide_type": "subslide"
    }
   },
   "source": [
    "We've used `array` method `reshape()` to produce two-dimensional arrays from one-dimensional ranges. `NumPy` provides various other ways to reshape arrays."
   ]
  },
  {
   "cell_type": "markdown",
   "metadata": {
    "id": "OXKHZgycJ14V",
    "slideshow": {
     "slide_type": "subslide"
    }
   },
   "source": [
    "Both the `reshape()` and `resize()` array methods allow us to alter an array's dimensions. The `reshape()` method returns a view (shallow copy) of the original array with updated dimensions, leaving the original array unaltered:"
   ]
  },
  {
   "cell_type": "code",
   "execution_count": null,
   "metadata": {
    "colab": {
     "base_uri": "https://localhost:8080/"
    },
    "executionInfo": {
     "elapsed": 364,
     "status": "ok",
     "timestamp": 1683100426487,
     "user": {
      "displayName": "phonchi chung",
      "userId": "13517391734500420886"
     },
     "user_tz": -480
    },
    "id": "gLmVJfXAJ14V",
    "outputId": "d49cc0e4-fca6-48b7-a47a-9de389c11b77",
    "slideshow": {
     "slide_type": "fragment"
    }
   },
   "outputs": [],
   "source": [
    "grades = np.array([[87, 96, 70], [99, 87, 90]])\n",
    "grades"
   ]
  },
  {
   "cell_type": "code",
   "execution_count": null,
   "metadata": {
    "id": "rornIUTSJ14V",
    "slideshow": {
     "slide_type": "fragment"
    }
   },
   "outputs": [],
   "source": [
    "grades2 = grades.reshape(1, 6)"
   ]
  },
  {
   "cell_type": "code",
   "execution_count": null,
   "metadata": {
    "colab": {
     "base_uri": "https://localhost:8080/"
    },
    "executionInfo": {
     "elapsed": 2,
     "status": "ok",
     "timestamp": 1683100429262,
     "user": {
      "displayName": "phonchi chung",
      "userId": "13517391734500420886"
     },
     "user_tz": -480
    },
    "id": "c2etoshvJ14V",
    "outputId": "18b94f72-b978-4542-9f20-0d72105cfc91",
    "slideshow": {
     "slide_type": "fragment"
    }
   },
   "outputs": [],
   "source": [
    "grades2[0, 0] = 0\n",
    "grades2, grades"
   ]
  },
  {
   "cell_type": "markdown",
   "metadata": {
    "id": "HtcIVAvjJ14V",
    "slideshow": {
     "slide_type": "subslide"
    }
   },
   "source": [
    "A widely used technique involves using `-1` to specify the shape in `reshape()`. The length of the dimension set to `-1` is automatically deduced based on the specified values of other dimensions:"
   ]
  },
  {
   "cell_type": "code",
   "execution_count": null,
   "metadata": {
    "colab": {
     "base_uri": "https://localhost:8080/"
    },
    "executionInfo": {
     "elapsed": 297,
     "status": "ok",
     "timestamp": 1683101006385,
     "user": {
      "displayName": "phonchi chung",
      "userId": "13517391734500420886"
     },
     "user_tz": -480
    },
    "id": "h9Tc8N0wJ14V",
    "outputId": "871f95c2-4d30-4a9c-bcd4-a6d483079bc9",
    "slideshow": {
     "slide_type": "fragment"
    }
   },
   "outputs": [],
   "source": [
    "grades, grades.reshape(-1, 3) # Same as grades.reshape(2, 3)"
   ]
  },
  {
   "cell_type": "markdown",
   "metadata": {
    "id": "eb-FzjxHJ14W",
    "slideshow": {
     "slide_type": "fragment"
    }
   },
   "source": [
    "Method `resize()`, on the other hand, modifies the original `array`'s shape <u>in-place</u>:"
   ]
  },
  {
   "cell_type": "code",
   "execution_count": null,
   "metadata": {
    "colab": {
     "base_uri": "https://localhost:8080/"
    },
    "executionInfo": {
     "elapsed": 2,
     "status": "ok",
     "timestamp": 1683101033040,
     "user": {
      "displayName": "phonchi chung",
      "userId": "13517391734500420886"
     },
     "user_tz": -480
    },
    "id": "Y7IxvittJ14W",
    "outputId": "5350395e-b163-4ef0-ea42-cd805f0c703f",
    "slideshow": {
     "slide_type": "fragment"
    }
   },
   "outputs": [],
   "source": [
    "grades.resize(1, 6)\n",
    "grades"
   ]
  },
  {
   "cell_type": "markdown",
   "metadata": {
    "id": "HUdT0USRJ14W",
    "slideshow": {
     "slide_type": "subslide"
    }
   },
   "source": [
    "We can also do the opposite operation, which takes a multidimensional array and flatten it into a single dimension with the methods `flatten()`. Method `flatten()` deep copies the original array's data:"
   ]
  },
  {
   "cell_type": "code",
   "execution_count": null,
   "metadata": {
    "colab": {
     "base_uri": "https://localhost:8080/"
    },
    "executionInfo": {
     "elapsed": 298,
     "status": "ok",
     "timestamp": 1683101092815,
     "user": {
      "displayName": "phonchi chung",
      "userId": "13517391734500420886"
     },
     "user_tz": -480
    },
    "id": "zFaZR6kPJ14a",
    "outputId": "4eee32f7-dc06-4c6e-d913-0204e4edce82",
    "slideshow": {
     "slide_type": "fragment"
    }
   },
   "outputs": [],
   "source": [
    "grades = np.array([[87, 96, 70], [99, 87, 90]])\n",
    "grades"
   ]
  },
  {
   "cell_type": "code",
   "execution_count": null,
   "metadata": {
    "colab": {
     "base_uri": "https://localhost:8080/"
    },
    "executionInfo": {
     "elapsed": 274,
     "status": "ok",
     "timestamp": 1683101100203,
     "user": {
      "displayName": "phonchi chung",
      "userId": "13517391734500420886"
     },
     "user_tz": -480
    },
    "id": "QzwRxewYJ14a",
    "outputId": "74d24a41-910a-4a7e-8e99-7867c6e543d0",
    "slideshow": {
     "slide_type": "fragment"
    }
   },
   "outputs": [],
   "source": [
    "flattened = grades.flatten()\n",
    "flattened"
   ]
  },
  {
   "cell_type": "code",
   "execution_count": null,
   "metadata": {
    "colab": {
     "base_uri": "https://localhost:8080/"
    },
    "executionInfo": {
     "elapsed": 535,
     "status": "ok",
     "timestamp": 1683101105174,
     "user": {
      "displayName": "phonchi chung",
      "userId": "13517391734500420886"
     },
     "user_tz": -480
    },
    "id": "2jwbs6UyJ14a",
    "outputId": "09a7067a-a305-4634-d44d-c936e710c6c9",
    "slideshow": {
     "slide_type": "fragment"
    }
   },
   "outputs": [],
   "source": [
    "flattened[0] = 100\n",
    "grades # Original array does not change"
   ]
  },
  {
   "cell_type": "markdown",
   "metadata": {
    "id": "XKJ5pQ1IJ14b",
    "slideshow": {
     "slide_type": "subslide"
    }
   },
   "source": [
    "Additionally, we can transpose an `array`'s rows and columns, the `T` attribute returns a transposed view of the array. \n",
    "\n",
    "Assume that the original `grades` `array` presents two students' grades (the rows) across three exams (the columns). Let's transpose the rows and columns to examine the data as the grades for three exams (the rows) taken by two students (the columns):"
   ]
  },
  {
   "cell_type": "code",
   "execution_count": null,
   "metadata": {
    "colab": {
     "base_uri": "https://localhost:8080/"
    },
    "executionInfo": {
     "elapsed": 295,
     "status": "ok",
     "timestamp": 1683101448651,
     "user": {
      "displayName": "phonchi chung",
      "userId": "13517391734500420886"
     },
     "user_tz": -480
    },
    "id": "j22nb9uwJ14b",
    "outputId": "837a3c03-57f0-4a62-a037-b9464c17b064",
    "slideshow": {
     "slide_type": "fragment"
    }
   },
   "outputs": [],
   "source": [
    "grades.T"
   ]
  },
  {
   "cell_type": "markdown",
   "metadata": {
    "id": "mLP54ctYJ14b",
    "slideshow": {
     "slide_type": "fragment"
    }
   },
   "source": [
    "Transposing does not modify the original array:"
   ]
  },
  {
   "cell_type": "code",
   "execution_count": null,
   "metadata": {
    "colab": {
     "base_uri": "https://localhost:8080/"
    },
    "executionInfo": {
     "elapsed": 285,
     "status": "ok",
     "timestamp": 1683101455012,
     "user": {
      "displayName": "phonchi chung",
      "userId": "13517391734500420886"
     },
     "user_tz": -480
    },
    "id": "FU0oLoV0J14b",
    "outputId": "e8aced7a-0b79-4bac-be1e-06f164f6af9d",
    "slideshow": {
     "slide_type": "fragment"
    }
   },
   "outputs": [],
   "source": [
    "grades"
   ]
  },
  {
   "cell_type": "markdown",
   "metadata": {
    "id": "5evnCAylJ14b",
    "slideshow": {
     "slide_type": "subslide"
    }
   },
   "source": [
    "Finally, we can combine `arrays` by adding more columns or more rows — known as horizontal stacking and vertical stacking. Let's first create another 2-by-3 `array` of grades:"
   ]
  },
  {
   "cell_type": "code",
   "execution_count": null,
   "metadata": {
    "colab": {
     "base_uri": "https://localhost:8080/"
    },
    "executionInfo": {
     "elapsed": 294,
     "status": "ok",
     "timestamp": 1683101500675,
     "user": {
      "displayName": "phonchi chung",
      "userId": "13517391734500420886"
     },
     "user_tz": -480
    },
    "id": "ro8aoqucJ14b",
    "outputId": "0d0e92e9-6af3-41af-df5a-18db3830959e",
    "slideshow": {
     "slide_type": "fragment"
    }
   },
   "outputs": [],
   "source": [
    "grades2 = np.array([[94, 77, 90], [100, 81, 82]])\n",
    "grades2"
   ]
  },
  {
   "cell_type": "markdown",
   "metadata": {
    "id": "rDvyWSaCJ14b",
    "slideshow": {
     "slide_type": "fragment"
    }
   },
   "source": [
    "Suppose `grades2` represents three more exam grades for the two students in the `grades` array. We can merge `grades` and `grades2` using `NumPy`'s `hstack()` (horizontal stack) function by passing a `tuple` containing the arrays to combine. The extra parentheses are necessary because `hstack()` expects a single argument:"
   ]
  },
  {
   "cell_type": "code",
   "execution_count": null,
   "metadata": {
    "colab": {
     "base_uri": "https://localhost:8080/"
    },
    "executionInfo": {
     "elapsed": 323,
     "status": "ok",
     "timestamp": 1683101556332,
     "user": {
      "displayName": "phonchi chung",
      "userId": "13517391734500420886"
     },
     "user_tz": -480
    },
    "id": "4FOc6qxvJ14b",
    "outputId": "634d91a4-61b6-4795-f13f-db216459cf68",
    "slideshow": {
     "slide_type": "fragment"
    }
   },
   "outputs": [],
   "source": [
    "np.hstack((grades, grades2))"
   ]
  },
  {
   "cell_type": "markdown",
   "metadata": {
    "id": "rn4dQ-7RJ14c",
    "slideshow": {
     "slide_type": "subslide"
    }
   },
   "source": [
    "Moving forward, let's suppose that `grades2` represents the grades of two additional students on three exams. In this scenario, we can combine `grades` and `grades2` using `NumPy`'s `vstack()` (vertical stack) function:"
   ]
  },
  {
   "cell_type": "code",
   "execution_count": null,
   "metadata": {
    "colab": {
     "base_uri": "https://localhost:8080/"
    },
    "executionInfo": {
     "elapsed": 279,
     "status": "ok",
     "timestamp": 1683101588324,
     "user": {
      "displayName": "phonchi chung",
      "userId": "13517391734500420886"
     },
     "user_tz": -480
    },
    "id": "qsx-08WCJ14c",
    "outputId": "e17f0651-5f3e-45f8-cdc4-2ad534a2aacf",
    "slideshow": {
     "slide_type": "fragment"
    }
   },
   "outputs": [],
   "source": [
    "np.vstack((grades, grades2))"
   ]
  },
  {
   "cell_type": "markdown",
   "metadata": {
    "id": "KhSBTsDqj-iD",
    "slideshow": {
     "slide_type": "subslide"
    }
   },
   "source": [
    "### Exercise 1: Suppose we are developing a chess game and the chess game provide two special checkerboards as follows:\n",
    "\n",
    "<center><img src=\"https://raw.githubusercontent.com/phonchi/nsysu-math106A/refs/heads/main/extra/Figures/chb1.png\" width=\"20%\" height=\"20%\"></center>\n",
    "\n",
    "<center><img src=\"https://raw.githubusercontent.com/phonchi/nsysu-math106A/refs/heads/main/extra/Figures/chb2.png\" width=\"40%\" height=\"40%\"></center>"
   ]
  },
  {
   "cell_type": "markdown",
   "metadata": {
    "slideshow": {
     "slide_type": "subslide"
    }
   },
   "source": [
    "We decide to use 1 to represent the white square and 0 to represent the black square. Write a program to create two 2D arrays to represent the two checkerboards as follows:\n",
    "\n",
    "```python\n",
    "[[1, 0, 1, 0, 1, 0],\n",
    " [0, 1, 0, 1, 0, 1],\n",
    " [1, 0, 1, 0, 1, 0],\n",
    " [0, 1, 0, 1, 0, 1],\n",
    " [1, 0, 1, 0, 1, 0],\n",
    " [0, 1, 0, 1, 0, 1]]\n",
    "```\n",
    "\n",
    "```python\n",
    "[[1, 0, 1, 0, 1, 0, 0, 1, 0, 1, 0, 1],\n",
    " [0, 1, 0, 1, 0, 1, 1, 0, 1, 0, 1, 0],\n",
    " [1, 0, 1, 0, 1, 0, 0, 1, 0, 1, 0, 1]]\n",
    "```\n",
    "\n",
    "Note you should not directly hardcode the above arrays. You should use `Numpy` methods to create the arrays. After you have finished the exercise, you can print out the checkerboard using the following code cell."
   ]
  },
  {
   "cell_type": "code",
   "execution_count": null,
   "metadata": {
    "id": "F5aJwzKuj9gF",
    "slideshow": {
     "slide_type": "subslide"
    }
   },
   "outputs": [],
   "source": [
    "# Your answer here\n",
    "chb1 = np.ones((___,___), dtype=int)\n",
    "chb1[___, ___] = 0\n",
    "chb1[___, ___] = 0\n",
    "chb1"
   ]
  },
  {
   "cell_type": "code",
   "execution_count": null,
   "metadata": {
    "slideshow": {
     "slide_type": "fragment"
    }
   },
   "outputs": [],
   "source": [
    "# Your answer here\n",
    "chb2 = np.____((chb1[__,___], chb1[___,___]))\n",
    "chb2"
   ]
  },
  {
   "cell_type": "code",
   "execution_count": null,
   "metadata": {
    "id": "SwHeBfCkkDoc",
    "slideshow": {
     "slide_type": "subslide"
    }
   },
   "outputs": [],
   "source": [
    "# Plot the checkerboard\n",
    "package_name = \"matplotlib\"\n",
    "\n",
    "try:\n",
    "    __import__(package_name)\n",
    "    print(f\"{package_name} is already installed.\")\n",
    "except ImportError:\n",
    "    print(f\"{package_name} not found. Installing...\")\n",
    "    %pip install {package_name}\n",
    "\n",
    "import matplotlib.pyplot as plt\n",
    "plt.imshow(chb1, cmap='gray')\n",
    "plt.show()"
   ]
  },
  {
   "cell_type": "markdown",
   "metadata": {
    "id": "T6H4VdkAJ14c",
    "slideshow": {
     "slide_type": "slide"
    }
   },
   "source": [
    "## 4. `NumPy` calculation methods (Reduction)"
   ]
  },
  {
   "cell_type": "markdown",
   "metadata": {
    "id": "sAszrEnnJ14d",
    "slideshow": {
     "slide_type": "subslide"
    }
   },
   "source": [
    "An `array` includes several methods that carry out computations based on its contents. **By default, these methods disregard the array's shape and utilize all the elements in the calculations.** "
   ]
  },
  {
   "cell_type": "markdown",
   "metadata": {
    "slideshow": {
     "slide_type": "fragment"
    }
   },
   "source": [
    "For instance, when computing the mean of an array, it sums all of its elements irrespective of its shape, and then divides by the total number of elements. **We can also execute these calculations on each dimension.** For example, in a two-dimensional array, we can determine the mean of each row and each column."
   ]
  },
  {
   "cell_type": "code",
   "execution_count": null,
   "metadata": {
    "colab": {
     "base_uri": "https://localhost:8080/"
    },
    "executionInfo": {
     "elapsed": 343,
     "status": "ok",
     "timestamp": 1683101709851,
     "user": {
      "displayName": "phonchi chung",
      "userId": "13517391734500420886"
     },
     "user_tz": -480
    },
    "id": "aybBqNHdJ14d",
    "outputId": "cc2890de-0f67-4c7b-c70d-d966140669ce",
    "slideshow": {
     "slide_type": "subslide"
    }
   },
   "outputs": [],
   "source": [
    "grades = np.array([[87, 96, 70], [100, 87, 90],\n",
    "                    [94, 77, 90], [100, 81, 82]])\n",
    "grades"
   ]
  },
  {
   "cell_type": "markdown",
   "metadata": {
    "id": "c5cVK04hJ14d",
    "slideshow": {
     "slide_type": "fragment"
    }
   },
   "source": [
    "We can use methods to calculate `sum()`, `min()`, `max()`, `mean()`, `std()` (standard deviation) and `var()` (variance) — each is a functional-style programming reduction:"
   ]
  },
  {
   "cell_type": "code",
   "execution_count": null,
   "metadata": {
    "colab": {
     "base_uri": "https://localhost:8080/"
    },
    "executionInfo": {
     "elapsed": 290,
     "status": "ok",
     "timestamp": 1683101717080,
     "user": {
      "displayName": "phonchi chung",
      "userId": "13517391734500420886"
     },
     "user_tz": -480
    },
    "id": "9gCpSpwlJ14d",
    "outputId": "789c9f42-5950-4726-d801-d78966ac7957",
    "slideshow": {
     "slide_type": "fragment"
    }
   },
   "outputs": [],
   "source": [
    "print(grades.sum())\n",
    "print(grades.min())\n",
    "print(grades.max())\n",
    "print(grades.mean())\n",
    "print(grades.std())\n",
    "print(grades.var())"
   ]
  },
  {
   "cell_type": "markdown",
   "metadata": {
    "id": "IziWEptEJ14d",
    "slideshow": {
     "slide_type": "subslide"
    }
   },
   "source": [
    "### Calculations by Row or Column"
   ]
  },
  {
   "cell_type": "markdown",
   "metadata": {
    "id": "ZzmywYm1J14e",
    "slideshow": {
     "slide_type": "subslide"
    }
   },
   "source": [
    "Numerous calculation methods can be applied to specific `array` dimensions, referred to as the `array`'s ***axes***. These methods accept an `axis` keyword argument that designates the dimension to be utilized in the calculation, providing a convenient means to perform computations by row or column in a two-dimensional `array`."
   ]
  },
  {
   "cell_type": "markdown",
   "metadata": {
    "id": "APh0AGiAJ14e",
    "slideshow": {
     "slide_type": "subslide"
    }
   },
   "source": [
    "Suppose we want to find the maximum grade for each exam, represented by the columns of `grades`. By specifying `axis=0`, the calculation is performed on all the row values within each column:"
   ]
  },
  {
   "cell_type": "code",
   "execution_count": null,
   "metadata": {
    "colab": {
     "base_uri": "https://localhost:8080/"
    },
    "executionInfo": {
     "elapsed": 2,
     "status": "ok",
     "timestamp": 1683102465996,
     "user": {
      "displayName": "phonchi chung",
      "userId": "13517391734500420886"
     },
     "user_tz": -480
    },
    "id": "1FJPykoruLi6",
    "outputId": "0129b8fa-a822-4b51-bfc3-7a4441616252",
    "slideshow": {
     "slide_type": "fragment"
    }
   },
   "outputs": [],
   "source": [
    "grades, grades.max(axis=0), grades.argmax(axis=0)"
   ]
  },
  {
   "cell_type": "markdown",
   "metadata": {
    "id": "KhJfQMXwuZUA",
    "slideshow": {
     "slide_type": "fragment"
    }
   },
   "source": [
    "Here, 100 is the maximum value in the first column and its corresponding index (row) is 1 (if there are duplicate elements, the index of the first element will be reported). 96 and 90 are the maximum values in the second and third columns, respectively."
   ]
  },
  {
   "cell_type": "code",
   "execution_count": null,
   "metadata": {
    "colab": {
     "base_uri": "https://localhost:8080/"
    },
    "executionInfo": {
     "elapsed": 313,
     "status": "ok",
     "timestamp": 1683101804193,
     "user": {
      "displayName": "phonchi chung",
      "userId": "13517391734500420886"
     },
     "user_tz": -480
    },
    "id": "iiMamBH2J14e",
    "outputId": "db3f4ddd-8c5d-4130-e9bd-3bc8a9ef3ce2",
    "slideshow": {
     "slide_type": "fragment"
    }
   },
   "outputs": [],
   "source": [
    "grades, grades.mean(axis=0)"
   ]
  },
  {
   "cell_type": "markdown",
   "metadata": {
    "id": "cnjL4M8KJ14e",
    "slideshow": {
     "slide_type": "notes"
    }
   },
   "source": [
    "Hence, 95.25 above represents the average of the first column's grades (87, 100, 94, and 100), 85.25 is the average of the second column's grades (96, 87, 77, and 81), and 83 is the average of the third column's grades (70, 90, 90, and 82)."
   ]
  },
  {
   "cell_type": "markdown",
   "metadata": {
    "slideshow": {
     "slide_type": "subslide"
    }
   },
   "source": [
    "Similarly, specifying `axis=1` performs the calculation on all the column values within each individual row. To determine each student's average grade for all exams, we can use:"
   ]
  },
  {
   "cell_type": "code",
   "execution_count": null,
   "metadata": {
    "id": "-VxvcbLIJ14e",
    "outputId": "1da89373-3730-4a13-9ae4-1f82443c6c02",
    "slideshow": {
     "slide_type": "fragment"
    }
   },
   "outputs": [],
   "source": [
    "grades.mean(axis=1)"
   ]
  },
  {
   "cell_type": "markdown",
   "metadata": {
    "id": "VP713F2JJ14e",
    "slideshow": {
     "slide_type": "fragment"
    }
   },
   "source": [
    "This generates four averages — one for the values in each row. Therefore, 84.33333333 is the average of row 0's grades (87, 96, and 70), and the other averages correspond to the remaining rows. For more methods, refer to [https://numpy.org/doc/stable/reference/arrays.ndarray.html](https://numpy.org/doc/stable/reference/arrays.ndarray.html)."
   ]
  },
  {
   "cell_type": "markdown",
   "metadata": {
    "id": "veP7tiQgJ14e",
    "slideshow": {
     "slide_type": "subslide"
    }
   },
   "source": [
    "<center><img src=\"https://raw.githubusercontent.com/phonchi/nsysu-math106A/refs/heads/main/extra/Figures/img4.jpg\" width=\"50%\" height=\"50%\"></center>"
   ]
  },
  {
   "cell_type": "markdown",
   "metadata": {
    "id": "IidhGRzYJ14e",
    "slideshow": {
     "slide_type": "notes"
    }
   },
   "source": [
    "> For more operations such as methods related to linear algebra, we can use the sub-module `numpy.linalg`, which implements basic linear algebra, such as solving linear systems, singular value decomposition, etc. However, it is not guaranteed to be compiled using efficient routines, and thus we recommend the use of `scipy.linalg`, which will introduce in a later chapter."
   ]
  },
  {
   "cell_type": "markdown",
   "metadata": {
    "id": "gIi1gqJan4HB",
    "slideshow": {
     "slide_type": "subslide"
    }
   },
   "source": [
    "### Exercise2: Find the maximum and minimum values of the function $f(x) = x^2$ on the interval $[-3, 5]$ by substituting 1000 evenly spaced numbers between $-3$ and $5$ into the function. What is the corresponding $x$ value for the maximum and minimum values and how do they compare with the actual values?\n",
    "\n",
    "Hint: You may find `np.linspace()`, `np.max()/np.min()` and `np.argmax()/np.argmin()` useful."
   ]
  },
  {
   "cell_type": "code",
   "execution_count": null,
   "metadata": {
    "id": "K_IxtEqLn4qb",
    "slideshow": {
     "slide_type": "subslide"
    }
   },
   "outputs": [],
   "source": [
    "# Your answer here\n",
    "N = 1000   # Number of points to sample in the interval\n",
    "x = np._____(___,___, num=N)  # Create 1000 evenly spaced values from -3 to 5 (inclusive)\n",
    "y = ____  # # Compute y = x² for every x in the array\n",
    "\n",
    "y_max = np.___(y) # Largest value of y (the maximum of the parabola on this interval)\n",
    "y_min = np.___(y) # Smallest value of y (the minimum of the parabola on this interval)\n",
    "x_max = x[np.___(y)] # x‑value at which y reaches its maximum\n",
    "x_min = x[np.___(y)] # x‑value at which y reaches its minimum \n",
    "\n",
    "print(\"max y=\", y_max, \"x=\", x_max)\n",
    "print(\"min y=\", y_min, \"x=\", x_min)"
   ]
  },
  {
   "cell_type": "code",
   "execution_count": null,
   "metadata": {
    "slideshow": {
     "slide_type": "subslide"
    }
   },
   "outputs": [],
   "source": [
    "from jupytercards import display_flashcards\n",
    "fpath= \"https://raw.githubusercontent.com/phonchi/nsysu-math106A/refs/heads/main/extra/flashcards/\"\n",
    "display_flashcards(fpath + 'ch9-1.json')"
   ]
  },
  {
   "cell_type": "markdown",
   "metadata": {
    "id": "K1b3Kbbs1iqO",
    "slideshow": {
     "slide_type": "skip"
    }
   },
   "source": [
    "## References"
   ]
  },
  {
   "cell_type": "markdown",
   "metadata": {
    "id": "2teyKp_e1khl",
    "slideshow": {
     "slide_type": "skip"
    }
   },
   "source": [
    "1. [https://scipy-lectures.org/intro/numpy/index.html](https://scipy-lectures.org/intro/numpy/index.html)\n",
    "\n",
    "2. [https://scipy-lectures.org/advanced/advanced_numpy/index.html](https://scipy-lectures.org/advanced/advanced_numpy/index.html)\n",
    "\n",
    "3. [https://jakevdp.github.io/PythonDataScienceHandbook/02.01-understanding-data-types.html](https://jakevdp.github.io/PythonDataScienceHandbook/02.01-understanding-data-types.html)"
   ]
  },
  {
   "cell_type": "markdown",
   "metadata": {
    "slideshow": {
     "slide_type": "skip"
    }
   },
   "source": [
    "## Key terms"
   ]
  },
  {
   "cell_type": "markdown",
   "metadata": {
    "slideshow": {
     "slide_type": "skip"
    }
   },
   "source": [
    "- **Array-Oriented Programming**: Working with whole matrix or arrays of data at once, so you don’t have to write a loop for every item.  \n",
    "- **Functional-Style Programming**: A paradigm that builds programs by composing pure functions—functions.  \n",
    "- **Internal iteration**: Letting a built-in method or function do the looping for you instead of writing the `for` loop yourself.  \n",
    "- **Chain Method**: Linking several operations together in one line because each step returns the same item, for example: `text.strip().lower().split()`.  \n",
    "- **Fancy Indexing**: Picking out multiple items from a list or array using a list of positions or a mask of True/False values instead of one index at a time.  \n",
    "- **Copies**: Making a totally new version of a data structure so you can change it without affecting the original.  \n",
    "- **Views**: Making a \"window\" into the original data so that if you change the view, you also change the original.  \n",
    "- **Reduction**: Turning a list of values into one single result, like adding everything up or finding the highest value.  "
   ]
  }
 ],
 "metadata": {
  "celltoolbar": "Slideshow",
  "colab": {
   "collapsed_sections": [
    "cDAMEH2XJ14T"
   ],
   "provenance": []
  },
  "kernelspec": {
   "display_name": "Python 3 (ipykernel)",
   "language": "python",
   "name": "python3"
  },
  "language_info": {
   "codemirror_mode": {
    "name": "ipython",
    "version": 3
   },
   "file_extension": ".py",
   "mimetype": "text/x-python",
   "name": "python",
   "nbconvert_exporter": "python",
   "pygments_lexer": "ipython3",
   "version": "3.9.13"
  },
  "rise": {
   "chalkboard": {
    "color": [
     "rgb(250, 0, 0)",
     "rgb(250, 0, 0)"
    ]
   },
   "controls": false,
   "enable_chalkboard": true,
   "footer": "",
   "overlay": "<div class='myfooter'><h4>Array-Oriented Programming with NumPy</h4></div>",
   "slideNumber": "true",
   "theme": "night"
  },
  "vscode": {
   "interpreter": {
    "hash": "1561eddc5e0c9c74df968f74d5080d02882967127f956e6e7049c43d2ef42321"
   }
  }
 },
 "nbformat": 4,
 "nbformat_minor": 1
}
